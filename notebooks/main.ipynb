{
 "cells": [
  {
   "cell_type": "code",
   "execution_count": 1,
   "metadata": {},
   "outputs": [],
   "source": [
    "# System modules\n",
    "import os\n",
    "import sys\n",
    "from dotenv import load_dotenv\n",
    "from time import time\n",
    "import json\n",
    "\n",
    "import requests\n",
    "import pandas as pd\n",
    "\n",
    "import logging\n",
    "import requests\n",
    "from hashlib import md5\n",
    "import json\n",
    "\n",
    "import pandas as pd\n",
    "\n",
    "\n",
    "import plotly.graph_objects as go\n",
    "import plotly.express as px\n",
    "\n",
    "import nltk\n",
    "\n",
    "# Append source directory to system path\n",
    "src_path = os.path.abspath(os.path.join(\"../src\"))\n",
    "if src_path not in sys.path:\n",
    "    sys.path.append(src_path)\n",
    "\n",
    "# Helper functions\n",
    "import data.helpers as data_helpers\n",
    "\n",
    "\n",
    "load_dotenv()  # take environment variables from .env.\n",
    "\n",
    "YELP_CLIENT_ID = os.getenv(\"YELP_CLIENT_ID\")\n",
    "YELP_API_KEY = os.getenv(\"YELP_API_KEY\")\n"
   ]
  },
  {
   "cell_type": "code",
   "execution_count": 2,
   "metadata": {},
   "outputs": [],
   "source": [
    "def yelp_business_search_by_location(\n",
    "    location: str = \"Paris\", count: int = 200\n",
    ") -> tuple[pd.DataFrame, pd.DataFrame, pd.DataFrame]:\n",
    "    \"\"\"\n",
    "    Get Yelp data from API.\n",
    "\n",
    "    Params:\n",
    "        location: str\n",
    "        count: int\n",
    "\n",
    "    Returns:\n",
    "        json\n",
    "    \"\"\"\n",
    "    headers = {\n",
    "        \"Authorization\": f\"Bearer {YELP_API_KEY}\",\n",
    "    }\n",
    "    limit = 50\n",
    "\n",
    "    businesses = pd.DataFrame()\n",
    "    reviews = pd.DataFrame()\n",
    "    photos = pd.DataFrame()\n",
    "    for offset in range(0, count, limit):\n",
    "        businesses_request = requests.get(\n",
    "            \"https://api.yelp.com/v3/businesses/search\",\n",
    "            headers=headers,\n",
    "            params={\n",
    "                \"location\": location,\n",
    "                \"limit\": limit,\n",
    "                \"offset\": offset,\n",
    "            },\n",
    "        )\n",
    "\n",
    "        if businesses_request.status_code == 200:\n",
    "            businesses_data = businesses_request.json()\n",
    "            businesses = businesses.append(\n",
    "                pd.DataFrame(businesses_data[\"businesses\"]), ignore_index=True\n",
    "            )\n",
    "\n",
    "            for business in businesses_data[\"businesses\"]:\n",
    "                business_detail_request = requests.get(\n",
    "                    f\"https://api.yelp.com/v3/businesses/{business['id']}\",\n",
    "                    headers=headers,\n",
    "                )\n",
    "                if business_detail_request.status_code == 200:\n",
    "                    business_detail_data = business_detail_request.json()\n",
    "                    photos = photos.append(\n",
    "                        pd.DataFrame(business_detail_data[\"photos\"]),\n",
    "                        ignore_index=True,\n",
    "                    )\n",
    "                else:\n",
    "                    raise Exception(\n",
    "                        f\"Yelp API request failed with status code \\\n",
    "                             { business_detail_request.status_code }. \\\n",
    "                                 Response text: { business_detail_request.text }\"\n",
    "                    )\n",
    "\n",
    "            for business in businesses_data[\"businesses\"]:\n",
    "                business_reviews_request = requests.get(\n",
    "                    f\"https://api.yelp.com/v3/businesses/{business['id']}/reviews\",\n",
    "                    headers=headers,\n",
    "                )\n",
    "                if business_reviews_request.status_code == 200:\n",
    "                    business_reviews_data = business_reviews_request.json()\n",
    "                    reviews = reviews.append(\n",
    "                        pd.DataFrame(business_reviews_data[\"reviews\"]),\n",
    "                        ignore_index=True,\n",
    "                    )\n",
    "                else:\n",
    "                    raise Exception(\n",
    "                        f\"Yelp API request failed with status code { business_reviews_request.status_code }. Response text: { business_reviews_request.text }\"\n",
    "                    )\n",
    "\n",
    "        else:\n",
    "            raise Exception(\n",
    "                f\"Yelp API request failed with status code { businesses_request.status_code }. Response text: { businesses_request.text }\"\n",
    "            )\n",
    "\n",
    "    return businesses, reviews, photos\n"
   ]
  },
  {
   "cell_type": "code",
   "execution_count": 3,
   "metadata": {},
   "outputs": [],
   "source": [
    "def get_yelp_data(\n",
    "    locations: list[str] = [\n",
    "        \"Paris\",\n",
    "        \"New York City\",\n",
    "        \"Tokyo\",\n",
    "        \"Rio de Janeiro\",\n",
    "        \"Sydney\",\n",
    "    ],\n",
    "    category: str = \"restaurants\",\n",
    ") -> tuple[pd.DataFrame, pd.DataFrame, pd.DataFrame]:\n",
    "    \"\"\"\n",
    "    Get Yelp data from API.\n",
    "\n",
    "    - iterate over the locations\n",
    "        - build a GraphQL query to get the data\n",
    "        - send the query to the Yelp API\n",
    "        - parse the response\n",
    "        - append to the dataframe\n",
    "    - return the dataframes\n",
    "\n",
    "    Params:\n",
    "        locations: str[] (default: [\"Paris\"]) - List of Yelp locations to search\n",
    "        category: str (default: \"restaurants\") - Yelp category (see https://www.yelp.com/developers/documentation/v3/all_category_list)\n",
    "\n",
    "    Returns:\n",
    "        businesses: pd.DataFrame - businesses data from Yelp API request\n",
    "        reviews: pd.DataFrame - reviews data from Yelp API request\n",
    "        photos: pd.DataFrame - photos data from Yelp API request\n",
    "    \"\"\"\n",
    "    # businesses data (see https://www.yelp.com/developers/graphql/objects/business)\n",
    "    businesses = pd.DataFrame(\n",
    "        columns=[\n",
    "            \"business_alias\",  # Unique Yelp alias of this business.\n",
    "            \"business_review_count\",  # Total number of reviews for this business.\n",
    "            \"business_rating\",  # Rating of the business, which is an average of the ratings of all reviews.\n",
    "            \"business_price\",  # Price range of the business, from \"$\" to \"$$$$\" (inclusive).\n",
    "            \"business_city\",  # City of this business.\n",
    "            \"business_state\",  # ISO 3166-2 (with a few exceptions) state code of this business (see https://www.yelp.com/developers/documentation/v3/state_codes).\n",
    "            \"business_postal_code\",  # Postal code of this business (see https://en.wikipedia.org/wiki/Postal_code)\n",
    "            \"business_country\",  # ISO 3166-1 alpha-2 country code of this business.\n",
    "            \"business_latitude\",  # Latitude of the business.\n",
    "            \"business_longitude\",  # Longitude of the business.\n",
    "            \"business_categories\",  # List of categories the business belongs to.\n",
    "            \"business_parent_categories\",  # List of parent categories the business belongs to.\n",
    "        ]\n",
    "    )\n",
    "    reviews = pd.DataFrame(\n",
    "        columns=[\n",
    "            \"business_alias\",  # Unique Yelp alias of the business.\n",
    "            \"review_text\",  # Text excerpt of this review.\n",
    "            \"review_rating\",  # Rating of this review.\n",
    "        ]\n",
    "    )\n",
    "    photos = pd.DataFrame(\n",
    "        columns=[\n",
    "            \"business_alias\",  # Unique Yelp alias of the business.\n",
    "            \"photo_url\",  # URL of the photo.\n",
    "        ]\n",
    "    )\n",
    "\n",
    "    # Yelp's GraphQL endpoint\n",
    "    url = \"https://api.yelp.com/v3/graphql\"\n",
    "    # Request headers\n",
    "    headers = {\n",
    "        \"Authorization\": f\"Bearer {YELP_API_KEY}\",\n",
    "        \"Content-Type\": \"application/graphql\",\n",
    "    }\n",
    "    count = 200  # Yelp's GraphQL API returns a maximum of 240 total results\n",
    "    limit = 50  # Yelp's GraphQL API returns a maximum of 50 results per request\n",
    "\n",
    "    for location in locations:\n",
    "        for offset in range(0, count, limit):\n",
    "            # Build the GraphQL query\n",
    "            query = f'{{\\n\\\n",
    "        search(categories: \"{ category }\", location: \"{ location }\", offset: { offset }, limit:  { limit }) {{\\n\\\n",
    "            business {{\\n\\\n",
    "                alias\\n\\\n",
    "                review_count\\n\\\n",
    "                rating\\n\\\n",
    "                price\\n\\\n",
    "                location {{\\n\\\n",
    "                    city\\n\\\n",
    "                    state\\n\\\n",
    "                    postal_code\\n\\\n",
    "                    country\\n\\\n",
    "                }}\\n\\\n",
    "                coordinates {{\\n\\\n",
    "                    latitude\\n\\\n",
    "                    longitude\\n\\\n",
    "                }}\\n\\\n",
    "                categories {{\\n\\\n",
    "                    alias\\n\\\n",
    "                    parent_categories {{\\n\\\n",
    "                        alias\\n\\\n",
    "                    }}\\n\\\n",
    "                }}\\n\\\n",
    "                photos\\n\\\n",
    "                reviews {{\\n\\\n",
    "                    text\\n\\\n",
    "                    rating\\n\\\n",
    "                }}\\n\\\n",
    "            }}\\n\\\n",
    "        }}\\n\\\n",
    "    }}'\n",
    "            # Send the query to the Yelp API\n",
    "            response = requests.post(url, headers=headers, data=query)\n",
    "            # Parse the response\n",
    "            if not response.status_code == 200:\n",
    "                raise Exception(\n",
    "                    f\"Yelp API request failed with status code { response.status_code }. Response text: { response.text }\"\n",
    "                )\n",
    "\n",
    "            # Parse the response\n",
    "            data = response.json()\n",
    "\n",
    "            if \"errors\" in data:\n",
    "                raise Exception(\n",
    "                    f\"Yelp API request failed with errors: { data['errors'] }\"\n",
    "                )\n",
    "\n",
    "            for business in (\n",
    "                data.get(\"data\", {}).get(\"search\", {}).get(\"business\", [])\n",
    "            ):\n",
    "                # Add the business data to the dataframe\n",
    "                businesses = businesses.append(\n",
    "                    {\n",
    "                        \"business_alias\": business.get(\"alias\"),\n",
    "                        \"business_review_count\": business.get(\"review_count\"),\n",
    "                        \"business_rating\": business.get(\"rating\"),\n",
    "                        \"business_price\": len(  # count the number of characters ($, €, ...)\n",
    "                            business.get(\"price\")\n",
    "                        )\n",
    "                        if business.get(\"price\") is not None\n",
    "                        else 0,\n",
    "                        \"business_city\": business.get(\"location\", {}).get(\n",
    "                            \"city\"\n",
    "                        ),\n",
    "                        \"business_state\": business.get(\"location\", {}).get(\n",
    "                            \"state\"\n",
    "                        ),\n",
    "                        \"business_postal_code\": business.get(\n",
    "                            \"location\", {}\n",
    "                        ).get(\"postal_code\"),\n",
    "                        \"business_country\": business.get(\"location\", {}).get(\n",
    "                            \"country\"\n",
    "                        ),\n",
    "                        \"business_latitude\": business.get(\n",
    "                            \"coordinates\", {}\n",
    "                        ).get(\"latitude\"),\n",
    "                        \"business_longitude\": business.get(\n",
    "                            \"coordinates\", {}\n",
    "                        ).get(\"longitude\"),\n",
    "                        \"business_categories\": json.dumps(\n",
    "                            list(\n",
    "                                set(  # keep unique values\n",
    "                                    [\n",
    "                                        cat.get(\"alias\")\n",
    "                                        for cat in business.get(\n",
    "                                            \"categories\", []\n",
    "                                        )\n",
    "                                    ]\n",
    "                                )\n",
    "                            )\n",
    "                        ),\n",
    "                        \"business_parent_categories\": json.dumps(\n",
    "                            list(\n",
    "                                set(  # keep unique values\n",
    "                                    [\n",
    "                                        parent_cat.get(\"alias\")\n",
    "                                        for cat in business.get(\n",
    "                                            \"categories\", []\n",
    "                                        )\n",
    "                                        for parent_cat in cat.get(\n",
    "                                            \"parent_categories\", []\n",
    "                                        )\n",
    "                                    ]\n",
    "                                )\n",
    "                            )\n",
    "                        ),\n",
    "                    },\n",
    "                    ignore_index=True,\n",
    "                )\n",
    "\n",
    "                for photo in business.get(\"photos\", []) or []:\n",
    "                    # Add the photo data to the dataframe\n",
    "                    photos = photos.append(\n",
    "                        {\n",
    "                            \"business_alias\": business.get(\"alias\"),\n",
    "                            \"photo_url\": photo,\n",
    "                        },\n",
    "                        ignore_index=True,\n",
    "                    )\n",
    "\n",
    "                for review in business.get(\"reviews\", []) or []:\n",
    "                    # Add the review data to the dataframe\n",
    "                    reviews = reviews.append(\n",
    "                        {\n",
    "                            \"business_alias\": business.get(\"alias\"),\n",
    "                            \"review_text\": review.get(\"text\"),\n",
    "                            \"review_rating\": review.get(\"rating\"),\n",
    "                        },\n",
    "                        ignore_index=True,\n",
    "                    )\n",
    "\n",
    "    # Return the dataframes\n",
    "    return businesses, reviews, photos\n",
    "\n",
    "\n",
    "def download_photos(\n",
    "    photos: pd.DataFrame,\n",
    "    target_path: str,\n",
    ") -> None:\n",
    "    # Check if content path exists\n",
    "    if not os.path.exists(target_path):\n",
    "        logging.info(f\"Creating {target_path}\")\n",
    "        os.makedirs(target_path)\n",
    "\n",
    "    for photo in photos.itertuples(index=False):\n",
    "        file_name = f\"{ photo.business_alias }_{ md5(photo.photo_url.encode('utf-8')).hexdigest() }.jpg\"\n",
    "        file_path = os.path.join(target_path, file_name)\n",
    "\n",
    "        if not os.path.exists(file_path):\n",
    "            request = requests.get(photo.photo_url)\n",
    "            if not 200 == request.status_code:\n",
    "                logging.warning(\n",
    "                    f\"Photo URL : { photo.photo_url }\\nYelp API request failed with status code: { request.status_code }.\\nResponse text: { request.text }\"\n",
    "                )\n",
    "                continue\n",
    "\n",
    "            photo_data = request.content\n",
    "            with open(file_path, \"wb\") as f:\n",
    "                f.write(photo_data)\n"
   ]
  },
  {
   "cell_type": "code",
   "execution_count": 4,
   "metadata": {},
   "outputs": [],
   "source": [
    "data_path = \"../data/raw/\"\n",
    "businesses_csv_path = os.path.join(data_path, \"businesses.csv\")\n",
    "reviews_csv_path = os.path.join(data_path, \"reviews.csv\")\n",
    "photos_csv_path = os.path.join(data_path, \"photos.csv\")\n",
    "\n",
    "if not os.path.exists(data_path):\n",
    "    logging.info(f\"Creating {data_path}\")\n",
    "    os.makedirs(data_path)\n",
    "\n",
    "if (\n",
    "    os.path.exists(businesses_csv_path)\n",
    "    and os.path.exists(reviews_csv_path)\n",
    "    and os.path.exists(photos_csv_path)\n",
    "):\n",
    "    logging.info(f\"Data already downloaded\")\n",
    "    businesses_df = pd.read_csv(businesses_csv_path)\n",
    "    reviews_df = pd.read_csv(reviews_csv_path)\n",
    "    photos_df = pd.read_csv(photos_csv_path)\n",
    "else:\n",
    "    logging.info(\"Saving data\")\n",
    "    businesses_df, reviews_df, photos_df = get_yelp_data()\n",
    "\n",
    "    businesses_df.to_csv(businesses_csv_path, index=False)\n",
    "    reviews_df.to_csv(reviews_csv_path, index=False)\n",
    "    photos_df.to_csv(photos_csv_path, index=False)\n",
    "\n",
    "\n",
    "# Fix dtypes\n",
    "businesses_df[\"business_alias\"] = businesses_df[\"business_alias\"].astype(str)\n",
    "businesses_df[\"business_review_count\"] = businesses_df[\n",
    "    \"business_review_count\"\n",
    "].astype(int)\n",
    "businesses_df[\"business_rating\"] = businesses_df[\"business_rating\"].astype(\n",
    "    float\n",
    ")\n",
    "businesses_df[\"business_price\"] = businesses_df[\"business_price\"].astype(int)\n",
    "businesses_df[\"business_city\"] = businesses_df[\"business_city\"].astype(str)\n",
    "businesses_df[\"business_state\"] = businesses_df[\"business_state\"].astype(str)\n",
    "businesses_df[\"business_postal_code\"] = businesses_df[\n",
    "    \"business_postal_code\"\n",
    "].astype(str)\n",
    "businesses_df[\"business_country\"] = businesses_df[\"business_country\"].astype(\n",
    "    str\n",
    ")\n",
    "businesses_df[\"business_latitude\"] = businesses_df[\"business_latitude\"].astype(\n",
    "    float\n",
    ")\n",
    "businesses_df[\"business_longitude\"] = businesses_df[\n",
    "    \"business_longitude\"\n",
    "].astype(float)\n",
    "businesses_df[\"business_categories\"] = businesses_df[\n",
    "    \"business_categories\"\n",
    "].astype(str)\n",
    "businesses_df[\"business_parent_categories\"] = businesses_df[\n",
    "    \"business_parent_categories\"\n",
    "].astype(str)\n",
    "\n",
    "reviews_df[\"business_alias\"] = reviews_df[\"business_alias\"].astype(str)\n",
    "reviews_df[\"review_text\"] = reviews_df[\"review_text\"].astype(str)\n",
    "reviews_df[\"review_rating\"] = reviews_df[\"review_rating\"].astype(float)\n",
    "\n",
    "photos_df[\"business_alias\"] = photos_df[\"business_alias\"].astype(str)\n",
    "photos_df[\"photo_url\"] = photos_df[\"photo_url\"].astype(str)\n",
    "\n",
    "\n",
    "# Reduce memory usage\n",
    "businesses_df = data_helpers.reduce_dataframe_memory_usage(businesses_df)\n",
    "reviews_df = data_helpers.reduce_dataframe_memory_usage(reviews_df)\n",
    "photos_df = data_helpers.reduce_dataframe_memory_usage(photos_df)\n"
   ]
  },
  {
   "cell_type": "code",
   "execution_count": 5,
   "metadata": {},
   "outputs": [
    {
     "data": {
      "text/html": [
       "<div>\n",
       "<style scoped>\n",
       "    .dataframe tbody tr th:only-of-type {\n",
       "        vertical-align: middle;\n",
       "    }\n",
       "\n",
       "    .dataframe tbody tr th {\n",
       "        vertical-align: top;\n",
       "    }\n",
       "\n",
       "    .dataframe thead th {\n",
       "        text-align: right;\n",
       "    }\n",
       "</style>\n",
       "<table border=\"1\" class=\"dataframe\">\n",
       "  <thead>\n",
       "    <tr style=\"text-align: right;\">\n",
       "      <th></th>\n",
       "      <th>business_alias</th>\n",
       "      <th>business_review_count</th>\n",
       "      <th>business_rating</th>\n",
       "      <th>business_price</th>\n",
       "      <th>business_city</th>\n",
       "      <th>business_state</th>\n",
       "      <th>business_postal_code</th>\n",
       "      <th>business_country</th>\n",
       "      <th>business_latitude</th>\n",
       "      <th>business_longitude</th>\n",
       "      <th>business_categories</th>\n",
       "      <th>business_parent_categories</th>\n",
       "    </tr>\n",
       "  </thead>\n",
       "  <tbody>\n",
       "    <tr>\n",
       "      <th>0</th>\n",
       "      <td>le-comptoir-de-la-gastronomie-paris</td>\n",
       "      <td>1107</td>\n",
       "      <td>4.5</td>\n",
       "      <td>2</td>\n",
       "      <td>Paris</td>\n",
       "      <td>75</td>\n",
       "      <td>75001</td>\n",
       "      <td>FR</td>\n",
       "      <td>48.864517</td>\n",
       "      <td>2.345402</td>\n",
       "      <td>[\"french\"]</td>\n",
       "      <td>[\"restaurants\"]</td>\n",
       "    </tr>\n",
       "    <tr>\n",
       "      <th>1</th>\n",
       "      <td>l-as-du-fallafel-paris</td>\n",
       "      <td>1810</td>\n",
       "      <td>4.5</td>\n",
       "      <td>1</td>\n",
       "      <td>Paris</td>\n",
       "      <td>75</td>\n",
       "      <td>75004</td>\n",
       "      <td>FR</td>\n",
       "      <td>48.857498</td>\n",
       "      <td>2.359080</td>\n",
       "      <td>[\"kosher\", \"falafel\", \"sandwiches\"]</td>\n",
       "      <td>[\"restaurants\", \"mediterranean\"]</td>\n",
       "    </tr>\n",
       "    <tr>\n",
       "      <th>2</th>\n",
       "      <td>angelina-paris</td>\n",
       "      <td>1347</td>\n",
       "      <td>4.0</td>\n",
       "      <td>3</td>\n",
       "      <td>Paris</td>\n",
       "      <td>75</td>\n",
       "      <td>75001</td>\n",
       "      <td>FR</td>\n",
       "      <td>48.865093</td>\n",
       "      <td>2.328464</td>\n",
       "      <td>[\"tea\", \"cakeshop\", \"breakfast_brunch\"]</td>\n",
       "      <td>[\"restaurants\", \"food\"]</td>\n",
       "    </tr>\n",
       "    <tr>\n",
       "      <th>3</th>\n",
       "      <td>l-avant-comptoir-paris-3</td>\n",
       "      <td>612</td>\n",
       "      <td>4.5</td>\n",
       "      <td>2</td>\n",
       "      <td>Paris</td>\n",
       "      <td>75</td>\n",
       "      <td>75006</td>\n",
       "      <td>FR</td>\n",
       "      <td>48.852020</td>\n",
       "      <td>2.338800</td>\n",
       "      <td>[\"wine_bars\", \"tapas\"]</td>\n",
       "      <td>[\"bars\", \"restaurants\"]</td>\n",
       "    </tr>\n",
       "    <tr>\n",
       "      <th>4</th>\n",
       "      <td>la-coïncidence-paris-4</td>\n",
       "      <td>493</td>\n",
       "      <td>4.5</td>\n",
       "      <td>2</td>\n",
       "      <td>Paris</td>\n",
       "      <td>75</td>\n",
       "      <td>75116</td>\n",
       "      <td>FR</td>\n",
       "      <td>48.868107</td>\n",
       "      <td>2.284365</td>\n",
       "      <td>[\"french\"]</td>\n",
       "      <td>[\"restaurants\"]</td>\n",
       "    </tr>\n",
       "  </tbody>\n",
       "</table>\n",
       "</div>"
      ],
      "text/plain": [
       "                        business_alias  business_review_count  \\\n",
       "0  le-comptoir-de-la-gastronomie-paris                   1107   \n",
       "1               l-as-du-fallafel-paris                   1810   \n",
       "2                       angelina-paris                   1347   \n",
       "3             l-avant-comptoir-paris-3                    612   \n",
       "4               la-coïncidence-paris-4                    493   \n",
       "\n",
       "   business_rating  business_price business_city business_state  \\\n",
       "0              4.5               2         Paris             75   \n",
       "1              4.5               1         Paris             75   \n",
       "2              4.0               3         Paris             75   \n",
       "3              4.5               2         Paris             75   \n",
       "4              4.5               2         Paris             75   \n",
       "\n",
       "  business_postal_code business_country  business_latitude  \\\n",
       "0                75001               FR          48.864517   \n",
       "1                75004               FR          48.857498   \n",
       "2                75001               FR          48.865093   \n",
       "3                75006               FR          48.852020   \n",
       "4                75116               FR          48.868107   \n",
       "\n",
       "   business_longitude                      business_categories  \\\n",
       "0            2.345402                               [\"french\"]   \n",
       "1            2.359080      [\"kosher\", \"falafel\", \"sandwiches\"]   \n",
       "2            2.328464  [\"tea\", \"cakeshop\", \"breakfast_brunch\"]   \n",
       "3            2.338800                   [\"wine_bars\", \"tapas\"]   \n",
       "4            2.284365                               [\"french\"]   \n",
       "\n",
       "         business_parent_categories  \n",
       "0                   [\"restaurants\"]  \n",
       "1  [\"restaurants\", \"mediterranean\"]  \n",
       "2           [\"restaurants\", \"food\"]  \n",
       "3           [\"bars\", \"restaurants\"]  \n",
       "4                   [\"restaurants\"]  "
      ]
     },
     "execution_count": 5,
     "metadata": {},
     "output_type": "execute_result"
    }
   ],
   "source": [
    "businesses_df.head()\n"
   ]
  },
  {
   "cell_type": "code",
   "execution_count": 6,
   "metadata": {},
   "outputs": [
    {
     "data": {
      "text/html": [
       "<div>\n",
       "<style scoped>\n",
       "    .dataframe tbody tr th:only-of-type {\n",
       "        vertical-align: middle;\n",
       "    }\n",
       "\n",
       "    .dataframe tbody tr th {\n",
       "        vertical-align: top;\n",
       "    }\n",
       "\n",
       "    .dataframe thead th {\n",
       "        text-align: right;\n",
       "    }\n",
       "</style>\n",
       "<table border=\"1\" class=\"dataframe\">\n",
       "  <thead>\n",
       "    <tr style=\"text-align: right;\">\n",
       "      <th></th>\n",
       "      <th>business_alias</th>\n",
       "      <th>business_review_count</th>\n",
       "      <th>business_rating</th>\n",
       "      <th>business_price</th>\n",
       "      <th>business_city</th>\n",
       "      <th>business_state</th>\n",
       "      <th>business_postal_code</th>\n",
       "      <th>business_country</th>\n",
       "      <th>business_latitude</th>\n",
       "      <th>business_longitude</th>\n",
       "      <th>business_categories</th>\n",
       "      <th>business_parent_categories</th>\n",
       "    </tr>\n",
       "  </thead>\n",
       "  <tbody>\n",
       "    <tr>\n",
       "      <th>count</th>\n",
       "      <td>1000</td>\n",
       "      <td>1000.000000</td>\n",
       "      <td>1000.000000</td>\n",
       "      <td>1000.000000</td>\n",
       "      <td>1000</td>\n",
       "      <td>1000</td>\n",
       "      <td>1000</td>\n",
       "      <td>1000</td>\n",
       "      <td>1000.000000</td>\n",
       "      <td>1000.000000</td>\n",
       "      <td>1000</td>\n",
       "      <td>1000</td>\n",
       "    </tr>\n",
       "    <tr>\n",
       "      <th>unique</th>\n",
       "      <td>1000</td>\n",
       "      <td>NaN</td>\n",
       "      <td>NaN</td>\n",
       "      <td>NaN</td>\n",
       "      <td>40</td>\n",
       "      <td>6</td>\n",
       "      <td>301</td>\n",
       "      <td>5</td>\n",
       "      <td>NaN</td>\n",
       "      <td>NaN</td>\n",
       "      <td>530</td>\n",
       "      <td>50</td>\n",
       "    </tr>\n",
       "    <tr>\n",
       "      <th>top</th>\n",
       "      <td>le-comptoir-de-la-gastronomie-paris</td>\n",
       "      <td>NaN</td>\n",
       "      <td>NaN</td>\n",
       "      <td>NaN</td>\n",
       "      <td>Paris</td>\n",
       "      <td>13</td>\n",
       "      <td>2000</td>\n",
       "      <td>AU</td>\n",
       "      <td>NaN</td>\n",
       "      <td>NaN</td>\n",
       "      <td>[\"french\"]</td>\n",
       "      <td>[\"restaurants\"]</td>\n",
       "    </tr>\n",
       "    <tr>\n",
       "      <th>freq</th>\n",
       "      <td>1</td>\n",
       "      <td>NaN</td>\n",
       "      <td>NaN</td>\n",
       "      <td>NaN</td>\n",
       "      <td>200</td>\n",
       "      <td>200</td>\n",
       "      <td>139</td>\n",
       "      <td>200</td>\n",
       "      <td>NaN</td>\n",
       "      <td>NaN</td>\n",
       "      <td>56</td>\n",
       "      <td>551</td>\n",
       "    </tr>\n",
       "    <tr>\n",
       "      <th>mean</th>\n",
       "      <td>NaN</td>\n",
       "      <td>529.395000</td>\n",
       "      <td>4.270500</td>\n",
       "      <td>2.144000</td>\n",
       "      <td>NaN</td>\n",
       "      <td>NaN</td>\n",
       "      <td>NaN</td>\n",
       "      <td>NaN</td>\n",
       "      <td>13.688472</td>\n",
       "      <td>35.219700</td>\n",
       "      <td>NaN</td>\n",
       "      <td>NaN</td>\n",
       "    </tr>\n",
       "    <tr>\n",
       "      <th>std</th>\n",
       "      <td>NaN</td>\n",
       "      <td>1134.869631</td>\n",
       "      <td>0.353135</td>\n",
       "      <td>0.897814</td>\n",
       "      <td>NaN</td>\n",
       "      <td>NaN</td>\n",
       "      <td>NaN</td>\n",
       "      <td>NaN</td>\n",
       "      <td>34.823799</td>\n",
       "      <td>93.358452</td>\n",
       "      <td>NaN</td>\n",
       "      <td>NaN</td>\n",
       "    </tr>\n",
       "    <tr>\n",
       "      <th>min</th>\n",
       "      <td>NaN</td>\n",
       "      <td>6.000000</td>\n",
       "      <td>3.000000</td>\n",
       "      <td>0.000000</td>\n",
       "      <td>NaN</td>\n",
       "      <td>NaN</td>\n",
       "      <td>NaN</td>\n",
       "      <td>NaN</td>\n",
       "      <td>-33.897026</td>\n",
       "      <td>-74.016022</td>\n",
       "      <td>NaN</td>\n",
       "      <td>NaN</td>\n",
       "    </tr>\n",
       "    <tr>\n",
       "      <th>25%</th>\n",
       "      <td>NaN</td>\n",
       "      <td>30.000000</td>\n",
       "      <td>4.000000</td>\n",
       "      <td>2.000000</td>\n",
       "      <td>NaN</td>\n",
       "      <td>NaN</td>\n",
       "      <td>NaN</td>\n",
       "      <td>NaN</td>\n",
       "      <td>-22.983292</td>\n",
       "      <td>-43.218462</td>\n",
       "      <td>NaN</td>\n",
       "      <td>NaN</td>\n",
       "    </tr>\n",
       "    <tr>\n",
       "      <th>50%</th>\n",
       "      <td>NaN</td>\n",
       "      <td>71.000000</td>\n",
       "      <td>4.500000</td>\n",
       "      <td>2.000000</td>\n",
       "      <td>NaN</td>\n",
       "      <td>NaN</td>\n",
       "      <td>NaN</td>\n",
       "      <td>NaN</td>\n",
       "      <td>35.673141</td>\n",
       "      <td>2.340317</td>\n",
       "      <td>NaN</td>\n",
       "      <td>NaN</td>\n",
       "    </tr>\n",
       "    <tr>\n",
       "      <th>75%</th>\n",
       "      <td>NaN</td>\n",
       "      <td>265.750000</td>\n",
       "      <td>4.500000</td>\n",
       "      <td>3.000000</td>\n",
       "      <td>NaN</td>\n",
       "      <td>NaN</td>\n",
       "      <td>NaN</td>\n",
       "      <td>NaN</td>\n",
       "      <td>40.751259</td>\n",
       "      <td>139.770420</td>\n",
       "      <td>NaN</td>\n",
       "      <td>NaN</td>\n",
       "    </tr>\n",
       "    <tr>\n",
       "      <th>max</th>\n",
       "      <td>NaN</td>\n",
       "      <td>13047.000000</td>\n",
       "      <td>5.000000</td>\n",
       "      <td>4.000000</td>\n",
       "      <td>NaN</td>\n",
       "      <td>NaN</td>\n",
       "      <td>NaN</td>\n",
       "      <td>NaN</td>\n",
       "      <td>48.890209</td>\n",
       "      <td>151.298248</td>\n",
       "      <td>NaN</td>\n",
       "      <td>NaN</td>\n",
       "    </tr>\n",
       "  </tbody>\n",
       "</table>\n",
       "</div>"
      ],
      "text/plain": [
       "                             business_alias  business_review_count  \\\n",
       "count                                  1000            1000.000000   \n",
       "unique                                 1000                    NaN   \n",
       "top     le-comptoir-de-la-gastronomie-paris                    NaN   \n",
       "freq                                      1                    NaN   \n",
       "mean                                    NaN             529.395000   \n",
       "std                                     NaN            1134.869631   \n",
       "min                                     NaN               6.000000   \n",
       "25%                                     NaN              30.000000   \n",
       "50%                                     NaN              71.000000   \n",
       "75%                                     NaN             265.750000   \n",
       "max                                     NaN           13047.000000   \n",
       "\n",
       "        business_rating  business_price business_city business_state  \\\n",
       "count       1000.000000     1000.000000          1000           1000   \n",
       "unique              NaN             NaN            40              6   \n",
       "top                 NaN             NaN         Paris             13   \n",
       "freq                NaN             NaN           200            200   \n",
       "mean           4.270500        2.144000           NaN            NaN   \n",
       "std            0.353135        0.897814           NaN            NaN   \n",
       "min            3.000000        0.000000           NaN            NaN   \n",
       "25%            4.000000        2.000000           NaN            NaN   \n",
       "50%            4.500000        2.000000           NaN            NaN   \n",
       "75%            4.500000        3.000000           NaN            NaN   \n",
       "max            5.000000        4.000000           NaN            NaN   \n",
       "\n",
       "       business_postal_code business_country  business_latitude  \\\n",
       "count                  1000             1000        1000.000000   \n",
       "unique                  301                5                NaN   \n",
       "top                    2000               AU                NaN   \n",
       "freq                    139              200                NaN   \n",
       "mean                    NaN              NaN          13.688472   \n",
       "std                     NaN              NaN          34.823799   \n",
       "min                     NaN              NaN         -33.897026   \n",
       "25%                     NaN              NaN         -22.983292   \n",
       "50%                     NaN              NaN          35.673141   \n",
       "75%                     NaN              NaN          40.751259   \n",
       "max                     NaN              NaN          48.890209   \n",
       "\n",
       "        business_longitude business_categories business_parent_categories  \n",
       "count          1000.000000                1000                       1000  \n",
       "unique                 NaN                 530                         50  \n",
       "top                    NaN          [\"french\"]            [\"restaurants\"]  \n",
       "freq                   NaN                  56                        551  \n",
       "mean             35.219700                 NaN                        NaN  \n",
       "std              93.358452                 NaN                        NaN  \n",
       "min             -74.016022                 NaN                        NaN  \n",
       "25%             -43.218462                 NaN                        NaN  \n",
       "50%               2.340317                 NaN                        NaN  \n",
       "75%             139.770420                 NaN                        NaN  \n",
       "max             151.298248                 NaN                        NaN  "
      ]
     },
     "execution_count": 6,
     "metadata": {},
     "output_type": "execute_result"
    }
   ],
   "source": [
    "businesses_df.describe(include=\"all\")\n"
   ]
  },
  {
   "cell_type": "code",
   "execution_count": 7,
   "metadata": {},
   "outputs": [
    {
     "data": {
      "text/html": [
       "<div>\n",
       "<style scoped>\n",
       "    .dataframe tbody tr th:only-of-type {\n",
       "        vertical-align: middle;\n",
       "    }\n",
       "\n",
       "    .dataframe tbody tr th {\n",
       "        vertical-align: top;\n",
       "    }\n",
       "\n",
       "    .dataframe thead th {\n",
       "        text-align: right;\n",
       "    }\n",
       "</style>\n",
       "<table border=\"1\" class=\"dataframe\">\n",
       "  <thead>\n",
       "    <tr style=\"text-align: right;\">\n",
       "      <th></th>\n",
       "      <th>business_alias</th>\n",
       "      <th>review_text</th>\n",
       "      <th>review_rating</th>\n",
       "    </tr>\n",
       "  </thead>\n",
       "  <tbody>\n",
       "    <tr>\n",
       "      <th>0</th>\n",
       "      <td>le-comptoir-de-la-gastronomie-paris</td>\n",
       "      <td>This review is from our 2019 trip.  Shame on m...</td>\n",
       "      <td>5.0</td>\n",
       "    </tr>\n",
       "    <tr>\n",
       "      <th>1</th>\n",
       "      <td>le-comptoir-de-la-gastronomie-paris</td>\n",
       "      <td>This place def lives up the hype.  Best French...</td>\n",
       "      <td>5.0</td>\n",
       "    </tr>\n",
       "    <tr>\n",
       "      <th>2</th>\n",
       "      <td>le-comptoir-de-la-gastronomie-paris</td>\n",
       "      <td>While planning a friends trip to Paris, I came...</td>\n",
       "      <td>5.0</td>\n",
       "    </tr>\n",
       "    <tr>\n",
       "      <th>3</th>\n",
       "      <td>l-as-du-fallafel-paris</td>\n",
       "      <td>This is the best falafel sandwich I have ever ...</td>\n",
       "      <td>5.0</td>\n",
       "    </tr>\n",
       "    <tr>\n",
       "      <th>4</th>\n",
       "      <td>l-as-du-fallafel-paris</td>\n",
       "      <td>IMO this is a must try in Paris. \n",
       "\n",
       "Located in ...</td>\n",
       "      <td>5.0</td>\n",
       "    </tr>\n",
       "  </tbody>\n",
       "</table>\n",
       "</div>"
      ],
      "text/plain": [
       "                        business_alias  \\\n",
       "0  le-comptoir-de-la-gastronomie-paris   \n",
       "1  le-comptoir-de-la-gastronomie-paris   \n",
       "2  le-comptoir-de-la-gastronomie-paris   \n",
       "3               l-as-du-fallafel-paris   \n",
       "4               l-as-du-fallafel-paris   \n",
       "\n",
       "                                         review_text  review_rating  \n",
       "0  This review is from our 2019 trip.  Shame on m...            5.0  \n",
       "1  This place def lives up the hype.  Best French...            5.0  \n",
       "2  While planning a friends trip to Paris, I came...            5.0  \n",
       "3  This is the best falafel sandwich I have ever ...            5.0  \n",
       "4  IMO this is a must try in Paris. \n",
       "\n",
       "Located in ...            5.0  "
      ]
     },
     "execution_count": 7,
     "metadata": {},
     "output_type": "execute_result"
    }
   ],
   "source": [
    "reviews_df.head()\n"
   ]
  },
  {
   "cell_type": "code",
   "execution_count": 8,
   "metadata": {},
   "outputs": [
    {
     "data": {
      "text/html": [
       "<div>\n",
       "<style scoped>\n",
       "    .dataframe tbody tr th:only-of-type {\n",
       "        vertical-align: middle;\n",
       "    }\n",
       "\n",
       "    .dataframe tbody tr th {\n",
       "        vertical-align: top;\n",
       "    }\n",
       "\n",
       "    .dataframe thead th {\n",
       "        text-align: right;\n",
       "    }\n",
       "</style>\n",
       "<table border=\"1\" class=\"dataframe\">\n",
       "  <thead>\n",
       "    <tr style=\"text-align: right;\">\n",
       "      <th></th>\n",
       "      <th>business_alias</th>\n",
       "      <th>review_text</th>\n",
       "      <th>review_rating</th>\n",
       "    </tr>\n",
       "  </thead>\n",
       "  <tbody>\n",
       "    <tr>\n",
       "      <th>count</th>\n",
       "      <td>2928</td>\n",
       "      <td>2928</td>\n",
       "      <td>2928.000000</td>\n",
       "    </tr>\n",
       "    <tr>\n",
       "      <th>unique</th>\n",
       "      <td>990</td>\n",
       "      <td>2928</td>\n",
       "      <td>NaN</td>\n",
       "    </tr>\n",
       "    <tr>\n",
       "      <th>top</th>\n",
       "      <td>le-comptoir-de-la-gastronomie-paris</td>\n",
       "      <td>This review is from our 2019 trip.  Shame on m...</td>\n",
       "      <td>NaN</td>\n",
       "    </tr>\n",
       "    <tr>\n",
       "      <th>freq</th>\n",
       "      <td>3</td>\n",
       "      <td>1</td>\n",
       "      <td>NaN</td>\n",
       "    </tr>\n",
       "    <tr>\n",
       "      <th>mean</th>\n",
       "      <td>NaN</td>\n",
       "      <td>NaN</td>\n",
       "      <td>4.396516</td>\n",
       "    </tr>\n",
       "    <tr>\n",
       "      <th>std</th>\n",
       "      <td>NaN</td>\n",
       "      <td>NaN</td>\n",
       "      <td>0.904879</td>\n",
       "    </tr>\n",
       "    <tr>\n",
       "      <th>min</th>\n",
       "      <td>NaN</td>\n",
       "      <td>NaN</td>\n",
       "      <td>1.000000</td>\n",
       "    </tr>\n",
       "    <tr>\n",
       "      <th>25%</th>\n",
       "      <td>NaN</td>\n",
       "      <td>NaN</td>\n",
       "      <td>4.000000</td>\n",
       "    </tr>\n",
       "    <tr>\n",
       "      <th>50%</th>\n",
       "      <td>NaN</td>\n",
       "      <td>NaN</td>\n",
       "      <td>5.000000</td>\n",
       "    </tr>\n",
       "    <tr>\n",
       "      <th>75%</th>\n",
       "      <td>NaN</td>\n",
       "      <td>NaN</td>\n",
       "      <td>5.000000</td>\n",
       "    </tr>\n",
       "    <tr>\n",
       "      <th>max</th>\n",
       "      <td>NaN</td>\n",
       "      <td>NaN</td>\n",
       "      <td>5.000000</td>\n",
       "    </tr>\n",
       "  </tbody>\n",
       "</table>\n",
       "</div>"
      ],
      "text/plain": [
       "                             business_alias  \\\n",
       "count                                  2928   \n",
       "unique                                  990   \n",
       "top     le-comptoir-de-la-gastronomie-paris   \n",
       "freq                                      3   \n",
       "mean                                    NaN   \n",
       "std                                     NaN   \n",
       "min                                     NaN   \n",
       "25%                                     NaN   \n",
       "50%                                     NaN   \n",
       "75%                                     NaN   \n",
       "max                                     NaN   \n",
       "\n",
       "                                              review_text  review_rating  \n",
       "count                                                2928    2928.000000  \n",
       "unique                                               2928            NaN  \n",
       "top     This review is from our 2019 trip.  Shame on m...            NaN  \n",
       "freq                                                    1            NaN  \n",
       "mean                                                  NaN       4.396516  \n",
       "std                                                   NaN       0.904879  \n",
       "min                                                   NaN       1.000000  \n",
       "25%                                                   NaN       4.000000  \n",
       "50%                                                   NaN       5.000000  \n",
       "75%                                                   NaN       5.000000  \n",
       "max                                                   NaN       5.000000  "
      ]
     },
     "execution_count": 8,
     "metadata": {},
     "output_type": "execute_result"
    }
   ],
   "source": [
    "reviews_df.describe(include=\"all\")\n"
   ]
  },
  {
   "cell_type": "code",
   "execution_count": 9,
   "metadata": {},
   "outputs": [
    {
     "data": {
      "text/html": [
       "<div>\n",
       "<style scoped>\n",
       "    .dataframe tbody tr th:only-of-type {\n",
       "        vertical-align: middle;\n",
       "    }\n",
       "\n",
       "    .dataframe tbody tr th {\n",
       "        vertical-align: top;\n",
       "    }\n",
       "\n",
       "    .dataframe thead th {\n",
       "        text-align: right;\n",
       "    }\n",
       "</style>\n",
       "<table border=\"1\" class=\"dataframe\">\n",
       "  <thead>\n",
       "    <tr style=\"text-align: right;\">\n",
       "      <th></th>\n",
       "      <th>business_alias</th>\n",
       "      <th>photo_url</th>\n",
       "    </tr>\n",
       "  </thead>\n",
       "  <tbody>\n",
       "    <tr>\n",
       "      <th>0</th>\n",
       "      <td>le-comptoir-de-la-gastronomie-paris</td>\n",
       "      <td>https://s3-media2.fl.yelpcdn.com/bphoto/Je6THJ...</td>\n",
       "    </tr>\n",
       "    <tr>\n",
       "      <th>1</th>\n",
       "      <td>l-as-du-fallafel-paris</td>\n",
       "      <td>https://s3-media2.fl.yelpcdn.com/bphoto/wdIhzK...</td>\n",
       "    </tr>\n",
       "    <tr>\n",
       "      <th>2</th>\n",
       "      <td>angelina-paris</td>\n",
       "      <td>https://s3-media3.fl.yelpcdn.com/bphoto/DPM5TB...</td>\n",
       "    </tr>\n",
       "    <tr>\n",
       "      <th>3</th>\n",
       "      <td>l-avant-comptoir-paris-3</td>\n",
       "      <td>https://s3-media3.fl.yelpcdn.com/bphoto/mVwgxg...</td>\n",
       "    </tr>\n",
       "    <tr>\n",
       "      <th>4</th>\n",
       "      <td>la-coïncidence-paris-4</td>\n",
       "      <td>https://s3-media1.fl.yelpcdn.com/bphoto/QdrAgE...</td>\n",
       "    </tr>\n",
       "  </tbody>\n",
       "</table>\n",
       "</div>"
      ],
      "text/plain": [
       "                        business_alias  \\\n",
       "0  le-comptoir-de-la-gastronomie-paris   \n",
       "1               l-as-du-fallafel-paris   \n",
       "2                       angelina-paris   \n",
       "3             l-avant-comptoir-paris-3   \n",
       "4               la-coïncidence-paris-4   \n",
       "\n",
       "                                           photo_url  \n",
       "0  https://s3-media2.fl.yelpcdn.com/bphoto/Je6THJ...  \n",
       "1  https://s3-media2.fl.yelpcdn.com/bphoto/wdIhzK...  \n",
       "2  https://s3-media3.fl.yelpcdn.com/bphoto/DPM5TB...  \n",
       "3  https://s3-media3.fl.yelpcdn.com/bphoto/mVwgxg...  \n",
       "4  https://s3-media1.fl.yelpcdn.com/bphoto/QdrAgE...  "
      ]
     },
     "execution_count": 9,
     "metadata": {},
     "output_type": "execute_result"
    }
   ],
   "source": [
    "photos_df.head()\n"
   ]
  },
  {
   "cell_type": "code",
   "execution_count": 10,
   "metadata": {},
   "outputs": [
    {
     "data": {
      "text/html": [
       "<div>\n",
       "<style scoped>\n",
       "    .dataframe tbody tr th:only-of-type {\n",
       "        vertical-align: middle;\n",
       "    }\n",
       "\n",
       "    .dataframe tbody tr th {\n",
       "        vertical-align: top;\n",
       "    }\n",
       "\n",
       "    .dataframe thead th {\n",
       "        text-align: right;\n",
       "    }\n",
       "</style>\n",
       "<table border=\"1\" class=\"dataframe\">\n",
       "  <thead>\n",
       "    <tr style=\"text-align: right;\">\n",
       "      <th></th>\n",
       "      <th>business_alias</th>\n",
       "      <th>photo_url</th>\n",
       "    </tr>\n",
       "  </thead>\n",
       "  <tbody>\n",
       "    <tr>\n",
       "      <th>count</th>\n",
       "      <td>1000</td>\n",
       "      <td>1000</td>\n",
       "    </tr>\n",
       "    <tr>\n",
       "      <th>unique</th>\n",
       "      <td>1000</td>\n",
       "      <td>1000</td>\n",
       "    </tr>\n",
       "    <tr>\n",
       "      <th>top</th>\n",
       "      <td>le-comptoir-de-la-gastronomie-paris</td>\n",
       "      <td>https://s3-media2.fl.yelpcdn.com/bphoto/Je6THJ...</td>\n",
       "    </tr>\n",
       "    <tr>\n",
       "      <th>freq</th>\n",
       "      <td>1</td>\n",
       "      <td>1</td>\n",
       "    </tr>\n",
       "  </tbody>\n",
       "</table>\n",
       "</div>"
      ],
      "text/plain": [
       "                             business_alias  \\\n",
       "count                                  1000   \n",
       "unique                                 1000   \n",
       "top     le-comptoir-de-la-gastronomie-paris   \n",
       "freq                                      1   \n",
       "\n",
       "                                                photo_url  \n",
       "count                                                1000  \n",
       "unique                                               1000  \n",
       "top     https://s3-media2.fl.yelpcdn.com/bphoto/Je6THJ...  \n",
       "freq                                                    1  "
      ]
     },
     "execution_count": 10,
     "metadata": {},
     "output_type": "execute_result"
    }
   ],
   "source": [
    "photos_df.describe(include=\"all\")\n"
   ]
  },
  {
   "cell_type": "code",
   "execution_count": 11,
   "metadata": {},
   "outputs": [
    {
     "name": "stderr",
     "output_type": "stream",
     "text": [
      "WARNING:root:Photo URL : https://s3-media3.fl.yelpcdn.com/bphoto/None/o.jpg\n",
      "Yelp API request failed with status code: 403.\n",
      "Response text: <?xml version=\"1.0\" encoding=\"UTF-8\"?>\n",
      "<Error><Code>AccessDenied</Code><Message>Access Denied</Message><RequestId>WEQ0P50D8WZD8KKG</RequestId><HostId>/z5pHo/Oh/o65XjXVUNVNLsKdr0eZ44HAFdfhZegnNZNxL+RW3teBfrZPVQabcXWmhjbXzUaK3o=</HostId></Error>\n"
     ]
    }
   ],
   "source": [
    "download_photos(photos_df, target_path=\"../data/raw/photos/\")\n"
   ]
  },
  {
   "cell_type": "code",
   "execution_count": 12,
   "metadata": {},
   "outputs": [],
   "source": [
    "def one_hot_encode_list_variables(\n",
    "    df: pd.DataFrame,\n",
    "    columns: list[str],\n",
    ") -> pd.DataFrame:\n",
    "    \"\"\"One-hot encode list variables.\n",
    "    See : https://cmpoi.medium.com/a-quick-tutorial-to-encode-list-variables-125ba4040325\n",
    "\n",
    "    - for each list variable\n",
    "        - decode JSON values to list\n",
    "        - make a dataframe of one-hot encoded values\n",
    "        - append to original dataframe\n",
    "\n",
    "    Args:\n",
    "        df (pd.DataFrame): dataframe to encode\n",
    "        columns (list[str]): list of columns to encode\n",
    "\n",
    "    Raises:\n",
    "        Exception: columns values should be (JSON encoded) lists of strings\n",
    "\n",
    "    Returns:\n",
    "        pd.DataFrame:  dataframe with encoded columns\n",
    "    \"\"\"\n",
    "    df = df.copy()\n",
    "    for col in columns:\n",
    "        if not isinstance(df[col][0], list):\n",
    "            df[col] = df[col].replace(\n",
    "                \"[]\", \"null\"\n",
    "            )  # replace empty list with null\n",
    "            df[col] = df[col].apply(json.loads)  # convert string to list\n",
    "\n",
    "        if not isinstance(df[col][0], list):\n",
    "            raise Exception(f\"{col} is not a list\")\n",
    "\n",
    "        categories_df = (\n",
    "            pd.get_dummies(\n",
    "                pd.DataFrame(\n",
    "                    [\n",
    "                        x\n",
    "                        if x is not None\n",
    "                        else [\"__EMPTY__\"]  # replace None with empty list\n",
    "                        for x in df[col].tolist()\n",
    "                    ]\n",
    "                ).stack(),\n",
    "            )\n",
    "            .groupby(level=0)\n",
    "            .sum()\n",
    "        ).drop(\n",
    "            columns=\"__EMPTY__\", errors=\"ignore\"\n",
    "        )  # remove empty list\n",
    "\n",
    "        df = pd.concat([df, categories_df], axis=1)\n",
    "\n",
    "    return df\n",
    "\n",
    "\n",
    "df = one_hot_encode_list_variables(\n",
    "    businesses_df, [\"business_categories\", \"business_parent_categories\"]\n",
    ")\n"
   ]
  },
  {
   "cell_type": "code",
   "execution_count": 13,
   "metadata": {},
   "outputs": [
    {
     "data": {
      "text/html": [
       "<div>\n",
       "<style scoped>\n",
       "    .dataframe tbody tr th:only-of-type {\n",
       "        vertical-align: middle;\n",
       "    }\n",
       "\n",
       "    .dataframe tbody tr th {\n",
       "        vertical-align: top;\n",
       "    }\n",
       "\n",
       "    .dataframe thead th {\n",
       "        text-align: right;\n",
       "    }\n",
       "</style>\n",
       "<table border=\"1\" class=\"dataframe\">\n",
       "  <thead>\n",
       "    <tr style=\"text-align: right;\">\n",
       "      <th></th>\n",
       "      <th>business_alias</th>\n",
       "      <th>business_review_count</th>\n",
       "      <th>business_rating</th>\n",
       "      <th>business_price</th>\n",
       "      <th>business_city</th>\n",
       "      <th>business_state</th>\n",
       "      <th>business_postal_code</th>\n",
       "      <th>business_country</th>\n",
       "      <th>business_latitude</th>\n",
       "      <th>business_longitude</th>\n",
       "      <th>...</th>\n",
       "      <th>jpsweets</th>\n",
       "      <th>latin</th>\n",
       "      <th>media</th>\n",
       "      <th>mediterranean</th>\n",
       "      <th>mexican</th>\n",
       "      <th>mideastern</th>\n",
       "      <th>nightlife</th>\n",
       "      <th>publicservicesgovt</th>\n",
       "      <th>restaurants</th>\n",
       "      <th>shopping</th>\n",
       "    </tr>\n",
       "  </thead>\n",
       "  <tbody>\n",
       "    <tr>\n",
       "      <th>count</th>\n",
       "      <td>1000</td>\n",
       "      <td>1000.000000</td>\n",
       "      <td>1000.000000</td>\n",
       "      <td>1000.000000</td>\n",
       "      <td>1000</td>\n",
       "      <td>1000</td>\n",
       "      <td>1000</td>\n",
       "      <td>1000</td>\n",
       "      <td>1000.000000</td>\n",
       "      <td>1000.000000</td>\n",
       "      <td>...</td>\n",
       "      <td>1000.000000</td>\n",
       "      <td>1000.000000</td>\n",
       "      <td>1000.000000</td>\n",
       "      <td>1000.000000</td>\n",
       "      <td>1000.000000</td>\n",
       "      <td>1000.000000</td>\n",
       "      <td>1000.000000</td>\n",
       "      <td>1000.000000</td>\n",
       "      <td>1000.00000</td>\n",
       "      <td>1000.000000</td>\n",
       "    </tr>\n",
       "    <tr>\n",
       "      <th>unique</th>\n",
       "      <td>1000</td>\n",
       "      <td>NaN</td>\n",
       "      <td>NaN</td>\n",
       "      <td>NaN</td>\n",
       "      <td>40</td>\n",
       "      <td>6</td>\n",
       "      <td>301</td>\n",
       "      <td>5</td>\n",
       "      <td>NaN</td>\n",
       "      <td>NaN</td>\n",
       "      <td>...</td>\n",
       "      <td>NaN</td>\n",
       "      <td>NaN</td>\n",
       "      <td>NaN</td>\n",
       "      <td>NaN</td>\n",
       "      <td>NaN</td>\n",
       "      <td>NaN</td>\n",
       "      <td>NaN</td>\n",
       "      <td>NaN</td>\n",
       "      <td>NaN</td>\n",
       "      <td>NaN</td>\n",
       "    </tr>\n",
       "    <tr>\n",
       "      <th>top</th>\n",
       "      <td>le-comptoir-de-la-gastronomie-paris</td>\n",
       "      <td>NaN</td>\n",
       "      <td>NaN</td>\n",
       "      <td>NaN</td>\n",
       "      <td>Paris</td>\n",
       "      <td>13</td>\n",
       "      <td>2000</td>\n",
       "      <td>AU</td>\n",
       "      <td>NaN</td>\n",
       "      <td>NaN</td>\n",
       "      <td>...</td>\n",
       "      <td>NaN</td>\n",
       "      <td>NaN</td>\n",
       "      <td>NaN</td>\n",
       "      <td>NaN</td>\n",
       "      <td>NaN</td>\n",
       "      <td>NaN</td>\n",
       "      <td>NaN</td>\n",
       "      <td>NaN</td>\n",
       "      <td>NaN</td>\n",
       "      <td>NaN</td>\n",
       "    </tr>\n",
       "    <tr>\n",
       "      <th>freq</th>\n",
       "      <td>1</td>\n",
       "      <td>NaN</td>\n",
       "      <td>NaN</td>\n",
       "      <td>NaN</td>\n",
       "      <td>200</td>\n",
       "      <td>200</td>\n",
       "      <td>139</td>\n",
       "      <td>200</td>\n",
       "      <td>NaN</td>\n",
       "      <td>NaN</td>\n",
       "      <td>...</td>\n",
       "      <td>NaN</td>\n",
       "      <td>NaN</td>\n",
       "      <td>NaN</td>\n",
       "      <td>NaN</td>\n",
       "      <td>NaN</td>\n",
       "      <td>NaN</td>\n",
       "      <td>NaN</td>\n",
       "      <td>NaN</td>\n",
       "      <td>NaN</td>\n",
       "      <td>NaN</td>\n",
       "    </tr>\n",
       "    <tr>\n",
       "      <th>mean</th>\n",
       "      <td>NaN</td>\n",
       "      <td>529.395000</td>\n",
       "      <td>4.270500</td>\n",
       "      <td>2.144000</td>\n",
       "      <td>NaN</td>\n",
       "      <td>NaN</td>\n",
       "      <td>NaN</td>\n",
       "      <td>NaN</td>\n",
       "      <td>13.688472</td>\n",
       "      <td>35.219700</td>\n",
       "      <td>...</td>\n",
       "      <td>0.001000</td>\n",
       "      <td>0.001000</td>\n",
       "      <td>0.003000</td>\n",
       "      <td>0.003000</td>\n",
       "      <td>0.004000</td>\n",
       "      <td>0.003000</td>\n",
       "      <td>0.060000</td>\n",
       "      <td>0.001000</td>\n",
       "      <td>0.87900</td>\n",
       "      <td>0.002000</td>\n",
       "    </tr>\n",
       "    <tr>\n",
       "      <th>std</th>\n",
       "      <td>NaN</td>\n",
       "      <td>1134.869631</td>\n",
       "      <td>0.353135</td>\n",
       "      <td>0.897814</td>\n",
       "      <td>NaN</td>\n",
       "      <td>NaN</td>\n",
       "      <td>NaN</td>\n",
       "      <td>NaN</td>\n",
       "      <td>34.823799</td>\n",
       "      <td>93.358452</td>\n",
       "      <td>...</td>\n",
       "      <td>0.031623</td>\n",
       "      <td>0.031623</td>\n",
       "      <td>0.054717</td>\n",
       "      <td>0.054717</td>\n",
       "      <td>0.063151</td>\n",
       "      <td>0.054717</td>\n",
       "      <td>0.237606</td>\n",
       "      <td>0.031623</td>\n",
       "      <td>0.32629</td>\n",
       "      <td>0.044699</td>\n",
       "    </tr>\n",
       "    <tr>\n",
       "      <th>min</th>\n",
       "      <td>NaN</td>\n",
       "      <td>6.000000</td>\n",
       "      <td>3.000000</td>\n",
       "      <td>0.000000</td>\n",
       "      <td>NaN</td>\n",
       "      <td>NaN</td>\n",
       "      <td>NaN</td>\n",
       "      <td>NaN</td>\n",
       "      <td>-33.897026</td>\n",
       "      <td>-74.016022</td>\n",
       "      <td>...</td>\n",
       "      <td>0.000000</td>\n",
       "      <td>0.000000</td>\n",
       "      <td>0.000000</td>\n",
       "      <td>0.000000</td>\n",
       "      <td>0.000000</td>\n",
       "      <td>0.000000</td>\n",
       "      <td>0.000000</td>\n",
       "      <td>0.000000</td>\n",
       "      <td>0.00000</td>\n",
       "      <td>0.000000</td>\n",
       "    </tr>\n",
       "    <tr>\n",
       "      <th>25%</th>\n",
       "      <td>NaN</td>\n",
       "      <td>30.000000</td>\n",
       "      <td>4.000000</td>\n",
       "      <td>2.000000</td>\n",
       "      <td>NaN</td>\n",
       "      <td>NaN</td>\n",
       "      <td>NaN</td>\n",
       "      <td>NaN</td>\n",
       "      <td>-22.983292</td>\n",
       "      <td>-43.218462</td>\n",
       "      <td>...</td>\n",
       "      <td>0.000000</td>\n",
       "      <td>0.000000</td>\n",
       "      <td>0.000000</td>\n",
       "      <td>0.000000</td>\n",
       "      <td>0.000000</td>\n",
       "      <td>0.000000</td>\n",
       "      <td>0.000000</td>\n",
       "      <td>0.000000</td>\n",
       "      <td>1.00000</td>\n",
       "      <td>0.000000</td>\n",
       "    </tr>\n",
       "    <tr>\n",
       "      <th>50%</th>\n",
       "      <td>NaN</td>\n",
       "      <td>71.000000</td>\n",
       "      <td>4.500000</td>\n",
       "      <td>2.000000</td>\n",
       "      <td>NaN</td>\n",
       "      <td>NaN</td>\n",
       "      <td>NaN</td>\n",
       "      <td>NaN</td>\n",
       "      <td>35.673141</td>\n",
       "      <td>2.340317</td>\n",
       "      <td>...</td>\n",
       "      <td>0.000000</td>\n",
       "      <td>0.000000</td>\n",
       "      <td>0.000000</td>\n",
       "      <td>0.000000</td>\n",
       "      <td>0.000000</td>\n",
       "      <td>0.000000</td>\n",
       "      <td>0.000000</td>\n",
       "      <td>0.000000</td>\n",
       "      <td>1.00000</td>\n",
       "      <td>0.000000</td>\n",
       "    </tr>\n",
       "    <tr>\n",
       "      <th>75%</th>\n",
       "      <td>NaN</td>\n",
       "      <td>265.750000</td>\n",
       "      <td>4.500000</td>\n",
       "      <td>3.000000</td>\n",
       "      <td>NaN</td>\n",
       "      <td>NaN</td>\n",
       "      <td>NaN</td>\n",
       "      <td>NaN</td>\n",
       "      <td>40.751259</td>\n",
       "      <td>139.770420</td>\n",
       "      <td>...</td>\n",
       "      <td>0.000000</td>\n",
       "      <td>0.000000</td>\n",
       "      <td>0.000000</td>\n",
       "      <td>0.000000</td>\n",
       "      <td>0.000000</td>\n",
       "      <td>0.000000</td>\n",
       "      <td>0.000000</td>\n",
       "      <td>0.000000</td>\n",
       "      <td>1.00000</td>\n",
       "      <td>0.000000</td>\n",
       "    </tr>\n",
       "    <tr>\n",
       "      <th>max</th>\n",
       "      <td>NaN</td>\n",
       "      <td>13047.000000</td>\n",
       "      <td>5.000000</td>\n",
       "      <td>4.000000</td>\n",
       "      <td>NaN</td>\n",
       "      <td>NaN</td>\n",
       "      <td>NaN</td>\n",
       "      <td>NaN</td>\n",
       "      <td>48.890209</td>\n",
       "      <td>151.298248</td>\n",
       "      <td>...</td>\n",
       "      <td>1.000000</td>\n",
       "      <td>1.000000</td>\n",
       "      <td>1.000000</td>\n",
       "      <td>1.000000</td>\n",
       "      <td>1.000000</td>\n",
       "      <td>1.000000</td>\n",
       "      <td>1.000000</td>\n",
       "      <td>1.000000</td>\n",
       "      <td>1.00000</td>\n",
       "      <td>1.000000</td>\n",
       "    </tr>\n",
       "  </tbody>\n",
       "</table>\n",
       "<p>11 rows × 213 columns</p>\n",
       "</div>"
      ],
      "text/plain": [
       "                             business_alias  business_review_count  \\\n",
       "count                                  1000            1000.000000   \n",
       "unique                                 1000                    NaN   \n",
       "top     le-comptoir-de-la-gastronomie-paris                    NaN   \n",
       "freq                                      1                    NaN   \n",
       "mean                                    NaN             529.395000   \n",
       "std                                     NaN            1134.869631   \n",
       "min                                     NaN               6.000000   \n",
       "25%                                     NaN              30.000000   \n",
       "50%                                     NaN              71.000000   \n",
       "75%                                     NaN             265.750000   \n",
       "max                                     NaN           13047.000000   \n",
       "\n",
       "        business_rating  business_price business_city business_state  \\\n",
       "count       1000.000000     1000.000000          1000           1000   \n",
       "unique              NaN             NaN            40              6   \n",
       "top                 NaN             NaN         Paris             13   \n",
       "freq                NaN             NaN           200            200   \n",
       "mean           4.270500        2.144000           NaN            NaN   \n",
       "std            0.353135        0.897814           NaN            NaN   \n",
       "min            3.000000        0.000000           NaN            NaN   \n",
       "25%            4.000000        2.000000           NaN            NaN   \n",
       "50%            4.500000        2.000000           NaN            NaN   \n",
       "75%            4.500000        3.000000           NaN            NaN   \n",
       "max            5.000000        4.000000           NaN            NaN   \n",
       "\n",
       "       business_postal_code business_country  business_latitude  \\\n",
       "count                  1000             1000        1000.000000   \n",
       "unique                  301                5                NaN   \n",
       "top                    2000               AU                NaN   \n",
       "freq                    139              200                NaN   \n",
       "mean                    NaN              NaN          13.688472   \n",
       "std                     NaN              NaN          34.823799   \n",
       "min                     NaN              NaN         -33.897026   \n",
       "25%                     NaN              NaN         -22.983292   \n",
       "50%                     NaN              NaN          35.673141   \n",
       "75%                     NaN              NaN          40.751259   \n",
       "max                     NaN              NaN          48.890209   \n",
       "\n",
       "        business_longitude  ...     jpsweets        latin        media  \\\n",
       "count          1000.000000  ...  1000.000000  1000.000000  1000.000000   \n",
       "unique                 NaN  ...          NaN          NaN          NaN   \n",
       "top                    NaN  ...          NaN          NaN          NaN   \n",
       "freq                   NaN  ...          NaN          NaN          NaN   \n",
       "mean             35.219700  ...     0.001000     0.001000     0.003000   \n",
       "std              93.358452  ...     0.031623     0.031623     0.054717   \n",
       "min             -74.016022  ...     0.000000     0.000000     0.000000   \n",
       "25%             -43.218462  ...     0.000000     0.000000     0.000000   \n",
       "50%               2.340317  ...     0.000000     0.000000     0.000000   \n",
       "75%             139.770420  ...     0.000000     0.000000     0.000000   \n",
       "max             151.298248  ...     1.000000     1.000000     1.000000   \n",
       "\n",
       "        mediterranean      mexican   mideastern    nightlife  \\\n",
       "count     1000.000000  1000.000000  1000.000000  1000.000000   \n",
       "unique            NaN          NaN          NaN          NaN   \n",
       "top               NaN          NaN          NaN          NaN   \n",
       "freq              NaN          NaN          NaN          NaN   \n",
       "mean         0.003000     0.004000     0.003000     0.060000   \n",
       "std          0.054717     0.063151     0.054717     0.237606   \n",
       "min          0.000000     0.000000     0.000000     0.000000   \n",
       "25%          0.000000     0.000000     0.000000     0.000000   \n",
       "50%          0.000000     0.000000     0.000000     0.000000   \n",
       "75%          0.000000     0.000000     0.000000     0.000000   \n",
       "max          1.000000     1.000000     1.000000     1.000000   \n",
       "\n",
       "        publicservicesgovt  restaurants     shopping  \n",
       "count          1000.000000   1000.00000  1000.000000  \n",
       "unique                 NaN          NaN          NaN  \n",
       "top                    NaN          NaN          NaN  \n",
       "freq                   NaN          NaN          NaN  \n",
       "mean              0.001000      0.87900     0.002000  \n",
       "std               0.031623      0.32629     0.044699  \n",
       "min               0.000000      0.00000     0.000000  \n",
       "25%               0.000000      1.00000     0.000000  \n",
       "50%               0.000000      1.00000     0.000000  \n",
       "75%               0.000000      1.00000     0.000000  \n",
       "max               1.000000      1.00000     1.000000  \n",
       "\n",
       "[11 rows x 213 columns]"
      ]
     },
     "execution_count": 13,
     "metadata": {},
     "output_type": "execute_result"
    }
   ],
   "source": [
    "df.describe(include=\"all\")\n"
   ]
  },
  {
   "cell_type": "markdown",
   "metadata": {},
   "source": [
    "## Commentaires clients\n"
   ]
  },
  {
   "cell_type": "code",
   "execution_count": 14,
   "metadata": {},
   "outputs": [
    {
     "data": {
      "application/vnd.plotly.v1+json": {
       "config": {
        "plotlyServerURL": "https://plot.ly"
       },
       "data": [
        {
         "alignmentgroup": "True",
         "bingroup": "x",
         "hovertemplate": "review_rating=%{x}<br>count=%{y}<extra></extra>",
         "legendgroup": "",
         "marker": {
          "color": "#636efa",
          "pattern": {
           "shape": ""
          }
         },
         "name": "",
         "offsetgroup": "",
         "orientation": "v",
         "showlegend": false,
         "type": "histogram",
         "x": [
          5,
          5,
          5,
          5,
          5,
          5,
          5,
          3,
          3,
          5,
          5,
          5,
          5,
          5,
          1,
          5,
          4,
          4,
          5,
          3,
          5,
          5,
          2,
          3,
          5,
          5,
          5,
          5,
          4,
          5,
          5,
          5,
          4,
          5,
          5,
          3,
          5,
          4,
          5,
          5,
          5,
          1,
          5,
          4,
          5,
          5,
          5,
          4,
          5,
          2,
          5,
          5,
          5,
          5,
          5,
          1,
          5,
          5,
          4,
          5,
          5,
          4,
          3,
          5,
          4,
          5,
          5,
          5,
          5,
          5,
          4,
          4,
          5,
          5,
          5,
          5,
          4,
          4,
          5,
          5,
          4,
          5,
          5,
          5,
          5,
          5,
          5,
          5,
          4,
          5,
          5,
          5,
          5,
          5,
          5,
          5,
          5,
          4,
          3,
          5,
          5,
          5,
          5,
          5,
          5,
          5,
          5,
          5,
          5,
          1,
          5,
          5,
          5,
          4,
          5,
          2,
          4,
          5,
          5,
          5,
          5,
          5,
          5,
          5,
          5,
          5,
          5,
          5,
          5,
          5,
          5,
          5,
          5,
          4,
          5,
          5,
          5,
          5,
          4,
          3,
          5,
          5,
          3,
          4,
          5,
          5,
          4,
          5,
          4,
          5,
          5,
          5,
          5,
          4,
          2,
          5,
          5,
          4,
          4,
          5,
          5,
          5,
          5,
          4,
          2,
          5,
          5,
          5,
          5,
          5,
          5,
          5,
          4,
          4,
          5,
          5,
          5,
          5,
          4,
          3,
          5,
          3,
          4,
          5,
          4,
          5,
          5,
          5,
          5,
          5,
          4,
          5,
          5,
          5,
          5,
          5,
          5,
          3,
          5,
          4,
          1,
          5,
          5,
          4,
          5,
          4,
          3,
          5,
          4,
          5,
          5,
          1,
          3,
          5,
          4,
          5,
          5,
          4,
          5,
          5,
          4,
          5,
          5,
          5,
          4,
          5,
          3,
          5,
          4,
          5,
          3,
          5,
          5,
          5,
          5,
          5,
          3,
          5,
          2,
          2,
          5,
          4,
          4,
          5,
          4,
          5,
          5,
          4,
          4,
          5,
          4,
          5,
          5,
          5,
          5,
          5,
          5,
          5,
          5,
          5,
          5,
          5,
          4,
          4,
          5,
          5,
          4,
          5,
          5,
          5,
          5,
          5,
          3,
          4,
          5,
          5,
          5,
          5,
          3,
          5,
          4,
          4,
          5,
          5,
          3,
          5,
          5,
          5,
          5,
          4,
          5,
          5,
          5,
          4,
          5,
          5,
          5,
          5,
          5,
          4,
          5,
          4,
          5,
          5,
          3,
          5,
          5,
          5,
          5,
          5,
          4,
          5,
          5,
          5,
          4,
          4,
          3,
          4,
          4,
          4,
          4,
          5,
          5,
          4,
          5,
          5,
          4,
          5,
          4,
          4,
          4,
          4,
          5,
          5,
          2,
          3,
          5,
          4,
          2,
          5,
          4,
          5,
          5,
          5,
          1,
          5,
          3,
          4,
          5,
          2,
          4,
          5,
          4,
          5,
          5,
          3,
          5,
          5,
          4,
          3,
          5,
          5,
          5,
          4,
          2,
          5,
          5,
          5,
          5,
          5,
          5,
          5,
          4,
          5,
          4,
          5,
          5,
          5,
          5,
          2,
          1,
          5,
          4,
          5,
          5,
          5,
          5,
          4,
          5,
          5,
          5,
          5,
          4,
          5,
          4,
          4,
          5,
          1,
          5,
          5,
          4,
          5,
          5,
          5,
          5,
          5,
          3,
          4,
          5,
          5,
          5,
          5,
          5,
          5,
          5,
          3,
          4,
          5,
          4,
          4,
          5,
          5,
          5,
          5,
          4,
          5,
          5,
          5,
          4,
          4,
          5,
          5,
          5,
          5,
          4,
          5,
          5,
          5,
          5,
          2,
          5,
          5,
          3,
          5,
          5,
          5,
          5,
          5,
          5,
          5,
          5,
          4,
          5,
          5,
          3,
          5,
          1,
          5,
          3,
          5,
          5,
          5,
          5,
          4,
          5,
          4,
          5,
          3,
          5,
          2,
          5,
          5,
          5,
          5,
          5,
          4,
          4,
          5,
          3,
          5,
          5,
          2,
          3,
          5,
          5,
          5,
          5,
          5,
          4,
          5,
          5,
          5,
          5,
          2,
          4,
          5,
          4,
          4,
          5,
          4,
          5,
          5,
          5,
          5,
          5,
          4,
          5,
          5,
          4,
          5,
          5,
          5,
          4,
          4,
          1,
          5,
          5,
          5,
          5,
          5,
          5,
          5,
          4,
          5,
          5,
          2,
          5,
          5,
          4,
          1,
          2,
          5,
          3,
          3,
          5,
          5,
          5,
          5,
          5,
          5,
          5,
          5,
          5,
          4,
          4,
          3,
          5,
          4,
          5,
          5,
          3,
          5,
          5,
          4,
          4,
          5,
          5,
          2,
          5,
          4,
          1,
          5,
          4,
          4,
          5,
          5,
          5,
          5,
          5,
          5,
          5,
          5,
          5,
          5,
          2,
          4,
          4,
          4,
          3,
          5,
          5,
          4,
          5,
          2,
          1,
          5,
          5,
          4,
          5,
          3,
          4,
          5,
          4,
          5,
          5,
          5,
          5,
          5,
          5,
          4,
          5,
          5,
          5,
          5,
          5,
          4,
          5,
          4,
          2,
          5,
          3,
          5,
          5,
          5,
          5,
          5,
          5,
          3,
          5,
          5,
          5,
          5,
          2,
          4,
          5,
          4,
          4,
          5,
          3,
          5,
          3,
          5,
          5,
          5,
          5,
          4,
          5,
          5,
          4,
          5,
          5,
          5,
          5,
          1,
          4,
          5,
          3,
          3,
          3,
          5,
          5,
          5,
          5,
          5,
          5,
          5,
          5,
          4,
          5,
          4,
          5,
          4,
          4,
          5,
          4,
          5,
          5,
          5,
          5,
          4,
          2,
          4,
          5,
          1,
          4,
          5,
          2,
          4,
          4,
          1,
          4,
          5,
          5,
          5,
          5,
          3,
          5,
          5,
          5,
          2,
          3,
          5,
          5,
          5,
          5,
          5,
          5,
          4,
          5,
          5,
          4,
          5,
          5,
          5,
          5,
          5,
          5,
          5,
          5,
          3,
          4,
          5,
          4,
          5,
          5,
          4,
          5,
          5,
          5,
          5,
          4,
          5,
          4,
          4,
          5,
          5,
          5,
          2,
          4,
          5,
          4,
          2,
          5,
          4,
          5,
          5,
          1,
          5,
          5,
          5,
          5,
          5,
          5,
          5,
          5,
          5,
          1,
          4,
          4,
          5,
          5,
          5,
          5,
          5,
          3,
          5,
          5,
          5,
          4,
          5,
          4,
          4,
          5,
          4,
          4,
          5,
          5,
          3,
          5,
          4,
          3,
          5,
          5,
          5,
          5,
          4,
          5,
          5,
          5,
          2,
          5,
          5,
          4,
          5,
          1,
          3,
          5,
          3,
          5,
          5,
          5,
          5,
          5,
          5,
          5,
          5,
          4,
          5,
          4,
          3,
          4,
          5,
          3,
          4,
          5,
          3,
          4,
          5,
          5,
          5,
          5,
          5,
          4,
          5,
          5,
          4,
          5,
          5,
          5,
          5,
          5,
          4,
          5,
          3,
          4,
          5,
          5,
          5,
          5,
          4,
          5,
          5,
          4,
          3,
          4,
          4,
          3,
          5,
          4,
          5,
          5,
          5,
          5,
          5,
          5,
          5,
          5,
          4,
          4,
          5,
          5,
          5,
          5,
          4,
          2,
          5,
          4,
          3,
          5,
          5,
          3,
          5,
          2,
          2,
          5,
          5,
          5,
          5,
          3,
          2,
          5,
          4,
          4,
          5,
          5,
          4,
          5,
          5,
          4,
          5,
          4,
          4,
          5,
          4,
          1,
          5,
          4,
          4,
          5,
          2,
          4,
          5,
          4,
          4,
          4,
          5,
          5,
          5,
          5,
          5,
          5,
          2,
          3,
          5,
          4,
          4,
          5,
          3,
          4,
          5,
          5,
          5,
          5,
          4,
          4,
          5,
          3,
          5,
          5,
          4,
          1,
          5,
          4,
          3,
          5,
          4,
          5,
          5,
          5,
          1,
          5,
          4,
          1,
          5,
          4,
          2,
          4,
          3,
          5,
          5,
          1,
          5,
          4,
          5,
          4,
          5,
          5,
          4,
          5,
          3,
          5,
          5,
          5,
          4,
          5,
          4,
          3,
          5,
          5,
          5,
          5,
          4,
          3,
          5,
          5,
          2,
          5,
          5,
          5,
          5,
          4,
          3,
          5,
          4,
          5,
          5,
          4,
          3,
          5,
          5,
          5,
          5,
          5,
          5,
          4,
          1,
          5,
          5,
          4,
          3,
          5,
          3,
          5,
          5,
          5,
          4,
          5,
          5,
          4,
          5,
          5,
          5,
          5,
          4,
          5,
          5,
          4,
          4,
          5,
          5,
          4,
          5,
          3,
          5,
          5,
          5,
          4,
          5,
          5,
          4,
          5,
          5,
          1,
          4,
          1,
          2,
          5,
          4,
          5,
          5,
          5,
          4,
          5,
          4,
          4,
          5,
          3,
          3,
          5,
          3,
          4,
          5,
          5,
          1,
          5,
          3,
          3,
          5,
          4,
          4,
          5,
          5,
          3,
          5,
          4,
          4,
          5,
          5,
          2,
          5,
          5,
          5,
          5,
          5,
          5,
          5,
          5,
          5,
          5,
          5,
          5,
          5,
          4,
          3,
          5,
          4,
          3,
          5,
          5,
          4,
          4,
          5,
          4,
          5,
          5,
          4,
          3,
          4,
          5,
          4,
          5,
          4,
          5,
          5,
          4,
          5,
          3,
          2,
          5,
          5,
          3,
          5,
          5,
          3,
          5,
          2,
          3,
          5,
          4,
          4,
          5,
          4,
          5,
          4,
          5,
          5,
          5,
          5,
          5,
          4,
          4,
          3,
          5,
          3,
          4,
          5,
          3,
          3,
          4,
          5,
          5,
          5,
          4,
          5,
          5,
          5,
          4,
          5,
          3,
          4,
          5,
          3,
          5,
          5,
          5,
          3,
          5,
          4,
          5,
          4,
          4,
          4,
          4,
          5,
          3,
          4,
          3,
          4,
          5,
          4,
          5,
          5,
          3,
          5,
          5,
          3,
          5,
          5,
          5,
          4,
          5,
          5,
          5,
          5,
          5,
          4,
          5,
          2,
          2,
          5,
          5,
          4,
          5,
          5,
          5,
          5,
          5,
          5,
          5,
          4,
          4,
          4,
          5,
          1,
          5,
          4,
          5,
          4,
          3,
          4,
          5,
          3,
          5,
          5,
          5,
          5,
          5,
          5,
          5,
          5,
          5,
          5,
          5,
          4,
          5,
          5,
          5,
          5,
          5,
          5,
          5,
          5,
          5,
          4,
          5,
          5,
          5,
          5,
          5,
          5,
          5,
          4,
          4,
          5,
          5,
          5,
          5,
          4,
          4,
          5,
          5,
          5,
          5,
          4,
          3,
          5,
          5,
          5,
          5,
          5,
          5,
          5,
          5,
          4,
          5,
          5,
          5,
          5,
          5,
          4,
          5,
          5,
          5,
          5,
          5,
          5,
          5,
          5,
          5,
          5,
          3,
          5,
          5,
          5,
          5,
          5,
          5,
          5,
          5,
          5,
          5,
          5,
          4,
          5,
          5,
          5,
          5,
          5,
          5,
          5,
          5,
          5,
          5,
          5,
          5,
          5,
          5,
          5,
          4,
          5,
          5,
          5,
          5,
          5,
          5,
          5,
          5,
          5,
          5,
          4,
          4,
          5,
          4,
          5,
          5,
          4,
          4,
          5,
          5,
          5,
          5,
          3,
          4,
          5,
          5,
          5,
          5,
          5,
          5,
          5,
          4,
          5,
          5,
          4,
          5,
          5,
          4,
          5,
          5,
          5,
          5,
          5,
          5,
          5,
          5,
          5,
          4,
          5,
          5,
          5,
          5,
          4,
          4,
          5,
          4,
          4,
          5,
          5,
          5,
          5,
          4,
          5,
          5,
          3,
          5,
          5,
          5,
          5,
          4,
          5,
          4,
          5,
          4,
          5,
          5,
          5,
          5,
          5,
          5,
          5,
          5,
          5,
          4,
          5,
          3,
          5,
          5,
          4,
          5,
          5,
          5,
          5,
          5,
          5,
          5,
          5,
          5,
          4,
          5,
          5,
          5,
          5,
          4,
          5,
          5,
          4,
          5,
          5,
          5,
          5,
          5,
          4,
          4,
          5,
          3,
          5,
          5,
          4,
          5,
          5,
          5,
          5,
          5,
          4,
          4,
          5,
          3,
          3,
          5,
          4,
          4,
          5,
          5,
          5,
          5,
          5,
          4,
          5,
          4,
          5,
          3,
          5,
          5,
          5,
          5,
          5,
          4,
          5,
          5,
          5,
          4,
          4,
          5,
          5,
          5,
          5,
          5,
          5,
          5,
          5,
          4,
          5,
          5,
          5,
          5,
          4,
          4,
          5,
          3,
          5,
          5,
          5,
          3,
          5,
          5,
          5,
          5,
          4,
          4,
          5,
          4,
          5,
          5,
          5,
          5,
          5,
          4,
          5,
          5,
          5,
          5,
          5,
          5,
          3,
          5,
          5,
          4,
          5,
          4,
          5,
          5,
          5,
          5,
          2,
          4,
          5,
          5,
          4,
          5,
          5,
          4,
          4,
          5,
          4,
          4,
          5,
          4,
          4,
          5,
          4,
          5,
          5,
          5,
          5,
          5,
          5,
          5,
          5,
          2,
          4,
          5,
          5,
          4,
          5,
          5,
          4,
          5,
          5,
          5,
          5,
          4,
          4,
          5,
          4,
          4,
          5,
          5,
          4,
          5,
          3,
          5,
          5,
          4,
          3,
          5,
          5,
          3,
          5,
          4,
          5,
          5,
          5,
          4,
          5,
          5,
          4,
          5,
          5,
          3,
          4,
          5,
          5,
          5,
          5,
          5,
          5,
          5,
          5,
          5,
          5,
          5,
          5,
          4,
          3,
          5,
          3,
          4,
          5,
          5,
          4,
          3,
          4,
          5,
          5,
          2,
          3,
          5,
          4,
          5,
          5,
          5,
          5,
          5,
          4,
          5,
          5,
          5,
          4,
          5,
          5,
          4,
          5,
          5,
          5,
          5,
          5,
          5,
          5,
          5,
          5,
          5,
          4,
          5,
          5,
          5,
          5,
          5,
          5,
          5,
          5,
          4,
          5,
          5,
          5,
          5,
          5,
          4,
          4,
          4,
          5,
          4,
          5,
          5,
          5,
          5,
          3,
          5,
          5,
          5,
          5,
          5,
          5,
          5,
          5,
          4,
          4,
          5,
          3,
          4,
          5,
          5,
          5,
          5,
          4,
          5,
          5,
          5,
          5,
          5,
          4,
          5,
          5,
          5,
          5,
          5,
          5,
          5,
          5,
          4,
          3,
          5,
          5,
          5,
          5,
          4,
          5,
          5,
          4,
          4,
          5,
          5,
          3,
          5,
          5,
          5,
          5,
          4,
          4,
          5,
          5,
          5,
          5,
          1,
          4,
          5,
          5,
          5,
          5,
          4,
          4,
          5,
          4,
          5,
          5,
          5,
          4,
          5,
          5,
          4,
          5,
          5,
          5,
          5,
          5,
          5,
          5,
          4,
          5,
          4,
          4,
          5,
          5,
          4,
          4,
          5,
          4,
          5,
          5,
          4,
          5,
          5,
          5,
          5,
          5,
          5,
          5,
          5,
          5,
          5,
          5,
          4,
          4,
          5,
          3,
          3,
          5,
          4,
          5,
          5,
          4,
          5,
          5,
          5,
          3,
          5,
          3,
          5,
          5,
          4,
          5,
          5,
          5,
          5,
          5,
          5,
          5,
          3,
          5,
          5,
          4,
          4,
          5,
          5,
          4,
          4,
          5,
          4,
          3,
          5,
          5,
          5,
          5,
          5,
          5,
          4,
          3,
          3,
          5,
          4,
          5,
          5,
          5,
          5,
          5,
          4,
          4,
          5,
          5,
          4,
          5,
          5,
          5,
          4,
          4,
          2,
          5,
          2,
          4,
          5,
          4,
          4,
          5,
          4,
          4,
          5,
          5,
          5,
          4,
          4,
          5,
          5,
          3,
          5,
          5,
          5,
          5,
          5,
          3,
          5,
          5,
          2,
          4,
          5,
          4,
          5,
          5,
          4,
          5,
          5,
          5,
          5,
          5,
          4,
          4,
          5,
          3,
          4,
          5,
          5,
          5,
          5,
          2,
          3,
          5,
          5,
          5,
          5,
          2,
          4,
          5,
          5,
          5,
          5,
          5,
          5,
          5,
          4,
          3,
          5,
          5,
          4,
          5,
          2,
          2,
          5,
          5,
          5,
          5,
          5,
          5,
          2,
          4,
          5,
          5,
          4,
          5,
          5,
          5,
          5,
          5,
          4,
          5,
          5,
          4,
          4,
          5,
          4,
          4,
          4,
          3,
          1,
          4,
          4,
          5,
          5,
          5,
          5,
          5,
          4,
          4,
          5,
          4,
          5,
          5,
          3,
          2,
          5,
          4,
          4,
          5,
          5,
          5,
          5,
          5,
          4,
          4,
          2,
          5,
          5,
          5,
          5,
          5,
          5,
          5,
          4,
          5,
          5,
          2,
          3,
          4,
          5,
          5,
          4,
          5,
          5,
          4,
          4,
          4,
          5,
          5,
          4,
          5,
          4,
          5,
          5,
          5,
          4,
          3,
          5,
          5,
          4,
          4,
          4,
          4,
          4,
          5,
          4,
          4,
          5,
          5,
          5,
          5,
          4,
          5,
          4,
          5,
          5,
          4,
          4,
          5,
          3,
          3,
          4,
          5,
          4,
          5,
          5,
          5,
          4,
          3,
          4,
          5,
          5,
          5,
          5,
          4,
          5,
          4,
          2,
          3,
          4,
          5,
          4,
          5,
          5,
          5,
          4,
          2,
          3,
          5,
          5,
          4,
          5,
          5,
          5,
          5,
          5,
          4,
          5,
          5,
          5,
          5,
          2,
          5,
          5,
          4,
          5,
          5,
          5,
          3,
          4,
          4,
          5,
          5,
          5,
          5,
          5,
          4,
          5,
          2,
          4,
          5,
          4,
          5,
          5,
          4,
          5,
          5,
          5,
          5,
          4,
          1,
          5,
          4,
          5,
          3,
          5,
          1,
          5,
          5,
          4,
          5,
          4,
          4,
          4,
          3,
          5,
          5,
          5,
          5,
          4,
          4,
          5,
          5,
          5,
          1,
          4,
          5,
          4,
          5,
          4,
          5,
          5,
          3,
          5,
          5,
          3,
          5,
          5,
          2,
          5,
          3,
          4,
          4,
          4,
          4,
          4,
          3,
          5,
          4,
          5,
          4,
          5,
          5,
          5,
          5,
          5,
          4,
          4,
          5,
          3,
          5,
          1,
          5,
          5,
          3,
          3,
          5,
          4,
          5,
          4,
          3,
          3,
          3,
          5,
          3,
          5,
          5,
          5,
          5,
          3,
          5,
          5,
          5,
          2,
          5,
          3,
          5,
          5,
          5,
          5,
          4,
          5,
          4,
          4,
          4,
          5,
          5,
          4,
          5,
          5,
          3,
          5,
          5,
          5,
          4,
          4,
          4,
          5,
          1,
          5,
          4,
          5,
          5,
          4,
          5,
          5,
          5,
          3,
          5,
          4,
          4,
          4,
          4,
          4,
          5,
          4,
          3,
          2,
          3,
          5,
          5,
          2,
          2,
          4,
          5,
          5,
          5,
          5,
          5,
          2,
          4,
          4,
          4,
          5,
          3,
          5,
          1,
          5,
          5,
          5,
          4,
          4,
          5,
          5,
          4,
          4,
          1,
          4,
          4,
          3,
          5,
          4,
          5,
          4,
          5,
          4,
          4,
          5,
          5,
          5,
          4,
          5,
          5,
          3,
          4,
          4,
          5,
          4,
          5,
          3,
          5,
          5,
          4,
          4,
          4,
          3,
          5,
          4,
          5,
          4,
          4,
          3,
          2,
          4,
          4,
          4,
          3,
          4,
          4,
          5,
          5,
          5,
          5,
          5,
          2,
          5,
          5,
          5,
          3,
          4,
          5,
          5,
          4,
          4,
          5,
          5,
          5,
          4,
          3,
          4,
          4,
          4,
          2,
          2,
          4,
          5,
          4,
          5,
          4,
          5,
          5,
          2,
          5,
          4,
          5,
          4,
          2,
          5,
          4,
          4,
          5,
          5,
          4,
          2,
          4,
          5,
          3,
          3,
          5,
          1,
          5,
          5,
          4,
          2,
          4,
          4,
          5,
          3,
          4,
          4,
          5,
          5,
          5,
          5,
          4,
          5,
          5,
          5,
          4,
          5,
          5,
          4,
          5,
          5,
          5,
          5,
          5,
          4,
          1,
          5,
          4,
          4,
          5,
          4,
          3,
          5,
          5,
          5,
          5,
          5,
          4,
          5,
          3,
          4,
          5,
          5,
          5,
          5,
          5,
          5,
          5,
          5,
          5,
          5,
          5,
          5,
          4,
          3,
          4,
          5,
          1,
          4,
          5,
          4,
          5,
          5,
          4,
          5,
          5,
          4,
          5,
          5,
          4,
          4,
          5,
          3,
          3,
          4,
          4,
          4,
          5,
          5,
          3,
          5,
          4,
          4,
          5,
          3,
          4,
          5,
          4,
          4,
          5,
          4,
          4,
          5,
          4,
          4,
          4,
          3,
          3,
          5,
          4,
          2,
          4,
          2,
          5,
          5,
          1,
          5,
          5,
          4,
          3,
          5,
          5,
          4,
          4,
          4,
          4,
          5,
          4,
          4,
          5,
          5,
          4,
          5,
          4,
          4,
          5,
          4,
          4,
          4,
          2,
          5,
          5,
          3,
          4,
          5,
          4,
          5,
          5,
          5,
          5,
          5,
          5,
          3,
          5,
          4,
          4,
          5,
          4,
          4,
          4,
          4,
          4,
          5,
          4,
          5,
          5,
          5,
          4,
          5,
          4,
          5,
          5,
          4,
          4,
          5,
          4,
          5,
          5,
          4,
          3,
          5,
          4,
          2,
          5,
          1,
          5,
          5,
          3,
          4,
          5,
          4,
          4,
          5,
          3,
          5,
          5,
          3,
          4,
          5,
          5,
          4,
          5,
          4,
          3,
          5,
          5,
          3,
          5,
          4,
          4,
          5,
          5,
          3,
          5,
          4,
          4,
          5,
          5,
          4,
          5,
          5,
          4,
          5,
          5,
          5,
          4,
          5,
          2,
          4,
          2,
          2,
          5,
          3,
          5,
          5,
          4,
          5,
          4,
          4,
          5,
          5,
          5,
          3,
          5,
          5,
          5,
          5,
          5,
          4,
          5,
          5,
          4,
          5,
          5,
          4,
          5,
          4,
          4,
          4,
          2,
          3,
          4,
          3,
          1,
          5,
          5,
          5,
          5,
          4,
          4,
          4,
          1,
          4,
          5,
          5,
          3,
          5,
          5,
          5,
          5,
          5,
          3,
          4,
          4,
          5,
          5,
          4,
          5,
          5,
          5,
          4,
          5,
          3,
          4,
          5,
          2,
          5,
          5,
          5,
          5,
          4,
          2,
          5,
          5,
          4,
          3,
          5,
          5,
          3,
          5,
          4,
          5,
          5,
          5,
          5,
          5,
          4,
          3,
          5,
          4,
          4,
          5,
          4,
          5,
          5,
          4,
          1,
          4,
          3,
          3,
          5,
          4,
          5,
          5,
          3,
          4,
          5,
          4,
          5,
          5,
          5,
          4,
          4,
          2,
          5,
          3,
          5,
          4,
          5,
          4,
          5,
          5,
          5,
          5,
          4,
          5,
          5,
          5,
          4,
          3,
          5,
          5,
          5,
          5,
          4,
          4,
          5,
          5,
          5,
          5,
          5,
          3,
          4,
          1,
          2,
          5,
          4,
          5,
          4,
          5,
          4,
          5,
          4,
          5,
          5,
          4,
          2,
          4,
          3,
          3,
          3,
          2,
          5,
          5,
          1,
          4,
          5,
          3,
          5,
          5,
          4,
          4,
          5,
          4,
          4,
          2,
          5,
          5,
          5,
          4,
          3,
          5,
          5,
          5,
          5,
          2,
          4,
          5,
          4,
          4,
          5,
          3,
          4,
          5,
          5,
          2,
          5,
          2,
          4,
          4,
          5,
          5,
          5,
          5,
          4,
          5,
          4,
          5,
          4,
          3,
          5,
          5,
          5,
          5,
          5,
          5,
          4,
          5,
          4,
          5,
          4,
          2,
          3,
          5,
          4,
          4,
          5,
          5,
          4,
          5,
          5,
          5,
          5,
          3,
          4,
          5,
          5,
          5,
          4,
          4,
          4,
          4,
          4,
          3,
          5,
          4,
          5,
          5,
          4,
          4,
          5,
          3,
          3,
          4,
          5,
          1,
          4,
          5,
          3,
          4,
          4,
          5,
          5,
          5,
          5,
          5,
          5,
          4,
          5,
          3,
          4,
          4,
          5,
          4,
          5,
          4,
          4,
          5,
          4,
          5,
          4,
          4,
          4,
          4,
          5,
          5,
          5,
          4,
          5,
          5,
          5,
          3,
          4,
          3,
          3,
          5,
          4,
          4,
          5,
          4,
          5,
          4,
          4,
          4,
          5,
          5,
          5,
          5,
          2,
          4,
          5,
          4,
          4,
          4,
          3,
          1,
          5,
          5,
          5,
          5,
          4,
          2,
          4,
          2,
          4,
          5,
          5,
          4,
          5,
          5,
          4,
          5,
          4,
          5,
          4,
          3,
          4,
          4,
          3,
          4,
          5,
          4,
          4,
          5,
          3,
          4,
          5,
          4,
          5,
          5,
          4,
          4,
          4,
          2,
          4,
          4,
          5,
          5,
          4,
          3,
          3,
          5,
          2,
          4,
          5,
          5,
          5,
          4,
          4,
          4,
          5,
          4,
          3,
          5,
          3,
          4,
          4,
          4,
          5,
          5,
          4,
          4,
          5,
          5,
          4,
          5,
          4,
          5,
          4,
          5,
          2,
          5,
          3,
          5
         ],
         "xaxis": "x",
         "yaxis": "y"
        },
        {
         "alignmentgroup": "True",
         "hovertemplate": "review_rating=%{x}<extra></extra>",
         "legendgroup": "",
         "marker": {
          "color": "#636efa"
         },
         "name": "",
         "notched": true,
         "offsetgroup": "",
         "showlegend": false,
         "type": "box",
         "x": [
          5,
          5,
          5,
          5,
          5,
          5,
          5,
          3,
          3,
          5,
          5,
          5,
          5,
          5,
          1,
          5,
          4,
          4,
          5,
          3,
          5,
          5,
          2,
          3,
          5,
          5,
          5,
          5,
          4,
          5,
          5,
          5,
          4,
          5,
          5,
          3,
          5,
          4,
          5,
          5,
          5,
          1,
          5,
          4,
          5,
          5,
          5,
          4,
          5,
          2,
          5,
          5,
          5,
          5,
          5,
          1,
          5,
          5,
          4,
          5,
          5,
          4,
          3,
          5,
          4,
          5,
          5,
          5,
          5,
          5,
          4,
          4,
          5,
          5,
          5,
          5,
          4,
          4,
          5,
          5,
          4,
          5,
          5,
          5,
          5,
          5,
          5,
          5,
          4,
          5,
          5,
          5,
          5,
          5,
          5,
          5,
          5,
          4,
          3,
          5,
          5,
          5,
          5,
          5,
          5,
          5,
          5,
          5,
          5,
          1,
          5,
          5,
          5,
          4,
          5,
          2,
          4,
          5,
          5,
          5,
          5,
          5,
          5,
          5,
          5,
          5,
          5,
          5,
          5,
          5,
          5,
          5,
          5,
          4,
          5,
          5,
          5,
          5,
          4,
          3,
          5,
          5,
          3,
          4,
          5,
          5,
          4,
          5,
          4,
          5,
          5,
          5,
          5,
          4,
          2,
          5,
          5,
          4,
          4,
          5,
          5,
          5,
          5,
          4,
          2,
          5,
          5,
          5,
          5,
          5,
          5,
          5,
          4,
          4,
          5,
          5,
          5,
          5,
          4,
          3,
          5,
          3,
          4,
          5,
          4,
          5,
          5,
          5,
          5,
          5,
          4,
          5,
          5,
          5,
          5,
          5,
          5,
          3,
          5,
          4,
          1,
          5,
          5,
          4,
          5,
          4,
          3,
          5,
          4,
          5,
          5,
          1,
          3,
          5,
          4,
          5,
          5,
          4,
          5,
          5,
          4,
          5,
          5,
          5,
          4,
          5,
          3,
          5,
          4,
          5,
          3,
          5,
          5,
          5,
          5,
          5,
          3,
          5,
          2,
          2,
          5,
          4,
          4,
          5,
          4,
          5,
          5,
          4,
          4,
          5,
          4,
          5,
          5,
          5,
          5,
          5,
          5,
          5,
          5,
          5,
          5,
          5,
          4,
          4,
          5,
          5,
          4,
          5,
          5,
          5,
          5,
          5,
          3,
          4,
          5,
          5,
          5,
          5,
          3,
          5,
          4,
          4,
          5,
          5,
          3,
          5,
          5,
          5,
          5,
          4,
          5,
          5,
          5,
          4,
          5,
          5,
          5,
          5,
          5,
          4,
          5,
          4,
          5,
          5,
          3,
          5,
          5,
          5,
          5,
          5,
          4,
          5,
          5,
          5,
          4,
          4,
          3,
          4,
          4,
          4,
          4,
          5,
          5,
          4,
          5,
          5,
          4,
          5,
          4,
          4,
          4,
          4,
          5,
          5,
          2,
          3,
          5,
          4,
          2,
          5,
          4,
          5,
          5,
          5,
          1,
          5,
          3,
          4,
          5,
          2,
          4,
          5,
          4,
          5,
          5,
          3,
          5,
          5,
          4,
          3,
          5,
          5,
          5,
          4,
          2,
          5,
          5,
          5,
          5,
          5,
          5,
          5,
          4,
          5,
          4,
          5,
          5,
          5,
          5,
          2,
          1,
          5,
          4,
          5,
          5,
          5,
          5,
          4,
          5,
          5,
          5,
          5,
          4,
          5,
          4,
          4,
          5,
          1,
          5,
          5,
          4,
          5,
          5,
          5,
          5,
          5,
          3,
          4,
          5,
          5,
          5,
          5,
          5,
          5,
          5,
          3,
          4,
          5,
          4,
          4,
          5,
          5,
          5,
          5,
          4,
          5,
          5,
          5,
          4,
          4,
          5,
          5,
          5,
          5,
          4,
          5,
          5,
          5,
          5,
          2,
          5,
          5,
          3,
          5,
          5,
          5,
          5,
          5,
          5,
          5,
          5,
          4,
          5,
          5,
          3,
          5,
          1,
          5,
          3,
          5,
          5,
          5,
          5,
          4,
          5,
          4,
          5,
          3,
          5,
          2,
          5,
          5,
          5,
          5,
          5,
          4,
          4,
          5,
          3,
          5,
          5,
          2,
          3,
          5,
          5,
          5,
          5,
          5,
          4,
          5,
          5,
          5,
          5,
          2,
          4,
          5,
          4,
          4,
          5,
          4,
          5,
          5,
          5,
          5,
          5,
          4,
          5,
          5,
          4,
          5,
          5,
          5,
          4,
          4,
          1,
          5,
          5,
          5,
          5,
          5,
          5,
          5,
          4,
          5,
          5,
          2,
          5,
          5,
          4,
          1,
          2,
          5,
          3,
          3,
          5,
          5,
          5,
          5,
          5,
          5,
          5,
          5,
          5,
          4,
          4,
          3,
          5,
          4,
          5,
          5,
          3,
          5,
          5,
          4,
          4,
          5,
          5,
          2,
          5,
          4,
          1,
          5,
          4,
          4,
          5,
          5,
          5,
          5,
          5,
          5,
          5,
          5,
          5,
          5,
          2,
          4,
          4,
          4,
          3,
          5,
          5,
          4,
          5,
          2,
          1,
          5,
          5,
          4,
          5,
          3,
          4,
          5,
          4,
          5,
          5,
          5,
          5,
          5,
          5,
          4,
          5,
          5,
          5,
          5,
          5,
          4,
          5,
          4,
          2,
          5,
          3,
          5,
          5,
          5,
          5,
          5,
          5,
          3,
          5,
          5,
          5,
          5,
          2,
          4,
          5,
          4,
          4,
          5,
          3,
          5,
          3,
          5,
          5,
          5,
          5,
          4,
          5,
          5,
          4,
          5,
          5,
          5,
          5,
          1,
          4,
          5,
          3,
          3,
          3,
          5,
          5,
          5,
          5,
          5,
          5,
          5,
          5,
          4,
          5,
          4,
          5,
          4,
          4,
          5,
          4,
          5,
          5,
          5,
          5,
          4,
          2,
          4,
          5,
          1,
          4,
          5,
          2,
          4,
          4,
          1,
          4,
          5,
          5,
          5,
          5,
          3,
          5,
          5,
          5,
          2,
          3,
          5,
          5,
          5,
          5,
          5,
          5,
          4,
          5,
          5,
          4,
          5,
          5,
          5,
          5,
          5,
          5,
          5,
          5,
          3,
          4,
          5,
          4,
          5,
          5,
          4,
          5,
          5,
          5,
          5,
          4,
          5,
          4,
          4,
          5,
          5,
          5,
          2,
          4,
          5,
          4,
          2,
          5,
          4,
          5,
          5,
          1,
          5,
          5,
          5,
          5,
          5,
          5,
          5,
          5,
          5,
          1,
          4,
          4,
          5,
          5,
          5,
          5,
          5,
          3,
          5,
          5,
          5,
          4,
          5,
          4,
          4,
          5,
          4,
          4,
          5,
          5,
          3,
          5,
          4,
          3,
          5,
          5,
          5,
          5,
          4,
          5,
          5,
          5,
          2,
          5,
          5,
          4,
          5,
          1,
          3,
          5,
          3,
          5,
          5,
          5,
          5,
          5,
          5,
          5,
          5,
          4,
          5,
          4,
          3,
          4,
          5,
          3,
          4,
          5,
          3,
          4,
          5,
          5,
          5,
          5,
          5,
          4,
          5,
          5,
          4,
          5,
          5,
          5,
          5,
          5,
          4,
          5,
          3,
          4,
          5,
          5,
          5,
          5,
          4,
          5,
          5,
          4,
          3,
          4,
          4,
          3,
          5,
          4,
          5,
          5,
          5,
          5,
          5,
          5,
          5,
          5,
          4,
          4,
          5,
          5,
          5,
          5,
          4,
          2,
          5,
          4,
          3,
          5,
          5,
          3,
          5,
          2,
          2,
          5,
          5,
          5,
          5,
          3,
          2,
          5,
          4,
          4,
          5,
          5,
          4,
          5,
          5,
          4,
          5,
          4,
          4,
          5,
          4,
          1,
          5,
          4,
          4,
          5,
          2,
          4,
          5,
          4,
          4,
          4,
          5,
          5,
          5,
          5,
          5,
          5,
          2,
          3,
          5,
          4,
          4,
          5,
          3,
          4,
          5,
          5,
          5,
          5,
          4,
          4,
          5,
          3,
          5,
          5,
          4,
          1,
          5,
          4,
          3,
          5,
          4,
          5,
          5,
          5,
          1,
          5,
          4,
          1,
          5,
          4,
          2,
          4,
          3,
          5,
          5,
          1,
          5,
          4,
          5,
          4,
          5,
          5,
          4,
          5,
          3,
          5,
          5,
          5,
          4,
          5,
          4,
          3,
          5,
          5,
          5,
          5,
          4,
          3,
          5,
          5,
          2,
          5,
          5,
          5,
          5,
          4,
          3,
          5,
          4,
          5,
          5,
          4,
          3,
          5,
          5,
          5,
          5,
          5,
          5,
          4,
          1,
          5,
          5,
          4,
          3,
          5,
          3,
          5,
          5,
          5,
          4,
          5,
          5,
          4,
          5,
          5,
          5,
          5,
          4,
          5,
          5,
          4,
          4,
          5,
          5,
          4,
          5,
          3,
          5,
          5,
          5,
          4,
          5,
          5,
          4,
          5,
          5,
          1,
          4,
          1,
          2,
          5,
          4,
          5,
          5,
          5,
          4,
          5,
          4,
          4,
          5,
          3,
          3,
          5,
          3,
          4,
          5,
          5,
          1,
          5,
          3,
          3,
          5,
          4,
          4,
          5,
          5,
          3,
          5,
          4,
          4,
          5,
          5,
          2,
          5,
          5,
          5,
          5,
          5,
          5,
          5,
          5,
          5,
          5,
          5,
          5,
          5,
          4,
          3,
          5,
          4,
          3,
          5,
          5,
          4,
          4,
          5,
          4,
          5,
          5,
          4,
          3,
          4,
          5,
          4,
          5,
          4,
          5,
          5,
          4,
          5,
          3,
          2,
          5,
          5,
          3,
          5,
          5,
          3,
          5,
          2,
          3,
          5,
          4,
          4,
          5,
          4,
          5,
          4,
          5,
          5,
          5,
          5,
          5,
          4,
          4,
          3,
          5,
          3,
          4,
          5,
          3,
          3,
          4,
          5,
          5,
          5,
          4,
          5,
          5,
          5,
          4,
          5,
          3,
          4,
          5,
          3,
          5,
          5,
          5,
          3,
          5,
          4,
          5,
          4,
          4,
          4,
          4,
          5,
          3,
          4,
          3,
          4,
          5,
          4,
          5,
          5,
          3,
          5,
          5,
          3,
          5,
          5,
          5,
          4,
          5,
          5,
          5,
          5,
          5,
          4,
          5,
          2,
          2,
          5,
          5,
          4,
          5,
          5,
          5,
          5,
          5,
          5,
          5,
          4,
          4,
          4,
          5,
          1,
          5,
          4,
          5,
          4,
          3,
          4,
          5,
          3,
          5,
          5,
          5,
          5,
          5,
          5,
          5,
          5,
          5,
          5,
          5,
          4,
          5,
          5,
          5,
          5,
          5,
          5,
          5,
          5,
          5,
          4,
          5,
          5,
          5,
          5,
          5,
          5,
          5,
          4,
          4,
          5,
          5,
          5,
          5,
          4,
          4,
          5,
          5,
          5,
          5,
          4,
          3,
          5,
          5,
          5,
          5,
          5,
          5,
          5,
          5,
          4,
          5,
          5,
          5,
          5,
          5,
          4,
          5,
          5,
          5,
          5,
          5,
          5,
          5,
          5,
          5,
          5,
          3,
          5,
          5,
          5,
          5,
          5,
          5,
          5,
          5,
          5,
          5,
          5,
          4,
          5,
          5,
          5,
          5,
          5,
          5,
          5,
          5,
          5,
          5,
          5,
          5,
          5,
          5,
          5,
          4,
          5,
          5,
          5,
          5,
          5,
          5,
          5,
          5,
          5,
          5,
          4,
          4,
          5,
          4,
          5,
          5,
          4,
          4,
          5,
          5,
          5,
          5,
          3,
          4,
          5,
          5,
          5,
          5,
          5,
          5,
          5,
          4,
          5,
          5,
          4,
          5,
          5,
          4,
          5,
          5,
          5,
          5,
          5,
          5,
          5,
          5,
          5,
          4,
          5,
          5,
          5,
          5,
          4,
          4,
          5,
          4,
          4,
          5,
          5,
          5,
          5,
          4,
          5,
          5,
          3,
          5,
          5,
          5,
          5,
          4,
          5,
          4,
          5,
          4,
          5,
          5,
          5,
          5,
          5,
          5,
          5,
          5,
          5,
          4,
          5,
          3,
          5,
          5,
          4,
          5,
          5,
          5,
          5,
          5,
          5,
          5,
          5,
          5,
          4,
          5,
          5,
          5,
          5,
          4,
          5,
          5,
          4,
          5,
          5,
          5,
          5,
          5,
          4,
          4,
          5,
          3,
          5,
          5,
          4,
          5,
          5,
          5,
          5,
          5,
          4,
          4,
          5,
          3,
          3,
          5,
          4,
          4,
          5,
          5,
          5,
          5,
          5,
          4,
          5,
          4,
          5,
          3,
          5,
          5,
          5,
          5,
          5,
          4,
          5,
          5,
          5,
          4,
          4,
          5,
          5,
          5,
          5,
          5,
          5,
          5,
          5,
          4,
          5,
          5,
          5,
          5,
          4,
          4,
          5,
          3,
          5,
          5,
          5,
          3,
          5,
          5,
          5,
          5,
          4,
          4,
          5,
          4,
          5,
          5,
          5,
          5,
          5,
          4,
          5,
          5,
          5,
          5,
          5,
          5,
          3,
          5,
          5,
          4,
          5,
          4,
          5,
          5,
          5,
          5,
          2,
          4,
          5,
          5,
          4,
          5,
          5,
          4,
          4,
          5,
          4,
          4,
          5,
          4,
          4,
          5,
          4,
          5,
          5,
          5,
          5,
          5,
          5,
          5,
          5,
          2,
          4,
          5,
          5,
          4,
          5,
          5,
          4,
          5,
          5,
          5,
          5,
          4,
          4,
          5,
          4,
          4,
          5,
          5,
          4,
          5,
          3,
          5,
          5,
          4,
          3,
          5,
          5,
          3,
          5,
          4,
          5,
          5,
          5,
          4,
          5,
          5,
          4,
          5,
          5,
          3,
          4,
          5,
          5,
          5,
          5,
          5,
          5,
          5,
          5,
          5,
          5,
          5,
          5,
          4,
          3,
          5,
          3,
          4,
          5,
          5,
          4,
          3,
          4,
          5,
          5,
          2,
          3,
          5,
          4,
          5,
          5,
          5,
          5,
          5,
          4,
          5,
          5,
          5,
          4,
          5,
          5,
          4,
          5,
          5,
          5,
          5,
          5,
          5,
          5,
          5,
          5,
          5,
          4,
          5,
          5,
          5,
          5,
          5,
          5,
          5,
          5,
          4,
          5,
          5,
          5,
          5,
          5,
          4,
          4,
          4,
          5,
          4,
          5,
          5,
          5,
          5,
          3,
          5,
          5,
          5,
          5,
          5,
          5,
          5,
          5,
          4,
          4,
          5,
          3,
          4,
          5,
          5,
          5,
          5,
          4,
          5,
          5,
          5,
          5,
          5,
          4,
          5,
          5,
          5,
          5,
          5,
          5,
          5,
          5,
          4,
          3,
          5,
          5,
          5,
          5,
          4,
          5,
          5,
          4,
          4,
          5,
          5,
          3,
          5,
          5,
          5,
          5,
          4,
          4,
          5,
          5,
          5,
          5,
          1,
          4,
          5,
          5,
          5,
          5,
          4,
          4,
          5,
          4,
          5,
          5,
          5,
          4,
          5,
          5,
          4,
          5,
          5,
          5,
          5,
          5,
          5,
          5,
          4,
          5,
          4,
          4,
          5,
          5,
          4,
          4,
          5,
          4,
          5,
          5,
          4,
          5,
          5,
          5,
          5,
          5,
          5,
          5,
          5,
          5,
          5,
          5,
          4,
          4,
          5,
          3,
          3,
          5,
          4,
          5,
          5,
          4,
          5,
          5,
          5,
          3,
          5,
          3,
          5,
          5,
          4,
          5,
          5,
          5,
          5,
          5,
          5,
          5,
          3,
          5,
          5,
          4,
          4,
          5,
          5,
          4,
          4,
          5,
          4,
          3,
          5,
          5,
          5,
          5,
          5,
          5,
          4,
          3,
          3,
          5,
          4,
          5,
          5,
          5,
          5,
          5,
          4,
          4,
          5,
          5,
          4,
          5,
          5,
          5,
          4,
          4,
          2,
          5,
          2,
          4,
          5,
          4,
          4,
          5,
          4,
          4,
          5,
          5,
          5,
          4,
          4,
          5,
          5,
          3,
          5,
          5,
          5,
          5,
          5,
          3,
          5,
          5,
          2,
          4,
          5,
          4,
          5,
          5,
          4,
          5,
          5,
          5,
          5,
          5,
          4,
          4,
          5,
          3,
          4,
          5,
          5,
          5,
          5,
          2,
          3,
          5,
          5,
          5,
          5,
          2,
          4,
          5,
          5,
          5,
          5,
          5,
          5,
          5,
          4,
          3,
          5,
          5,
          4,
          5,
          2,
          2,
          5,
          5,
          5,
          5,
          5,
          5,
          2,
          4,
          5,
          5,
          4,
          5,
          5,
          5,
          5,
          5,
          4,
          5,
          5,
          4,
          4,
          5,
          4,
          4,
          4,
          3,
          1,
          4,
          4,
          5,
          5,
          5,
          5,
          5,
          4,
          4,
          5,
          4,
          5,
          5,
          3,
          2,
          5,
          4,
          4,
          5,
          5,
          5,
          5,
          5,
          4,
          4,
          2,
          5,
          5,
          5,
          5,
          5,
          5,
          5,
          4,
          5,
          5,
          2,
          3,
          4,
          5,
          5,
          4,
          5,
          5,
          4,
          4,
          4,
          5,
          5,
          4,
          5,
          4,
          5,
          5,
          5,
          4,
          3,
          5,
          5,
          4,
          4,
          4,
          4,
          4,
          5,
          4,
          4,
          5,
          5,
          5,
          5,
          4,
          5,
          4,
          5,
          5,
          4,
          4,
          5,
          3,
          3,
          4,
          5,
          4,
          5,
          5,
          5,
          4,
          3,
          4,
          5,
          5,
          5,
          5,
          4,
          5,
          4,
          2,
          3,
          4,
          5,
          4,
          5,
          5,
          5,
          4,
          2,
          3,
          5,
          5,
          4,
          5,
          5,
          5,
          5,
          5,
          4,
          5,
          5,
          5,
          5,
          2,
          5,
          5,
          4,
          5,
          5,
          5,
          3,
          4,
          4,
          5,
          5,
          5,
          5,
          5,
          4,
          5,
          2,
          4,
          5,
          4,
          5,
          5,
          4,
          5,
          5,
          5,
          5,
          4,
          1,
          5,
          4,
          5,
          3,
          5,
          1,
          5,
          5,
          4,
          5,
          4,
          4,
          4,
          3,
          5,
          5,
          5,
          5,
          4,
          4,
          5,
          5,
          5,
          1,
          4,
          5,
          4,
          5,
          4,
          5,
          5,
          3,
          5,
          5,
          3,
          5,
          5,
          2,
          5,
          3,
          4,
          4,
          4,
          4,
          4,
          3,
          5,
          4,
          5,
          4,
          5,
          5,
          5,
          5,
          5,
          4,
          4,
          5,
          3,
          5,
          1,
          5,
          5,
          3,
          3,
          5,
          4,
          5,
          4,
          3,
          3,
          3,
          5,
          3,
          5,
          5,
          5,
          5,
          3,
          5,
          5,
          5,
          2,
          5,
          3,
          5,
          5,
          5,
          5,
          4,
          5,
          4,
          4,
          4,
          5,
          5,
          4,
          5,
          5,
          3,
          5,
          5,
          5,
          4,
          4,
          4,
          5,
          1,
          5,
          4,
          5,
          5,
          4,
          5,
          5,
          5,
          3,
          5,
          4,
          4,
          4,
          4,
          4,
          5,
          4,
          3,
          2,
          3,
          5,
          5,
          2,
          2,
          4,
          5,
          5,
          5,
          5,
          5,
          2,
          4,
          4,
          4,
          5,
          3,
          5,
          1,
          5,
          5,
          5,
          4,
          4,
          5,
          5,
          4,
          4,
          1,
          4,
          4,
          3,
          5,
          4,
          5,
          4,
          5,
          4,
          4,
          5,
          5,
          5,
          4,
          5,
          5,
          3,
          4,
          4,
          5,
          4,
          5,
          3,
          5,
          5,
          4,
          4,
          4,
          3,
          5,
          4,
          5,
          4,
          4,
          3,
          2,
          4,
          4,
          4,
          3,
          4,
          4,
          5,
          5,
          5,
          5,
          5,
          2,
          5,
          5,
          5,
          3,
          4,
          5,
          5,
          4,
          4,
          5,
          5,
          5,
          4,
          3,
          4,
          4,
          4,
          2,
          2,
          4,
          5,
          4,
          5,
          4,
          5,
          5,
          2,
          5,
          4,
          5,
          4,
          2,
          5,
          4,
          4,
          5,
          5,
          4,
          2,
          4,
          5,
          3,
          3,
          5,
          1,
          5,
          5,
          4,
          2,
          4,
          4,
          5,
          3,
          4,
          4,
          5,
          5,
          5,
          5,
          4,
          5,
          5,
          5,
          4,
          5,
          5,
          4,
          5,
          5,
          5,
          5,
          5,
          4,
          1,
          5,
          4,
          4,
          5,
          4,
          3,
          5,
          5,
          5,
          5,
          5,
          4,
          5,
          3,
          4,
          5,
          5,
          5,
          5,
          5,
          5,
          5,
          5,
          5,
          5,
          5,
          5,
          4,
          3,
          4,
          5,
          1,
          4,
          5,
          4,
          5,
          5,
          4,
          5,
          5,
          4,
          5,
          5,
          4,
          4,
          5,
          3,
          3,
          4,
          4,
          4,
          5,
          5,
          3,
          5,
          4,
          4,
          5,
          3,
          4,
          5,
          4,
          4,
          5,
          4,
          4,
          5,
          4,
          4,
          4,
          3,
          3,
          5,
          4,
          2,
          4,
          2,
          5,
          5,
          1,
          5,
          5,
          4,
          3,
          5,
          5,
          4,
          4,
          4,
          4,
          5,
          4,
          4,
          5,
          5,
          4,
          5,
          4,
          4,
          5,
          4,
          4,
          4,
          2,
          5,
          5,
          3,
          4,
          5,
          4,
          5,
          5,
          5,
          5,
          5,
          5,
          3,
          5,
          4,
          4,
          5,
          4,
          4,
          4,
          4,
          4,
          5,
          4,
          5,
          5,
          5,
          4,
          5,
          4,
          5,
          5,
          4,
          4,
          5,
          4,
          5,
          5,
          4,
          3,
          5,
          4,
          2,
          5,
          1,
          5,
          5,
          3,
          4,
          5,
          4,
          4,
          5,
          3,
          5,
          5,
          3,
          4,
          5,
          5,
          4,
          5,
          4,
          3,
          5,
          5,
          3,
          5,
          4,
          4,
          5,
          5,
          3,
          5,
          4,
          4,
          5,
          5,
          4,
          5,
          5,
          4,
          5,
          5,
          5,
          4,
          5,
          2,
          4,
          2,
          2,
          5,
          3,
          5,
          5,
          4,
          5,
          4,
          4,
          5,
          5,
          5,
          3,
          5,
          5,
          5,
          5,
          5,
          4,
          5,
          5,
          4,
          5,
          5,
          4,
          5,
          4,
          4,
          4,
          2,
          3,
          4,
          3,
          1,
          5,
          5,
          5,
          5,
          4,
          4,
          4,
          1,
          4,
          5,
          5,
          3,
          5,
          5,
          5,
          5,
          5,
          3,
          4,
          4,
          5,
          5,
          4,
          5,
          5,
          5,
          4,
          5,
          3,
          4,
          5,
          2,
          5,
          5,
          5,
          5,
          4,
          2,
          5,
          5,
          4,
          3,
          5,
          5,
          3,
          5,
          4,
          5,
          5,
          5,
          5,
          5,
          4,
          3,
          5,
          4,
          4,
          5,
          4,
          5,
          5,
          4,
          1,
          4,
          3,
          3,
          5,
          4,
          5,
          5,
          3,
          4,
          5,
          4,
          5,
          5,
          5,
          4,
          4,
          2,
          5,
          3,
          5,
          4,
          5,
          4,
          5,
          5,
          5,
          5,
          4,
          5,
          5,
          5,
          4,
          3,
          5,
          5,
          5,
          5,
          4,
          4,
          5,
          5,
          5,
          5,
          5,
          3,
          4,
          1,
          2,
          5,
          4,
          5,
          4,
          5,
          4,
          5,
          4,
          5,
          5,
          4,
          2,
          4,
          3,
          3,
          3,
          2,
          5,
          5,
          1,
          4,
          5,
          3,
          5,
          5,
          4,
          4,
          5,
          4,
          4,
          2,
          5,
          5,
          5,
          4,
          3,
          5,
          5,
          5,
          5,
          2,
          4,
          5,
          4,
          4,
          5,
          3,
          4,
          5,
          5,
          2,
          5,
          2,
          4,
          4,
          5,
          5,
          5,
          5,
          4,
          5,
          4,
          5,
          4,
          3,
          5,
          5,
          5,
          5,
          5,
          5,
          4,
          5,
          4,
          5,
          4,
          2,
          3,
          5,
          4,
          4,
          5,
          5,
          4,
          5,
          5,
          5,
          5,
          3,
          4,
          5,
          5,
          5,
          4,
          4,
          4,
          4,
          4,
          3,
          5,
          4,
          5,
          5,
          4,
          4,
          5,
          3,
          3,
          4,
          5,
          1,
          4,
          5,
          3,
          4,
          4,
          5,
          5,
          5,
          5,
          5,
          5,
          4,
          5,
          3,
          4,
          4,
          5,
          4,
          5,
          4,
          4,
          5,
          4,
          5,
          4,
          4,
          4,
          4,
          5,
          5,
          5,
          4,
          5,
          5,
          5,
          3,
          4,
          3,
          3,
          5,
          4,
          4,
          5,
          4,
          5,
          4,
          4,
          4,
          5,
          5,
          5,
          5,
          2,
          4,
          5,
          4,
          4,
          4,
          3,
          1,
          5,
          5,
          5,
          5,
          4,
          2,
          4,
          2,
          4,
          5,
          5,
          4,
          5,
          5,
          4,
          5,
          4,
          5,
          4,
          3,
          4,
          4,
          3,
          4,
          5,
          4,
          4,
          5,
          3,
          4,
          5,
          4,
          5,
          5,
          4,
          4,
          4,
          2,
          4,
          4,
          5,
          5,
          4,
          3,
          3,
          5,
          2,
          4,
          5,
          5,
          5,
          4,
          4,
          4,
          5,
          4,
          3,
          5,
          3,
          4,
          4,
          4,
          5,
          5,
          4,
          4,
          5,
          5,
          4,
          5,
          4,
          5,
          4,
          5,
          2,
          5,
          3,
          5
         ],
         "xaxis": "x2",
         "yaxis": "y2"
        }
       ],
       "layout": {
        "barmode": "relative",
        "legend": {
         "tracegroupgap": 0
        },
        "margin": {
         "t": 60
        },
        "template": {
         "data": {
          "bar": [
           {
            "error_x": {
             "color": "#2a3f5f"
            },
            "error_y": {
             "color": "#2a3f5f"
            },
            "marker": {
             "line": {
              "color": "#E5ECF6",
              "width": 0.5
             },
             "pattern": {
              "fillmode": "overlay",
              "size": 10,
              "solidity": 0.2
             }
            },
            "type": "bar"
           }
          ],
          "barpolar": [
           {
            "marker": {
             "line": {
              "color": "#E5ECF6",
              "width": 0.5
             },
             "pattern": {
              "fillmode": "overlay",
              "size": 10,
              "solidity": 0.2
             }
            },
            "type": "barpolar"
           }
          ],
          "carpet": [
           {
            "aaxis": {
             "endlinecolor": "#2a3f5f",
             "gridcolor": "white",
             "linecolor": "white",
             "minorgridcolor": "white",
             "startlinecolor": "#2a3f5f"
            },
            "baxis": {
             "endlinecolor": "#2a3f5f",
             "gridcolor": "white",
             "linecolor": "white",
             "minorgridcolor": "white",
             "startlinecolor": "#2a3f5f"
            },
            "type": "carpet"
           }
          ],
          "choropleth": [
           {
            "colorbar": {
             "outlinewidth": 0,
             "ticks": ""
            },
            "type": "choropleth"
           }
          ],
          "contour": [
           {
            "colorbar": {
             "outlinewidth": 0,
             "ticks": ""
            },
            "colorscale": [
             [
              0,
              "#0d0887"
             ],
             [
              0.1111111111111111,
              "#46039f"
             ],
             [
              0.2222222222222222,
              "#7201a8"
             ],
             [
              0.3333333333333333,
              "#9c179e"
             ],
             [
              0.4444444444444444,
              "#bd3786"
             ],
             [
              0.5555555555555556,
              "#d8576b"
             ],
             [
              0.6666666666666666,
              "#ed7953"
             ],
             [
              0.7777777777777778,
              "#fb9f3a"
             ],
             [
              0.8888888888888888,
              "#fdca26"
             ],
             [
              1,
              "#f0f921"
             ]
            ],
            "type": "contour"
           }
          ],
          "contourcarpet": [
           {
            "colorbar": {
             "outlinewidth": 0,
             "ticks": ""
            },
            "type": "contourcarpet"
           }
          ],
          "heatmap": [
           {
            "colorbar": {
             "outlinewidth": 0,
             "ticks": ""
            },
            "colorscale": [
             [
              0,
              "#0d0887"
             ],
             [
              0.1111111111111111,
              "#46039f"
             ],
             [
              0.2222222222222222,
              "#7201a8"
             ],
             [
              0.3333333333333333,
              "#9c179e"
             ],
             [
              0.4444444444444444,
              "#bd3786"
             ],
             [
              0.5555555555555556,
              "#d8576b"
             ],
             [
              0.6666666666666666,
              "#ed7953"
             ],
             [
              0.7777777777777778,
              "#fb9f3a"
             ],
             [
              0.8888888888888888,
              "#fdca26"
             ],
             [
              1,
              "#f0f921"
             ]
            ],
            "type": "heatmap"
           }
          ],
          "heatmapgl": [
           {
            "colorbar": {
             "outlinewidth": 0,
             "ticks": ""
            },
            "colorscale": [
             [
              0,
              "#0d0887"
             ],
             [
              0.1111111111111111,
              "#46039f"
             ],
             [
              0.2222222222222222,
              "#7201a8"
             ],
             [
              0.3333333333333333,
              "#9c179e"
             ],
             [
              0.4444444444444444,
              "#bd3786"
             ],
             [
              0.5555555555555556,
              "#d8576b"
             ],
             [
              0.6666666666666666,
              "#ed7953"
             ],
             [
              0.7777777777777778,
              "#fb9f3a"
             ],
             [
              0.8888888888888888,
              "#fdca26"
             ],
             [
              1,
              "#f0f921"
             ]
            ],
            "type": "heatmapgl"
           }
          ],
          "histogram": [
           {
            "marker": {
             "pattern": {
              "fillmode": "overlay",
              "size": 10,
              "solidity": 0.2
             }
            },
            "type": "histogram"
           }
          ],
          "histogram2d": [
           {
            "colorbar": {
             "outlinewidth": 0,
             "ticks": ""
            },
            "colorscale": [
             [
              0,
              "#0d0887"
             ],
             [
              0.1111111111111111,
              "#46039f"
             ],
             [
              0.2222222222222222,
              "#7201a8"
             ],
             [
              0.3333333333333333,
              "#9c179e"
             ],
             [
              0.4444444444444444,
              "#bd3786"
             ],
             [
              0.5555555555555556,
              "#d8576b"
             ],
             [
              0.6666666666666666,
              "#ed7953"
             ],
             [
              0.7777777777777778,
              "#fb9f3a"
             ],
             [
              0.8888888888888888,
              "#fdca26"
             ],
             [
              1,
              "#f0f921"
             ]
            ],
            "type": "histogram2d"
           }
          ],
          "histogram2dcontour": [
           {
            "colorbar": {
             "outlinewidth": 0,
             "ticks": ""
            },
            "colorscale": [
             [
              0,
              "#0d0887"
             ],
             [
              0.1111111111111111,
              "#46039f"
             ],
             [
              0.2222222222222222,
              "#7201a8"
             ],
             [
              0.3333333333333333,
              "#9c179e"
             ],
             [
              0.4444444444444444,
              "#bd3786"
             ],
             [
              0.5555555555555556,
              "#d8576b"
             ],
             [
              0.6666666666666666,
              "#ed7953"
             ],
             [
              0.7777777777777778,
              "#fb9f3a"
             ],
             [
              0.8888888888888888,
              "#fdca26"
             ],
             [
              1,
              "#f0f921"
             ]
            ],
            "type": "histogram2dcontour"
           }
          ],
          "mesh3d": [
           {
            "colorbar": {
             "outlinewidth": 0,
             "ticks": ""
            },
            "type": "mesh3d"
           }
          ],
          "parcoords": [
           {
            "line": {
             "colorbar": {
              "outlinewidth": 0,
              "ticks": ""
             }
            },
            "type": "parcoords"
           }
          ],
          "pie": [
           {
            "automargin": true,
            "type": "pie"
           }
          ],
          "scatter": [
           {
            "marker": {
             "colorbar": {
              "outlinewidth": 0,
              "ticks": ""
             }
            },
            "type": "scatter"
           }
          ],
          "scatter3d": [
           {
            "line": {
             "colorbar": {
              "outlinewidth": 0,
              "ticks": ""
             }
            },
            "marker": {
             "colorbar": {
              "outlinewidth": 0,
              "ticks": ""
             }
            },
            "type": "scatter3d"
           }
          ],
          "scattercarpet": [
           {
            "marker": {
             "colorbar": {
              "outlinewidth": 0,
              "ticks": ""
             }
            },
            "type": "scattercarpet"
           }
          ],
          "scattergeo": [
           {
            "marker": {
             "colorbar": {
              "outlinewidth": 0,
              "ticks": ""
             }
            },
            "type": "scattergeo"
           }
          ],
          "scattergl": [
           {
            "marker": {
             "colorbar": {
              "outlinewidth": 0,
              "ticks": ""
             }
            },
            "type": "scattergl"
           }
          ],
          "scattermapbox": [
           {
            "marker": {
             "colorbar": {
              "outlinewidth": 0,
              "ticks": ""
             }
            },
            "type": "scattermapbox"
           }
          ],
          "scatterpolar": [
           {
            "marker": {
             "colorbar": {
              "outlinewidth": 0,
              "ticks": ""
             }
            },
            "type": "scatterpolar"
           }
          ],
          "scatterpolargl": [
           {
            "marker": {
             "colorbar": {
              "outlinewidth": 0,
              "ticks": ""
             }
            },
            "type": "scatterpolargl"
           }
          ],
          "scatterternary": [
           {
            "marker": {
             "colorbar": {
              "outlinewidth": 0,
              "ticks": ""
             }
            },
            "type": "scatterternary"
           }
          ],
          "surface": [
           {
            "colorbar": {
             "outlinewidth": 0,
             "ticks": ""
            },
            "colorscale": [
             [
              0,
              "#0d0887"
             ],
             [
              0.1111111111111111,
              "#46039f"
             ],
             [
              0.2222222222222222,
              "#7201a8"
             ],
             [
              0.3333333333333333,
              "#9c179e"
             ],
             [
              0.4444444444444444,
              "#bd3786"
             ],
             [
              0.5555555555555556,
              "#d8576b"
             ],
             [
              0.6666666666666666,
              "#ed7953"
             ],
             [
              0.7777777777777778,
              "#fb9f3a"
             ],
             [
              0.8888888888888888,
              "#fdca26"
             ],
             [
              1,
              "#f0f921"
             ]
            ],
            "type": "surface"
           }
          ],
          "table": [
           {
            "cells": {
             "fill": {
              "color": "#EBF0F8"
             },
             "line": {
              "color": "white"
             }
            },
            "header": {
             "fill": {
              "color": "#C8D4E3"
             },
             "line": {
              "color": "white"
             }
            },
            "type": "table"
           }
          ]
         },
         "layout": {
          "annotationdefaults": {
           "arrowcolor": "#2a3f5f",
           "arrowhead": 0,
           "arrowwidth": 1
          },
          "autotypenumbers": "strict",
          "coloraxis": {
           "colorbar": {
            "outlinewidth": 0,
            "ticks": ""
           }
          },
          "colorscale": {
           "diverging": [
            [
             0,
             "#8e0152"
            ],
            [
             0.1,
             "#c51b7d"
            ],
            [
             0.2,
             "#de77ae"
            ],
            [
             0.3,
             "#f1b6da"
            ],
            [
             0.4,
             "#fde0ef"
            ],
            [
             0.5,
             "#f7f7f7"
            ],
            [
             0.6,
             "#e6f5d0"
            ],
            [
             0.7,
             "#b8e186"
            ],
            [
             0.8,
             "#7fbc41"
            ],
            [
             0.9,
             "#4d9221"
            ],
            [
             1,
             "#276419"
            ]
           ],
           "sequential": [
            [
             0,
             "#0d0887"
            ],
            [
             0.1111111111111111,
             "#46039f"
            ],
            [
             0.2222222222222222,
             "#7201a8"
            ],
            [
             0.3333333333333333,
             "#9c179e"
            ],
            [
             0.4444444444444444,
             "#bd3786"
            ],
            [
             0.5555555555555556,
             "#d8576b"
            ],
            [
             0.6666666666666666,
             "#ed7953"
            ],
            [
             0.7777777777777778,
             "#fb9f3a"
            ],
            [
             0.8888888888888888,
             "#fdca26"
            ],
            [
             1,
             "#f0f921"
            ]
           ],
           "sequentialminus": [
            [
             0,
             "#0d0887"
            ],
            [
             0.1111111111111111,
             "#46039f"
            ],
            [
             0.2222222222222222,
             "#7201a8"
            ],
            [
             0.3333333333333333,
             "#9c179e"
            ],
            [
             0.4444444444444444,
             "#bd3786"
            ],
            [
             0.5555555555555556,
             "#d8576b"
            ],
            [
             0.6666666666666666,
             "#ed7953"
            ],
            [
             0.7777777777777778,
             "#fb9f3a"
            ],
            [
             0.8888888888888888,
             "#fdca26"
            ],
            [
             1,
             "#f0f921"
            ]
           ]
          },
          "colorway": [
           "#636efa",
           "#EF553B",
           "#00cc96",
           "#ab63fa",
           "#FFA15A",
           "#19d3f3",
           "#FF6692",
           "#B6E880",
           "#FF97FF",
           "#FECB52"
          ],
          "font": {
           "color": "#2a3f5f"
          },
          "geo": {
           "bgcolor": "white",
           "lakecolor": "white",
           "landcolor": "#E5ECF6",
           "showlakes": true,
           "showland": true,
           "subunitcolor": "white"
          },
          "hoverlabel": {
           "align": "left"
          },
          "hovermode": "closest",
          "mapbox": {
           "style": "light"
          },
          "paper_bgcolor": "white",
          "plot_bgcolor": "#E5ECF6",
          "polar": {
           "angularaxis": {
            "gridcolor": "white",
            "linecolor": "white",
            "ticks": ""
           },
           "bgcolor": "#E5ECF6",
           "radialaxis": {
            "gridcolor": "white",
            "linecolor": "white",
            "ticks": ""
           }
          },
          "scene": {
           "xaxis": {
            "backgroundcolor": "#E5ECF6",
            "gridcolor": "white",
            "gridwidth": 2,
            "linecolor": "white",
            "showbackground": true,
            "ticks": "",
            "zerolinecolor": "white"
           },
           "yaxis": {
            "backgroundcolor": "#E5ECF6",
            "gridcolor": "white",
            "gridwidth": 2,
            "linecolor": "white",
            "showbackground": true,
            "ticks": "",
            "zerolinecolor": "white"
           },
           "zaxis": {
            "backgroundcolor": "#E5ECF6",
            "gridcolor": "white",
            "gridwidth": 2,
            "linecolor": "white",
            "showbackground": true,
            "ticks": "",
            "zerolinecolor": "white"
           }
          },
          "shapedefaults": {
           "line": {
            "color": "#2a3f5f"
           }
          },
          "ternary": {
           "aaxis": {
            "gridcolor": "white",
            "linecolor": "white",
            "ticks": ""
           },
           "baxis": {
            "gridcolor": "white",
            "linecolor": "white",
            "ticks": ""
           },
           "bgcolor": "#E5ECF6",
           "caxis": {
            "gridcolor": "white",
            "linecolor": "white",
            "ticks": ""
           }
          },
          "title": {
           "x": 0.05
          },
          "xaxis": {
           "automargin": true,
           "gridcolor": "white",
           "linecolor": "white",
           "ticks": "",
           "title": {
            "standoff": 15
           },
           "zerolinecolor": "white",
           "zerolinewidth": 2
          },
          "yaxis": {
           "automargin": true,
           "gridcolor": "white",
           "linecolor": "white",
           "ticks": "",
           "title": {
            "standoff": 15
           },
           "zerolinecolor": "white",
           "zerolinewidth": 2
          }
         }
        },
        "xaxis": {
         "anchor": "y",
         "domain": [
          0,
          1
         ],
         "title": {
          "text": "review_rating"
         }
        },
        "xaxis2": {
         "anchor": "y2",
         "domain": [
          0,
          1
         ],
         "matches": "x",
         "showgrid": true,
         "showticklabels": false
        },
        "yaxis": {
         "anchor": "x",
         "domain": [
          0,
          0.8316
         ],
         "title": {
          "text": "count"
         }
        },
        "yaxis2": {
         "anchor": "x2",
         "domain": [
          0.8416,
          1
         ],
         "matches": "y2",
         "showgrid": false,
         "showline": false,
         "showticklabels": false,
         "ticks": ""
        }
       }
      }
     },
     "metadata": {},
     "output_type": "display_data"
    }
   ],
   "source": [
    "fig = px.histogram(reviews_df, x=\"review_rating\", marginal=\"box\")\n",
    "fig.show()\n"
   ]
  },
  {
   "cell_type": "code",
   "execution_count": 15,
   "metadata": {},
   "outputs": [],
   "source": [
    "from sklearn.model_selection import train_test_split\n",
    "\n",
    "\n",
    "X = reviews_df[\"review_text\"]\n",
    "y = reviews_df[\"review_rating\"]\n",
    "\n",
    "X_train, X_test, y_train, y_test = train_test_split(X, y, random_state=42)\n"
   ]
  },
  {
   "cell_type": "markdown",
   "metadata": {},
   "source": [
    "### Dummy regression"
   ]
  },
  {
   "cell_type": "code",
   "execution_count": 27,
   "metadata": {},
   "outputs": [
    {
     "data": {
      "application/vnd.plotly.v1+json": {
       "config": {
        "plotlyServerURL": "https://plot.ly"
       },
       "data": [
        {
         "alignmentgroup": "True",
         "hovertemplate": "index=%{x}<br>Count=%{y}<br>color=%{marker.color}<extra></extra>",
         "legendgroup": "",
         "marker": {
          "color": [
           3047,
           2069,
           1309,
           1110,
           1072,
           1014,
           987,
           901,
           830,
           816,
           764,
           549,
           536,
           470,
           463,
           454,
           454,
           434,
           433,
           418
          ],
          "coloraxis": "coloraxis",
          "pattern": {
           "shape": ""
          }
         },
         "name": "",
         "offsetgroup": "",
         "orientation": "v",
         "showlegend": false,
         "textposition": "auto",
         "type": "bar",
         "x": [
          "the",
          "and",
          "to",
          "was",
          "in",
          "is",
          "of",
          "this",
          "it",
          "we",
          "for",
          "my",
          "place",
          "with",
          "food",
          "you",
          "on",
          "but",
          "had",
          "here"
         ],
         "xaxis": "x",
         "y": [
          3047,
          2069,
          1309,
          1110,
          1072,
          1014,
          987,
          901,
          830,
          816,
          764,
          549,
          536,
          470,
          463,
          454,
          454,
          434,
          433,
          418
         ],
         "yaxis": "y"
        }
       ],
       "layout": {
        "barmode": "relative",
        "coloraxis": {
         "colorbar": {
          "title": {
           "text": "color"
          }
         },
         "colorscale": [
          [
           0,
           "#0d0887"
          ],
          [
           0.1111111111111111,
           "#46039f"
          ],
          [
           0.2222222222222222,
           "#7201a8"
          ],
          [
           0.3333333333333333,
           "#9c179e"
          ],
          [
           0.4444444444444444,
           "#bd3786"
          ],
          [
           0.5555555555555556,
           "#d8576b"
          ],
          [
           0.6666666666666666,
           "#ed7953"
          ],
          [
           0.7777777777777778,
           "#fb9f3a"
          ],
          [
           0.8888888888888888,
           "#fdca26"
          ],
          [
           1,
           "#f0f921"
          ]
         ]
        },
        "legend": {
         "tracegroupgap": 0
        },
        "template": {
         "data": {
          "bar": [
           {
            "error_x": {
             "color": "#2a3f5f"
            },
            "error_y": {
             "color": "#2a3f5f"
            },
            "marker": {
             "line": {
              "color": "#E5ECF6",
              "width": 0.5
             },
             "pattern": {
              "fillmode": "overlay",
              "size": 10,
              "solidity": 0.2
             }
            },
            "type": "bar"
           }
          ],
          "barpolar": [
           {
            "marker": {
             "line": {
              "color": "#E5ECF6",
              "width": 0.5
             },
             "pattern": {
              "fillmode": "overlay",
              "size": 10,
              "solidity": 0.2
             }
            },
            "type": "barpolar"
           }
          ],
          "carpet": [
           {
            "aaxis": {
             "endlinecolor": "#2a3f5f",
             "gridcolor": "white",
             "linecolor": "white",
             "minorgridcolor": "white",
             "startlinecolor": "#2a3f5f"
            },
            "baxis": {
             "endlinecolor": "#2a3f5f",
             "gridcolor": "white",
             "linecolor": "white",
             "minorgridcolor": "white",
             "startlinecolor": "#2a3f5f"
            },
            "type": "carpet"
           }
          ],
          "choropleth": [
           {
            "colorbar": {
             "outlinewidth": 0,
             "ticks": ""
            },
            "type": "choropleth"
           }
          ],
          "contour": [
           {
            "colorbar": {
             "outlinewidth": 0,
             "ticks": ""
            },
            "colorscale": [
             [
              0,
              "#0d0887"
             ],
             [
              0.1111111111111111,
              "#46039f"
             ],
             [
              0.2222222222222222,
              "#7201a8"
             ],
             [
              0.3333333333333333,
              "#9c179e"
             ],
             [
              0.4444444444444444,
              "#bd3786"
             ],
             [
              0.5555555555555556,
              "#d8576b"
             ],
             [
              0.6666666666666666,
              "#ed7953"
             ],
             [
              0.7777777777777778,
              "#fb9f3a"
             ],
             [
              0.8888888888888888,
              "#fdca26"
             ],
             [
              1,
              "#f0f921"
             ]
            ],
            "type": "contour"
           }
          ],
          "contourcarpet": [
           {
            "colorbar": {
             "outlinewidth": 0,
             "ticks": ""
            },
            "type": "contourcarpet"
           }
          ],
          "heatmap": [
           {
            "colorbar": {
             "outlinewidth": 0,
             "ticks": ""
            },
            "colorscale": [
             [
              0,
              "#0d0887"
             ],
             [
              0.1111111111111111,
              "#46039f"
             ],
             [
              0.2222222222222222,
              "#7201a8"
             ],
             [
              0.3333333333333333,
              "#9c179e"
             ],
             [
              0.4444444444444444,
              "#bd3786"
             ],
             [
              0.5555555555555556,
              "#d8576b"
             ],
             [
              0.6666666666666666,
              "#ed7953"
             ],
             [
              0.7777777777777778,
              "#fb9f3a"
             ],
             [
              0.8888888888888888,
              "#fdca26"
             ],
             [
              1,
              "#f0f921"
             ]
            ],
            "type": "heatmap"
           }
          ],
          "heatmapgl": [
           {
            "colorbar": {
             "outlinewidth": 0,
             "ticks": ""
            },
            "colorscale": [
             [
              0,
              "#0d0887"
             ],
             [
              0.1111111111111111,
              "#46039f"
             ],
             [
              0.2222222222222222,
              "#7201a8"
             ],
             [
              0.3333333333333333,
              "#9c179e"
             ],
             [
              0.4444444444444444,
              "#bd3786"
             ],
             [
              0.5555555555555556,
              "#d8576b"
             ],
             [
              0.6666666666666666,
              "#ed7953"
             ],
             [
              0.7777777777777778,
              "#fb9f3a"
             ],
             [
              0.8888888888888888,
              "#fdca26"
             ],
             [
              1,
              "#f0f921"
             ]
            ],
            "type": "heatmapgl"
           }
          ],
          "histogram": [
           {
            "marker": {
             "pattern": {
              "fillmode": "overlay",
              "size": 10,
              "solidity": 0.2
             }
            },
            "type": "histogram"
           }
          ],
          "histogram2d": [
           {
            "colorbar": {
             "outlinewidth": 0,
             "ticks": ""
            },
            "colorscale": [
             [
              0,
              "#0d0887"
             ],
             [
              0.1111111111111111,
              "#46039f"
             ],
             [
              0.2222222222222222,
              "#7201a8"
             ],
             [
              0.3333333333333333,
              "#9c179e"
             ],
             [
              0.4444444444444444,
              "#bd3786"
             ],
             [
              0.5555555555555556,
              "#d8576b"
             ],
             [
              0.6666666666666666,
              "#ed7953"
             ],
             [
              0.7777777777777778,
              "#fb9f3a"
             ],
             [
              0.8888888888888888,
              "#fdca26"
             ],
             [
              1,
              "#f0f921"
             ]
            ],
            "type": "histogram2d"
           }
          ],
          "histogram2dcontour": [
           {
            "colorbar": {
             "outlinewidth": 0,
             "ticks": ""
            },
            "colorscale": [
             [
              0,
              "#0d0887"
             ],
             [
              0.1111111111111111,
              "#46039f"
             ],
             [
              0.2222222222222222,
              "#7201a8"
             ],
             [
              0.3333333333333333,
              "#9c179e"
             ],
             [
              0.4444444444444444,
              "#bd3786"
             ],
             [
              0.5555555555555556,
              "#d8576b"
             ],
             [
              0.6666666666666666,
              "#ed7953"
             ],
             [
              0.7777777777777778,
              "#fb9f3a"
             ],
             [
              0.8888888888888888,
              "#fdca26"
             ],
             [
              1,
              "#f0f921"
             ]
            ],
            "type": "histogram2dcontour"
           }
          ],
          "mesh3d": [
           {
            "colorbar": {
             "outlinewidth": 0,
             "ticks": ""
            },
            "type": "mesh3d"
           }
          ],
          "parcoords": [
           {
            "line": {
             "colorbar": {
              "outlinewidth": 0,
              "ticks": ""
             }
            },
            "type": "parcoords"
           }
          ],
          "pie": [
           {
            "automargin": true,
            "type": "pie"
           }
          ],
          "scatter": [
           {
            "marker": {
             "colorbar": {
              "outlinewidth": 0,
              "ticks": ""
             }
            },
            "type": "scatter"
           }
          ],
          "scatter3d": [
           {
            "line": {
             "colorbar": {
              "outlinewidth": 0,
              "ticks": ""
             }
            },
            "marker": {
             "colorbar": {
              "outlinewidth": 0,
              "ticks": ""
             }
            },
            "type": "scatter3d"
           }
          ],
          "scattercarpet": [
           {
            "marker": {
             "colorbar": {
              "outlinewidth": 0,
              "ticks": ""
             }
            },
            "type": "scattercarpet"
           }
          ],
          "scattergeo": [
           {
            "marker": {
             "colorbar": {
              "outlinewidth": 0,
              "ticks": ""
             }
            },
            "type": "scattergeo"
           }
          ],
          "scattergl": [
           {
            "marker": {
             "colorbar": {
              "outlinewidth": 0,
              "ticks": ""
             }
            },
            "type": "scattergl"
           }
          ],
          "scattermapbox": [
           {
            "marker": {
             "colorbar": {
              "outlinewidth": 0,
              "ticks": ""
             }
            },
            "type": "scattermapbox"
           }
          ],
          "scatterpolar": [
           {
            "marker": {
             "colorbar": {
              "outlinewidth": 0,
              "ticks": ""
             }
            },
            "type": "scatterpolar"
           }
          ],
          "scatterpolargl": [
           {
            "marker": {
             "colorbar": {
              "outlinewidth": 0,
              "ticks": ""
             }
            },
            "type": "scatterpolargl"
           }
          ],
          "scatterternary": [
           {
            "marker": {
             "colorbar": {
              "outlinewidth": 0,
              "ticks": ""
             }
            },
            "type": "scatterternary"
           }
          ],
          "surface": [
           {
            "colorbar": {
             "outlinewidth": 0,
             "ticks": ""
            },
            "colorscale": [
             [
              0,
              "#0d0887"
             ],
             [
              0.1111111111111111,
              "#46039f"
             ],
             [
              0.2222222222222222,
              "#7201a8"
             ],
             [
              0.3333333333333333,
              "#9c179e"
             ],
             [
              0.4444444444444444,
              "#bd3786"
             ],
             [
              0.5555555555555556,
              "#d8576b"
             ],
             [
              0.6666666666666666,
              "#ed7953"
             ],
             [
              0.7777777777777778,
              "#fb9f3a"
             ],
             [
              0.8888888888888888,
              "#fdca26"
             ],
             [
              1,
              "#f0f921"
             ]
            ],
            "type": "surface"
           }
          ],
          "table": [
           {
            "cells": {
             "fill": {
              "color": "#EBF0F8"
             },
             "line": {
              "color": "white"
             }
            },
            "header": {
             "fill": {
              "color": "#C8D4E3"
             },
             "line": {
              "color": "white"
             }
            },
            "type": "table"
           }
          ]
         },
         "layout": {
          "annotationdefaults": {
           "arrowcolor": "#2a3f5f",
           "arrowhead": 0,
           "arrowwidth": 1
          },
          "autotypenumbers": "strict",
          "coloraxis": {
           "colorbar": {
            "outlinewidth": 0,
            "ticks": ""
           }
          },
          "colorscale": {
           "diverging": [
            [
             0,
             "#8e0152"
            ],
            [
             0.1,
             "#c51b7d"
            ],
            [
             0.2,
             "#de77ae"
            ],
            [
             0.3,
             "#f1b6da"
            ],
            [
             0.4,
             "#fde0ef"
            ],
            [
             0.5,
             "#f7f7f7"
            ],
            [
             0.6,
             "#e6f5d0"
            ],
            [
             0.7,
             "#b8e186"
            ],
            [
             0.8,
             "#7fbc41"
            ],
            [
             0.9,
             "#4d9221"
            ],
            [
             1,
             "#276419"
            ]
           ],
           "sequential": [
            [
             0,
             "#0d0887"
            ],
            [
             0.1111111111111111,
             "#46039f"
            ],
            [
             0.2222222222222222,
             "#7201a8"
            ],
            [
             0.3333333333333333,
             "#9c179e"
            ],
            [
             0.4444444444444444,
             "#bd3786"
            ],
            [
             0.5555555555555556,
             "#d8576b"
            ],
            [
             0.6666666666666666,
             "#ed7953"
            ],
            [
             0.7777777777777778,
             "#fb9f3a"
            ],
            [
             0.8888888888888888,
             "#fdca26"
            ],
            [
             1,
             "#f0f921"
            ]
           ],
           "sequentialminus": [
            [
             0,
             "#0d0887"
            ],
            [
             0.1111111111111111,
             "#46039f"
            ],
            [
             0.2222222222222222,
             "#7201a8"
            ],
            [
             0.3333333333333333,
             "#9c179e"
            ],
            [
             0.4444444444444444,
             "#bd3786"
            ],
            [
             0.5555555555555556,
             "#d8576b"
            ],
            [
             0.6666666666666666,
             "#ed7953"
            ],
            [
             0.7777777777777778,
             "#fb9f3a"
            ],
            [
             0.8888888888888888,
             "#fdca26"
            ],
            [
             1,
             "#f0f921"
            ]
           ]
          },
          "colorway": [
           "#636efa",
           "#EF553B",
           "#00cc96",
           "#ab63fa",
           "#FFA15A",
           "#19d3f3",
           "#FF6692",
           "#B6E880",
           "#FF97FF",
           "#FECB52"
          ],
          "font": {
           "color": "#2a3f5f"
          },
          "geo": {
           "bgcolor": "white",
           "lakecolor": "white",
           "landcolor": "#E5ECF6",
           "showlakes": true,
           "showland": true,
           "subunitcolor": "white"
          },
          "hoverlabel": {
           "align": "left"
          },
          "hovermode": "closest",
          "mapbox": {
           "style": "light"
          },
          "paper_bgcolor": "white",
          "plot_bgcolor": "#E5ECF6",
          "polar": {
           "angularaxis": {
            "gridcolor": "white",
            "linecolor": "white",
            "ticks": ""
           },
           "bgcolor": "#E5ECF6",
           "radialaxis": {
            "gridcolor": "white",
            "linecolor": "white",
            "ticks": ""
           }
          },
          "scene": {
           "xaxis": {
            "backgroundcolor": "#E5ECF6",
            "gridcolor": "white",
            "gridwidth": 2,
            "linecolor": "white",
            "showbackground": true,
            "ticks": "",
            "zerolinecolor": "white"
           },
           "yaxis": {
            "backgroundcolor": "#E5ECF6",
            "gridcolor": "white",
            "gridwidth": 2,
            "linecolor": "white",
            "showbackground": true,
            "ticks": "",
            "zerolinecolor": "white"
           },
           "zaxis": {
            "backgroundcolor": "#E5ECF6",
            "gridcolor": "white",
            "gridwidth": 2,
            "linecolor": "white",
            "showbackground": true,
            "ticks": "",
            "zerolinecolor": "white"
           }
          },
          "shapedefaults": {
           "line": {
            "color": "#2a3f5f"
           }
          },
          "ternary": {
           "aaxis": {
            "gridcolor": "white",
            "linecolor": "white",
            "ticks": ""
           },
           "baxis": {
            "gridcolor": "white",
            "linecolor": "white",
            "ticks": ""
           },
           "bgcolor": "#E5ECF6",
           "caxis": {
            "gridcolor": "white",
            "linecolor": "white",
            "ticks": ""
           }
          },
          "title": {
           "x": 0.05
          },
          "xaxis": {
           "automargin": true,
           "gridcolor": "white",
           "linecolor": "white",
           "ticks": "",
           "title": {
            "standoff": 15
           },
           "zerolinecolor": "white",
           "zerolinewidth": 2
          },
          "yaxis": {
           "automargin": true,
           "gridcolor": "white",
           "linecolor": "white",
           "ticks": "",
           "title": {
            "standoff": 15
           },
           "zerolinecolor": "white",
           "zerolinewidth": 2
          }
         }
        },
        "title": {
         "text": "Top 20 words in reviews"
        },
        "xaxis": {
         "anchor": "y",
         "domain": [
          0,
          1
         ],
         "title": {
          "text": "index"
         }
        },
        "yaxis": {
         "anchor": "x",
         "domain": [
          0,
          1
         ],
         "title": {
          "text": "Count"
         }
        }
       }
      }
     },
     "metadata": {},
     "output_type": "display_data"
    },
    {
     "data": {
      "application/vnd.plotly.v1+json": {
       "config": {
        "plotlyServerURL": "https://plot.ly"
       },
       "data": [
        {
         "alignmentgroup": "True",
         "hovertemplate": "index=%{x}<br>Count=%{y}<br>color=%{marker.color}<extra></extra>",
         "legendgroup": "",
         "marker": {
          "color": [
           -0.09096360424221303,
           -0.0713519675576081,
           -0.0644773118040311,
           -0.06353175828185886,
           -0.05935850775593548,
           -0.05560720182941108,
           -0.051898934766814384,
           -0.04688481763168498,
           -0.0464634715625997,
           -0.04635242886464112,
           0.017472460213631375,
           0.018372201648699304,
           0.01884826251508724,
           0.0191194014275949,
           0.019200388799071134,
           0.02728551219391426,
           0.03159708067567012,
           0.03596037288137681,
           0.03954088450045991,
           0.05642139734075317
          ],
          "coloraxis": "coloraxis",
          "pattern": {
           "shape": ""
          }
         },
         "name": "",
         "offsetgroup": "",
         "orientation": "v",
         "showlegend": false,
         "textposition": "auto",
         "type": "bar",
         "x": [
          "rude",
          "okay",
          "mediocre",
          "worst",
          "not",
          "terrible",
          "disappointing",
          "tagged",
          "manager",
          "average",
          "tokyo",
          "wow",
          "great",
          "delicious",
          "excellent",
          "disappoint",
          "paris",
          "favorite",
          "best",
          "amazing"
         ],
         "xaxis": "x",
         "y": [
          -0.09096360424221303,
          -0.0713519675576081,
          -0.0644773118040311,
          -0.06353175828185886,
          -0.05935850775593548,
          -0.05560720182941108,
          -0.051898934766814384,
          -0.04688481763168498,
          -0.0464634715625997,
          -0.04635242886464112,
          0.017472460213631375,
          0.018372201648699304,
          0.01884826251508724,
          0.0191194014275949,
          0.019200388799071134,
          0.02728551219391426,
          0.03159708067567012,
          0.03596037288137681,
          0.03954088450045991,
          0.05642139734075317
         ],
         "yaxis": "y"
        }
       ],
       "layout": {
        "barmode": "relative",
        "coloraxis": {
         "colorbar": {
          "title": {
           "text": "color"
          }
         },
         "colorscale": [
          [
           0,
           "#0d0887"
          ],
          [
           0.1111111111111111,
           "#46039f"
          ],
          [
           0.2222222222222222,
           "#7201a8"
          ],
          [
           0.3333333333333333,
           "#9c179e"
          ],
          [
           0.4444444444444444,
           "#bd3786"
          ],
          [
           0.5555555555555556,
           "#d8576b"
          ],
          [
           0.6666666666666666,
           "#ed7953"
          ],
          [
           0.7777777777777778,
           "#fb9f3a"
          ],
          [
           0.8888888888888888,
           "#fdca26"
          ],
          [
           1,
           "#f0f921"
          ]
         ]
        },
        "legend": {
         "tracegroupgap": 0
        },
        "template": {
         "data": {
          "bar": [
           {
            "error_x": {
             "color": "#2a3f5f"
            },
            "error_y": {
             "color": "#2a3f5f"
            },
            "marker": {
             "line": {
              "color": "#E5ECF6",
              "width": 0.5
             },
             "pattern": {
              "fillmode": "overlay",
              "size": 10,
              "solidity": 0.2
             }
            },
            "type": "bar"
           }
          ],
          "barpolar": [
           {
            "marker": {
             "line": {
              "color": "#E5ECF6",
              "width": 0.5
             },
             "pattern": {
              "fillmode": "overlay",
              "size": 10,
              "solidity": 0.2
             }
            },
            "type": "barpolar"
           }
          ],
          "carpet": [
           {
            "aaxis": {
             "endlinecolor": "#2a3f5f",
             "gridcolor": "white",
             "linecolor": "white",
             "minorgridcolor": "white",
             "startlinecolor": "#2a3f5f"
            },
            "baxis": {
             "endlinecolor": "#2a3f5f",
             "gridcolor": "white",
             "linecolor": "white",
             "minorgridcolor": "white",
             "startlinecolor": "#2a3f5f"
            },
            "type": "carpet"
           }
          ],
          "choropleth": [
           {
            "colorbar": {
             "outlinewidth": 0,
             "ticks": ""
            },
            "type": "choropleth"
           }
          ],
          "contour": [
           {
            "colorbar": {
             "outlinewidth": 0,
             "ticks": ""
            },
            "colorscale": [
             [
              0,
              "#0d0887"
             ],
             [
              0.1111111111111111,
              "#46039f"
             ],
             [
              0.2222222222222222,
              "#7201a8"
             ],
             [
              0.3333333333333333,
              "#9c179e"
             ],
             [
              0.4444444444444444,
              "#bd3786"
             ],
             [
              0.5555555555555556,
              "#d8576b"
             ],
             [
              0.6666666666666666,
              "#ed7953"
             ],
             [
              0.7777777777777778,
              "#fb9f3a"
             ],
             [
              0.8888888888888888,
              "#fdca26"
             ],
             [
              1,
              "#f0f921"
             ]
            ],
            "type": "contour"
           }
          ],
          "contourcarpet": [
           {
            "colorbar": {
             "outlinewidth": 0,
             "ticks": ""
            },
            "type": "contourcarpet"
           }
          ],
          "heatmap": [
           {
            "colorbar": {
             "outlinewidth": 0,
             "ticks": ""
            },
            "colorscale": [
             [
              0,
              "#0d0887"
             ],
             [
              0.1111111111111111,
              "#46039f"
             ],
             [
              0.2222222222222222,
              "#7201a8"
             ],
             [
              0.3333333333333333,
              "#9c179e"
             ],
             [
              0.4444444444444444,
              "#bd3786"
             ],
             [
              0.5555555555555556,
              "#d8576b"
             ],
             [
              0.6666666666666666,
              "#ed7953"
             ],
             [
              0.7777777777777778,
              "#fb9f3a"
             ],
             [
              0.8888888888888888,
              "#fdca26"
             ],
             [
              1,
              "#f0f921"
             ]
            ],
            "type": "heatmap"
           }
          ],
          "heatmapgl": [
           {
            "colorbar": {
             "outlinewidth": 0,
             "ticks": ""
            },
            "colorscale": [
             [
              0,
              "#0d0887"
             ],
             [
              0.1111111111111111,
              "#46039f"
             ],
             [
              0.2222222222222222,
              "#7201a8"
             ],
             [
              0.3333333333333333,
              "#9c179e"
             ],
             [
              0.4444444444444444,
              "#bd3786"
             ],
             [
              0.5555555555555556,
              "#d8576b"
             ],
             [
              0.6666666666666666,
              "#ed7953"
             ],
             [
              0.7777777777777778,
              "#fb9f3a"
             ],
             [
              0.8888888888888888,
              "#fdca26"
             ],
             [
              1,
              "#f0f921"
             ]
            ],
            "type": "heatmapgl"
           }
          ],
          "histogram": [
           {
            "marker": {
             "pattern": {
              "fillmode": "overlay",
              "size": 10,
              "solidity": 0.2
             }
            },
            "type": "histogram"
           }
          ],
          "histogram2d": [
           {
            "colorbar": {
             "outlinewidth": 0,
             "ticks": ""
            },
            "colorscale": [
             [
              0,
              "#0d0887"
             ],
             [
              0.1111111111111111,
              "#46039f"
             ],
             [
              0.2222222222222222,
              "#7201a8"
             ],
             [
              0.3333333333333333,
              "#9c179e"
             ],
             [
              0.4444444444444444,
              "#bd3786"
             ],
             [
              0.5555555555555556,
              "#d8576b"
             ],
             [
              0.6666666666666666,
              "#ed7953"
             ],
             [
              0.7777777777777778,
              "#fb9f3a"
             ],
             [
              0.8888888888888888,
              "#fdca26"
             ],
             [
              1,
              "#f0f921"
             ]
            ],
            "type": "histogram2d"
           }
          ],
          "histogram2dcontour": [
           {
            "colorbar": {
             "outlinewidth": 0,
             "ticks": ""
            },
            "colorscale": [
             [
              0,
              "#0d0887"
             ],
             [
              0.1111111111111111,
              "#46039f"
             ],
             [
              0.2222222222222222,
              "#7201a8"
             ],
             [
              0.3333333333333333,
              "#9c179e"
             ],
             [
              0.4444444444444444,
              "#bd3786"
             ],
             [
              0.5555555555555556,
              "#d8576b"
             ],
             [
              0.6666666666666666,
              "#ed7953"
             ],
             [
              0.7777777777777778,
              "#fb9f3a"
             ],
             [
              0.8888888888888888,
              "#fdca26"
             ],
             [
              1,
              "#f0f921"
             ]
            ],
            "type": "histogram2dcontour"
           }
          ],
          "mesh3d": [
           {
            "colorbar": {
             "outlinewidth": 0,
             "ticks": ""
            },
            "type": "mesh3d"
           }
          ],
          "parcoords": [
           {
            "line": {
             "colorbar": {
              "outlinewidth": 0,
              "ticks": ""
             }
            },
            "type": "parcoords"
           }
          ],
          "pie": [
           {
            "automargin": true,
            "type": "pie"
           }
          ],
          "scatter": [
           {
            "marker": {
             "colorbar": {
              "outlinewidth": 0,
              "ticks": ""
             }
            },
            "type": "scatter"
           }
          ],
          "scatter3d": [
           {
            "line": {
             "colorbar": {
              "outlinewidth": 0,
              "ticks": ""
             }
            },
            "marker": {
             "colorbar": {
              "outlinewidth": 0,
              "ticks": ""
             }
            },
            "type": "scatter3d"
           }
          ],
          "scattercarpet": [
           {
            "marker": {
             "colorbar": {
              "outlinewidth": 0,
              "ticks": ""
             }
            },
            "type": "scattercarpet"
           }
          ],
          "scattergeo": [
           {
            "marker": {
             "colorbar": {
              "outlinewidth": 0,
              "ticks": ""
             }
            },
            "type": "scattergeo"
           }
          ],
          "scattergl": [
           {
            "marker": {
             "colorbar": {
              "outlinewidth": 0,
              "ticks": ""
             }
            },
            "type": "scattergl"
           }
          ],
          "scattermapbox": [
           {
            "marker": {
             "colorbar": {
              "outlinewidth": 0,
              "ticks": ""
             }
            },
            "type": "scattermapbox"
           }
          ],
          "scatterpolar": [
           {
            "marker": {
             "colorbar": {
              "outlinewidth": 0,
              "ticks": ""
             }
            },
            "type": "scatterpolar"
           }
          ],
          "scatterpolargl": [
           {
            "marker": {
             "colorbar": {
              "outlinewidth": 0,
              "ticks": ""
             }
            },
            "type": "scatterpolargl"
           }
          ],
          "scatterternary": [
           {
            "marker": {
             "colorbar": {
              "outlinewidth": 0,
              "ticks": ""
             }
            },
            "type": "scatterternary"
           }
          ],
          "surface": [
           {
            "colorbar": {
             "outlinewidth": 0,
             "ticks": ""
            },
            "colorscale": [
             [
              0,
              "#0d0887"
             ],
             [
              0.1111111111111111,
              "#46039f"
             ],
             [
              0.2222222222222222,
              "#7201a8"
             ],
             [
              0.3333333333333333,
              "#9c179e"
             ],
             [
              0.4444444444444444,
              "#bd3786"
             ],
             [
              0.5555555555555556,
              "#d8576b"
             ],
             [
              0.6666666666666666,
              "#ed7953"
             ],
             [
              0.7777777777777778,
              "#fb9f3a"
             ],
             [
              0.8888888888888888,
              "#fdca26"
             ],
             [
              1,
              "#f0f921"
             ]
            ],
            "type": "surface"
           }
          ],
          "table": [
           {
            "cells": {
             "fill": {
              "color": "#EBF0F8"
             },
             "line": {
              "color": "white"
             }
            },
            "header": {
             "fill": {
              "color": "#C8D4E3"
             },
             "line": {
              "color": "white"
             }
            },
            "type": "table"
           }
          ]
         },
         "layout": {
          "annotationdefaults": {
           "arrowcolor": "#2a3f5f",
           "arrowhead": 0,
           "arrowwidth": 1
          },
          "autotypenumbers": "strict",
          "coloraxis": {
           "colorbar": {
            "outlinewidth": 0,
            "ticks": ""
           }
          },
          "colorscale": {
           "diverging": [
            [
             0,
             "#8e0152"
            ],
            [
             0.1,
             "#c51b7d"
            ],
            [
             0.2,
             "#de77ae"
            ],
            [
             0.3,
             "#f1b6da"
            ],
            [
             0.4,
             "#fde0ef"
            ],
            [
             0.5,
             "#f7f7f7"
            ],
            [
             0.6,
             "#e6f5d0"
            ],
            [
             0.7,
             "#b8e186"
            ],
            [
             0.8,
             "#7fbc41"
            ],
            [
             0.9,
             "#4d9221"
            ],
            [
             1,
             "#276419"
            ]
           ],
           "sequential": [
            [
             0,
             "#0d0887"
            ],
            [
             0.1111111111111111,
             "#46039f"
            ],
            [
             0.2222222222222222,
             "#7201a8"
            ],
            [
             0.3333333333333333,
             "#9c179e"
            ],
            [
             0.4444444444444444,
             "#bd3786"
            ],
            [
             0.5555555555555556,
             "#d8576b"
            ],
            [
             0.6666666666666666,
             "#ed7953"
            ],
            [
             0.7777777777777778,
             "#fb9f3a"
            ],
            [
             0.8888888888888888,
             "#fdca26"
            ],
            [
             1,
             "#f0f921"
            ]
           ],
           "sequentialminus": [
            [
             0,
             "#0d0887"
            ],
            [
             0.1111111111111111,
             "#46039f"
            ],
            [
             0.2222222222222222,
             "#7201a8"
            ],
            [
             0.3333333333333333,
             "#9c179e"
            ],
            [
             0.4444444444444444,
             "#bd3786"
            ],
            [
             0.5555555555555556,
             "#d8576b"
            ],
            [
             0.6666666666666666,
             "#ed7953"
            ],
            [
             0.7777777777777778,
             "#fb9f3a"
            ],
            [
             0.8888888888888888,
             "#fdca26"
            ],
            [
             1,
             "#f0f921"
            ]
           ]
          },
          "colorway": [
           "#636efa",
           "#EF553B",
           "#00cc96",
           "#ab63fa",
           "#FFA15A",
           "#19d3f3",
           "#FF6692",
           "#B6E880",
           "#FF97FF",
           "#FECB52"
          ],
          "font": {
           "color": "#2a3f5f"
          },
          "geo": {
           "bgcolor": "white",
           "lakecolor": "white",
           "landcolor": "#E5ECF6",
           "showlakes": true,
           "showland": true,
           "subunitcolor": "white"
          },
          "hoverlabel": {
           "align": "left"
          },
          "hovermode": "closest",
          "mapbox": {
           "style": "light"
          },
          "paper_bgcolor": "white",
          "plot_bgcolor": "#E5ECF6",
          "polar": {
           "angularaxis": {
            "gridcolor": "white",
            "linecolor": "white",
            "ticks": ""
           },
           "bgcolor": "#E5ECF6",
           "radialaxis": {
            "gridcolor": "white",
            "linecolor": "white",
            "ticks": ""
           }
          },
          "scene": {
           "xaxis": {
            "backgroundcolor": "#E5ECF6",
            "gridcolor": "white",
            "gridwidth": 2,
            "linecolor": "white",
            "showbackground": true,
            "ticks": "",
            "zerolinecolor": "white"
           },
           "yaxis": {
            "backgroundcolor": "#E5ECF6",
            "gridcolor": "white",
            "gridwidth": 2,
            "linecolor": "white",
            "showbackground": true,
            "ticks": "",
            "zerolinecolor": "white"
           },
           "zaxis": {
            "backgroundcolor": "#E5ECF6",
            "gridcolor": "white",
            "gridwidth": 2,
            "linecolor": "white",
            "showbackground": true,
            "ticks": "",
            "zerolinecolor": "white"
           }
          },
          "shapedefaults": {
           "line": {
            "color": "#2a3f5f"
           }
          },
          "ternary": {
           "aaxis": {
            "gridcolor": "white",
            "linecolor": "white",
            "ticks": ""
           },
           "baxis": {
            "gridcolor": "white",
            "linecolor": "white",
            "ticks": ""
           },
           "bgcolor": "#E5ECF6",
           "caxis": {
            "gridcolor": "white",
            "linecolor": "white",
            "ticks": ""
           }
          },
          "title": {
           "x": 0.05
          },
          "xaxis": {
           "automargin": true,
           "gridcolor": "white",
           "linecolor": "white",
           "ticks": "",
           "title": {
            "standoff": 15
           },
           "zerolinecolor": "white",
           "zerolinewidth": 2
          },
          "yaxis": {
           "automargin": true,
           "gridcolor": "white",
           "linecolor": "white",
           "ticks": "",
           "title": {
            "standoff": 15
           },
           "zerolinecolor": "white",
           "zerolinewidth": 2
          }
         }
        },
        "title": {
         "text": "Top 20 words in reviews"
        },
        "xaxis": {
         "anchor": "y",
         "domain": [
          0,
          1
         ],
         "title": {
          "text": "index"
         }
        },
        "yaxis": {
         "anchor": "x",
         "domain": [
          0,
          1
         ],
         "title": {
          "text": "Count"
         }
        }
       }
      }
     },
     "metadata": {},
     "output_type": "display_data"
    },
    {
     "data": {
      "application/vnd.plotly.v1+json": {
       "config": {
        "plotlyServerURL": "https://plot.ly"
       },
       "data": [
        {
         "alignmentgroup": "True",
         "hovertemplate": "color=4.0<br>Actual=%{x}<br>Predicted=%{y}<extra></extra>",
         "legendgroup": "4.0",
         "marker": {
          "color": "#636efa"
         },
         "name": "4.0",
         "notched": false,
         "offsetgroup": "4.0",
         "orientation": "v",
         "showlegend": true,
         "type": "box",
         "x": [
          4,
          4,
          4,
          4,
          4,
          4,
          4,
          4,
          4,
          4,
          4,
          4,
          4,
          4,
          4,
          4,
          4,
          4,
          4,
          4,
          4,
          4,
          4,
          4,
          4,
          4,
          4,
          4,
          4,
          4,
          4,
          4,
          4,
          4,
          4,
          4,
          4,
          4,
          4,
          4,
          4,
          4,
          4,
          4,
          4,
          4,
          4,
          4,
          4,
          4,
          4,
          4,
          4,
          4,
          4,
          4,
          4,
          4,
          4,
          4,
          4,
          4,
          4,
          4,
          4,
          4,
          4,
          4,
          4,
          4,
          4,
          4,
          4,
          4,
          4,
          4,
          4,
          4,
          4,
          4,
          4,
          4,
          4,
          4,
          4,
          4,
          4,
          4,
          4,
          4,
          4,
          4,
          4,
          4,
          4,
          4,
          4,
          4,
          4,
          4,
          4,
          4,
          4,
          4,
          4,
          4,
          4,
          4,
          4,
          4,
          4,
          4,
          4,
          4,
          4,
          4,
          4,
          4,
          4,
          4,
          4,
          4,
          4,
          4,
          4,
          4,
          4,
          4,
          4,
          4,
          4,
          4,
          4,
          4,
          4,
          4,
          4,
          4,
          4,
          4,
          4,
          4,
          4,
          4,
          4,
          4,
          4,
          4,
          4,
          4,
          4,
          4,
          4,
          4,
          4,
          4,
          4,
          4,
          4,
          4,
          4,
          4,
          4,
          4,
          4,
          4,
          4,
          4,
          4,
          4,
          4,
          4,
          4,
          4,
          4,
          4,
          4,
          4,
          4,
          4,
          4,
          4,
          4,
          4,
          4,
          4,
          4,
          4,
          4
         ],
         "x0": " ",
         "xaxis": "x",
         "y": [
          4.6704827565495055,
          4.417721634584556,
          4.3084549257306755,
          4.563737067093488,
          4.2339316931751325,
          4.522501751626396,
          4.501313271960664,
          4.380407132079974,
          4.1065186629773835,
          3.3149555385252754,
          4.393341327630507,
          4.71503070791472,
          4.349037181465624,
          4.329188588351386,
          4.818211453571578,
          4.508849965222434,
          4.668766485290816,
          4.626033944567999,
          4.501313271960664,
          4.596664829895276,
          4.399303387464181,
          4.519080768378626,
          4.539639969155737,
          4.402370140714457,
          4.367926102504063,
          4.557361814322057,
          4.395442222600946,
          4.503809630834046,
          3.6200381680014293,
          4.440364147813212,
          4.360830965816548,
          4.6028175477889794,
          4.185774832999973,
          4.552757397558855,
          4.501313271960664,
          4.479051810587698,
          4.572194771174781,
          4.17445390008831,
          4.238963360086649,
          4.531882280452426,
          4.349295890762613,
          3.800984327496561,
          4.574068130623691,
          3.8372635396514263,
          4.291474734048018,
          4.616153471777002,
          4.30769095123402,
          4.3703137305681246,
          4.434420153851147,
          4.511611235487246,
          4.430723559185131,
          3.495289455266959,
          4.147699855049123,
          4.396660642666591,
          4.486541238684012,
          4.609523066896495,
          4.280662411562043,
          4.545220704297085,
          4.603022188822212,
          4.249417837785124,
          4.285342828174909,
          4.501313271960664,
          4.536945696222805,
          4.148958031408934,
          4.501313271960664,
          4.300281064632248,
          4.564196741879876,
          4.192999329067871,
          3.983824484066364,
          4.447379945864482,
          4.403661505280445,
          4.489526569805957,
          4.545220704297085,
          4.408826580864087,
          4.855975541503816,
          4.459954591003461,
          4.675737803939548,
          4.165862950614926,
          4.4407494529448925,
          4.4407494529448925,
          4.256960494348243,
          4.665334994303984,
          4.56296705390416,
          4.537332182070261,
          4.225483901328259,
          4.22548336213176,
          3.9207934324945897,
          4.529783699174449,
          4.653380451757748,
          3.8848385331659587,
          4.439092719962375,
          3.9765984990849415,
          4.322003040898273,
          4.382402195716121,
          4.640254894227443,
          4.079774718004068,
          4.521423762835144,
          3.9286066853144184,
          4.496899428749619,
          4.42831969063827,
          4.355283624895802,
          4.079908107022733,
          4.447379945864482,
          4.447511147855064,
          4.235887681259214,
          3.620350870786441,
          4.2596821512413,
          4.521423762835144,
          4.28753368984241,
          4.464281049690999,
          4.539011792081515,
          4.487371494011901,
          4.646275636019217,
          4.501299354129191,
          4.417565771938173,
          4.536133640620959,
          4.021905050371272,
          4.210136448719904,
          4.415462125266625,
          4.830117558876505,
          4.471542526587836,
          4.152001881655769,
          3.7946211656202227,
          4.411897402253617,
          4.501313271960664,
          4.453127470161999,
          4.233305378160148,
          4.489526569805957,
          3.687546215908967,
          4.1277245385742924,
          4.0695861713161685,
          4.476381877207033,
          4.41893791612745,
          4.675737803939548,
          4.501313271960664,
          3.9318650373293633,
          4.5121701685668585,
          4.503699950227255,
          4.447379945864482,
          3.2248772875510983,
          4.1309079505919355,
          4.53239420207119,
          4.4990947015300495,
          4.442268716611014,
          4.391835692024629,
          4.501313271960664,
          4.33664904119833,
          4.488519176794987,
          4.530023479026184,
          4.508188482027419,
          4.479998237001559,
          4.355734483407547,
          4.501313271960664,
          4.464281049690999,
          4.417891479338627,
          4.705945634883129,
          4.107349632899449,
          4.686250934854376,
          4.5170099196240985,
          4.418917039544547,
          4.5148084836204,
          4.226461884150237,
          4.545220704297085,
          4.626033944567999,
          4.624620835847655,
          4.436688851415514,
          4.508174564195946,
          4.265074265335466,
          4.509407577695502,
          4.411897402253617,
          4.421369961296715,
          4.686587312844265,
          4.282012488764693,
          4.456006041616718,
          4.381345239293559,
          4.578639523469019,
          4.461764482042406,
          4.45133526343068,
          4.313183690868142,
          4.465370013630305,
          4.468371783693147,
          4.745470430122342,
          4.626033944567999,
          4.501313271960664,
          4.258101653268837,
          4.509637060680436,
          3.96656095137328,
          4.532030084430794,
          4.4407494529448925
         ],
         "y0": " ",
         "yaxis": "y"
        },
        {
         "alignmentgroup": "True",
         "hovertemplate": "color=5.0<br>Actual=%{x}<br>Predicted=%{y}<extra></extra>",
         "legendgroup": "5.0",
         "marker": {
          "color": "#EF553B"
         },
         "name": "5.0",
         "notched": false,
         "offsetgroup": "5.0",
         "orientation": "v",
         "showlegend": true,
         "type": "box",
         "x": [
          5,
          5,
          5,
          5,
          5,
          5,
          5,
          5,
          5,
          5,
          5,
          5,
          5,
          5,
          5,
          5,
          5,
          5,
          5,
          5,
          5,
          5,
          5,
          5,
          5,
          5,
          5,
          5,
          5,
          5,
          5,
          5,
          5,
          5,
          5,
          5,
          5,
          5,
          5,
          5,
          5,
          5,
          5,
          5,
          5,
          5,
          5,
          5,
          5,
          5,
          5,
          5,
          5,
          5,
          5,
          5,
          5,
          5,
          5,
          5,
          5,
          5,
          5,
          5,
          5,
          5,
          5,
          5,
          5,
          5,
          5,
          5,
          5,
          5,
          5,
          5,
          5,
          5,
          5,
          5,
          5,
          5,
          5,
          5,
          5,
          5,
          5,
          5,
          5,
          5,
          5,
          5,
          5,
          5,
          5,
          5,
          5,
          5,
          5,
          5,
          5,
          5,
          5,
          5,
          5,
          5,
          5,
          5,
          5,
          5,
          5,
          5,
          5,
          5,
          5,
          5,
          5,
          5,
          5,
          5,
          5,
          5,
          5,
          5,
          5,
          5,
          5,
          5,
          5,
          5,
          5,
          5,
          5,
          5,
          5,
          5,
          5,
          5,
          5,
          5,
          5,
          5,
          5,
          5,
          5,
          5,
          5,
          5,
          5,
          5,
          5,
          5,
          5,
          5,
          5,
          5,
          5,
          5,
          5,
          5,
          5,
          5,
          5,
          5,
          5,
          5,
          5,
          5,
          5,
          5,
          5,
          5,
          5,
          5,
          5,
          5,
          5,
          5,
          5,
          5,
          5,
          5,
          5,
          5,
          5,
          5,
          5,
          5,
          5,
          5,
          5,
          5,
          5,
          5,
          5,
          5,
          5,
          5,
          5,
          5,
          5,
          5,
          5,
          5,
          5,
          5,
          5,
          5,
          5,
          5,
          5,
          5,
          5,
          5,
          5,
          5,
          5,
          5,
          5,
          5,
          5,
          5,
          5,
          5,
          5,
          5,
          5,
          5,
          5,
          5,
          5,
          5,
          5,
          5,
          5,
          5,
          5,
          5,
          5,
          5,
          5,
          5,
          5,
          5,
          5,
          5,
          5,
          5,
          5,
          5,
          5,
          5,
          5,
          5,
          5,
          5,
          5,
          5,
          5,
          5,
          5,
          5,
          5,
          5,
          5,
          5,
          5,
          5,
          5,
          5,
          5,
          5,
          5,
          5,
          5,
          5,
          5,
          5,
          5,
          5,
          5,
          5,
          5,
          5,
          5,
          5,
          5,
          5,
          5,
          5,
          5,
          5,
          5,
          5,
          5,
          5,
          5,
          5,
          5,
          5,
          5,
          5,
          5,
          5,
          5,
          5,
          5,
          5,
          5,
          5,
          5,
          5,
          5,
          5,
          5,
          5,
          5,
          5,
          5,
          5,
          5,
          5,
          5,
          5,
          5,
          5,
          5,
          5,
          5,
          5,
          5,
          5,
          5,
          5,
          5,
          5,
          5,
          5,
          5,
          5,
          5,
          5,
          5,
          5,
          5,
          5,
          5,
          5,
          5,
          5,
          5,
          5,
          5,
          5,
          5,
          5,
          5,
          5,
          5,
          5,
          5,
          5,
          5,
          5,
          5,
          5,
          5,
          5,
          5,
          5,
          5,
          5,
          5,
          5,
          5,
          5,
          5,
          5,
          5,
          5,
          5,
          5,
          5,
          5,
          5,
          5,
          5,
          5,
          5,
          5,
          5,
          5,
          5,
          5,
          5,
          5,
          5,
          5,
          5,
          5,
          5,
          5,
          5,
          5,
          5,
          5,
          5,
          5,
          5,
          5,
          5,
          5,
          5,
          5,
          5,
          5,
          5,
          5,
          5,
          5,
          5,
          5,
          5,
          5,
          5,
          5,
          5,
          5,
          5,
          5,
          5,
          5,
          5,
          5,
          5,
          5,
          5,
          5,
          5,
          5,
          5,
          5,
          5,
          5,
          5,
          5,
          5,
          5,
          5,
          5
         ],
         "x0": " ",
         "xaxis": "x",
         "y": [
          4.580469779249061,
          4.713355308109161,
          4.688035042418765,
          4.164416862461697,
          4.626033944567999,
          4.501313271960664,
          4.501313271960664,
          4.170633533664094,
          4.5666465542344685,
          4.45067305089686,
          4.006939963936053,
          4.455749106641726,
          4.685078037332647,
          4.450994742687676,
          2.5067229876743538,
          4.5909220847635845,
          4.195452125878362,
          4.846116869445214,
          4.464281049690999,
          4.646303430825578,
          4.465815280398851,
          4.609220204150393,
          4.5687484526515085,
          4.599814921182114,
          4.545220704297085,
          4.545220704297085,
          4.703446143969724,
          4.552757397558855,
          4.447379945864482,
          4.481868695389051,
          4.501313271960664,
          4.56542842075987,
          4.479998237001559,
          4.447379945864482,
          4.58938095190444,
          4.501313271960664,
          4.535900237149771,
          4.608220975143783,
          4.492823296795328,
          4.38787607801133,
          4.485035086911673,
          4.429841556858682,
          4.501313271960664,
          4.7276158072116115,
          5.0084951644873,
          4.37794612328086,
          4.447379945864482,
          4.128415871099528,
          4.534732091132598,
          4.383491159655428,
          4.715479466456864,
          4.7474925066868074,
          4.708356182998168,
          4.9352839346742545,
          4.592945118177698,
          4.6895215967165464,
          4.410027618509334,
          4.63438243860564,
          4.523238814541691,
          4.603763436749835,
          4.564176717712947,
          4.553526069659265,
          4.534311685493422,
          4.5500453482671785,
          4.565331195171565,
          4.38018563392912,
          4.582885582248286,
          4.149378744132136,
          4.884092404085902,
          4.548395216416204,
          4.563021892558941,
          4.545984609352266,
          4.530318247921553,
          4.489526569805957,
          4.447319247827109,
          4.516950313898319,
          4.5779201162393255,
          4.410184941322786,
          4.428514254616843,
          4.604903374016848,
          4.604988618615049,
          4.658305776260836,
          4.720306719470983,
          4.443555040620567,
          4.062759985269088,
          4.263392442330547,
          4.464281049690999,
          4.489526569805957,
          4.545220704297085,
          4.437026782434479,
          4.501313271960664,
          4.537435152248369,
          4.731538650540422,
          4.459578018361295,
          4.497279463223756,
          4.309981656800896,
          4.364677774398273,
          3.9403084290064436,
          4.545859359961185,
          4.212728141589609,
          4.398655174143072,
          4.707490351392101,
          4.435593243709774,
          3.8353140637097938,
          4.832050592900693,
          4.6178383436990265,
          4.521423762835144,
          4.514111753562524,
          4.48916792581366,
          4.777085866359488,
          4.627154970751704,
          4.773631027975766,
          4.868102149842627,
          4.474239763126911,
          4.603244525045486,
          4.58042440719159,
          4.647049997958323,
          3.152673989067588,
          4.502294458885819,
          4.754331521102793,
          4.399020804054912,
          4.5430670443031405,
          4.754996699173711,
          4.4795469608534475,
          4.539011792081515,
          4.789880944513333,
          3.4723918084271252,
          4.5588200678687105,
          4.538007880792236,
          4.446551194713572,
          4.610385796553675,
          4.622613878259868,
          4.483398855974079,
          4.20661767088412,
          4.426679219981241,
          4.739568605927937,
          4.227576022095351,
          4.765303970980764,
          4.570170786722578,
          4.444590936754414,
          4.356016245184571,
          4.521423762835144,
          4.447165816390013,
          4.533365259079561,
          4.576673339669995,
          4.618660804627956,
          4.0974458119202035,
          4.672746337806755,
          4.459052764381567,
          4.501313271960664,
          4.45097384703139,
          3.54861342101405,
          4.613459554838287,
          4.8112696439443425,
          4.411596621319598,
          4.732807964647292,
          4.407202098217574,
          4.501313271960664,
          4.484931626177216,
          4.658932132824303,
          4.573165862890625,
          4.803529243940059,
          4.082393020135738,
          4.517721188117954,
          4.648882978985503,
          4.501299354129191,
          4.331447585441104,
          4.599463142737808,
          4.637165362743933,
          4.611524366518543,
          4.520663356743474,
          4.4915562105480795,
          4.517275810990308,
          4.989894093030641,
          4.496384162201475,
          5.074274717038183,
          4.47273221648218,
          4.4939816511338355,
          4.27254655207196,
          4.6951711358954435,
          4.305051927894269,
          4.616021426074041,
          4.519232536794442,
          4.528798719583263,
          4.575310798830631,
          4.600927334905486,
          4.451354021253795,
          4.663966894653816,
          4.5889446694799565,
          3.958733393611466,
          4.477332503784799,
          4.541200742796943,
          4.496899428749619,
          4.626033944567999,
          4.785705829279641,
          4.791723127336714,
          4.700827568826401,
          4.423849062539384,
          4.647270061767038,
          4.38567980199755,
          4.416505609614789,
          4.483398855974079,
          4.530374714266564,
          4.659730761685982,
          4.376472024021634,
          4.334902791189051,
          4.547914977230018,
          4.521423762835144,
          4.64781716309635,
          4.847706613952003,
          4.002824644717851,
          4.501313271960664,
          4.379688814932029,
          4.58162858235829,
          4.641755216802519,
          4.872052275626381,
          4.21885286921217,
          4.560066485299483,
          4.752332712942281,
          4.405144428605062,
          4.515678312713462,
          4.53547916188675,
          4.573165862890625,
          4.626033944567999,
          3.928688463577746,
          4.282963402917045,
          4.64185824430502,
          4.456839069569449,
          4.287297430147909,
          4.43443407168262,
          4.562220145680819,
          4.403717230675227,
          4.245627520546451,
          4.719816027073248,
          4.455220648373689,
          4.71799702637244,
          4.547914977230018,
          4.740186243069349,
          4.211088076537741,
          4.693716277378295,
          4.577341434478799,
          4.561815546421426,
          4.5525334125106145,
          4.739247443221928,
          4.600445428643497,
          3.8535096440411873,
          4.145835963890837,
          4.312233007181175,
          4.6186468867964825,
          3.745341243410717,
          4.452494347536291,
          4.345369973446456,
          4.700983324054506,
          4.68204516111725,
          4.545220704297085,
          3.683602121933306,
          4.930288939109902,
          3.808669529184817,
          4.252907465113442,
          4.367457510116373,
          4.573165862890625,
          4.618660804627956,
          4.36630592044638,
          4.450062344847777,
          4.445456180952867,
          4.7660929336754805,
          4.428514254616843,
          4.699249152012219,
          4.513417056173493,
          4.441168414144478,
          4.2632060861360195,
          4.674464232699669,
          4.55185082793152,
          4.78229142482543,
          4.204945674184887,
          4.629402326999061,
          4.620749757515006,
          4.618660804627956,
          4.420185773275258,
          4.499592743563083,
          4.651659218160713,
          4.2433054458474,
          4.808056325702579,
          4.588011643893022,
          4.541179161137441,
          4.944764153680405,
          4.480798765036416,
          4.501313271960664,
          4.576617418580655,
          4.450747031092774,
          4.341158348023306,
          4.478381334405631,
          4.65149047405161,
          4.422498665591516,
          4.626633532846557,
          4.509003212962448,
          4.017868174828107,
          4.511745209752017,
          4.523905669337981,
          4.933163083674882,
          4.4407494529448925,
          4.34975039041309,
          4.823934008344541,
          4.501313271960664,
          4.639480324193103,
          4.52366092365355,
          4.516159052963062,
          4.522828994828874,
          4.797660466142478,
          4.376675840342523,
          4.605972234339012,
          4.282854473355191,
          4.513372291913391,
          4.486033157360982,
          4.55861760049832,
          4.50606011621752,
          4.0567172800532205,
          4.41871688437206,
          4.493038263886384,
          4.482471370526575,
          4.213817055166905,
          4.391894771961048,
          4.528826555246209,
          4.858156113698007,
          4.2137467511407944,
          4.626020026736526,
          4.23443100068433,
          4.133083577207826,
          4.604372450164654,
          4.477376523379676,
          4.470460483536941,
          4.661116540913971,
          4.455749106641726,
          4.491287008915748,
          4.502213597653281,
          4.357964076157434,
          4.392842657040323,
          4.501313271960664,
          4.617348036122949,
          4.58938095190444,
          4.501313271960664,
          4.573165862890625,
          4.046341694987949,
          4.512602043874852,
          4.684267660203363,
          4.4047523159844415,
          4.914469719045178,
          4.479998237001559,
          4.464281049690999,
          4.676504992811281,
          4.517039853091502,
          4.572100618471817,
          4.748402450471354,
          4.324544909487439,
          4.564727478531773,
          4.453752383210895,
          4.5198821475471185,
          4.618660804627956,
          4.432825552186022,
          4.774792381367139,
          4.4270570571040455,
          4.645018453820586,
          4.4407355351134195,
          4.865296878335897,
          4.566640210052178,
          4.502117848521006,
          4.640652209901827,
          4.750659009472994,
          4.967933759026152,
          4.467220082310983,
          4.652206207193442,
          4.492513754470151,
          4.743183150683451,
          4.439805496250965,
          4.415020574774743,
          4.233186931779309,
          4.686104240794856,
          4.533434002142378,
          4.187752734881546,
          4.4545445625571,
          4.405800880638825,
          4.61109255586326,
          4.713547536947107,
          4.501313271960664,
          4.492852194715066,
          4.482103106778801,
          4.6483546806051095,
          4.241706174406951,
          4.439104937790201,
          4.48916792581366,
          4.721706329426333,
          4.501313271960664,
          4.534732091132598,
          4.692602348444967,
          4.577207668760534,
          4.624628728851138,
          4.421389371163556,
          4.567310099026179,
          4.449003102624464,
          4.57273398758263,
          4.488719681866918,
          4.330645010757576,
          3.521266487556515,
          4.553087867643017,
          4.680314586571451,
          4.416369271817754,
          4.455749106641726,
          4.56275687759138,
          4.461175212885378,
          4.496899428749619,
          4.774065799527219,
          4.269125981498722,
          4.232411929114717,
          4.66642738638164,
          4.593104120997909,
          4.152291220629614,
          4.428514254616843,
          4.651218178541513,
          4.5593875211932895,
          4.545220704297085,
          4.479998237001559,
          4.334554988021454,
          4.333755045921457,
          4.449284967314841,
          4.12038490219195,
          3.7465660229388487,
          4.298819214628109,
          4.691443828848184,
          4.3661753193482715,
          4.709596801650469,
          4.368779796128366,
          4.691454991250108,
          4.4886499163932045,
          4.710292650844989,
          4.513083051710428,
          4.568897981058684,
          4.486465919111855,
          4.626033944567999,
          4.644586578512591,
          4.510487009298249,
          4.129828818102391,
          4.591095399144941,
          4.5311767550773006,
          4.501313271960664,
          4.2711416801536615,
          4.458670931851644,
          4.630080025114144,
          4.588076267480502,
          4.368690714309234,
          4.48326238992727
         ],
         "y0": " ",
         "yaxis": "y"
        },
        {
         "alignmentgroup": "True",
         "hovertemplate": "color=3.0<br>Actual=%{x}<br>Predicted=%{y}<extra></extra>",
         "legendgroup": "3.0",
         "marker": {
          "color": "#00cc96"
         },
         "name": "3.0",
         "notched": false,
         "offsetgroup": "3.0",
         "orientation": "v",
         "showlegend": true,
         "type": "box",
         "x": [
          3,
          3,
          3,
          3,
          3,
          3,
          3,
          3,
          3,
          3,
          3,
          3,
          3,
          3,
          3,
          3,
          3,
          3,
          3,
          3,
          3,
          3,
          3,
          3,
          3,
          3,
          3,
          3,
          3,
          3,
          3,
          3,
          3,
          3,
          3,
          3,
          3,
          3,
          3,
          3,
          3,
          3,
          3,
          3,
          3,
          3,
          3,
          3,
          3,
          3,
          3,
          3,
          3,
          3,
          3
         ],
         "x0": " ",
         "xaxis": "x",
         "y": [
          4.019215212196675,
          4.4407494529448925,
          4.2752036457483635,
          4.209264146707151,
          3.6857291549826114,
          4.493038263886384,
          4.4324744448706115,
          4.32023462599334,
          4.339966589412241,
          4.214444232709193,
          4.503046868901704,
          4.36021214527302,
          4.420163233299672,
          4.062759985269088,
          2.38173695544481,
          3.9278907659806004,
          4.592945118177698,
          4.501313271960664,
          3.7099550256751628,
          4.121906851816596,
          4.499965082197392,
          4.114440028418039,
          3.5384238688663165,
          4.401815780545543,
          4.021134850715812,
          3.369996683277384,
          4.27886835822539,
          4.3388328451108835,
          4.626033944567999,
          4.434656678382666,
          4.4407494529448925,
          4.105349011590815,
          3.9063954794526343,
          4.450747031092774,
          4.4918111591093,
          3.893149721855361,
          4.518622328700581,
          3.6064755154506325,
          4.172693241641688,
          4.046102226450988,
          4.452494347536291,
          4.4646574798957905,
          4.481361329229743,
          4.489119205939506,
          4.392965613829734,
          3.79174903487241,
          4.355321343047309,
          4.501313271960664,
          4.484656885281313,
          4.610148335031478,
          4.079686854391364,
          4.485112726594912,
          4.634637261489073,
          4.471838723266282,
          4.0294560536692865
         ],
         "y0": " ",
         "yaxis": "y"
        },
        {
         "alignmentgroup": "True",
         "hovertemplate": "color=1.0<br>Actual=%{x}<br>Predicted=%{y}<extra></extra>",
         "legendgroup": "1.0",
         "marker": {
          "color": "#ab63fa"
         },
         "name": "1.0",
         "notched": false,
         "offsetgroup": "1.0",
         "orientation": "v",
         "showlegend": true,
         "type": "box",
         "x": [
          1,
          1,
          1,
          1,
          1,
          1,
          1,
          1,
          1,
          1,
          1,
          1
         ],
         "x0": " ",
         "xaxis": "x",
         "y": [
          4.089024115470907,
          4.501299354129191,
          4.536781950653078,
          4.3602250875112665,
          3.9901390663226746,
          4.411897402253617,
          4.6218755634473565,
          2.440260283013161,
          4.589001722298334,
          4.403717230675227,
          4.335781382595608,
          4.481204554601811
         ],
         "y0": " ",
         "yaxis": "y"
        },
        {
         "alignmentgroup": "True",
         "hovertemplate": "color=2.0<br>Actual=%{x}<br>Predicted=%{y}<extra></extra>",
         "legendgroup": "2.0",
         "marker": {
          "color": "#FFA15A"
         },
         "name": "2.0",
         "notched": false,
         "offsetgroup": "2.0",
         "orientation": "v",
         "showlegend": true,
         "type": "box",
         "x": [
          2,
          2,
          2,
          2,
          2,
          2,
          2,
          2,
          2,
          2,
          2,
          2,
          2,
          2,
          2,
          2,
          2,
          2,
          2,
          2,
          2,
          2,
          2,
          2,
          2,
          2
         ],
         "x0": " ",
         "xaxis": "x",
         "y": [
          4.479170482684847,
          3.120069942507799,
          4.291948931513113,
          4.2890143584268925,
          4.4631319272090595,
          4.47374786647765,
          4.501313271960664,
          4.177420056391497,
          4.435031050859968,
          4.157290217884378,
          3.6600725182945464,
          4.023922382625335,
          2.990167794833607,
          3.624055527102586,
          4.179867429539959,
          3.3956149970490626,
          4.386036268503771,
          4.207620829688065,
          4.099833136157616,
          3.935419854205255,
          4.6735979003686925,
          4.804636259394448,
          4.595188178742553,
          4.489526569805957,
          3.580949805704769,
          3.253435530991066
         ],
         "y0": " ",
         "yaxis": "y"
        }
       ],
       "layout": {
        "boxmode": "group",
        "legend": {
         "title": {
          "text": "color"
         },
         "tracegroupgap": 0
        },
        "template": {
         "data": {
          "bar": [
           {
            "error_x": {
             "color": "#2a3f5f"
            },
            "error_y": {
             "color": "#2a3f5f"
            },
            "marker": {
             "line": {
              "color": "#E5ECF6",
              "width": 0.5
             },
             "pattern": {
              "fillmode": "overlay",
              "size": 10,
              "solidity": 0.2
             }
            },
            "type": "bar"
           }
          ],
          "barpolar": [
           {
            "marker": {
             "line": {
              "color": "#E5ECF6",
              "width": 0.5
             },
             "pattern": {
              "fillmode": "overlay",
              "size": 10,
              "solidity": 0.2
             }
            },
            "type": "barpolar"
           }
          ],
          "carpet": [
           {
            "aaxis": {
             "endlinecolor": "#2a3f5f",
             "gridcolor": "white",
             "linecolor": "white",
             "minorgridcolor": "white",
             "startlinecolor": "#2a3f5f"
            },
            "baxis": {
             "endlinecolor": "#2a3f5f",
             "gridcolor": "white",
             "linecolor": "white",
             "minorgridcolor": "white",
             "startlinecolor": "#2a3f5f"
            },
            "type": "carpet"
           }
          ],
          "choropleth": [
           {
            "colorbar": {
             "outlinewidth": 0,
             "ticks": ""
            },
            "type": "choropleth"
           }
          ],
          "contour": [
           {
            "colorbar": {
             "outlinewidth": 0,
             "ticks": ""
            },
            "colorscale": [
             [
              0,
              "#0d0887"
             ],
             [
              0.1111111111111111,
              "#46039f"
             ],
             [
              0.2222222222222222,
              "#7201a8"
             ],
             [
              0.3333333333333333,
              "#9c179e"
             ],
             [
              0.4444444444444444,
              "#bd3786"
             ],
             [
              0.5555555555555556,
              "#d8576b"
             ],
             [
              0.6666666666666666,
              "#ed7953"
             ],
             [
              0.7777777777777778,
              "#fb9f3a"
             ],
             [
              0.8888888888888888,
              "#fdca26"
             ],
             [
              1,
              "#f0f921"
             ]
            ],
            "type": "contour"
           }
          ],
          "contourcarpet": [
           {
            "colorbar": {
             "outlinewidth": 0,
             "ticks": ""
            },
            "type": "contourcarpet"
           }
          ],
          "heatmap": [
           {
            "colorbar": {
             "outlinewidth": 0,
             "ticks": ""
            },
            "colorscale": [
             [
              0,
              "#0d0887"
             ],
             [
              0.1111111111111111,
              "#46039f"
             ],
             [
              0.2222222222222222,
              "#7201a8"
             ],
             [
              0.3333333333333333,
              "#9c179e"
             ],
             [
              0.4444444444444444,
              "#bd3786"
             ],
             [
              0.5555555555555556,
              "#d8576b"
             ],
             [
              0.6666666666666666,
              "#ed7953"
             ],
             [
              0.7777777777777778,
              "#fb9f3a"
             ],
             [
              0.8888888888888888,
              "#fdca26"
             ],
             [
              1,
              "#f0f921"
             ]
            ],
            "type": "heatmap"
           }
          ],
          "heatmapgl": [
           {
            "colorbar": {
             "outlinewidth": 0,
             "ticks": ""
            },
            "colorscale": [
             [
              0,
              "#0d0887"
             ],
             [
              0.1111111111111111,
              "#46039f"
             ],
             [
              0.2222222222222222,
              "#7201a8"
             ],
             [
              0.3333333333333333,
              "#9c179e"
             ],
             [
              0.4444444444444444,
              "#bd3786"
             ],
             [
              0.5555555555555556,
              "#d8576b"
             ],
             [
              0.6666666666666666,
              "#ed7953"
             ],
             [
              0.7777777777777778,
              "#fb9f3a"
             ],
             [
              0.8888888888888888,
              "#fdca26"
             ],
             [
              1,
              "#f0f921"
             ]
            ],
            "type": "heatmapgl"
           }
          ],
          "histogram": [
           {
            "marker": {
             "pattern": {
              "fillmode": "overlay",
              "size": 10,
              "solidity": 0.2
             }
            },
            "type": "histogram"
           }
          ],
          "histogram2d": [
           {
            "colorbar": {
             "outlinewidth": 0,
             "ticks": ""
            },
            "colorscale": [
             [
              0,
              "#0d0887"
             ],
             [
              0.1111111111111111,
              "#46039f"
             ],
             [
              0.2222222222222222,
              "#7201a8"
             ],
             [
              0.3333333333333333,
              "#9c179e"
             ],
             [
              0.4444444444444444,
              "#bd3786"
             ],
             [
              0.5555555555555556,
              "#d8576b"
             ],
             [
              0.6666666666666666,
              "#ed7953"
             ],
             [
              0.7777777777777778,
              "#fb9f3a"
             ],
             [
              0.8888888888888888,
              "#fdca26"
             ],
             [
              1,
              "#f0f921"
             ]
            ],
            "type": "histogram2d"
           }
          ],
          "histogram2dcontour": [
           {
            "colorbar": {
             "outlinewidth": 0,
             "ticks": ""
            },
            "colorscale": [
             [
              0,
              "#0d0887"
             ],
             [
              0.1111111111111111,
              "#46039f"
             ],
             [
              0.2222222222222222,
              "#7201a8"
             ],
             [
              0.3333333333333333,
              "#9c179e"
             ],
             [
              0.4444444444444444,
              "#bd3786"
             ],
             [
              0.5555555555555556,
              "#d8576b"
             ],
             [
              0.6666666666666666,
              "#ed7953"
             ],
             [
              0.7777777777777778,
              "#fb9f3a"
             ],
             [
              0.8888888888888888,
              "#fdca26"
             ],
             [
              1,
              "#f0f921"
             ]
            ],
            "type": "histogram2dcontour"
           }
          ],
          "mesh3d": [
           {
            "colorbar": {
             "outlinewidth": 0,
             "ticks": ""
            },
            "type": "mesh3d"
           }
          ],
          "parcoords": [
           {
            "line": {
             "colorbar": {
              "outlinewidth": 0,
              "ticks": ""
             }
            },
            "type": "parcoords"
           }
          ],
          "pie": [
           {
            "automargin": true,
            "type": "pie"
           }
          ],
          "scatter": [
           {
            "marker": {
             "colorbar": {
              "outlinewidth": 0,
              "ticks": ""
             }
            },
            "type": "scatter"
           }
          ],
          "scatter3d": [
           {
            "line": {
             "colorbar": {
              "outlinewidth": 0,
              "ticks": ""
             }
            },
            "marker": {
             "colorbar": {
              "outlinewidth": 0,
              "ticks": ""
             }
            },
            "type": "scatter3d"
           }
          ],
          "scattercarpet": [
           {
            "marker": {
             "colorbar": {
              "outlinewidth": 0,
              "ticks": ""
             }
            },
            "type": "scattercarpet"
           }
          ],
          "scattergeo": [
           {
            "marker": {
             "colorbar": {
              "outlinewidth": 0,
              "ticks": ""
             }
            },
            "type": "scattergeo"
           }
          ],
          "scattergl": [
           {
            "marker": {
             "colorbar": {
              "outlinewidth": 0,
              "ticks": ""
             }
            },
            "type": "scattergl"
           }
          ],
          "scattermapbox": [
           {
            "marker": {
             "colorbar": {
              "outlinewidth": 0,
              "ticks": ""
             }
            },
            "type": "scattermapbox"
           }
          ],
          "scatterpolar": [
           {
            "marker": {
             "colorbar": {
              "outlinewidth": 0,
              "ticks": ""
             }
            },
            "type": "scatterpolar"
           }
          ],
          "scatterpolargl": [
           {
            "marker": {
             "colorbar": {
              "outlinewidth": 0,
              "ticks": ""
             }
            },
            "type": "scatterpolargl"
           }
          ],
          "scatterternary": [
           {
            "marker": {
             "colorbar": {
              "outlinewidth": 0,
              "ticks": ""
             }
            },
            "type": "scatterternary"
           }
          ],
          "surface": [
           {
            "colorbar": {
             "outlinewidth": 0,
             "ticks": ""
            },
            "colorscale": [
             [
              0,
              "#0d0887"
             ],
             [
              0.1111111111111111,
              "#46039f"
             ],
             [
              0.2222222222222222,
              "#7201a8"
             ],
             [
              0.3333333333333333,
              "#9c179e"
             ],
             [
              0.4444444444444444,
              "#bd3786"
             ],
             [
              0.5555555555555556,
              "#d8576b"
             ],
             [
              0.6666666666666666,
              "#ed7953"
             ],
             [
              0.7777777777777778,
              "#fb9f3a"
             ],
             [
              0.8888888888888888,
              "#fdca26"
             ],
             [
              1,
              "#f0f921"
             ]
            ],
            "type": "surface"
           }
          ],
          "table": [
           {
            "cells": {
             "fill": {
              "color": "#EBF0F8"
             },
             "line": {
              "color": "white"
             }
            },
            "header": {
             "fill": {
              "color": "#C8D4E3"
             },
             "line": {
              "color": "white"
             }
            },
            "type": "table"
           }
          ]
         },
         "layout": {
          "annotationdefaults": {
           "arrowcolor": "#2a3f5f",
           "arrowhead": 0,
           "arrowwidth": 1
          },
          "autotypenumbers": "strict",
          "coloraxis": {
           "colorbar": {
            "outlinewidth": 0,
            "ticks": ""
           }
          },
          "colorscale": {
           "diverging": [
            [
             0,
             "#8e0152"
            ],
            [
             0.1,
             "#c51b7d"
            ],
            [
             0.2,
             "#de77ae"
            ],
            [
             0.3,
             "#f1b6da"
            ],
            [
             0.4,
             "#fde0ef"
            ],
            [
             0.5,
             "#f7f7f7"
            ],
            [
             0.6,
             "#e6f5d0"
            ],
            [
             0.7,
             "#b8e186"
            ],
            [
             0.8,
             "#7fbc41"
            ],
            [
             0.9,
             "#4d9221"
            ],
            [
             1,
             "#276419"
            ]
           ],
           "sequential": [
            [
             0,
             "#0d0887"
            ],
            [
             0.1111111111111111,
             "#46039f"
            ],
            [
             0.2222222222222222,
             "#7201a8"
            ],
            [
             0.3333333333333333,
             "#9c179e"
            ],
            [
             0.4444444444444444,
             "#bd3786"
            ],
            [
             0.5555555555555556,
             "#d8576b"
            ],
            [
             0.6666666666666666,
             "#ed7953"
            ],
            [
             0.7777777777777778,
             "#fb9f3a"
            ],
            [
             0.8888888888888888,
             "#fdca26"
            ],
            [
             1,
             "#f0f921"
            ]
           ],
           "sequentialminus": [
            [
             0,
             "#0d0887"
            ],
            [
             0.1111111111111111,
             "#46039f"
            ],
            [
             0.2222222222222222,
             "#7201a8"
            ],
            [
             0.3333333333333333,
             "#9c179e"
            ],
            [
             0.4444444444444444,
             "#bd3786"
            ],
            [
             0.5555555555555556,
             "#d8576b"
            ],
            [
             0.6666666666666666,
             "#ed7953"
            ],
            [
             0.7777777777777778,
             "#fb9f3a"
            ],
            [
             0.8888888888888888,
             "#fdca26"
            ],
            [
             1,
             "#f0f921"
            ]
           ]
          },
          "colorway": [
           "#636efa",
           "#EF553B",
           "#00cc96",
           "#ab63fa",
           "#FFA15A",
           "#19d3f3",
           "#FF6692",
           "#B6E880",
           "#FF97FF",
           "#FECB52"
          ],
          "font": {
           "color": "#2a3f5f"
          },
          "geo": {
           "bgcolor": "white",
           "lakecolor": "white",
           "landcolor": "#E5ECF6",
           "showlakes": true,
           "showland": true,
           "subunitcolor": "white"
          },
          "hoverlabel": {
           "align": "left"
          },
          "hovermode": "closest",
          "mapbox": {
           "style": "light"
          },
          "paper_bgcolor": "white",
          "plot_bgcolor": "#E5ECF6",
          "polar": {
           "angularaxis": {
            "gridcolor": "white",
            "linecolor": "white",
            "ticks": ""
           },
           "bgcolor": "#E5ECF6",
           "radialaxis": {
            "gridcolor": "white",
            "linecolor": "white",
            "ticks": ""
           }
          },
          "scene": {
           "xaxis": {
            "backgroundcolor": "#E5ECF6",
            "gridcolor": "white",
            "gridwidth": 2,
            "linecolor": "white",
            "showbackground": true,
            "ticks": "",
            "zerolinecolor": "white"
           },
           "yaxis": {
            "backgroundcolor": "#E5ECF6",
            "gridcolor": "white",
            "gridwidth": 2,
            "linecolor": "white",
            "showbackground": true,
            "ticks": "",
            "zerolinecolor": "white"
           },
           "zaxis": {
            "backgroundcolor": "#E5ECF6",
            "gridcolor": "white",
            "gridwidth": 2,
            "linecolor": "white",
            "showbackground": true,
            "ticks": "",
            "zerolinecolor": "white"
           }
          },
          "shapedefaults": {
           "line": {
            "color": "#2a3f5f"
           }
          },
          "ternary": {
           "aaxis": {
            "gridcolor": "white",
            "linecolor": "white",
            "ticks": ""
           },
           "baxis": {
            "gridcolor": "white",
            "linecolor": "white",
            "ticks": ""
           },
           "bgcolor": "#E5ECF6",
           "caxis": {
            "gridcolor": "white",
            "linecolor": "white",
            "ticks": ""
           }
          },
          "title": {
           "x": 0.05
          },
          "xaxis": {
           "automargin": true,
           "gridcolor": "white",
           "linecolor": "white",
           "ticks": "",
           "title": {
            "standoff": 15
           },
           "zerolinecolor": "white",
           "zerolinewidth": 2
          },
          "yaxis": {
           "automargin": true,
           "gridcolor": "white",
           "linecolor": "white",
           "ticks": "",
           "title": {
            "standoff": 15
           },
           "zerolinecolor": "white",
           "zerolinewidth": 2
          }
         }
        },
        "title": {
         "text": "Actual vs Predicted / R² = 0.119 / MAE = 0.499"
        },
        "xaxis": {
         "anchor": "y",
         "domain": [
          0,
          1
         ],
         "title": {
          "text": "Actual"
         }
        },
        "yaxis": {
         "anchor": "x",
         "domain": [
          0,
          1
         ],
         "title": {
          "text": "Predicted"
         }
        }
       }
      }
     },
     "metadata": {},
     "output_type": "display_data"
    }
   ],
   "source": [
    "from sklearn.feature_extraction.text import CountVectorizer\n",
    "\n",
    "\n",
    "vectorizer = CountVectorizer()\n",
    "X_train_vec = vectorizer.fit_transform(X_train)\n",
    "X_test_vec = vectorizer.transform(X_test)\n",
    "\n",
    "\n",
    "from sklearn.preprocessing import StandardScaler\n",
    "\n",
    "\n",
    "scaler = StandardScaler().fit(X_train_vec.toarray())\n",
    "\n",
    "X_train_std = scaler.transform(X_train_vec.toarray())\n",
    "X_test_std = scaler.transform(X_test_vec.toarray())\n",
    "\n",
    "\n",
    "words_count = pd.Series(\n",
    "    X_train_vec.sum(axis=0).tolist()[0],\n",
    "    index=vectorizer.get_feature_names(),\n",
    ")\n",
    "\n",
    "top_20_count = words_count.sort_values(ascending=False).head(20)\n",
    "\n",
    "fig = px.bar(\n",
    "    top_20_count,\n",
    "    x=top_20_count.index,\n",
    "    y=top_20_count.values,\n",
    "    labels={\"x\": \"Word\", \"y\": \"Count\"},\n",
    "    title=\"Top 20 words in reviews\",\n",
    "    color=top_20_count.values,\n",
    ")\n",
    "fig.show()\n",
    "\n",
    "\n",
    "from sklearn.linear_model import ElasticNetCV\n",
    "\n",
    "\n",
    "reg = ElasticNetCV(random_state=42, n_jobs=-1).fit(X_train_std, y_train)\n",
    "coefs = pd.Series(reg.coef_, index=vectorizer.get_feature_names())\n",
    "\n",
    "top_20_coefs = coefs.nlargest(10).append(coefs.nsmallest(10)).sort_values()\n",
    "\n",
    "fig = px.bar(\n",
    "    top_20_coefs,\n",
    "    x=top_20_coefs.index,\n",
    "    y=top_20_coefs.values,\n",
    "    labels={\"x\": \"Word\", \"y\": \"Count\"},\n",
    "    title=\"Top 20 words in reviews\",\n",
    "    color=top_20_coefs.values,\n",
    ")\n",
    "fig.show()\n",
    "\n",
    "\n",
    "y_pred = reg.predict(X_test_std)\n",
    "\n",
    "\n",
    "from sklearn.metrics import median_absolute_error, r2_score\n",
    "\n",
    "\n",
    "fig = px.box(\n",
    "    x=y_test,\n",
    "    y=y_pred,\n",
    "    labels={\"x\": \"Actual\", \"y\": \"Predicted\"},\n",
    "    title=f\"Actual vs Predicted / R² = {round(r2_score(y_test, y_pred), 3)} / MAE = {round(median_absolute_error(y_test, y_pred), 3)}\",\n",
    "    color=y_test,\n",
    ")\n",
    "fig.show()\n"
   ]
  },
  {
   "cell_type": "markdown",
   "metadata": {},
   "source": [
    "### More complex    "
   ]
  },
  {
   "cell_type": "code",
   "execution_count": 28,
   "metadata": {},
   "outputs": [
    {
     "data": {
      "application/vnd.plotly.v1+json": {
       "config": {
        "plotlyServerURL": "https://plot.ly"
       },
       "data": [
        {
         "alignmentgroup": "True",
         "hovertemplate": "index=%{x}<br>Count=%{y}<br>color=%{marker.color}<extra></extra>",
         "legendgroup": "",
         "marker": {
          "color": [
           536,
           463,
           339,
           314,
           292,
           242,
           241,
           199,
           171,
           160,
           159,
           144,
           140,
           135,
           134,
           133,
           130,
           127,
           124,
           122
          ],
          "coloraxis": "coloraxis",
          "pattern": {
           "shape": ""
          }
         },
         "name": "",
         "offsetgroup": "",
         "orientation": "v",
         "showlegend": false,
         "textposition": "auto",
         "type": "bar",
         "x": [
          "place",
          "food",
          "great",
          "good",
          "restaurant",
          "best",
          "service",
          "came",
          "ve",
          "amazing",
          "delicious",
          "just",
          "like",
          "time",
          "got",
          "paris",
          "try",
          "really",
          "sushi",
          "dinner"
         ],
         "xaxis": "x",
         "y": [
          536,
          463,
          339,
          314,
          292,
          242,
          241,
          199,
          171,
          160,
          159,
          144,
          140,
          135,
          134,
          133,
          130,
          127,
          124,
          122
         ],
         "yaxis": "y"
        }
       ],
       "layout": {
        "barmode": "relative",
        "coloraxis": {
         "colorbar": {
          "title": {
           "text": "color"
          }
         },
         "colorscale": [
          [
           0,
           "#0d0887"
          ],
          [
           0.1111111111111111,
           "#46039f"
          ],
          [
           0.2222222222222222,
           "#7201a8"
          ],
          [
           0.3333333333333333,
           "#9c179e"
          ],
          [
           0.4444444444444444,
           "#bd3786"
          ],
          [
           0.5555555555555556,
           "#d8576b"
          ],
          [
           0.6666666666666666,
           "#ed7953"
          ],
          [
           0.7777777777777778,
           "#fb9f3a"
          ],
          [
           0.8888888888888888,
           "#fdca26"
          ],
          [
           1,
           "#f0f921"
          ]
         ]
        },
        "legend": {
         "tracegroupgap": 0
        },
        "template": {
         "data": {
          "bar": [
           {
            "error_x": {
             "color": "#2a3f5f"
            },
            "error_y": {
             "color": "#2a3f5f"
            },
            "marker": {
             "line": {
              "color": "#E5ECF6",
              "width": 0.5
             },
             "pattern": {
              "fillmode": "overlay",
              "size": 10,
              "solidity": 0.2
             }
            },
            "type": "bar"
           }
          ],
          "barpolar": [
           {
            "marker": {
             "line": {
              "color": "#E5ECF6",
              "width": 0.5
             },
             "pattern": {
              "fillmode": "overlay",
              "size": 10,
              "solidity": 0.2
             }
            },
            "type": "barpolar"
           }
          ],
          "carpet": [
           {
            "aaxis": {
             "endlinecolor": "#2a3f5f",
             "gridcolor": "white",
             "linecolor": "white",
             "minorgridcolor": "white",
             "startlinecolor": "#2a3f5f"
            },
            "baxis": {
             "endlinecolor": "#2a3f5f",
             "gridcolor": "white",
             "linecolor": "white",
             "minorgridcolor": "white",
             "startlinecolor": "#2a3f5f"
            },
            "type": "carpet"
           }
          ],
          "choropleth": [
           {
            "colorbar": {
             "outlinewidth": 0,
             "ticks": ""
            },
            "type": "choropleth"
           }
          ],
          "contour": [
           {
            "colorbar": {
             "outlinewidth": 0,
             "ticks": ""
            },
            "colorscale": [
             [
              0,
              "#0d0887"
             ],
             [
              0.1111111111111111,
              "#46039f"
             ],
             [
              0.2222222222222222,
              "#7201a8"
             ],
             [
              0.3333333333333333,
              "#9c179e"
             ],
             [
              0.4444444444444444,
              "#bd3786"
             ],
             [
              0.5555555555555556,
              "#d8576b"
             ],
             [
              0.6666666666666666,
              "#ed7953"
             ],
             [
              0.7777777777777778,
              "#fb9f3a"
             ],
             [
              0.8888888888888888,
              "#fdca26"
             ],
             [
              1,
              "#f0f921"
             ]
            ],
            "type": "contour"
           }
          ],
          "contourcarpet": [
           {
            "colorbar": {
             "outlinewidth": 0,
             "ticks": ""
            },
            "type": "contourcarpet"
           }
          ],
          "heatmap": [
           {
            "colorbar": {
             "outlinewidth": 0,
             "ticks": ""
            },
            "colorscale": [
             [
              0,
              "#0d0887"
             ],
             [
              0.1111111111111111,
              "#46039f"
             ],
             [
              0.2222222222222222,
              "#7201a8"
             ],
             [
              0.3333333333333333,
              "#9c179e"
             ],
             [
              0.4444444444444444,
              "#bd3786"
             ],
             [
              0.5555555555555556,
              "#d8576b"
             ],
             [
              0.6666666666666666,
              "#ed7953"
             ],
             [
              0.7777777777777778,
              "#fb9f3a"
             ],
             [
              0.8888888888888888,
              "#fdca26"
             ],
             [
              1,
              "#f0f921"
             ]
            ],
            "type": "heatmap"
           }
          ],
          "heatmapgl": [
           {
            "colorbar": {
             "outlinewidth": 0,
             "ticks": ""
            },
            "colorscale": [
             [
              0,
              "#0d0887"
             ],
             [
              0.1111111111111111,
              "#46039f"
             ],
             [
              0.2222222222222222,
              "#7201a8"
             ],
             [
              0.3333333333333333,
              "#9c179e"
             ],
             [
              0.4444444444444444,
              "#bd3786"
             ],
             [
              0.5555555555555556,
              "#d8576b"
             ],
             [
              0.6666666666666666,
              "#ed7953"
             ],
             [
              0.7777777777777778,
              "#fb9f3a"
             ],
             [
              0.8888888888888888,
              "#fdca26"
             ],
             [
              1,
              "#f0f921"
             ]
            ],
            "type": "heatmapgl"
           }
          ],
          "histogram": [
           {
            "marker": {
             "pattern": {
              "fillmode": "overlay",
              "size": 10,
              "solidity": 0.2
             }
            },
            "type": "histogram"
           }
          ],
          "histogram2d": [
           {
            "colorbar": {
             "outlinewidth": 0,
             "ticks": ""
            },
            "colorscale": [
             [
              0,
              "#0d0887"
             ],
             [
              0.1111111111111111,
              "#46039f"
             ],
             [
              0.2222222222222222,
              "#7201a8"
             ],
             [
              0.3333333333333333,
              "#9c179e"
             ],
             [
              0.4444444444444444,
              "#bd3786"
             ],
             [
              0.5555555555555556,
              "#d8576b"
             ],
             [
              0.6666666666666666,
              "#ed7953"
             ],
             [
              0.7777777777777778,
              "#fb9f3a"
             ],
             [
              0.8888888888888888,
              "#fdca26"
             ],
             [
              1,
              "#f0f921"
             ]
            ],
            "type": "histogram2d"
           }
          ],
          "histogram2dcontour": [
           {
            "colorbar": {
             "outlinewidth": 0,
             "ticks": ""
            },
            "colorscale": [
             [
              0,
              "#0d0887"
             ],
             [
              0.1111111111111111,
              "#46039f"
             ],
             [
              0.2222222222222222,
              "#7201a8"
             ],
             [
              0.3333333333333333,
              "#9c179e"
             ],
             [
              0.4444444444444444,
              "#bd3786"
             ],
             [
              0.5555555555555556,
              "#d8576b"
             ],
             [
              0.6666666666666666,
              "#ed7953"
             ],
             [
              0.7777777777777778,
              "#fb9f3a"
             ],
             [
              0.8888888888888888,
              "#fdca26"
             ],
             [
              1,
              "#f0f921"
             ]
            ],
            "type": "histogram2dcontour"
           }
          ],
          "mesh3d": [
           {
            "colorbar": {
             "outlinewidth": 0,
             "ticks": ""
            },
            "type": "mesh3d"
           }
          ],
          "parcoords": [
           {
            "line": {
             "colorbar": {
              "outlinewidth": 0,
              "ticks": ""
             }
            },
            "type": "parcoords"
           }
          ],
          "pie": [
           {
            "automargin": true,
            "type": "pie"
           }
          ],
          "scatter": [
           {
            "marker": {
             "colorbar": {
              "outlinewidth": 0,
              "ticks": ""
             }
            },
            "type": "scatter"
           }
          ],
          "scatter3d": [
           {
            "line": {
             "colorbar": {
              "outlinewidth": 0,
              "ticks": ""
             }
            },
            "marker": {
             "colorbar": {
              "outlinewidth": 0,
              "ticks": ""
             }
            },
            "type": "scatter3d"
           }
          ],
          "scattercarpet": [
           {
            "marker": {
             "colorbar": {
              "outlinewidth": 0,
              "ticks": ""
             }
            },
            "type": "scattercarpet"
           }
          ],
          "scattergeo": [
           {
            "marker": {
             "colorbar": {
              "outlinewidth": 0,
              "ticks": ""
             }
            },
            "type": "scattergeo"
           }
          ],
          "scattergl": [
           {
            "marker": {
             "colorbar": {
              "outlinewidth": 0,
              "ticks": ""
             }
            },
            "type": "scattergl"
           }
          ],
          "scattermapbox": [
           {
            "marker": {
             "colorbar": {
              "outlinewidth": 0,
              "ticks": ""
             }
            },
            "type": "scattermapbox"
           }
          ],
          "scatterpolar": [
           {
            "marker": {
             "colorbar": {
              "outlinewidth": 0,
              "ticks": ""
             }
            },
            "type": "scatterpolar"
           }
          ],
          "scatterpolargl": [
           {
            "marker": {
             "colorbar": {
              "outlinewidth": 0,
              "ticks": ""
             }
            },
            "type": "scatterpolargl"
           }
          ],
          "scatterternary": [
           {
            "marker": {
             "colorbar": {
              "outlinewidth": 0,
              "ticks": ""
             }
            },
            "type": "scatterternary"
           }
          ],
          "surface": [
           {
            "colorbar": {
             "outlinewidth": 0,
             "ticks": ""
            },
            "colorscale": [
             [
              0,
              "#0d0887"
             ],
             [
              0.1111111111111111,
              "#46039f"
             ],
             [
              0.2222222222222222,
              "#7201a8"
             ],
             [
              0.3333333333333333,
              "#9c179e"
             ],
             [
              0.4444444444444444,
              "#bd3786"
             ],
             [
              0.5555555555555556,
              "#d8576b"
             ],
             [
              0.6666666666666666,
              "#ed7953"
             ],
             [
              0.7777777777777778,
              "#fb9f3a"
             ],
             [
              0.8888888888888888,
              "#fdca26"
             ],
             [
              1,
              "#f0f921"
             ]
            ],
            "type": "surface"
           }
          ],
          "table": [
           {
            "cells": {
             "fill": {
              "color": "#EBF0F8"
             },
             "line": {
              "color": "white"
             }
            },
            "header": {
             "fill": {
              "color": "#C8D4E3"
             },
             "line": {
              "color": "white"
             }
            },
            "type": "table"
           }
          ]
         },
         "layout": {
          "annotationdefaults": {
           "arrowcolor": "#2a3f5f",
           "arrowhead": 0,
           "arrowwidth": 1
          },
          "autotypenumbers": "strict",
          "coloraxis": {
           "colorbar": {
            "outlinewidth": 0,
            "ticks": ""
           }
          },
          "colorscale": {
           "diverging": [
            [
             0,
             "#8e0152"
            ],
            [
             0.1,
             "#c51b7d"
            ],
            [
             0.2,
             "#de77ae"
            ],
            [
             0.3,
             "#f1b6da"
            ],
            [
             0.4,
             "#fde0ef"
            ],
            [
             0.5,
             "#f7f7f7"
            ],
            [
             0.6,
             "#e6f5d0"
            ],
            [
             0.7,
             "#b8e186"
            ],
            [
             0.8,
             "#7fbc41"
            ],
            [
             0.9,
             "#4d9221"
            ],
            [
             1,
             "#276419"
            ]
           ],
           "sequential": [
            [
             0,
             "#0d0887"
            ],
            [
             0.1111111111111111,
             "#46039f"
            ],
            [
             0.2222222222222222,
             "#7201a8"
            ],
            [
             0.3333333333333333,
             "#9c179e"
            ],
            [
             0.4444444444444444,
             "#bd3786"
            ],
            [
             0.5555555555555556,
             "#d8576b"
            ],
            [
             0.6666666666666666,
             "#ed7953"
            ],
            [
             0.7777777777777778,
             "#fb9f3a"
            ],
            [
             0.8888888888888888,
             "#fdca26"
            ],
            [
             1,
             "#f0f921"
            ]
           ],
           "sequentialminus": [
            [
             0,
             "#0d0887"
            ],
            [
             0.1111111111111111,
             "#46039f"
            ],
            [
             0.2222222222222222,
             "#7201a8"
            ],
            [
             0.3333333333333333,
             "#9c179e"
            ],
            [
             0.4444444444444444,
             "#bd3786"
            ],
            [
             0.5555555555555556,
             "#d8576b"
            ],
            [
             0.6666666666666666,
             "#ed7953"
            ],
            [
             0.7777777777777778,
             "#fb9f3a"
            ],
            [
             0.8888888888888888,
             "#fdca26"
            ],
            [
             1,
             "#f0f921"
            ]
           ]
          },
          "colorway": [
           "#636efa",
           "#EF553B",
           "#00cc96",
           "#ab63fa",
           "#FFA15A",
           "#19d3f3",
           "#FF6692",
           "#B6E880",
           "#FF97FF",
           "#FECB52"
          ],
          "font": {
           "color": "#2a3f5f"
          },
          "geo": {
           "bgcolor": "white",
           "lakecolor": "white",
           "landcolor": "#E5ECF6",
           "showlakes": true,
           "showland": true,
           "subunitcolor": "white"
          },
          "hoverlabel": {
           "align": "left"
          },
          "hovermode": "closest",
          "mapbox": {
           "style": "light"
          },
          "paper_bgcolor": "white",
          "plot_bgcolor": "#E5ECF6",
          "polar": {
           "angularaxis": {
            "gridcolor": "white",
            "linecolor": "white",
            "ticks": ""
           },
           "bgcolor": "#E5ECF6",
           "radialaxis": {
            "gridcolor": "white",
            "linecolor": "white",
            "ticks": ""
           }
          },
          "scene": {
           "xaxis": {
            "backgroundcolor": "#E5ECF6",
            "gridcolor": "white",
            "gridwidth": 2,
            "linecolor": "white",
            "showbackground": true,
            "ticks": "",
            "zerolinecolor": "white"
           },
           "yaxis": {
            "backgroundcolor": "#E5ECF6",
            "gridcolor": "white",
            "gridwidth": 2,
            "linecolor": "white",
            "showbackground": true,
            "ticks": "",
            "zerolinecolor": "white"
           },
           "zaxis": {
            "backgroundcolor": "#E5ECF6",
            "gridcolor": "white",
            "gridwidth": 2,
            "linecolor": "white",
            "showbackground": true,
            "ticks": "",
            "zerolinecolor": "white"
           }
          },
          "shapedefaults": {
           "line": {
            "color": "#2a3f5f"
           }
          },
          "ternary": {
           "aaxis": {
            "gridcolor": "white",
            "linecolor": "white",
            "ticks": ""
           },
           "baxis": {
            "gridcolor": "white",
            "linecolor": "white",
            "ticks": ""
           },
           "bgcolor": "#E5ECF6",
           "caxis": {
            "gridcolor": "white",
            "linecolor": "white",
            "ticks": ""
           }
          },
          "title": {
           "x": 0.05
          },
          "xaxis": {
           "automargin": true,
           "gridcolor": "white",
           "linecolor": "white",
           "ticks": "",
           "title": {
            "standoff": 15
           },
           "zerolinecolor": "white",
           "zerolinewidth": 2
          },
          "yaxis": {
           "automargin": true,
           "gridcolor": "white",
           "linecolor": "white",
           "ticks": "",
           "title": {
            "standoff": 15
           },
           "zerolinecolor": "white",
           "zerolinewidth": 2
          }
         }
        },
        "title": {
         "text": "Top 20 words in reviews"
        },
        "xaxis": {
         "anchor": "y",
         "domain": [
          0,
          1
         ],
         "title": {
          "text": "index"
         }
        },
        "yaxis": {
         "anchor": "x",
         "domain": [
          0,
          1
         ],
         "title": {
          "text": "Count"
         }
        }
       }
      }
     },
     "metadata": {},
     "output_type": "display_data"
    },
    {
     "data": {
      "application/vnd.plotly.v1+json": {
       "config": {
        "plotlyServerURL": "https://plot.ly"
       },
       "data": [
        {
         "alignmentgroup": "True",
         "hovertemplate": "index=%{x}<br>Count=%{y}<br>color=%{marker.color}<extra></extra>",
         "legendgroup": "",
         "marker": {
          "color": [
           -0.08319898316922202,
           -0.07776048318141339,
           -0.06697423922160364,
           -0.05676104046841883,
           -0.05555165860650771,
           -0.053894014692688764,
           -0.050275786224599085,
           -0.04608671837288965,
           -0.044942455965163414,
           -0.04419352539590728,
           0.014035603559910266,
           0.014899367194290646,
           0.015001729244886576,
           0.016825740317679496,
           0.020798427377953572,
           0.022381980352272634,
           0.023587067202567015,
           0.038989856958133576,
           0.05370034913060136,
           0.05449827593780131
          ],
          "coloraxis": "coloraxis",
          "pattern": {
           "shape": ""
          }
         },
         "name": "",
         "offsetgroup": "",
         "orientation": "v",
         "showlegend": false,
         "textposition": "auto",
         "type": "bar",
         "x": [
          "rude",
          "excited try",
          "worst",
          "ok",
          "okay",
          "terrible",
          "disappointing",
          "mediocre",
          "downhill",
          "tasted like",
          "wow",
          "disappoint",
          "excellent",
          "tokyo",
          "great",
          "delicious",
          "paris",
          "favorite",
          "best",
          "amazing"
         ],
         "xaxis": "x",
         "y": [
          -0.08319898316922202,
          -0.07776048318141339,
          -0.06697423922160364,
          -0.05676104046841883,
          -0.05555165860650771,
          -0.053894014692688764,
          -0.050275786224599085,
          -0.04608671837288965,
          -0.044942455965163414,
          -0.04419352539590728,
          0.014035603559910266,
          0.014899367194290646,
          0.015001729244886576,
          0.016825740317679496,
          0.020798427377953572,
          0.022381980352272634,
          0.023587067202567015,
          0.038989856958133576,
          0.05370034913060136,
          0.05449827593780131
         ],
         "yaxis": "y"
        }
       ],
       "layout": {
        "barmode": "relative",
        "coloraxis": {
         "colorbar": {
          "title": {
           "text": "color"
          }
         },
         "colorscale": [
          [
           0,
           "#0d0887"
          ],
          [
           0.1111111111111111,
           "#46039f"
          ],
          [
           0.2222222222222222,
           "#7201a8"
          ],
          [
           0.3333333333333333,
           "#9c179e"
          ],
          [
           0.4444444444444444,
           "#bd3786"
          ],
          [
           0.5555555555555556,
           "#d8576b"
          ],
          [
           0.6666666666666666,
           "#ed7953"
          ],
          [
           0.7777777777777778,
           "#fb9f3a"
          ],
          [
           0.8888888888888888,
           "#fdca26"
          ],
          [
           1,
           "#f0f921"
          ]
         ]
        },
        "legend": {
         "tracegroupgap": 0
        },
        "template": {
         "data": {
          "bar": [
           {
            "error_x": {
             "color": "#2a3f5f"
            },
            "error_y": {
             "color": "#2a3f5f"
            },
            "marker": {
             "line": {
              "color": "#E5ECF6",
              "width": 0.5
             },
             "pattern": {
              "fillmode": "overlay",
              "size": 10,
              "solidity": 0.2
             }
            },
            "type": "bar"
           }
          ],
          "barpolar": [
           {
            "marker": {
             "line": {
              "color": "#E5ECF6",
              "width": 0.5
             },
             "pattern": {
              "fillmode": "overlay",
              "size": 10,
              "solidity": 0.2
             }
            },
            "type": "barpolar"
           }
          ],
          "carpet": [
           {
            "aaxis": {
             "endlinecolor": "#2a3f5f",
             "gridcolor": "white",
             "linecolor": "white",
             "minorgridcolor": "white",
             "startlinecolor": "#2a3f5f"
            },
            "baxis": {
             "endlinecolor": "#2a3f5f",
             "gridcolor": "white",
             "linecolor": "white",
             "minorgridcolor": "white",
             "startlinecolor": "#2a3f5f"
            },
            "type": "carpet"
           }
          ],
          "choropleth": [
           {
            "colorbar": {
             "outlinewidth": 0,
             "ticks": ""
            },
            "type": "choropleth"
           }
          ],
          "contour": [
           {
            "colorbar": {
             "outlinewidth": 0,
             "ticks": ""
            },
            "colorscale": [
             [
              0,
              "#0d0887"
             ],
             [
              0.1111111111111111,
              "#46039f"
             ],
             [
              0.2222222222222222,
              "#7201a8"
             ],
             [
              0.3333333333333333,
              "#9c179e"
             ],
             [
              0.4444444444444444,
              "#bd3786"
             ],
             [
              0.5555555555555556,
              "#d8576b"
             ],
             [
              0.6666666666666666,
              "#ed7953"
             ],
             [
              0.7777777777777778,
              "#fb9f3a"
             ],
             [
              0.8888888888888888,
              "#fdca26"
             ],
             [
              1,
              "#f0f921"
             ]
            ],
            "type": "contour"
           }
          ],
          "contourcarpet": [
           {
            "colorbar": {
             "outlinewidth": 0,
             "ticks": ""
            },
            "type": "contourcarpet"
           }
          ],
          "heatmap": [
           {
            "colorbar": {
             "outlinewidth": 0,
             "ticks": ""
            },
            "colorscale": [
             [
              0,
              "#0d0887"
             ],
             [
              0.1111111111111111,
              "#46039f"
             ],
             [
              0.2222222222222222,
              "#7201a8"
             ],
             [
              0.3333333333333333,
              "#9c179e"
             ],
             [
              0.4444444444444444,
              "#bd3786"
             ],
             [
              0.5555555555555556,
              "#d8576b"
             ],
             [
              0.6666666666666666,
              "#ed7953"
             ],
             [
              0.7777777777777778,
              "#fb9f3a"
             ],
             [
              0.8888888888888888,
              "#fdca26"
             ],
             [
              1,
              "#f0f921"
             ]
            ],
            "type": "heatmap"
           }
          ],
          "heatmapgl": [
           {
            "colorbar": {
             "outlinewidth": 0,
             "ticks": ""
            },
            "colorscale": [
             [
              0,
              "#0d0887"
             ],
             [
              0.1111111111111111,
              "#46039f"
             ],
             [
              0.2222222222222222,
              "#7201a8"
             ],
             [
              0.3333333333333333,
              "#9c179e"
             ],
             [
              0.4444444444444444,
              "#bd3786"
             ],
             [
              0.5555555555555556,
              "#d8576b"
             ],
             [
              0.6666666666666666,
              "#ed7953"
             ],
             [
              0.7777777777777778,
              "#fb9f3a"
             ],
             [
              0.8888888888888888,
              "#fdca26"
             ],
             [
              1,
              "#f0f921"
             ]
            ],
            "type": "heatmapgl"
           }
          ],
          "histogram": [
           {
            "marker": {
             "pattern": {
              "fillmode": "overlay",
              "size": 10,
              "solidity": 0.2
             }
            },
            "type": "histogram"
           }
          ],
          "histogram2d": [
           {
            "colorbar": {
             "outlinewidth": 0,
             "ticks": ""
            },
            "colorscale": [
             [
              0,
              "#0d0887"
             ],
             [
              0.1111111111111111,
              "#46039f"
             ],
             [
              0.2222222222222222,
              "#7201a8"
             ],
             [
              0.3333333333333333,
              "#9c179e"
             ],
             [
              0.4444444444444444,
              "#bd3786"
             ],
             [
              0.5555555555555556,
              "#d8576b"
             ],
             [
              0.6666666666666666,
              "#ed7953"
             ],
             [
              0.7777777777777778,
              "#fb9f3a"
             ],
             [
              0.8888888888888888,
              "#fdca26"
             ],
             [
              1,
              "#f0f921"
             ]
            ],
            "type": "histogram2d"
           }
          ],
          "histogram2dcontour": [
           {
            "colorbar": {
             "outlinewidth": 0,
             "ticks": ""
            },
            "colorscale": [
             [
              0,
              "#0d0887"
             ],
             [
              0.1111111111111111,
              "#46039f"
             ],
             [
              0.2222222222222222,
              "#7201a8"
             ],
             [
              0.3333333333333333,
              "#9c179e"
             ],
             [
              0.4444444444444444,
              "#bd3786"
             ],
             [
              0.5555555555555556,
              "#d8576b"
             ],
             [
              0.6666666666666666,
              "#ed7953"
             ],
             [
              0.7777777777777778,
              "#fb9f3a"
             ],
             [
              0.8888888888888888,
              "#fdca26"
             ],
             [
              1,
              "#f0f921"
             ]
            ],
            "type": "histogram2dcontour"
           }
          ],
          "mesh3d": [
           {
            "colorbar": {
             "outlinewidth": 0,
             "ticks": ""
            },
            "type": "mesh3d"
           }
          ],
          "parcoords": [
           {
            "line": {
             "colorbar": {
              "outlinewidth": 0,
              "ticks": ""
             }
            },
            "type": "parcoords"
           }
          ],
          "pie": [
           {
            "automargin": true,
            "type": "pie"
           }
          ],
          "scatter": [
           {
            "marker": {
             "colorbar": {
              "outlinewidth": 0,
              "ticks": ""
             }
            },
            "type": "scatter"
           }
          ],
          "scatter3d": [
           {
            "line": {
             "colorbar": {
              "outlinewidth": 0,
              "ticks": ""
             }
            },
            "marker": {
             "colorbar": {
              "outlinewidth": 0,
              "ticks": ""
             }
            },
            "type": "scatter3d"
           }
          ],
          "scattercarpet": [
           {
            "marker": {
             "colorbar": {
              "outlinewidth": 0,
              "ticks": ""
             }
            },
            "type": "scattercarpet"
           }
          ],
          "scattergeo": [
           {
            "marker": {
             "colorbar": {
              "outlinewidth": 0,
              "ticks": ""
             }
            },
            "type": "scattergeo"
           }
          ],
          "scattergl": [
           {
            "marker": {
             "colorbar": {
              "outlinewidth": 0,
              "ticks": ""
             }
            },
            "type": "scattergl"
           }
          ],
          "scattermapbox": [
           {
            "marker": {
             "colorbar": {
              "outlinewidth": 0,
              "ticks": ""
             }
            },
            "type": "scattermapbox"
           }
          ],
          "scatterpolar": [
           {
            "marker": {
             "colorbar": {
              "outlinewidth": 0,
              "ticks": ""
             }
            },
            "type": "scatterpolar"
           }
          ],
          "scatterpolargl": [
           {
            "marker": {
             "colorbar": {
              "outlinewidth": 0,
              "ticks": ""
             }
            },
            "type": "scatterpolargl"
           }
          ],
          "scatterternary": [
           {
            "marker": {
             "colorbar": {
              "outlinewidth": 0,
              "ticks": ""
             }
            },
            "type": "scatterternary"
           }
          ],
          "surface": [
           {
            "colorbar": {
             "outlinewidth": 0,
             "ticks": ""
            },
            "colorscale": [
             [
              0,
              "#0d0887"
             ],
             [
              0.1111111111111111,
              "#46039f"
             ],
             [
              0.2222222222222222,
              "#7201a8"
             ],
             [
              0.3333333333333333,
              "#9c179e"
             ],
             [
              0.4444444444444444,
              "#bd3786"
             ],
             [
              0.5555555555555556,
              "#d8576b"
             ],
             [
              0.6666666666666666,
              "#ed7953"
             ],
             [
              0.7777777777777778,
              "#fb9f3a"
             ],
             [
              0.8888888888888888,
              "#fdca26"
             ],
             [
              1,
              "#f0f921"
             ]
            ],
            "type": "surface"
           }
          ],
          "table": [
           {
            "cells": {
             "fill": {
              "color": "#EBF0F8"
             },
             "line": {
              "color": "white"
             }
            },
            "header": {
             "fill": {
              "color": "#C8D4E3"
             },
             "line": {
              "color": "white"
             }
            },
            "type": "table"
           }
          ]
         },
         "layout": {
          "annotationdefaults": {
           "arrowcolor": "#2a3f5f",
           "arrowhead": 0,
           "arrowwidth": 1
          },
          "autotypenumbers": "strict",
          "coloraxis": {
           "colorbar": {
            "outlinewidth": 0,
            "ticks": ""
           }
          },
          "colorscale": {
           "diverging": [
            [
             0,
             "#8e0152"
            ],
            [
             0.1,
             "#c51b7d"
            ],
            [
             0.2,
             "#de77ae"
            ],
            [
             0.3,
             "#f1b6da"
            ],
            [
             0.4,
             "#fde0ef"
            ],
            [
             0.5,
             "#f7f7f7"
            ],
            [
             0.6,
             "#e6f5d0"
            ],
            [
             0.7,
             "#b8e186"
            ],
            [
             0.8,
             "#7fbc41"
            ],
            [
             0.9,
             "#4d9221"
            ],
            [
             1,
             "#276419"
            ]
           ],
           "sequential": [
            [
             0,
             "#0d0887"
            ],
            [
             0.1111111111111111,
             "#46039f"
            ],
            [
             0.2222222222222222,
             "#7201a8"
            ],
            [
             0.3333333333333333,
             "#9c179e"
            ],
            [
             0.4444444444444444,
             "#bd3786"
            ],
            [
             0.5555555555555556,
             "#d8576b"
            ],
            [
             0.6666666666666666,
             "#ed7953"
            ],
            [
             0.7777777777777778,
             "#fb9f3a"
            ],
            [
             0.8888888888888888,
             "#fdca26"
            ],
            [
             1,
             "#f0f921"
            ]
           ],
           "sequentialminus": [
            [
             0,
             "#0d0887"
            ],
            [
             0.1111111111111111,
             "#46039f"
            ],
            [
             0.2222222222222222,
             "#7201a8"
            ],
            [
             0.3333333333333333,
             "#9c179e"
            ],
            [
             0.4444444444444444,
             "#bd3786"
            ],
            [
             0.5555555555555556,
             "#d8576b"
            ],
            [
             0.6666666666666666,
             "#ed7953"
            ],
            [
             0.7777777777777778,
             "#fb9f3a"
            ],
            [
             0.8888888888888888,
             "#fdca26"
            ],
            [
             1,
             "#f0f921"
            ]
           ]
          },
          "colorway": [
           "#636efa",
           "#EF553B",
           "#00cc96",
           "#ab63fa",
           "#FFA15A",
           "#19d3f3",
           "#FF6692",
           "#B6E880",
           "#FF97FF",
           "#FECB52"
          ],
          "font": {
           "color": "#2a3f5f"
          },
          "geo": {
           "bgcolor": "white",
           "lakecolor": "white",
           "landcolor": "#E5ECF6",
           "showlakes": true,
           "showland": true,
           "subunitcolor": "white"
          },
          "hoverlabel": {
           "align": "left"
          },
          "hovermode": "closest",
          "mapbox": {
           "style": "light"
          },
          "paper_bgcolor": "white",
          "plot_bgcolor": "#E5ECF6",
          "polar": {
           "angularaxis": {
            "gridcolor": "white",
            "linecolor": "white",
            "ticks": ""
           },
           "bgcolor": "#E5ECF6",
           "radialaxis": {
            "gridcolor": "white",
            "linecolor": "white",
            "ticks": ""
           }
          },
          "scene": {
           "xaxis": {
            "backgroundcolor": "#E5ECF6",
            "gridcolor": "white",
            "gridwidth": 2,
            "linecolor": "white",
            "showbackground": true,
            "ticks": "",
            "zerolinecolor": "white"
           },
           "yaxis": {
            "backgroundcolor": "#E5ECF6",
            "gridcolor": "white",
            "gridwidth": 2,
            "linecolor": "white",
            "showbackground": true,
            "ticks": "",
            "zerolinecolor": "white"
           },
           "zaxis": {
            "backgroundcolor": "#E5ECF6",
            "gridcolor": "white",
            "gridwidth": 2,
            "linecolor": "white",
            "showbackground": true,
            "ticks": "",
            "zerolinecolor": "white"
           }
          },
          "shapedefaults": {
           "line": {
            "color": "#2a3f5f"
           }
          },
          "ternary": {
           "aaxis": {
            "gridcolor": "white",
            "linecolor": "white",
            "ticks": ""
           },
           "baxis": {
            "gridcolor": "white",
            "linecolor": "white",
            "ticks": ""
           },
           "bgcolor": "#E5ECF6",
           "caxis": {
            "gridcolor": "white",
            "linecolor": "white",
            "ticks": ""
           }
          },
          "title": {
           "x": 0.05
          },
          "xaxis": {
           "automargin": true,
           "gridcolor": "white",
           "linecolor": "white",
           "ticks": "",
           "title": {
            "standoff": 15
           },
           "zerolinecolor": "white",
           "zerolinewidth": 2
          },
          "yaxis": {
           "automargin": true,
           "gridcolor": "white",
           "linecolor": "white",
           "ticks": "",
           "title": {
            "standoff": 15
           },
           "zerolinecolor": "white",
           "zerolinewidth": 2
          }
         }
        },
        "title": {
         "text": "Top 20 words in reviews"
        },
        "xaxis": {
         "anchor": "y",
         "domain": [
          0,
          1
         ],
         "title": {
          "text": "index"
         }
        },
        "yaxis": {
         "anchor": "x",
         "domain": [
          0,
          1
         ],
         "title": {
          "text": "Count"
         }
        }
       }
      }
     },
     "metadata": {},
     "output_type": "display_data"
    },
    {
     "data": {
      "application/vnd.plotly.v1+json": {
       "config": {
        "plotlyServerURL": "https://plot.ly"
       },
       "data": [
        {
         "alignmentgroup": "True",
         "hovertemplate": "color=4.0<br>Actual=%{x}<br>Predicted=%{y}<extra></extra>",
         "legendgroup": "4.0",
         "marker": {
          "color": "#636efa"
         },
         "name": "4.0",
         "notched": false,
         "offsetgroup": "4.0",
         "orientation": "v",
         "showlegend": true,
         "type": "box",
         "x": [
          4,
          4,
          4,
          4,
          4,
          4,
          4,
          4,
          4,
          4,
          4,
          4,
          4,
          4,
          4,
          4,
          4,
          4,
          4,
          4,
          4,
          4,
          4,
          4,
          4,
          4,
          4,
          4,
          4,
          4,
          4,
          4,
          4,
          4,
          4,
          4,
          4,
          4,
          4,
          4,
          4,
          4,
          4,
          4,
          4,
          4,
          4,
          4,
          4,
          4,
          4,
          4,
          4,
          4,
          4,
          4,
          4,
          4,
          4,
          4,
          4,
          4,
          4,
          4,
          4,
          4,
          4,
          4,
          4,
          4,
          4,
          4,
          4,
          4,
          4,
          4,
          4,
          4,
          4,
          4,
          4,
          4,
          4,
          4,
          4,
          4,
          4,
          4,
          4,
          4,
          4,
          4,
          4,
          4,
          4,
          4,
          4,
          4,
          4,
          4,
          4,
          4,
          4,
          4,
          4,
          4,
          4,
          4,
          4,
          4,
          4,
          4,
          4,
          4,
          4,
          4,
          4,
          4,
          4,
          4,
          4,
          4,
          4,
          4,
          4,
          4,
          4,
          4,
          4,
          4,
          4,
          4,
          4,
          4,
          4,
          4,
          4,
          4,
          4,
          4,
          4,
          4,
          4,
          4,
          4,
          4,
          4,
          4,
          4,
          4,
          4,
          4,
          4,
          4,
          4,
          4,
          4,
          4,
          4,
          4,
          4,
          4,
          4,
          4,
          4,
          4,
          4,
          4,
          4,
          4,
          4,
          4,
          4,
          4,
          4,
          4,
          4,
          4,
          4,
          4,
          4,
          4,
          4,
          4,
          4,
          4,
          4,
          4,
          4
         ],
         "x0": " ",
         "xaxis": "x",
         "y": [
          4.592700503997938,
          4.419081651861202,
          4.302736119166273,
          4.436403770660215,
          4.281694967683386,
          4.503889623663503,
          4.419081651861202,
          4.369527126263885,
          4.213631576893896,
          4.376059513145957,
          4.4158990178660025,
          4.459561397141951,
          4.419081651861202,
          4.39534363489574,
          4.679300884140833,
          4.419081651861202,
          4.643117041091234,
          4.512185027977964,
          4.419081651861202,
          4.515982418398222,
          4.307013383858088,
          4.416004998548833,
          4.454980349542097,
          4.39534363489574,
          4.397436653478395,
          4.449733591415179,
          4.419081651861202,
          4.3986367502700805,
          3.8069423856295983,
          4.419081651861202,
          4.3509349550172205,
          4.516950713084619,
          4.340160815465063,
          4.467532035129712,
          4.419081651861202,
          4.447314376378515,
          4.512185027977964,
          4.359715296496315,
          4.419081651861202,
          4.5031953352599485,
          4.39220116448084,
          3.4857634939549778,
          4.452410718479557,
          3.894889192212198,
          4.419081651861202,
          4.459561397141951,
          4.312069891143843,
          4.417880834889948,
          4.419081651861202,
          4.518965324270554,
          4.44379401816425,
          3.280821921955324,
          4.395732450883178,
          4.363200692979768,
          4.481551477449331,
          4.575921248203877,
          4.230443306763123,
          4.467532035129712,
          4.504642570840286,
          4.260378477746757,
          4.3164227984996,
          4.419081651861202,
          4.467532035129712,
          4.3312386414417485,
          4.419081651861202,
          4.3509349550172205,
          4.564432801666732,
          4.467532035129712,
          3.80619993128441,
          4.39534363489574,
          4.419081651861202,
          4.419081651861202,
          4.467532035129712,
          4.467532035129712,
          4.660034931602623,
          4.434998088341558,
          4.623330909857255,
          4.411651076248278,
          4.419081651861202,
          4.419081651861202,
          4.467914604442414,
          4.55869077556166,
          4.419081651861202,
          4.419081651861202,
          4.393265143229347,
          4.39534363489574,
          4.360601065886279,
          4.419081651861202,
          4.545629686140543,
          3.911104888319893,
          4.467532035129712,
          4.3509349550172205,
          3.909152542458331,
          4.419081651861202,
          4.572103839490839,
          4.267952433856653,
          4.419081651861202,
          4.047692015986391,
          4.419081651861202,
          4.39534363489574,
          4.36601244120487,
          4.214641561329257,
          4.39534363489574,
          4.560635411246474,
          4.419081651861202,
          3.783490653223218,
          4.419081651861202,
          4.419081651861202,
          4.428516923718495,
          4.419081651861202,
          4.4660886786974325,
          4.489826695662895,
          4.520411366555645,
          4.419081651861202,
          4.39534363489574,
          4.5031953352599485,
          3.974598138581246,
          4.307319734098334,
          4.419081651861202,
          4.774033985341237,
          4.467532035129712,
          4.551645718528459,
          4.419081651861202,
          4.39220116448084,
          4.419081651861202,
          4.45029633308678,
          4.419081651861202,
          4.419081651861202,
          4.0961423992549015,
          3.778034568228272,
          4.4478105277002955,
          4.467532035129712,
          4.483747731237407,
          4.623330909857255,
          4.419081651861202,
          4.187815068262041,
          4.483747731237407,
          4.445365197137251,
          4.39534363489574,
          3.296992490376387,
          3.965055375659154,
          3.6402256777791258,
          4.454980349542097,
          4.419081651861202,
          4.39220116448084,
          4.419081651861202,
          4.368463147515378,
          4.52807209076715,
          4.419081651861202,
          4.467532035129712,
          4.419081651861202,
          4.359715296496315,
          4.419081651861202,
          4.419081651861202,
          4.39534363489574,
          4.592136944311571,
          4.317797348641566,
          4.591551443513381,
          4.419081651861202,
          4.371679973644776,
          4.419081651861202,
          4.377382664394738,
          4.467532035129712,
          4.512185027977964,
          4.419081651861202,
          4.419081651861202,
          4.467532035129712,
          4.419081651861202,
          4.467532035129712,
          4.271300842050982,
          4.352440011485078,
          4.768455104368811,
          4.322714775338971,
          4.419081651861202,
          4.419081651861202,
          4.4761930945292185,
          4.39220116448084,
          4.419081651861202,
          4.393931278968729,
          4.419081651861202,
          4.483699743149172,
          4.594213100978205,
          4.512185027977964,
          4.419081651861202,
          4.419081651861202,
          4.419081651861202,
          4.4441771465900795,
          4.503889623663503,
          4.419081651861202
         ],
         "y0": " ",
         "yaxis": "y"
        },
        {
         "alignmentgroup": "True",
         "hovertemplate": "color=5.0<br>Actual=%{x}<br>Predicted=%{y}<extra></extra>",
         "legendgroup": "5.0",
         "marker": {
          "color": "#EF553B"
         },
         "name": "5.0",
         "notched": false,
         "offsetgroup": "5.0",
         "orientation": "v",
         "showlegend": true,
         "type": "box",
         "x": [
          5,
          5,
          5,
          5,
          5,
          5,
          5,
          5,
          5,
          5,
          5,
          5,
          5,
          5,
          5,
          5,
          5,
          5,
          5,
          5,
          5,
          5,
          5,
          5,
          5,
          5,
          5,
          5,
          5,
          5,
          5,
          5,
          5,
          5,
          5,
          5,
          5,
          5,
          5,
          5,
          5,
          5,
          5,
          5,
          5,
          5,
          5,
          5,
          5,
          5,
          5,
          5,
          5,
          5,
          5,
          5,
          5,
          5,
          5,
          5,
          5,
          5,
          5,
          5,
          5,
          5,
          5,
          5,
          5,
          5,
          5,
          5,
          5,
          5,
          5,
          5,
          5,
          5,
          5,
          5,
          5,
          5,
          5,
          5,
          5,
          5,
          5,
          5,
          5,
          5,
          5,
          5,
          5,
          5,
          5,
          5,
          5,
          5,
          5,
          5,
          5,
          5,
          5,
          5,
          5,
          5,
          5,
          5,
          5,
          5,
          5,
          5,
          5,
          5,
          5,
          5,
          5,
          5,
          5,
          5,
          5,
          5,
          5,
          5,
          5,
          5,
          5,
          5,
          5,
          5,
          5,
          5,
          5,
          5,
          5,
          5,
          5,
          5,
          5,
          5,
          5,
          5,
          5,
          5,
          5,
          5,
          5,
          5,
          5,
          5,
          5,
          5,
          5,
          5,
          5,
          5,
          5,
          5,
          5,
          5,
          5,
          5,
          5,
          5,
          5,
          5,
          5,
          5,
          5,
          5,
          5,
          5,
          5,
          5,
          5,
          5,
          5,
          5,
          5,
          5,
          5,
          5,
          5,
          5,
          5,
          5,
          5,
          5,
          5,
          5,
          5,
          5,
          5,
          5,
          5,
          5,
          5,
          5,
          5,
          5,
          5,
          5,
          5,
          5,
          5,
          5,
          5,
          5,
          5,
          5,
          5,
          5,
          5,
          5,
          5,
          5,
          5,
          5,
          5,
          5,
          5,
          5,
          5,
          5,
          5,
          5,
          5,
          5,
          5,
          5,
          5,
          5,
          5,
          5,
          5,
          5,
          5,
          5,
          5,
          5,
          5,
          5,
          5,
          5,
          5,
          5,
          5,
          5,
          5,
          5,
          5,
          5,
          5,
          5,
          5,
          5,
          5,
          5,
          5,
          5,
          5,
          5,
          5,
          5,
          5,
          5,
          5,
          5,
          5,
          5,
          5,
          5,
          5,
          5,
          5,
          5,
          5,
          5,
          5,
          5,
          5,
          5,
          5,
          5,
          5,
          5,
          5,
          5,
          5,
          5,
          5,
          5,
          5,
          5,
          5,
          5,
          5,
          5,
          5,
          5,
          5,
          5,
          5,
          5,
          5,
          5,
          5,
          5,
          5,
          5,
          5,
          5,
          5,
          5,
          5,
          5,
          5,
          5,
          5,
          5,
          5,
          5,
          5,
          5,
          5,
          5,
          5,
          5,
          5,
          5,
          5,
          5,
          5,
          5,
          5,
          5,
          5,
          5,
          5,
          5,
          5,
          5,
          5,
          5,
          5,
          5,
          5,
          5,
          5,
          5,
          5,
          5,
          5,
          5,
          5,
          5,
          5,
          5,
          5,
          5,
          5,
          5,
          5,
          5,
          5,
          5,
          5,
          5,
          5,
          5,
          5,
          5,
          5,
          5,
          5,
          5,
          5,
          5,
          5,
          5,
          5,
          5,
          5,
          5,
          5,
          5,
          5,
          5,
          5,
          5,
          5,
          5,
          5,
          5,
          5,
          5,
          5,
          5,
          5,
          5,
          5,
          5,
          5,
          5,
          5,
          5,
          5,
          5,
          5,
          5,
          5,
          5,
          5,
          5,
          5,
          5,
          5,
          5,
          5,
          5,
          5,
          5,
          5,
          5,
          5,
          5,
          5,
          5,
          5,
          5,
          5,
          5,
          5,
          5,
          5,
          5,
          5,
          5,
          5,
          5,
          5,
          5,
          5,
          5,
          5,
          5,
          5,
          5,
          5,
          5
         ],
         "x0": " ",
         "xaxis": "x",
         "y": [
          4.452818672613077,
          4.633332796830094,
          4.554712944749567,
          4.545629686140543,
          4.512185027977964,
          4.419081651861202,
          4.419081651861202,
          4.419081651861202,
          4.609619368379556,
          4.419081651861202,
          3.8890285984431125,
          4.419081651861202,
          4.60025379375256,
          4.489826695662895,
          2.6721385636925854,
          4.519411031367643,
          4.213631576893896,
          4.716189014691327,
          4.419081651861202,
          4.616438520963401,
          4.43708369737278,
          4.509272097606752,
          4.502561776815283,
          4.571399909120967,
          4.467532035129712,
          4.467532035129712,
          4.616438520963401,
          4.467532035129712,
          4.39534363489574,
          4.397436653478395,
          4.419081651861202,
          4.467532035129712,
          4.419081651861202,
          4.39534363489574,
          4.503889623663503,
          4.419081651861202,
          4.419081651861202,
          4.7827002197110815,
          4.603760112317048,
          4.281694967683386,
          4.379942421295055,
          4.512185027977964,
          4.419081651861202,
          4.624083857034036,
          4.920248823148243,
          4.425833047663248,
          4.39534363489574,
          4.419081651861202,
          4.427742711260708,
          4.419081651861202,
          4.541589470142193,
          4.709541897080163,
          4.623330909857255,
          4.732404710799022,
          4.489826695662895,
          4.668641407460579,
          4.419081651861202,
          4.524643477797729,
          4.5766696328149825,
          4.435823380176489,
          4.488447011012502,
          4.460821714338243,
          4.4322234244992265,
          4.419081651861202,
          4.467532035129712,
          4.419081651861202,
          4.623330909857255,
          4.419081651861202,
          4.752332983654911,
          4.445653012541354,
          4.4322234244992265,
          4.5975144012254,
          4.427742711260708,
          4.419081651861202,
          4.378064777900027,
          4.662564645113775,
          4.419081651861202,
          4.3031304368650405,
          4.363200692979768,
          4.575854875926329,
          4.515982418398222,
          4.555888143383144,
          4.623330909857255,
          4.419081651861202,
          4.099061683422852,
          4.623330909857255,
          4.419081651861202,
          4.419081651861202,
          4.467532035129712,
          4.536751974248565,
          4.419081651861202,
          4.427742711260708,
          4.607808430460748,
          4.623330909857255,
          4.4322234244992265,
          4.260378477746757,
          4.496260910968806,
          4.303484741705955,
          4.550695641651288,
          4.515982418398222,
          4.419081651861202,
          4.558771458778568,
          4.39534363489574,
          4.312069891143843,
          4.64195601539766,
          4.515982418398222,
          4.419081651861202,
          4.737820271568856,
          4.427742711260708,
          4.710229390384035,
          4.539788321344399,
          4.700283213670884,
          4.764657713948553,
          4.604734506991078,
          4.57004748192303,
          4.488447011012502,
          4.599592892891792,
          4.214525972016014,
          4.50050582604039,
          4.540479182995232,
          4.371616883050996,
          4.423812428640541,
          4.612009564475761,
          4.512937975154746,
          4.4660886786974325,
          4.697083746479222,
          4.4478105277002955,
          4.658899435172717,
          4.623330909857255,
          4.419081651861202,
          4.5784509617150295,
          4.511750307156138,
          4.39534363489574,
          4.363200692979768,
          4.370022130057113,
          4.709541897080163,
          4.4322234244992265,
          4.832990117207123,
          4.532618499502597,
          4.3763424656177925,
          4.536166635953728,
          4.419081651861202,
          4.563414158534988,
          4.460456149016539,
          4.452680425228302,
          4.5784509617150295,
          4.25200009440599,
          4.516950713084619,
          4.503889623663503,
          4.419081651861202,
          4.480151606698041,
          3.672772027638782,
          4.554712944749567,
          4.708891828836338,
          4.419081651861202,
          4.6858038801147,
          4.404826894841268,
          4.419081651861202,
          4.58163192239079,
          4.512185027977964,
          4.5031953352599485,
          4.8261763798222885,
          4.198983176704822,
          4.419081651861202,
          4.5699477359702465,
          4.419081651861202,
          4.515982418398222,
          4.509272097606752,
          4.544935397736989,
          4.452265991253374,
          4.585534839171315,
          4.419081651861202,
          4.419081651861202,
          4.601360407948389,
          4.470130382087423,
          4.957831668828085,
          4.535711775471619,
          4.431242332576635,
          4.477378826628094,
          4.616438520963401,
          4.671554337831791,
          4.505656955352171,
          4.479457318294487,
          4.435297347968897,
          4.484452690325954,
          4.4478105277002955,
          4.4352840359666255,
          4.589558033583039,
          4.507437760114634,
          4.148200381307599,
          4.419081651861202,
          4.512937975154746,
          4.419081651861202,
          4.512185027977964,
          4.633332796830094,
          4.69261640226305,
          4.722958726482089,
          4.424968787267364,
          4.589063020841901,
          4.503430732810608,
          4.419081651861202,
          4.39534363489574,
          4.388693535406279,
          4.591592734353053,
          4.416161287492984,
          3.919619515599281,
          4.454980349542097,
          4.419081651861202,
          4.5160988195141405,
          4.689226934253376,
          4.437780324993882,
          4.419081651861202,
          4.379944964363729,
          4.5784509617150295,
          4.609007945350477,
          4.764103816844905,
          4.419081651861202,
          4.4682849823064945,
          4.548083725658859,
          4.322174712964134,
          4.486368519346109,
          4.459561397141951,
          4.5031953352599485,
          4.512185027977964,
          4.158428038787739,
          4.362994265185099,
          4.5886723699848355,
          4.419081651861202,
          4.419081651861202,
          4.419081651861202,
          4.435823380176489,
          4.419081651861202,
          4.340160815465063,
          4.658507306522292,
          4.513632526942725,
          4.59629871137671,
          4.454980349542097,
          4.583137797861685,
          4.324054467636858,
          4.517325420969138,
          4.515982418398222,
          4.517031396301528,
          4.554712944749567,
          4.671554337831791,
          4.554712944749567,
          3.94463703378402,
          4.419081651861202,
          4.419834599037984,
          4.5784509617150295,
          3.8851370860416257,
          4.419081651861202,
          4.419081651861202,
          4.623330909857255,
          4.56929647064598,
          4.467532035129712,
          3.9520675874664226,
          4.697522338567836,
          4.019678018030333,
          4.3951420273707615,
          4.386043723794245,
          4.5031953352599485,
          4.5784509617150295,
          4.339462676014306,
          4.419081651861202,
          4.507437760114634,
          4.79994918438281,
          4.363200692979768,
          4.572103839490839,
          4.427742711260708,
          4.623330909857255,
          4.302249126223875,
          4.591551443513381,
          4.5031953352599485,
          4.658931530617224,
          4.2736013238092365,
          4.592700503997938,
          4.501109724861443,
          4.5784509617150295,
          4.429163840910243,
          4.43708369737278,
          4.591592734353053,
          4.503889623663503,
          4.709541897080163,
          4.503948282436731,
          4.482244625280696,
          4.824995472898191,
          4.404004694295247,
          4.419081651861202,
          4.474779795681067,
          4.419081651861202,
          4.369527126263885,
          4.363200692979768,
          4.605624948110298,
          4.3509349550172205,
          4.419834599037984,
          4.427742711260708,
          4.361725379648983,
          4.419834599037984,
          4.467532035129712,
          4.795841992349106,
          4.419081651861202,
          4.393265143229347,
          4.721010325324528,
          4.419081651861202,
          4.650449777773729,
          4.480151606698041,
          4.419834599037984,
          4.5031953352599485,
          4.748432330695728,
          4.419081651861202,
          4.512185027977964,
          4.282039670157589,
          4.467532035129712,
          4.419081651861202,
          4.455771857289416,
          4.5784509617150295,
          4.25200009440599,
          4.419081651861202,
          4.419081651861202,
          4.503889623663503,
          4.281694967683386,
          4.397436653478395,
          4.3409639298040394,
          4.6937330517783025,
          4.206878422056249,
          4.512185027977964,
          4.388448101332569,
          4.419081651861202,
          4.532150126417681,
          4.5660931071528745,
          4.5031953352599485,
          4.62019102419207,
          4.419081651861202,
          4.5031953352599485,
          4.4478105277002955,
          4.368463147515378,
          4.404826894841268,
          4.419081651861202,
          4.665745605789537,
          4.503889623663503,
          4.419081651861202,
          4.5031953352599485,
          3.8527271797514446,
          4.5031953352599485,
          4.511750307156138,
          4.399385338285731,
          4.827580167853307,
          4.419081651861202,
          4.419081651861202,
          4.625131896213328,
          4.435297347968897,
          4.488447011012502,
          4.671781293125765,
          4.312069891143843,
          4.554712944749567,
          4.503889623663503,
          4.607179837554122,
          4.5784509617150295,
          4.419081651861202,
          4.657890867283245,
          4.515982418398222,
          4.587309018658695,
          4.419081651861202,
          4.413557366375979,
          4.575921248203877,
          4.4599617261837095,
          4.4948330423021154,
          4.610807036378163,
          4.778606892900873,
          4.22506882535559,
          4.623330909857255,
          4.404940755456808,
          4.671781293125765,
          4.419081651861202,
          4.419081651861202,
          4.605191992253441,
          4.5603901399637845,
          4.467532035129712,
          4.327737273000603,
          4.419081651861202,
          4.398892962865995,
          4.516950713084619,
          4.578288983969046,
          4.419081651861202,
          4.736970247017197,
          4.4478105277002955,
          4.588319535598534,
          4.39534363489574,
          4.386677400525896,
          4.427742711260708,
          4.591592734353053,
          4.419081651861202,
          4.427742711260708,
          4.58522340826019,
          4.616438520963401,
          4.573342463062673,
          4.39853029038161,
          4.445365197137251,
          4.467532035129712,
          4.483747731237407,
          4.424072510734833,
          4.419081651861202,
          4.368463147515378,
          4.413813126417416,
          4.5784509617150295,
          4.435297347968897,
          4.419081651861202,
          4.497326765934295,
          4.5031953352599485,
          4.419081651861202,
          4.688452210050401,
          4.419081651861202,
          4.278880581786352,
          4.520791899262625,
          4.435297347968897,
          4.354263217088898,
          4.363200692979768,
          4.711015028382286,
          4.5031953352599485,
          4.467532035129712,
          4.419081651861202,
          4.5886975954658045,
          4.369489185227458,
          4.419081651861202,
          4.020451076253302,
          4.039935335354779,
          4.4478105277002955,
          4.671309066549102,
          4.477378826628094,
          4.587190857553288,
          3.922294315096355,
          4.623330909857255,
          4.467532035129712,
          4.649196005516722,
          4.419081651861202,
          4.468222456541458,
          4.503889623663503,
          4.512185027977964,
          4.567861414636154,
          4.483699743149172,
          4.419081651861202,
          4.591592734353053,
          4.489826695662895,
          4.419081651861202,
          4.419081651861202,
          4.419081651861202,
          4.5975144012254,
          4.021270417551374,
          4.419081651861202,
          4.435297347968897
         ],
         "y0": " ",
         "yaxis": "y"
        },
        {
         "alignmentgroup": "True",
         "hovertemplate": "color=3.0<br>Actual=%{x}<br>Predicted=%{y}<extra></extra>",
         "legendgroup": "3.0",
         "marker": {
          "color": "#00cc96"
         },
         "name": "3.0",
         "notched": false,
         "offsetgroup": "3.0",
         "orientation": "v",
         "showlegend": true,
         "type": "box",
         "x": [
          3,
          3,
          3,
          3,
          3,
          3,
          3,
          3,
          3,
          3,
          3,
          3,
          3,
          3,
          3,
          3,
          3,
          3,
          3,
          3,
          3,
          3,
          3,
          3,
          3,
          3,
          3,
          3,
          3,
          3,
          3,
          3,
          3,
          3,
          3,
          3,
          3,
          3,
          3,
          3,
          3,
          3,
          3,
          3,
          3,
          3,
          3,
          3,
          3,
          3,
          3,
          3,
          3,
          3,
          3
         ],
         "x0": " ",
         "xaxis": "x",
         "y": [
          4.187815068262041,
          4.419081651861202,
          4.340160815465063,
          3.4756214831610173,
          3.9237837787118224,
          4.419081651861202,
          4.419081651861202,
          4.419081651861202,
          4.419081651861202,
          4.006682713833943,
          4.441064277537213,
          4.419081651861202,
          4.404940755456808,
          4.158428038787739,
          2.863735051109713,
          4.075888698572625,
          4.489826695662895,
          4.205045899856167,
          3.8791307858635706,
          3.8546503145529196,
          4.477009136283141,
          4.246368167342441,
          3.87431954911607,
          4.39534363489574,
          4.227062256729595,
          3.5250115550879912,
          4.663258933517331,
          4.407222506987403,
          4.489727930956054,
          4.35018636700157,
          4.419081651861202,
          4.388448101332569,
          4.419081651861202,
          4.419081651861202,
          4.3710138379053936,
          4.158428038787739,
          4.467532035129712,
          3.822700791978226,
          4.342274424239408,
          3.80619993128441,
          4.419081651861202,
          4.419081651861202,
          4.5475432361037695,
          4.419081651861202,
          4.354263217088898,
          4.357680701518061,
          4.39534363489574,
          4.419081651861202,
          4.467532035129712,
          4.507437760114634,
          4.371631438549937,
          4.419081651861202,
          4.5784509617150295,
          4.419081651861202,
          4.419081651861202
         ],
         "y0": " ",
         "yaxis": "y"
        },
        {
         "alignmentgroup": "True",
         "hovertemplate": "color=1.0<br>Actual=%{x}<br>Predicted=%{y}<extra></extra>",
         "legendgroup": "1.0",
         "marker": {
          "color": "#ab63fa"
         },
         "name": "1.0",
         "notched": false,
         "offsetgroup": "1.0",
         "orientation": "v",
         "showlegend": true,
         "type": "box",
         "x": [
          1,
          1,
          1,
          1,
          1,
          1,
          1,
          1,
          1,
          1,
          1,
          1
         ],
         "x0": " ",
         "xaxis": "x",
         "y": [
          4.301385995319559,
          4.419081651861202,
          4.5784509617150295,
          4.281694967683386,
          4.424072510734833,
          4.39220116448084,
          4.511750307156138,
          2.4678893056965334,
          4.512185027977964,
          4.419081651861202,
          4.322925113422131,
          4.419081651861202
         ],
         "y0": " ",
         "yaxis": "y"
        },
        {
         "alignmentgroup": "True",
         "hovertemplate": "color=2.0<br>Actual=%{x}<br>Predicted=%{y}<extra></extra>",
         "legendgroup": "2.0",
         "marker": {
          "color": "#FFA15A"
         },
         "name": "2.0",
         "notched": false,
         "offsetgroup": "2.0",
         "orientation": "v",
         "showlegend": true,
         "type": "box",
         "x": [
          2,
          2,
          2,
          2,
          2,
          2,
          2,
          2,
          2,
          2,
          2,
          2,
          2,
          2,
          2,
          2,
          2,
          2,
          2,
          2,
          2,
          2,
          2,
          2,
          2,
          2
         ],
         "x0": " ",
         "xaxis": "x",
         "y": [
          4.45630406909653,
          3.537725841886112,
          4.288331874178381,
          4.22677334953192,
          4.419834599037984,
          4.4322234244992265,
          4.419081651861202,
          4.213631576893896,
          4.404004694295247,
          4.419081651861202,
          3.767517972547549,
          4.260378477746757,
          3.3065748988994343,
          4.157750618012462,
          4.547284447341081,
          3.381189535810953,
          4.419081651861202,
          4.340160815465063,
          4.3509349550172205,
          3.9249184544514044,
          4.623330909857255,
          4.709107176258337,
          4.536166635953728,
          4.419081651861202,
          3.5938289579674336,
          3.3217251242550425
         ],
         "y0": " ",
         "yaxis": "y"
        }
       ],
       "layout": {
        "boxmode": "group",
        "legend": {
         "title": {
          "text": "color"
         },
         "tracegroupgap": 0
        },
        "template": {
         "data": {
          "bar": [
           {
            "error_x": {
             "color": "#2a3f5f"
            },
            "error_y": {
             "color": "#2a3f5f"
            },
            "marker": {
             "line": {
              "color": "#E5ECF6",
              "width": 0.5
             },
             "pattern": {
              "fillmode": "overlay",
              "size": 10,
              "solidity": 0.2
             }
            },
            "type": "bar"
           }
          ],
          "barpolar": [
           {
            "marker": {
             "line": {
              "color": "#E5ECF6",
              "width": 0.5
             },
             "pattern": {
              "fillmode": "overlay",
              "size": 10,
              "solidity": 0.2
             }
            },
            "type": "barpolar"
           }
          ],
          "carpet": [
           {
            "aaxis": {
             "endlinecolor": "#2a3f5f",
             "gridcolor": "white",
             "linecolor": "white",
             "minorgridcolor": "white",
             "startlinecolor": "#2a3f5f"
            },
            "baxis": {
             "endlinecolor": "#2a3f5f",
             "gridcolor": "white",
             "linecolor": "white",
             "minorgridcolor": "white",
             "startlinecolor": "#2a3f5f"
            },
            "type": "carpet"
           }
          ],
          "choropleth": [
           {
            "colorbar": {
             "outlinewidth": 0,
             "ticks": ""
            },
            "type": "choropleth"
           }
          ],
          "contour": [
           {
            "colorbar": {
             "outlinewidth": 0,
             "ticks": ""
            },
            "colorscale": [
             [
              0,
              "#0d0887"
             ],
             [
              0.1111111111111111,
              "#46039f"
             ],
             [
              0.2222222222222222,
              "#7201a8"
             ],
             [
              0.3333333333333333,
              "#9c179e"
             ],
             [
              0.4444444444444444,
              "#bd3786"
             ],
             [
              0.5555555555555556,
              "#d8576b"
             ],
             [
              0.6666666666666666,
              "#ed7953"
             ],
             [
              0.7777777777777778,
              "#fb9f3a"
             ],
             [
              0.8888888888888888,
              "#fdca26"
             ],
             [
              1,
              "#f0f921"
             ]
            ],
            "type": "contour"
           }
          ],
          "contourcarpet": [
           {
            "colorbar": {
             "outlinewidth": 0,
             "ticks": ""
            },
            "type": "contourcarpet"
           }
          ],
          "heatmap": [
           {
            "colorbar": {
             "outlinewidth": 0,
             "ticks": ""
            },
            "colorscale": [
             [
              0,
              "#0d0887"
             ],
             [
              0.1111111111111111,
              "#46039f"
             ],
             [
              0.2222222222222222,
              "#7201a8"
             ],
             [
              0.3333333333333333,
              "#9c179e"
             ],
             [
              0.4444444444444444,
              "#bd3786"
             ],
             [
              0.5555555555555556,
              "#d8576b"
             ],
             [
              0.6666666666666666,
              "#ed7953"
             ],
             [
              0.7777777777777778,
              "#fb9f3a"
             ],
             [
              0.8888888888888888,
              "#fdca26"
             ],
             [
              1,
              "#f0f921"
             ]
            ],
            "type": "heatmap"
           }
          ],
          "heatmapgl": [
           {
            "colorbar": {
             "outlinewidth": 0,
             "ticks": ""
            },
            "colorscale": [
             [
              0,
              "#0d0887"
             ],
             [
              0.1111111111111111,
              "#46039f"
             ],
             [
              0.2222222222222222,
              "#7201a8"
             ],
             [
              0.3333333333333333,
              "#9c179e"
             ],
             [
              0.4444444444444444,
              "#bd3786"
             ],
             [
              0.5555555555555556,
              "#d8576b"
             ],
             [
              0.6666666666666666,
              "#ed7953"
             ],
             [
              0.7777777777777778,
              "#fb9f3a"
             ],
             [
              0.8888888888888888,
              "#fdca26"
             ],
             [
              1,
              "#f0f921"
             ]
            ],
            "type": "heatmapgl"
           }
          ],
          "histogram": [
           {
            "marker": {
             "pattern": {
              "fillmode": "overlay",
              "size": 10,
              "solidity": 0.2
             }
            },
            "type": "histogram"
           }
          ],
          "histogram2d": [
           {
            "colorbar": {
             "outlinewidth": 0,
             "ticks": ""
            },
            "colorscale": [
             [
              0,
              "#0d0887"
             ],
             [
              0.1111111111111111,
              "#46039f"
             ],
             [
              0.2222222222222222,
              "#7201a8"
             ],
             [
              0.3333333333333333,
              "#9c179e"
             ],
             [
              0.4444444444444444,
              "#bd3786"
             ],
             [
              0.5555555555555556,
              "#d8576b"
             ],
             [
              0.6666666666666666,
              "#ed7953"
             ],
             [
              0.7777777777777778,
              "#fb9f3a"
             ],
             [
              0.8888888888888888,
              "#fdca26"
             ],
             [
              1,
              "#f0f921"
             ]
            ],
            "type": "histogram2d"
           }
          ],
          "histogram2dcontour": [
           {
            "colorbar": {
             "outlinewidth": 0,
             "ticks": ""
            },
            "colorscale": [
             [
              0,
              "#0d0887"
             ],
             [
              0.1111111111111111,
              "#46039f"
             ],
             [
              0.2222222222222222,
              "#7201a8"
             ],
             [
              0.3333333333333333,
              "#9c179e"
             ],
             [
              0.4444444444444444,
              "#bd3786"
             ],
             [
              0.5555555555555556,
              "#d8576b"
             ],
             [
              0.6666666666666666,
              "#ed7953"
             ],
             [
              0.7777777777777778,
              "#fb9f3a"
             ],
             [
              0.8888888888888888,
              "#fdca26"
             ],
             [
              1,
              "#f0f921"
             ]
            ],
            "type": "histogram2dcontour"
           }
          ],
          "mesh3d": [
           {
            "colorbar": {
             "outlinewidth": 0,
             "ticks": ""
            },
            "type": "mesh3d"
           }
          ],
          "parcoords": [
           {
            "line": {
             "colorbar": {
              "outlinewidth": 0,
              "ticks": ""
             }
            },
            "type": "parcoords"
           }
          ],
          "pie": [
           {
            "automargin": true,
            "type": "pie"
           }
          ],
          "scatter": [
           {
            "marker": {
             "colorbar": {
              "outlinewidth": 0,
              "ticks": ""
             }
            },
            "type": "scatter"
           }
          ],
          "scatter3d": [
           {
            "line": {
             "colorbar": {
              "outlinewidth": 0,
              "ticks": ""
             }
            },
            "marker": {
             "colorbar": {
              "outlinewidth": 0,
              "ticks": ""
             }
            },
            "type": "scatter3d"
           }
          ],
          "scattercarpet": [
           {
            "marker": {
             "colorbar": {
              "outlinewidth": 0,
              "ticks": ""
             }
            },
            "type": "scattercarpet"
           }
          ],
          "scattergeo": [
           {
            "marker": {
             "colorbar": {
              "outlinewidth": 0,
              "ticks": ""
             }
            },
            "type": "scattergeo"
           }
          ],
          "scattergl": [
           {
            "marker": {
             "colorbar": {
              "outlinewidth": 0,
              "ticks": ""
             }
            },
            "type": "scattergl"
           }
          ],
          "scattermapbox": [
           {
            "marker": {
             "colorbar": {
              "outlinewidth": 0,
              "ticks": ""
             }
            },
            "type": "scattermapbox"
           }
          ],
          "scatterpolar": [
           {
            "marker": {
             "colorbar": {
              "outlinewidth": 0,
              "ticks": ""
             }
            },
            "type": "scatterpolar"
           }
          ],
          "scatterpolargl": [
           {
            "marker": {
             "colorbar": {
              "outlinewidth": 0,
              "ticks": ""
             }
            },
            "type": "scatterpolargl"
           }
          ],
          "scatterternary": [
           {
            "marker": {
             "colorbar": {
              "outlinewidth": 0,
              "ticks": ""
             }
            },
            "type": "scatterternary"
           }
          ],
          "surface": [
           {
            "colorbar": {
             "outlinewidth": 0,
             "ticks": ""
            },
            "colorscale": [
             [
              0,
              "#0d0887"
             ],
             [
              0.1111111111111111,
              "#46039f"
             ],
             [
              0.2222222222222222,
              "#7201a8"
             ],
             [
              0.3333333333333333,
              "#9c179e"
             ],
             [
              0.4444444444444444,
              "#bd3786"
             ],
             [
              0.5555555555555556,
              "#d8576b"
             ],
             [
              0.6666666666666666,
              "#ed7953"
             ],
             [
              0.7777777777777778,
              "#fb9f3a"
             ],
             [
              0.8888888888888888,
              "#fdca26"
             ],
             [
              1,
              "#f0f921"
             ]
            ],
            "type": "surface"
           }
          ],
          "table": [
           {
            "cells": {
             "fill": {
              "color": "#EBF0F8"
             },
             "line": {
              "color": "white"
             }
            },
            "header": {
             "fill": {
              "color": "#C8D4E3"
             },
             "line": {
              "color": "white"
             }
            },
            "type": "table"
           }
          ]
         },
         "layout": {
          "annotationdefaults": {
           "arrowcolor": "#2a3f5f",
           "arrowhead": 0,
           "arrowwidth": 1
          },
          "autotypenumbers": "strict",
          "coloraxis": {
           "colorbar": {
            "outlinewidth": 0,
            "ticks": ""
           }
          },
          "colorscale": {
           "diverging": [
            [
             0,
             "#8e0152"
            ],
            [
             0.1,
             "#c51b7d"
            ],
            [
             0.2,
             "#de77ae"
            ],
            [
             0.3,
             "#f1b6da"
            ],
            [
             0.4,
             "#fde0ef"
            ],
            [
             0.5,
             "#f7f7f7"
            ],
            [
             0.6,
             "#e6f5d0"
            ],
            [
             0.7,
             "#b8e186"
            ],
            [
             0.8,
             "#7fbc41"
            ],
            [
             0.9,
             "#4d9221"
            ],
            [
             1,
             "#276419"
            ]
           ],
           "sequential": [
            [
             0,
             "#0d0887"
            ],
            [
             0.1111111111111111,
             "#46039f"
            ],
            [
             0.2222222222222222,
             "#7201a8"
            ],
            [
             0.3333333333333333,
             "#9c179e"
            ],
            [
             0.4444444444444444,
             "#bd3786"
            ],
            [
             0.5555555555555556,
             "#d8576b"
            ],
            [
             0.6666666666666666,
             "#ed7953"
            ],
            [
             0.7777777777777778,
             "#fb9f3a"
            ],
            [
             0.8888888888888888,
             "#fdca26"
            ],
            [
             1,
             "#f0f921"
            ]
           ],
           "sequentialminus": [
            [
             0,
             "#0d0887"
            ],
            [
             0.1111111111111111,
             "#46039f"
            ],
            [
             0.2222222222222222,
             "#7201a8"
            ],
            [
             0.3333333333333333,
             "#9c179e"
            ],
            [
             0.4444444444444444,
             "#bd3786"
            ],
            [
             0.5555555555555556,
             "#d8576b"
            ],
            [
             0.6666666666666666,
             "#ed7953"
            ],
            [
             0.7777777777777778,
             "#fb9f3a"
            ],
            [
             0.8888888888888888,
             "#fdca26"
            ],
            [
             1,
             "#f0f921"
            ]
           ]
          },
          "colorway": [
           "#636efa",
           "#EF553B",
           "#00cc96",
           "#ab63fa",
           "#FFA15A",
           "#19d3f3",
           "#FF6692",
           "#B6E880",
           "#FF97FF",
           "#FECB52"
          ],
          "font": {
           "color": "#2a3f5f"
          },
          "geo": {
           "bgcolor": "white",
           "lakecolor": "white",
           "landcolor": "#E5ECF6",
           "showlakes": true,
           "showland": true,
           "subunitcolor": "white"
          },
          "hoverlabel": {
           "align": "left"
          },
          "hovermode": "closest",
          "mapbox": {
           "style": "light"
          },
          "paper_bgcolor": "white",
          "plot_bgcolor": "#E5ECF6",
          "polar": {
           "angularaxis": {
            "gridcolor": "white",
            "linecolor": "white",
            "ticks": ""
           },
           "bgcolor": "#E5ECF6",
           "radialaxis": {
            "gridcolor": "white",
            "linecolor": "white",
            "ticks": ""
           }
          },
          "scene": {
           "xaxis": {
            "backgroundcolor": "#E5ECF6",
            "gridcolor": "white",
            "gridwidth": 2,
            "linecolor": "white",
            "showbackground": true,
            "ticks": "",
            "zerolinecolor": "white"
           },
           "yaxis": {
            "backgroundcolor": "#E5ECF6",
            "gridcolor": "white",
            "gridwidth": 2,
            "linecolor": "white",
            "showbackground": true,
            "ticks": "",
            "zerolinecolor": "white"
           },
           "zaxis": {
            "backgroundcolor": "#E5ECF6",
            "gridcolor": "white",
            "gridwidth": 2,
            "linecolor": "white",
            "showbackground": true,
            "ticks": "",
            "zerolinecolor": "white"
           }
          },
          "shapedefaults": {
           "line": {
            "color": "#2a3f5f"
           }
          },
          "ternary": {
           "aaxis": {
            "gridcolor": "white",
            "linecolor": "white",
            "ticks": ""
           },
           "baxis": {
            "gridcolor": "white",
            "linecolor": "white",
            "ticks": ""
           },
           "bgcolor": "#E5ECF6",
           "caxis": {
            "gridcolor": "white",
            "linecolor": "white",
            "ticks": ""
           }
          },
          "title": {
           "x": 0.05
          },
          "xaxis": {
           "automargin": true,
           "gridcolor": "white",
           "linecolor": "white",
           "ticks": "",
           "title": {
            "standoff": 15
           },
           "zerolinecolor": "white",
           "zerolinewidth": 2
          },
          "yaxis": {
           "automargin": true,
           "gridcolor": "white",
           "linecolor": "white",
           "ticks": "",
           "title": {
            "standoff": 15
           },
           "zerolinecolor": "white",
           "zerolinewidth": 2
          }
         }
        },
        "title": {
         "text": "Actual vs Predicted / R² = 0.108 / MAE = 0.512"
        },
        "xaxis": {
         "anchor": "y",
         "domain": [
          0,
          1
         ],
         "title": {
          "text": "Actual"
         }
        },
        "yaxis": {
         "anchor": "x",
         "domain": [
          0,
          1
         ],
         "title": {
          "text": "Predicted"
         }
        }
       }
      }
     },
     "metadata": {},
     "output_type": "display_data"
    }
   ],
   "source": [
    "from sklearn.feature_extraction.text import CountVectorizer\n",
    "\n",
    "\n",
    "vectorizer = CountVectorizer(\n",
    "    strip_accents=\"unicode\",\n",
    "    stop_words=\"english\",\n",
    "    ngram_range=(1, 3),\n",
    "    max_df=0.9,\n",
    "    min_df=2,\n",
    ")\n",
    "X_train_vec = vectorizer.fit_transform(X_train)\n",
    "X_test_vec = vectorizer.transform(X_test)\n",
    "\n",
    "\n",
    "from sklearn.preprocessing import StandardScaler\n",
    "\n",
    "\n",
    "scaler = StandardScaler().fit(X_train_vec.toarray())\n",
    "\n",
    "X_train_std = scaler.transform(X_train_vec.toarray())\n",
    "X_test_std = scaler.transform(X_test_vec.toarray())\n",
    "\n",
    "\n",
    "words_count = pd.Series(\n",
    "    X_train_vec.sum(axis=0).tolist()[0],\n",
    "    index=vectorizer.get_feature_names(),\n",
    ")\n",
    "\n",
    "top_20_count = words_count.sort_values(ascending=False).head(20)\n",
    "\n",
    "fig = px.bar(\n",
    "    top_20_count,\n",
    "    x=top_20_count.index,\n",
    "    y=top_20_count.values,\n",
    "    labels={\"x\": \"Word\", \"y\": \"Count\"},\n",
    "    title=\"Top 20 words in reviews\",\n",
    "    color=top_20_count.values,\n",
    ")\n",
    "fig.show()\n",
    "\n",
    "\n",
    "from sklearn.linear_model import ElasticNetCV\n",
    "\n",
    "\n",
    "reg = ElasticNetCV(random_state=42, n_jobs=-1).fit(X_train_std, y_train)\n",
    "coefs = pd.Series(reg.coef_, index=vectorizer.get_feature_names())\n",
    "\n",
    "top_20_coefs = coefs.nlargest(10).append(coefs.nsmallest(10)).sort_values()\n",
    "\n",
    "fig = px.bar(\n",
    "    top_20_coefs,\n",
    "    x=top_20_coefs.index,\n",
    "    y=top_20_coefs.values,\n",
    "    labels={\"x\": \"Word\", \"y\": \"Count\"},\n",
    "    title=\"Top 20 words in reviews\",\n",
    "    color=top_20_coefs.values,\n",
    ")\n",
    "fig.show()\n",
    "\n",
    "\n",
    "y_pred = reg.predict(X_test_std)\n",
    "\n",
    "\n",
    "from sklearn.metrics import median_absolute_error, r2_score\n",
    "\n",
    "\n",
    "fig = px.box(\n",
    "    x=y_test,\n",
    "    y=y_pred,\n",
    "    labels={\"x\": \"Actual\", \"y\": \"Predicted\"},\n",
    "    title=f\"Actual vs Predicted / R² = {round(r2_score(y_test, y_pred), 3)} / MAE = {round(median_absolute_error(y_test, y_pred), 3)}\",\n",
    "    color=y_test,\n",
    ")\n",
    "fig.show()\n"
   ]
  },
  {
   "cell_type": "code",
   "execution_count": 33,
   "metadata": {},
   "outputs": [
    {
     "name": "stderr",
     "output_type": "stream",
     "text": [
      "[nltk_data] Downloading package stopwords to\n",
      "[nltk_data]     /home/clement/nltk_data...\n",
      "[nltk_data]   Package stopwords is already up-to-date!\n"
     ]
    },
    {
     "data": {
      "application/vnd.plotly.v1+json": {
       "config": {
        "plotlyServerURL": "https://plot.ly"
       },
       "data": [
        {
         "alignmentgroup": "True",
         "hovertemplate": "index=%{x}<br>Count=%{y}<br>color=%{marker.color}<extra></extra>",
         "legendgroup": "",
         "marker": {
          "color": [
           536,
           463,
           339,
           314,
           292,
           252,
           242,
           241,
           199,
           160,
           159,
           151,
           140,
           135,
           134,
           133,
           130,
           127,
           124,
           122
          ],
          "coloraxis": "coloraxis",
          "pattern": {
           "shape": ""
          }
         },
         "name": "",
         "offsetgroup": "",
         "orientation": "v",
         "showlegend": false,
         "textposition": "auto",
         "type": "bar",
         "x": [
          "place",
          "food",
          "great",
          "good",
          "restaurant",
          "one",
          "best",
          "service",
          "came",
          "amazing",
          "delicious",
          "first",
          "like",
          "time",
          "got",
          "paris",
          "try",
          "really",
          "sushi",
          "dinner"
         ],
         "xaxis": "x",
         "y": [
          536,
          463,
          339,
          314,
          292,
          252,
          242,
          241,
          199,
          160,
          159,
          151,
          140,
          135,
          134,
          133,
          130,
          127,
          124,
          122
         ],
         "yaxis": "y"
        }
       ],
       "layout": {
        "barmode": "relative",
        "coloraxis": {
         "colorbar": {
          "title": {
           "text": "color"
          }
         },
         "colorscale": [
          [
           0,
           "#0d0887"
          ],
          [
           0.1111111111111111,
           "#46039f"
          ],
          [
           0.2222222222222222,
           "#7201a8"
          ],
          [
           0.3333333333333333,
           "#9c179e"
          ],
          [
           0.4444444444444444,
           "#bd3786"
          ],
          [
           0.5555555555555556,
           "#d8576b"
          ],
          [
           0.6666666666666666,
           "#ed7953"
          ],
          [
           0.7777777777777778,
           "#fb9f3a"
          ],
          [
           0.8888888888888888,
           "#fdca26"
          ],
          [
           1,
           "#f0f921"
          ]
         ]
        },
        "legend": {
         "tracegroupgap": 0
        },
        "template": {
         "data": {
          "bar": [
           {
            "error_x": {
             "color": "#2a3f5f"
            },
            "error_y": {
             "color": "#2a3f5f"
            },
            "marker": {
             "line": {
              "color": "#E5ECF6",
              "width": 0.5
             },
             "pattern": {
              "fillmode": "overlay",
              "size": 10,
              "solidity": 0.2
             }
            },
            "type": "bar"
           }
          ],
          "barpolar": [
           {
            "marker": {
             "line": {
              "color": "#E5ECF6",
              "width": 0.5
             },
             "pattern": {
              "fillmode": "overlay",
              "size": 10,
              "solidity": 0.2
             }
            },
            "type": "barpolar"
           }
          ],
          "carpet": [
           {
            "aaxis": {
             "endlinecolor": "#2a3f5f",
             "gridcolor": "white",
             "linecolor": "white",
             "minorgridcolor": "white",
             "startlinecolor": "#2a3f5f"
            },
            "baxis": {
             "endlinecolor": "#2a3f5f",
             "gridcolor": "white",
             "linecolor": "white",
             "minorgridcolor": "white",
             "startlinecolor": "#2a3f5f"
            },
            "type": "carpet"
           }
          ],
          "choropleth": [
           {
            "colorbar": {
             "outlinewidth": 0,
             "ticks": ""
            },
            "type": "choropleth"
           }
          ],
          "contour": [
           {
            "colorbar": {
             "outlinewidth": 0,
             "ticks": ""
            },
            "colorscale": [
             [
              0,
              "#0d0887"
             ],
             [
              0.1111111111111111,
              "#46039f"
             ],
             [
              0.2222222222222222,
              "#7201a8"
             ],
             [
              0.3333333333333333,
              "#9c179e"
             ],
             [
              0.4444444444444444,
              "#bd3786"
             ],
             [
              0.5555555555555556,
              "#d8576b"
             ],
             [
              0.6666666666666666,
              "#ed7953"
             ],
             [
              0.7777777777777778,
              "#fb9f3a"
             ],
             [
              0.8888888888888888,
              "#fdca26"
             ],
             [
              1,
              "#f0f921"
             ]
            ],
            "type": "contour"
           }
          ],
          "contourcarpet": [
           {
            "colorbar": {
             "outlinewidth": 0,
             "ticks": ""
            },
            "type": "contourcarpet"
           }
          ],
          "heatmap": [
           {
            "colorbar": {
             "outlinewidth": 0,
             "ticks": ""
            },
            "colorscale": [
             [
              0,
              "#0d0887"
             ],
             [
              0.1111111111111111,
              "#46039f"
             ],
             [
              0.2222222222222222,
              "#7201a8"
             ],
             [
              0.3333333333333333,
              "#9c179e"
             ],
             [
              0.4444444444444444,
              "#bd3786"
             ],
             [
              0.5555555555555556,
              "#d8576b"
             ],
             [
              0.6666666666666666,
              "#ed7953"
             ],
             [
              0.7777777777777778,
              "#fb9f3a"
             ],
             [
              0.8888888888888888,
              "#fdca26"
             ],
             [
              1,
              "#f0f921"
             ]
            ],
            "type": "heatmap"
           }
          ],
          "heatmapgl": [
           {
            "colorbar": {
             "outlinewidth": 0,
             "ticks": ""
            },
            "colorscale": [
             [
              0,
              "#0d0887"
             ],
             [
              0.1111111111111111,
              "#46039f"
             ],
             [
              0.2222222222222222,
              "#7201a8"
             ],
             [
              0.3333333333333333,
              "#9c179e"
             ],
             [
              0.4444444444444444,
              "#bd3786"
             ],
             [
              0.5555555555555556,
              "#d8576b"
             ],
             [
              0.6666666666666666,
              "#ed7953"
             ],
             [
              0.7777777777777778,
              "#fb9f3a"
             ],
             [
              0.8888888888888888,
              "#fdca26"
             ],
             [
              1,
              "#f0f921"
             ]
            ],
            "type": "heatmapgl"
           }
          ],
          "histogram": [
           {
            "marker": {
             "pattern": {
              "fillmode": "overlay",
              "size": 10,
              "solidity": 0.2
             }
            },
            "type": "histogram"
           }
          ],
          "histogram2d": [
           {
            "colorbar": {
             "outlinewidth": 0,
             "ticks": ""
            },
            "colorscale": [
             [
              0,
              "#0d0887"
             ],
             [
              0.1111111111111111,
              "#46039f"
             ],
             [
              0.2222222222222222,
              "#7201a8"
             ],
             [
              0.3333333333333333,
              "#9c179e"
             ],
             [
              0.4444444444444444,
              "#bd3786"
             ],
             [
              0.5555555555555556,
              "#d8576b"
             ],
             [
              0.6666666666666666,
              "#ed7953"
             ],
             [
              0.7777777777777778,
              "#fb9f3a"
             ],
             [
              0.8888888888888888,
              "#fdca26"
             ],
             [
              1,
              "#f0f921"
             ]
            ],
            "type": "histogram2d"
           }
          ],
          "histogram2dcontour": [
           {
            "colorbar": {
             "outlinewidth": 0,
             "ticks": ""
            },
            "colorscale": [
             [
              0,
              "#0d0887"
             ],
             [
              0.1111111111111111,
              "#46039f"
             ],
             [
              0.2222222222222222,
              "#7201a8"
             ],
             [
              0.3333333333333333,
              "#9c179e"
             ],
             [
              0.4444444444444444,
              "#bd3786"
             ],
             [
              0.5555555555555556,
              "#d8576b"
             ],
             [
              0.6666666666666666,
              "#ed7953"
             ],
             [
              0.7777777777777778,
              "#fb9f3a"
             ],
             [
              0.8888888888888888,
              "#fdca26"
             ],
             [
              1,
              "#f0f921"
             ]
            ],
            "type": "histogram2dcontour"
           }
          ],
          "mesh3d": [
           {
            "colorbar": {
             "outlinewidth": 0,
             "ticks": ""
            },
            "type": "mesh3d"
           }
          ],
          "parcoords": [
           {
            "line": {
             "colorbar": {
              "outlinewidth": 0,
              "ticks": ""
             }
            },
            "type": "parcoords"
           }
          ],
          "pie": [
           {
            "automargin": true,
            "type": "pie"
           }
          ],
          "scatter": [
           {
            "marker": {
             "colorbar": {
              "outlinewidth": 0,
              "ticks": ""
             }
            },
            "type": "scatter"
           }
          ],
          "scatter3d": [
           {
            "line": {
             "colorbar": {
              "outlinewidth": 0,
              "ticks": ""
             }
            },
            "marker": {
             "colorbar": {
              "outlinewidth": 0,
              "ticks": ""
             }
            },
            "type": "scatter3d"
           }
          ],
          "scattercarpet": [
           {
            "marker": {
             "colorbar": {
              "outlinewidth": 0,
              "ticks": ""
             }
            },
            "type": "scattercarpet"
           }
          ],
          "scattergeo": [
           {
            "marker": {
             "colorbar": {
              "outlinewidth": 0,
              "ticks": ""
             }
            },
            "type": "scattergeo"
           }
          ],
          "scattergl": [
           {
            "marker": {
             "colorbar": {
              "outlinewidth": 0,
              "ticks": ""
             }
            },
            "type": "scattergl"
           }
          ],
          "scattermapbox": [
           {
            "marker": {
             "colorbar": {
              "outlinewidth": 0,
              "ticks": ""
             }
            },
            "type": "scattermapbox"
           }
          ],
          "scatterpolar": [
           {
            "marker": {
             "colorbar": {
              "outlinewidth": 0,
              "ticks": ""
             }
            },
            "type": "scatterpolar"
           }
          ],
          "scatterpolargl": [
           {
            "marker": {
             "colorbar": {
              "outlinewidth": 0,
              "ticks": ""
             }
            },
            "type": "scatterpolargl"
           }
          ],
          "scatterternary": [
           {
            "marker": {
             "colorbar": {
              "outlinewidth": 0,
              "ticks": ""
             }
            },
            "type": "scatterternary"
           }
          ],
          "surface": [
           {
            "colorbar": {
             "outlinewidth": 0,
             "ticks": ""
            },
            "colorscale": [
             [
              0,
              "#0d0887"
             ],
             [
              0.1111111111111111,
              "#46039f"
             ],
             [
              0.2222222222222222,
              "#7201a8"
             ],
             [
              0.3333333333333333,
              "#9c179e"
             ],
             [
              0.4444444444444444,
              "#bd3786"
             ],
             [
              0.5555555555555556,
              "#d8576b"
             ],
             [
              0.6666666666666666,
              "#ed7953"
             ],
             [
              0.7777777777777778,
              "#fb9f3a"
             ],
             [
              0.8888888888888888,
              "#fdca26"
             ],
             [
              1,
              "#f0f921"
             ]
            ],
            "type": "surface"
           }
          ],
          "table": [
           {
            "cells": {
             "fill": {
              "color": "#EBF0F8"
             },
             "line": {
              "color": "white"
             }
            },
            "header": {
             "fill": {
              "color": "#C8D4E3"
             },
             "line": {
              "color": "white"
             }
            },
            "type": "table"
           }
          ]
         },
         "layout": {
          "annotationdefaults": {
           "arrowcolor": "#2a3f5f",
           "arrowhead": 0,
           "arrowwidth": 1
          },
          "autotypenumbers": "strict",
          "coloraxis": {
           "colorbar": {
            "outlinewidth": 0,
            "ticks": ""
           }
          },
          "colorscale": {
           "diverging": [
            [
             0,
             "#8e0152"
            ],
            [
             0.1,
             "#c51b7d"
            ],
            [
             0.2,
             "#de77ae"
            ],
            [
             0.3,
             "#f1b6da"
            ],
            [
             0.4,
             "#fde0ef"
            ],
            [
             0.5,
             "#f7f7f7"
            ],
            [
             0.6,
             "#e6f5d0"
            ],
            [
             0.7,
             "#b8e186"
            ],
            [
             0.8,
             "#7fbc41"
            ],
            [
             0.9,
             "#4d9221"
            ],
            [
             1,
             "#276419"
            ]
           ],
           "sequential": [
            [
             0,
             "#0d0887"
            ],
            [
             0.1111111111111111,
             "#46039f"
            ],
            [
             0.2222222222222222,
             "#7201a8"
            ],
            [
             0.3333333333333333,
             "#9c179e"
            ],
            [
             0.4444444444444444,
             "#bd3786"
            ],
            [
             0.5555555555555556,
             "#d8576b"
            ],
            [
             0.6666666666666666,
             "#ed7953"
            ],
            [
             0.7777777777777778,
             "#fb9f3a"
            ],
            [
             0.8888888888888888,
             "#fdca26"
            ],
            [
             1,
             "#f0f921"
            ]
           ],
           "sequentialminus": [
            [
             0,
             "#0d0887"
            ],
            [
             0.1111111111111111,
             "#46039f"
            ],
            [
             0.2222222222222222,
             "#7201a8"
            ],
            [
             0.3333333333333333,
             "#9c179e"
            ],
            [
             0.4444444444444444,
             "#bd3786"
            ],
            [
             0.5555555555555556,
             "#d8576b"
            ],
            [
             0.6666666666666666,
             "#ed7953"
            ],
            [
             0.7777777777777778,
             "#fb9f3a"
            ],
            [
             0.8888888888888888,
             "#fdca26"
            ],
            [
             1,
             "#f0f921"
            ]
           ]
          },
          "colorway": [
           "#636efa",
           "#EF553B",
           "#00cc96",
           "#ab63fa",
           "#FFA15A",
           "#19d3f3",
           "#FF6692",
           "#B6E880",
           "#FF97FF",
           "#FECB52"
          ],
          "font": {
           "color": "#2a3f5f"
          },
          "geo": {
           "bgcolor": "white",
           "lakecolor": "white",
           "landcolor": "#E5ECF6",
           "showlakes": true,
           "showland": true,
           "subunitcolor": "white"
          },
          "hoverlabel": {
           "align": "left"
          },
          "hovermode": "closest",
          "mapbox": {
           "style": "light"
          },
          "paper_bgcolor": "white",
          "plot_bgcolor": "#E5ECF6",
          "polar": {
           "angularaxis": {
            "gridcolor": "white",
            "linecolor": "white",
            "ticks": ""
           },
           "bgcolor": "#E5ECF6",
           "radialaxis": {
            "gridcolor": "white",
            "linecolor": "white",
            "ticks": ""
           }
          },
          "scene": {
           "xaxis": {
            "backgroundcolor": "#E5ECF6",
            "gridcolor": "white",
            "gridwidth": 2,
            "linecolor": "white",
            "showbackground": true,
            "ticks": "",
            "zerolinecolor": "white"
           },
           "yaxis": {
            "backgroundcolor": "#E5ECF6",
            "gridcolor": "white",
            "gridwidth": 2,
            "linecolor": "white",
            "showbackground": true,
            "ticks": "",
            "zerolinecolor": "white"
           },
           "zaxis": {
            "backgroundcolor": "#E5ECF6",
            "gridcolor": "white",
            "gridwidth": 2,
            "linecolor": "white",
            "showbackground": true,
            "ticks": "",
            "zerolinecolor": "white"
           }
          },
          "shapedefaults": {
           "line": {
            "color": "#2a3f5f"
           }
          },
          "ternary": {
           "aaxis": {
            "gridcolor": "white",
            "linecolor": "white",
            "ticks": ""
           },
           "baxis": {
            "gridcolor": "white",
            "linecolor": "white",
            "ticks": ""
           },
           "bgcolor": "#E5ECF6",
           "caxis": {
            "gridcolor": "white",
            "linecolor": "white",
            "ticks": ""
           }
          },
          "title": {
           "x": 0.05
          },
          "xaxis": {
           "automargin": true,
           "gridcolor": "white",
           "linecolor": "white",
           "ticks": "",
           "title": {
            "standoff": 15
           },
           "zerolinecolor": "white",
           "zerolinewidth": 2
          },
          "yaxis": {
           "automargin": true,
           "gridcolor": "white",
           "linecolor": "white",
           "ticks": "",
           "title": {
            "standoff": 15
           },
           "zerolinecolor": "white",
           "zerolinewidth": 2
          }
         }
        },
        "title": {
         "text": "Top 20 words in reviews"
        },
        "xaxis": {
         "anchor": "y",
         "domain": [
          0,
          1
         ],
         "title": {
          "text": "index"
         }
        },
        "yaxis": {
         "anchor": "x",
         "domain": [
          0,
          1
         ],
         "title": {
          "text": "Count"
         }
        }
       }
      }
     },
     "metadata": {},
     "output_type": "display_data"
    },
    {
     "data": {
      "application/vnd.plotly.v1+json": {
       "config": {
        "plotlyServerURL": "https://plot.ly"
       },
       "data": [
        {
         "alignmentgroup": "True",
         "hovertemplate": "index=%{x}<br>Count=%{y}<br>color=%{marker.color}<extra></extra>",
         "legendgroup": "",
         "marker": {
          "color": [
           -0.08103331952668179,
           -0.07414786712279052,
           -0.07386325391812804,
           -0.0683214816355191,
           -0.06653236495578786,
           -0.057512271754822444,
           -0.05264540932362932,
           -0.05185569100349145,
           -0.04652605216492742,
           -0.044133146803210094,
           0.014033075159556378,
           0.01410499085647289,
           0.014702864336859677,
           0.015108567479809177,
           0.020922444668654856,
           0.0233741286153387,
           0.02430532440225619,
           0.03770276952499679,
           0.04870987851722316,
           0.05222298882496304
          ],
          "coloraxis": "coloraxis",
          "pattern": {
           "shape": ""
          }
         },
         "name": "",
         "offsetgroup": "",
         "orientation": "v",
         "showlegend": false,
         "textposition": "auto",
         "type": "bar",
         "x": [
          "rude",
          "tasted like",
          "excited try",
          "okay",
          "worst",
          "terrible",
          "ok",
          "disappointing",
          "downhill",
          "mediocre",
          "disappoint",
          "excellent",
          "tokyo",
          "wow",
          "great",
          "delicious",
          "paris",
          "favorite",
          "best",
          "amazing"
         ],
         "xaxis": "x",
         "y": [
          -0.08103331952668179,
          -0.07414786712279052,
          -0.07386325391812804,
          -0.0683214816355191,
          -0.06653236495578786,
          -0.057512271754822444,
          -0.05264540932362932,
          -0.05185569100349145,
          -0.04652605216492742,
          -0.044133146803210094,
          0.014033075159556378,
          0.01410499085647289,
          0.014702864336859677,
          0.015108567479809177,
          0.020922444668654856,
          0.0233741286153387,
          0.02430532440225619,
          0.03770276952499679,
          0.04870987851722316,
          0.05222298882496304
         ],
         "yaxis": "y"
        }
       ],
       "layout": {
        "barmode": "relative",
        "coloraxis": {
         "colorbar": {
          "title": {
           "text": "color"
          }
         },
         "colorscale": [
          [
           0,
           "#0d0887"
          ],
          [
           0.1111111111111111,
           "#46039f"
          ],
          [
           0.2222222222222222,
           "#7201a8"
          ],
          [
           0.3333333333333333,
           "#9c179e"
          ],
          [
           0.4444444444444444,
           "#bd3786"
          ],
          [
           0.5555555555555556,
           "#d8576b"
          ],
          [
           0.6666666666666666,
           "#ed7953"
          ],
          [
           0.7777777777777778,
           "#fb9f3a"
          ],
          [
           0.8888888888888888,
           "#fdca26"
          ],
          [
           1,
           "#f0f921"
          ]
         ]
        },
        "legend": {
         "tracegroupgap": 0
        },
        "template": {
         "data": {
          "bar": [
           {
            "error_x": {
             "color": "#2a3f5f"
            },
            "error_y": {
             "color": "#2a3f5f"
            },
            "marker": {
             "line": {
              "color": "#E5ECF6",
              "width": 0.5
             },
             "pattern": {
              "fillmode": "overlay",
              "size": 10,
              "solidity": 0.2
             }
            },
            "type": "bar"
           }
          ],
          "barpolar": [
           {
            "marker": {
             "line": {
              "color": "#E5ECF6",
              "width": 0.5
             },
             "pattern": {
              "fillmode": "overlay",
              "size": 10,
              "solidity": 0.2
             }
            },
            "type": "barpolar"
           }
          ],
          "carpet": [
           {
            "aaxis": {
             "endlinecolor": "#2a3f5f",
             "gridcolor": "white",
             "linecolor": "white",
             "minorgridcolor": "white",
             "startlinecolor": "#2a3f5f"
            },
            "baxis": {
             "endlinecolor": "#2a3f5f",
             "gridcolor": "white",
             "linecolor": "white",
             "minorgridcolor": "white",
             "startlinecolor": "#2a3f5f"
            },
            "type": "carpet"
           }
          ],
          "choropleth": [
           {
            "colorbar": {
             "outlinewidth": 0,
             "ticks": ""
            },
            "type": "choropleth"
           }
          ],
          "contour": [
           {
            "colorbar": {
             "outlinewidth": 0,
             "ticks": ""
            },
            "colorscale": [
             [
              0,
              "#0d0887"
             ],
             [
              0.1111111111111111,
              "#46039f"
             ],
             [
              0.2222222222222222,
              "#7201a8"
             ],
             [
              0.3333333333333333,
              "#9c179e"
             ],
             [
              0.4444444444444444,
              "#bd3786"
             ],
             [
              0.5555555555555556,
              "#d8576b"
             ],
             [
              0.6666666666666666,
              "#ed7953"
             ],
             [
              0.7777777777777778,
              "#fb9f3a"
             ],
             [
              0.8888888888888888,
              "#fdca26"
             ],
             [
              1,
              "#f0f921"
             ]
            ],
            "type": "contour"
           }
          ],
          "contourcarpet": [
           {
            "colorbar": {
             "outlinewidth": 0,
             "ticks": ""
            },
            "type": "contourcarpet"
           }
          ],
          "heatmap": [
           {
            "colorbar": {
             "outlinewidth": 0,
             "ticks": ""
            },
            "colorscale": [
             [
              0,
              "#0d0887"
             ],
             [
              0.1111111111111111,
              "#46039f"
             ],
             [
              0.2222222222222222,
              "#7201a8"
             ],
             [
              0.3333333333333333,
              "#9c179e"
             ],
             [
              0.4444444444444444,
              "#bd3786"
             ],
             [
              0.5555555555555556,
              "#d8576b"
             ],
             [
              0.6666666666666666,
              "#ed7953"
             ],
             [
              0.7777777777777778,
              "#fb9f3a"
             ],
             [
              0.8888888888888888,
              "#fdca26"
             ],
             [
              1,
              "#f0f921"
             ]
            ],
            "type": "heatmap"
           }
          ],
          "heatmapgl": [
           {
            "colorbar": {
             "outlinewidth": 0,
             "ticks": ""
            },
            "colorscale": [
             [
              0,
              "#0d0887"
             ],
             [
              0.1111111111111111,
              "#46039f"
             ],
             [
              0.2222222222222222,
              "#7201a8"
             ],
             [
              0.3333333333333333,
              "#9c179e"
             ],
             [
              0.4444444444444444,
              "#bd3786"
             ],
             [
              0.5555555555555556,
              "#d8576b"
             ],
             [
              0.6666666666666666,
              "#ed7953"
             ],
             [
              0.7777777777777778,
              "#fb9f3a"
             ],
             [
              0.8888888888888888,
              "#fdca26"
             ],
             [
              1,
              "#f0f921"
             ]
            ],
            "type": "heatmapgl"
           }
          ],
          "histogram": [
           {
            "marker": {
             "pattern": {
              "fillmode": "overlay",
              "size": 10,
              "solidity": 0.2
             }
            },
            "type": "histogram"
           }
          ],
          "histogram2d": [
           {
            "colorbar": {
             "outlinewidth": 0,
             "ticks": ""
            },
            "colorscale": [
             [
              0,
              "#0d0887"
             ],
             [
              0.1111111111111111,
              "#46039f"
             ],
             [
              0.2222222222222222,
              "#7201a8"
             ],
             [
              0.3333333333333333,
              "#9c179e"
             ],
             [
              0.4444444444444444,
              "#bd3786"
             ],
             [
              0.5555555555555556,
              "#d8576b"
             ],
             [
              0.6666666666666666,
              "#ed7953"
             ],
             [
              0.7777777777777778,
              "#fb9f3a"
             ],
             [
              0.8888888888888888,
              "#fdca26"
             ],
             [
              1,
              "#f0f921"
             ]
            ],
            "type": "histogram2d"
           }
          ],
          "histogram2dcontour": [
           {
            "colorbar": {
             "outlinewidth": 0,
             "ticks": ""
            },
            "colorscale": [
             [
              0,
              "#0d0887"
             ],
             [
              0.1111111111111111,
              "#46039f"
             ],
             [
              0.2222222222222222,
              "#7201a8"
             ],
             [
              0.3333333333333333,
              "#9c179e"
             ],
             [
              0.4444444444444444,
              "#bd3786"
             ],
             [
              0.5555555555555556,
              "#d8576b"
             ],
             [
              0.6666666666666666,
              "#ed7953"
             ],
             [
              0.7777777777777778,
              "#fb9f3a"
             ],
             [
              0.8888888888888888,
              "#fdca26"
             ],
             [
              1,
              "#f0f921"
             ]
            ],
            "type": "histogram2dcontour"
           }
          ],
          "mesh3d": [
           {
            "colorbar": {
             "outlinewidth": 0,
             "ticks": ""
            },
            "type": "mesh3d"
           }
          ],
          "parcoords": [
           {
            "line": {
             "colorbar": {
              "outlinewidth": 0,
              "ticks": ""
             }
            },
            "type": "parcoords"
           }
          ],
          "pie": [
           {
            "automargin": true,
            "type": "pie"
           }
          ],
          "scatter": [
           {
            "marker": {
             "colorbar": {
              "outlinewidth": 0,
              "ticks": ""
             }
            },
            "type": "scatter"
           }
          ],
          "scatter3d": [
           {
            "line": {
             "colorbar": {
              "outlinewidth": 0,
              "ticks": ""
             }
            },
            "marker": {
             "colorbar": {
              "outlinewidth": 0,
              "ticks": ""
             }
            },
            "type": "scatter3d"
           }
          ],
          "scattercarpet": [
           {
            "marker": {
             "colorbar": {
              "outlinewidth": 0,
              "ticks": ""
             }
            },
            "type": "scattercarpet"
           }
          ],
          "scattergeo": [
           {
            "marker": {
             "colorbar": {
              "outlinewidth": 0,
              "ticks": ""
             }
            },
            "type": "scattergeo"
           }
          ],
          "scattergl": [
           {
            "marker": {
             "colorbar": {
              "outlinewidth": 0,
              "ticks": ""
             }
            },
            "type": "scattergl"
           }
          ],
          "scattermapbox": [
           {
            "marker": {
             "colorbar": {
              "outlinewidth": 0,
              "ticks": ""
             }
            },
            "type": "scattermapbox"
           }
          ],
          "scatterpolar": [
           {
            "marker": {
             "colorbar": {
              "outlinewidth": 0,
              "ticks": ""
             }
            },
            "type": "scatterpolar"
           }
          ],
          "scatterpolargl": [
           {
            "marker": {
             "colorbar": {
              "outlinewidth": 0,
              "ticks": ""
             }
            },
            "type": "scatterpolargl"
           }
          ],
          "scatterternary": [
           {
            "marker": {
             "colorbar": {
              "outlinewidth": 0,
              "ticks": ""
             }
            },
            "type": "scatterternary"
           }
          ],
          "surface": [
           {
            "colorbar": {
             "outlinewidth": 0,
             "ticks": ""
            },
            "colorscale": [
             [
              0,
              "#0d0887"
             ],
             [
              0.1111111111111111,
              "#46039f"
             ],
             [
              0.2222222222222222,
              "#7201a8"
             ],
             [
              0.3333333333333333,
              "#9c179e"
             ],
             [
              0.4444444444444444,
              "#bd3786"
             ],
             [
              0.5555555555555556,
              "#d8576b"
             ],
             [
              0.6666666666666666,
              "#ed7953"
             ],
             [
              0.7777777777777778,
              "#fb9f3a"
             ],
             [
              0.8888888888888888,
              "#fdca26"
             ],
             [
              1,
              "#f0f921"
             ]
            ],
            "type": "surface"
           }
          ],
          "table": [
           {
            "cells": {
             "fill": {
              "color": "#EBF0F8"
             },
             "line": {
              "color": "white"
             }
            },
            "header": {
             "fill": {
              "color": "#C8D4E3"
             },
             "line": {
              "color": "white"
             }
            },
            "type": "table"
           }
          ]
         },
         "layout": {
          "annotationdefaults": {
           "arrowcolor": "#2a3f5f",
           "arrowhead": 0,
           "arrowwidth": 1
          },
          "autotypenumbers": "strict",
          "coloraxis": {
           "colorbar": {
            "outlinewidth": 0,
            "ticks": ""
           }
          },
          "colorscale": {
           "diverging": [
            [
             0,
             "#8e0152"
            ],
            [
             0.1,
             "#c51b7d"
            ],
            [
             0.2,
             "#de77ae"
            ],
            [
             0.3,
             "#f1b6da"
            ],
            [
             0.4,
             "#fde0ef"
            ],
            [
             0.5,
             "#f7f7f7"
            ],
            [
             0.6,
             "#e6f5d0"
            ],
            [
             0.7,
             "#b8e186"
            ],
            [
             0.8,
             "#7fbc41"
            ],
            [
             0.9,
             "#4d9221"
            ],
            [
             1,
             "#276419"
            ]
           ],
           "sequential": [
            [
             0,
             "#0d0887"
            ],
            [
             0.1111111111111111,
             "#46039f"
            ],
            [
             0.2222222222222222,
             "#7201a8"
            ],
            [
             0.3333333333333333,
             "#9c179e"
            ],
            [
             0.4444444444444444,
             "#bd3786"
            ],
            [
             0.5555555555555556,
             "#d8576b"
            ],
            [
             0.6666666666666666,
             "#ed7953"
            ],
            [
             0.7777777777777778,
             "#fb9f3a"
            ],
            [
             0.8888888888888888,
             "#fdca26"
            ],
            [
             1,
             "#f0f921"
            ]
           ],
           "sequentialminus": [
            [
             0,
             "#0d0887"
            ],
            [
             0.1111111111111111,
             "#46039f"
            ],
            [
             0.2222222222222222,
             "#7201a8"
            ],
            [
             0.3333333333333333,
             "#9c179e"
            ],
            [
             0.4444444444444444,
             "#bd3786"
            ],
            [
             0.5555555555555556,
             "#d8576b"
            ],
            [
             0.6666666666666666,
             "#ed7953"
            ],
            [
             0.7777777777777778,
             "#fb9f3a"
            ],
            [
             0.8888888888888888,
             "#fdca26"
            ],
            [
             1,
             "#f0f921"
            ]
           ]
          },
          "colorway": [
           "#636efa",
           "#EF553B",
           "#00cc96",
           "#ab63fa",
           "#FFA15A",
           "#19d3f3",
           "#FF6692",
           "#B6E880",
           "#FF97FF",
           "#FECB52"
          ],
          "font": {
           "color": "#2a3f5f"
          },
          "geo": {
           "bgcolor": "white",
           "lakecolor": "white",
           "landcolor": "#E5ECF6",
           "showlakes": true,
           "showland": true,
           "subunitcolor": "white"
          },
          "hoverlabel": {
           "align": "left"
          },
          "hovermode": "closest",
          "mapbox": {
           "style": "light"
          },
          "paper_bgcolor": "white",
          "plot_bgcolor": "#E5ECF6",
          "polar": {
           "angularaxis": {
            "gridcolor": "white",
            "linecolor": "white",
            "ticks": ""
           },
           "bgcolor": "#E5ECF6",
           "radialaxis": {
            "gridcolor": "white",
            "linecolor": "white",
            "ticks": ""
           }
          },
          "scene": {
           "xaxis": {
            "backgroundcolor": "#E5ECF6",
            "gridcolor": "white",
            "gridwidth": 2,
            "linecolor": "white",
            "showbackground": true,
            "ticks": "",
            "zerolinecolor": "white"
           },
           "yaxis": {
            "backgroundcolor": "#E5ECF6",
            "gridcolor": "white",
            "gridwidth": 2,
            "linecolor": "white",
            "showbackground": true,
            "ticks": "",
            "zerolinecolor": "white"
           },
           "zaxis": {
            "backgroundcolor": "#E5ECF6",
            "gridcolor": "white",
            "gridwidth": 2,
            "linecolor": "white",
            "showbackground": true,
            "ticks": "",
            "zerolinecolor": "white"
           }
          },
          "shapedefaults": {
           "line": {
            "color": "#2a3f5f"
           }
          },
          "ternary": {
           "aaxis": {
            "gridcolor": "white",
            "linecolor": "white",
            "ticks": ""
           },
           "baxis": {
            "gridcolor": "white",
            "linecolor": "white",
            "ticks": ""
           },
           "bgcolor": "#E5ECF6",
           "caxis": {
            "gridcolor": "white",
            "linecolor": "white",
            "ticks": ""
           }
          },
          "title": {
           "x": 0.05
          },
          "xaxis": {
           "automargin": true,
           "gridcolor": "white",
           "linecolor": "white",
           "ticks": "",
           "title": {
            "standoff": 15
           },
           "zerolinecolor": "white",
           "zerolinewidth": 2
          },
          "yaxis": {
           "automargin": true,
           "gridcolor": "white",
           "linecolor": "white",
           "ticks": "",
           "title": {
            "standoff": 15
           },
           "zerolinecolor": "white",
           "zerolinewidth": 2
          }
         }
        },
        "title": {
         "text": "Top 20 words in reviews"
        },
        "xaxis": {
         "anchor": "y",
         "domain": [
          0,
          1
         ],
         "title": {
          "text": "index"
         }
        },
        "yaxis": {
         "anchor": "x",
         "domain": [
          0,
          1
         ],
         "title": {
          "text": "Count"
         }
        }
       }
      }
     },
     "metadata": {},
     "output_type": "display_data"
    },
    {
     "data": {
      "application/vnd.plotly.v1+json": {
       "config": {
        "plotlyServerURL": "https://plot.ly"
       },
       "data": [
        {
         "alignmentgroup": "True",
         "hovertemplate": "color=4.0<br>Actual=%{x}<br>Predicted=%{y}<extra></extra>",
         "legendgroup": "4.0",
         "marker": {
          "color": "#636efa"
         },
         "name": "4.0",
         "notched": false,
         "offsetgroup": "4.0",
         "orientation": "v",
         "showlegend": true,
         "type": "box",
         "x": [
          4,
          4,
          4,
          4,
          4,
          4,
          4,
          4,
          4,
          4,
          4,
          4,
          4,
          4,
          4,
          4,
          4,
          4,
          4,
          4,
          4,
          4,
          4,
          4,
          4,
          4,
          4,
          4,
          4,
          4,
          4,
          4,
          4,
          4,
          4,
          4,
          4,
          4,
          4,
          4,
          4,
          4,
          4,
          4,
          4,
          4,
          4,
          4,
          4,
          4,
          4,
          4,
          4,
          4,
          4,
          4,
          4,
          4,
          4,
          4,
          4,
          4,
          4,
          4,
          4,
          4,
          4,
          4,
          4,
          4,
          4,
          4,
          4,
          4,
          4,
          4,
          4,
          4,
          4,
          4,
          4,
          4,
          4,
          4,
          4,
          4,
          4,
          4,
          4,
          4,
          4,
          4,
          4,
          4,
          4,
          4,
          4,
          4,
          4,
          4,
          4,
          4,
          4,
          4,
          4,
          4,
          4,
          4,
          4,
          4,
          4,
          4,
          4,
          4,
          4,
          4,
          4,
          4,
          4,
          4,
          4,
          4,
          4,
          4,
          4,
          4,
          4,
          4,
          4,
          4,
          4,
          4,
          4,
          4,
          4,
          4,
          4,
          4,
          4,
          4,
          4,
          4,
          4,
          4,
          4,
          4,
          4,
          4,
          4,
          4,
          4,
          4,
          4,
          4,
          4,
          4,
          4,
          4,
          4,
          4,
          4,
          4,
          4,
          4,
          4,
          4,
          4,
          4,
          4,
          4,
          4,
          4,
          4,
          4,
          4,
          4,
          4,
          4,
          4,
          4,
          4,
          4,
          4,
          4,
          4,
          4,
          4,
          4,
          4
         ],
         "x0": " ",
         "xaxis": "x",
         "y": [
          4.584026558939201,
          4.4241772134372495,
          4.299884102274512,
          4.468670948890447,
          4.318470800223632,
          4.49828510292983,
          4.4241772134372495,
          4.380002597218263,
          4.218590684172161,
          4.371326905185629,
          4.446552485379472,
          4.465173736819525,
          4.4241772134372495,
          4.393184603352521,
          4.687379404287529,
          4.4241772134372495,
          4.632417038124195,
          4.520115709733935,
          4.4241772134372495,
          4.52165578185873,
          4.319109623424687,
          4.41192559889879,
          4.451878804700311,
          4.393184603352521,
          4.4241772134372495,
          4.4514611991778,
          4.420811384546696,
          4.409075935626975,
          3.7986487089788996,
          4.4241772134372495,
          4.346276358518659,
          4.517848839531057,
          4.340259485032015,
          4.472916497647989,
          4.4241772134372495,
          4.443750289871738,
          4.516749880843383,
          4.060349845941003,
          4.4241772134372495,
          4.512019487584923,
          4.3903833035763675,
          3.4696008879659375,
          4.448713677486591,
          3.9273836770438684,
          4.4241772134372495,
          4.465173736819525,
          4.307170850370105,
          4.417678424155984,
          4.4241772134372495,
          4.513082057761865,
          4.441923887563261,
          3.3438703335551976,
          4.5026060710859355,
          4.355908015724064,
          4.4751621368149035,
          4.571897704836013,
          4.257242981955881,
          4.472916497647989,
          4.49828510292983,
          4.370724722013681,
          4.305901046056734,
          4.4241772134372495,
          4.469550668757437,
          4.317114787810809,
          4.4241772134372495,
          4.346276358518659,
          4.567029237178917,
          4.472916497647989,
          3.855734338175166,
          4.393184603352521,
          4.4241772134372495,
          4.4241772134372495,
          4.472916497647989,
          4.472916497647989,
          4.659739978983687,
          4.4146770271407405,
          4.619899124530519,
          4.404647299934804,
          4.4241772134372495,
          4.4241772134372495,
          4.488391287699838,
          4.564018401099714,
          4.4241772134372495,
          4.4241772134372495,
          4.407629378412438,
          4.393184603352521,
          4.33670469462674,
          4.4241772134372495,
          4.541088835607935,
          3.945691214894018,
          4.472916497647989,
          4.346276358518659,
          4.078768234604818,
          4.4241772134372495,
          4.570932769458599,
          4.2858738399589225,
          4.4241772134372495,
          4.4241772134372495,
          4.4241772134372495,
          4.393184603352521,
          4.370433362276209,
          4.1904746486814775,
          4.393184603352521,
          4.568854993944676,
          4.4241772134372495,
          3.9305346476055787,
          4.4241772134372495,
          4.4241772134372495,
          4.423334047883027,
          4.4241772134372495,
          4.458678647279308,
          4.489671257364036,
          4.546176872400114,
          4.4241772134372495,
          4.393184603352521,
          4.512019487584923,
          4.129622387589401,
          4.287638818010879,
          4.4241772134372495,
          4.751396790589848,
          4.466184839866885,
          4.560758771795664,
          4.4241772134372495,
          4.3903833035763675,
          4.4241772134372495,
          4.461708426064401,
          4.4241772134372495,
          4.4241772134372495,
          4.472916497647989,
          3.775777781813978,
          4.445255138586102,
          4.469550668757437,
          4.487858206607587,
          4.619899124530519,
          4.4241772134372495,
          4.208774506928456,
          4.487858206607587,
          4.4241772134372495,
          4.393184603352521,
          3.2397592156654005,
          4.010397168933386,
          2.812705419529055,
          4.455244633590864,
          4.3342160686436575,
          4.387017474685814,
          4.4241772134372495,
          4.359390693491639,
          4.549208064271119,
          4.4241772134372495,
          4.472916497647989,
          4.4241772134372495,
          4.39940232728772,
          4.4241772134372495,
          4.4241772134372495,
          4.393184603352521,
          4.5868394137956106,
          4.391948133997204,
          4.595094050435935,
          4.4241772134372495,
          4.482019059371397,
          4.4241772134372495,
          4.419630069229988,
          4.472916497647989,
          4.520115709733935,
          4.2956771637451245,
          4.4241772134372495,
          4.472916497647989,
          4.4241772134372495,
          4.472916497647989,
          4.268921294218789,
          4.3839648441504195,
          4.762153109672024,
          4.347680170931927,
          4.420811384546696,
          4.4241772134372495,
          4.495163365374588,
          4.3903833035763675,
          4.4241772134372495,
          3.840066346770828,
          4.4241772134372495,
          4.4762591662035325,
          4.601222877300426,
          4.520115709733935,
          4.4241772134372495,
          4.4241772134372495,
          4.4241772134372495,
          4.260756136684876,
          4.49828510292983,
          4.4241772134372495
         ],
         "y0": " ",
         "yaxis": "y"
        },
        {
         "alignmentgroup": "True",
         "hovertemplate": "color=5.0<br>Actual=%{x}<br>Predicted=%{y}<extra></extra>",
         "legendgroup": "5.0",
         "marker": {
          "color": "#EF553B"
         },
         "name": "5.0",
         "notched": false,
         "offsetgroup": "5.0",
         "orientation": "v",
         "showlegend": true,
         "type": "box",
         "x": [
          5,
          5,
          5,
          5,
          5,
          5,
          5,
          5,
          5,
          5,
          5,
          5,
          5,
          5,
          5,
          5,
          5,
          5,
          5,
          5,
          5,
          5,
          5,
          5,
          5,
          5,
          5,
          5,
          5,
          5,
          5,
          5,
          5,
          5,
          5,
          5,
          5,
          5,
          5,
          5,
          5,
          5,
          5,
          5,
          5,
          5,
          5,
          5,
          5,
          5,
          5,
          5,
          5,
          5,
          5,
          5,
          5,
          5,
          5,
          5,
          5,
          5,
          5,
          5,
          5,
          5,
          5,
          5,
          5,
          5,
          5,
          5,
          5,
          5,
          5,
          5,
          5,
          5,
          5,
          5,
          5,
          5,
          5,
          5,
          5,
          5,
          5,
          5,
          5,
          5,
          5,
          5,
          5,
          5,
          5,
          5,
          5,
          5,
          5,
          5,
          5,
          5,
          5,
          5,
          5,
          5,
          5,
          5,
          5,
          5,
          5,
          5,
          5,
          5,
          5,
          5,
          5,
          5,
          5,
          5,
          5,
          5,
          5,
          5,
          5,
          5,
          5,
          5,
          5,
          5,
          5,
          5,
          5,
          5,
          5,
          5,
          5,
          5,
          5,
          5,
          5,
          5,
          5,
          5,
          5,
          5,
          5,
          5,
          5,
          5,
          5,
          5,
          5,
          5,
          5,
          5,
          5,
          5,
          5,
          5,
          5,
          5,
          5,
          5,
          5,
          5,
          5,
          5,
          5,
          5,
          5,
          5,
          5,
          5,
          5,
          5,
          5,
          5,
          5,
          5,
          5,
          5,
          5,
          5,
          5,
          5,
          5,
          5,
          5,
          5,
          5,
          5,
          5,
          5,
          5,
          5,
          5,
          5,
          5,
          5,
          5,
          5,
          5,
          5,
          5,
          5,
          5,
          5,
          5,
          5,
          5,
          5,
          5,
          5,
          5,
          5,
          5,
          5,
          5,
          5,
          5,
          5,
          5,
          5,
          5,
          5,
          5,
          5,
          5,
          5,
          5,
          5,
          5,
          5,
          5,
          5,
          5,
          5,
          5,
          5,
          5,
          5,
          5,
          5,
          5,
          5,
          5,
          5,
          5,
          5,
          5,
          5,
          5,
          5,
          5,
          5,
          5,
          5,
          5,
          5,
          5,
          5,
          5,
          5,
          5,
          5,
          5,
          5,
          5,
          5,
          5,
          5,
          5,
          5,
          5,
          5,
          5,
          5,
          5,
          5,
          5,
          5,
          5,
          5,
          5,
          5,
          5,
          5,
          5,
          5,
          5,
          5,
          5,
          5,
          5,
          5,
          5,
          5,
          5,
          5,
          5,
          5,
          5,
          5,
          5,
          5,
          5,
          5,
          5,
          5,
          5,
          5,
          5,
          5,
          5,
          5,
          5,
          5,
          5,
          5,
          5,
          5,
          5,
          5,
          5,
          5,
          5,
          5,
          5,
          5,
          5,
          5,
          5,
          5,
          5,
          5,
          5,
          5,
          5,
          5,
          5,
          5,
          5,
          5,
          5,
          5,
          5,
          5,
          5,
          5,
          5,
          5,
          5,
          5,
          5,
          5,
          5,
          5,
          5,
          5,
          5,
          5,
          5,
          5,
          5,
          5,
          5,
          5,
          5,
          5,
          5,
          5,
          5,
          5,
          5,
          5,
          5,
          5,
          5,
          5,
          5,
          5,
          5,
          5,
          5,
          5,
          5,
          5,
          5,
          5,
          5,
          5,
          5,
          5,
          5,
          5,
          5,
          5,
          5,
          5,
          5,
          5,
          5,
          5,
          5,
          5,
          5,
          5,
          5,
          5,
          5,
          5,
          5,
          5,
          5,
          5,
          5,
          5,
          5,
          5,
          5,
          5,
          5,
          5,
          5,
          5,
          5,
          5,
          5,
          5,
          5,
          5,
          5,
          5,
          5,
          5,
          5,
          5,
          5,
          5,
          5,
          5,
          5,
          5,
          5,
          5,
          5,
          5,
          5,
          5
         ],
         "x0": " ",
         "xaxis": "x",
         "y": [
          4.495340823584407,
          4.670692190240866,
          4.537743434869128,
          4.541088835607935,
          4.520115709733935,
          4.4241772134372495,
          4.4241772134372495,
          4.4241772134372495,
          4.620967459657876,
          4.4241772134372495,
          4.046075064216236,
          4.4241772134372495,
          4.590982912680455,
          4.489671257364036,
          2.7194961770186783,
          4.526961196544521,
          4.221956513062714,
          4.706590685213698,
          4.4241772134372495,
          4.61501916902393,
          4.435988336030626,
          4.515720230326094,
          4.509784678793459,
          4.318177259138723,
          4.472916497647989,
          4.472916497647989,
          4.61501916902393,
          4.472916497647989,
          4.393184603352521,
          4.420811384546696,
          4.4241772134372495,
          4.472916497647989,
          4.4241772134372495,
          4.388967496729998,
          4.49828510292983,
          4.4241772134372495,
          4.4241772134372495,
          4.764457956047127,
          4.606767900908875,
          4.318470800223632,
          4.36591192902161,
          4.520115709733935,
          4.4241772134372495,
          4.619899124530519,
          4.915373826860055,
          4.468369353440728,
          4.393184603352521,
          4.4241772134372495,
          4.446424081163848,
          4.4241772134372495,
          4.546280904386014,
          4.710957665320616,
          4.619899124530519,
          4.721532394173296,
          4.489671257364036,
          4.660279061842702,
          4.483329626046153,
          4.540536820694776,
          4.61717807467351,
          4.434181126734796,
          4.489123099649207,
          4.160101188090251,
          4.4241772134372495,
          4.483329626046153,
          4.472916497647989,
          4.4241772134372495,
          4.420920769701664,
          4.4241772134372495,
          4.74690504098082,
          4.444105870049067,
          4.4241772134372495,
          4.6067171183962605,
          4.446424081163848,
          4.416080720941707,
          4.353132861937666,
          4.656578319101531,
          4.4241772134372495,
          4.292144268466487,
          4.355908015724064,
          4.557913904361063,
          4.52165578185873,
          4.555991060499001,
          4.619899124530519,
          4.4241772134372495,
          4.222614416331067,
          4.619899124530519,
          4.4241772134372495,
          4.4241772134372495,
          4.472916497647989,
          4.564188900746595,
          4.4241772134372495,
          4.446424081163848,
          4.642830166522359,
          4.420920769701664,
          4.4241772134372495,
          4.370724722013681,
          4.493994422796842,
          4.282835118558329,
          4.5308776969886235,
          4.182603300512013,
          4.420811384546696,
          4.541088835607935,
          4.393184603352521,
          4.307170850370105,
          4.646936688323771,
          4.52165578185873,
          4.4241772134372495,
          4.7132948764704645,
          4.446424081163848,
          4.723435587146047,
          4.529352523083444,
          4.6857524663993955,
          4.7606130375472295,
          4.568736044953857,
          4.5985902726869305,
          4.489123099649207,
          4.588906514445791,
          4.199965736602618,
          4.525814839930898,
          4.545007929822368,
          4.3828706473743075,
          4.405909944808487,
          4.6052680480988695,
          4.520115709733935,
          4.458678647279308,
          4.6687132188101454,
          4.445255138586102,
          4.629377148065231,
          4.619899124530519,
          4.4241772134372495,
          4.565370216063305,
          4.523930004673515,
          4.393184603352521,
          4.355908015724064,
          4.405205371243973,
          4.710957665320616,
          4.4241772134372495,
          4.853554456645859,
          4.519363028078683,
          4.355908015724064,
          4.528329701437113,
          4.4241772134372495,
          4.521949102297104,
          4.443750289871738,
          4.421707509979061,
          4.560639552458315,
          4.306805912826558,
          4.521214668421609,
          4.49828510292983,
          4.4241772134372495,
          4.467292492845102,
          3.7998735422503067,
          4.596895847478033,
          4.6940070140231,
          4.4241772134372495,
          4.679965055235888,
          4.403940478202353,
          4.4241772134372495,
          4.615351980323258,
          4.520115709733935,
          4.512019487584923,
          4.796369439321476,
          4.337016007098569,
          4.4241772134372495,
          4.627888457562761,
          4.4241772134372495,
          4.52165578185873,
          4.515720230326094,
          4.54985529246652,
          4.454060631356445,
          4.58981397010271,
          4.4241772134372495,
          4.4241772134372495,
          4.728629007087862,
          4.460509686656186,
          4.9415036199103035,
          4.500466847240672,
          4.424252023506135,
          4.498837481450664,
          4.611653340133377,
          4.657942883469438,
          4.512019487584923,
          4.481026877500195,
          4.439118922396847,
          4.4762591662035325,
          4.504407551195006,
          4.426083062883014,
          4.640377671771952,
          4.5072517762882605,
          4.255808117737585,
          4.4241772134372495,
          4.520115709733935,
          4.4241772134372495,
          4.520115709733935,
          4.670692190240866,
          4.716938056014939,
          4.756065893339968,
          4.414367374524597,
          4.56853187594546,
          4.5039839178016035,
          4.4241772134372495,
          4.393184603352521,
          3.877547665293231,
          4.562004387172752,
          4.4241772134372495,
          3.9386622035556935,
          4.455244633590864,
          4.4241772134372495,
          4.5294986440148595,
          4.697790685402362,
          4.4065219039863335,
          4.4241772134372495,
          4.375937603785478,
          4.568736044953857,
          4.592123426630932,
          4.772447289079368,
          4.4241772134372495,
          4.472916497647989,
          4.610335542496454,
          4.359467323605907,
          4.506933703599677,
          4.465173736819525,
          4.512019487584923,
          4.520115709733935,
          4.247389302480596,
          4.428442096835114,
          4.627888457562761,
          4.4241772134372495,
          4.4241772134372495,
          4.4241772134372495,
          4.434181126734796,
          4.4241772134372495,
          4.336893656141463,
          4.6208578608033255,
          4.468870973780789,
          4.60795798388161,
          4.455244633590864,
          4.58639154857023,
          4.312482448657777,
          4.520226089963337,
          4.52165578185873,
          4.49828510292983,
          4.537743434869128,
          4.664674541250543,
          4.596895847478033,
          3.9411180633463814,
          4.4241772134372495,
          4.4241772134372495,
          4.568736044953857,
          3.9092269946640648,
          4.4241772134372495,
          4.4241772134372495,
          4.619899124530519,
          4.591101861671274,
          4.472916497647989,
          3.862407486653703,
          4.719621292206467,
          4.121057598756049,
          4.402342361314508,
          4.441876936956586,
          4.512019487584923,
          4.568736044953857,
          4.321549576748783,
          4.420811384546696,
          4.5072517762882605,
          4.763234948009092,
          4.355908015724064,
          4.570932769458599,
          4.446424081163848,
          4.526572150846375,
          3.7297674465373314,
          4.595094050435935,
          4.512019487584923,
          4.657822901702034,
          4.357095033776444,
          4.584026558939201,
          4.50528438100374,
          4.568736044953857,
          4.442062627456605,
          4.435988336030626,
          4.568736044953857,
          4.49828510292983,
          4.710957665320616,
          4.512019487584923,
          4.49828510292983,
          4.873308193138223,
          4.41543147107912,
          4.4241772134372495,
          4.489175448946183,
          4.4241772134372495,
          4.380002597218263,
          4.355908015724064,
          4.586482719079869,
          4.346276358518659,
          4.4241772134372495,
          4.446424081163848,
          4.442599576407243,
          4.4241772134372495,
          4.472916497647989,
          4.8236103686560305,
          4.4241772134372495,
          4.4109952073029906,
          4.713035440834539,
          4.4241772134372495,
          4.637653031767251,
          4.467292492845102,
          4.4241772134372495,
          4.512019487584923,
          4.716456536352621,
          4.4241772134372495,
          4.516749880843383,
          4.282435796497643,
          4.469550668757437,
          4.4241772134372495,
          4.500141499758255,
          4.627888457562761,
          4.306805912826558,
          4.4241772134372495,
          4.420811384546696,
          4.49828510292983,
          4.318470800223632,
          4.4241772134372495,
          4.439118922396847,
          4.708809733805549,
          4.35528099930024,
          4.520115709733935,
          4.379223640518218,
          4.4241772134372495,
          4.524998450414272,
          4.516127113265885,
          4.512019487584923,
          4.611539777631961,
          4.4241772134372495,
          4.512019487584923,
          4.445255138586102,
          4.359390693491639,
          4.403940478202353,
          4.4241772134372495,
          4.703194254470931,
          4.49828510292983,
          4.4241772134372495,
          4.512019487584923,
          3.8707753214172644,
          4.512019487584923,
          4.523930004673515,
          4.395015642729399,
          4.8156210356237885,
          4.4241772134372495,
          4.4241772134372495,
          4.613909976858397,
          4.439118922396847,
          4.489123099649207,
          4.665272579850707,
          4.307170850370105,
          4.537743434869128,
          4.49828510292983,
          4.58981397010271,
          4.568736044953857,
          4.4241772134372495,
          4.6566972680923495,
          4.5182899529681775,
          4.599861761732597,
          4.4241772134372495,
          4.391904275744039,
          4.571897704836013,
          4.445266556118804,
          4.46478210104828,
          4.617153164718296,
          4.76723961282439,
          4.312871331253523,
          4.619899124530519,
          4.398711748402168,
          4.668638408741259,
          4.420811384546696,
          4.4241772134372495,
          4.635091071084154,
          4.559608058331168,
          4.472916497647989,
          4.433783354704843,
          4.4241772134372495,
          4.459509516988728,
          4.521214668421609,
          4.5751015903633325,
          4.4241772134372495,
          4.7165329333291295,
          4.445255138586102,
          4.585874478418196,
          4.389818774461968,
          4.376757609004691,
          4.446424081163848,
          4.627888457562761,
          4.4241772134372495,
          4.446424081163848,
          4.593126655151414,
          4.61501916902393,
          4.5726692888842555,
          4.397109054537573,
          4.4241772134372495,
          4.472916497647989,
          4.487858206607587,
          4.414262528501373,
          4.4241772134372495,
          4.359390693491639,
          4.408711244584641,
          4.568736044953857,
          4.439118922396847,
          4.4241772134372495,
          4.487723981642597,
          4.512019487584923,
          4.4241772134372495,
          4.692572618857415,
          4.4241772134372495,
          4.34059982268744,
          4.5521164884884175,
          4.439118922396847,
          4.324312142264182,
          4.355908015724064,
          4.705317603312271,
          4.512019487584923,
          4.472916497647989,
          4.4241772134372495,
          4.572392992422412,
          4.328650986569756,
          4.4241772134372495,
          4.102249314978782,
          4.02342632553586,
          4.445255138586102,
          4.655427605637036,
          4.498837481450664,
          4.579522993319624,
          4.078768234604818,
          4.619899124530519,
          4.472916497647989,
          4.634230088880644,
          4.4241772134372495,
          4.487420604546123,
          4.49828510292983,
          4.520115709733935,
          4.575700480755261,
          4.4762591662035325,
          4.4241772134372495,
          4.568736044953857,
          4.489671257364036,
          4.4241772134372495,
          4.420811384546696,
          4.4241772134372495,
          4.6067171183962605,
          4.0173904886579175,
          4.4241772134372495,
          4.439118922396847
         ],
         "y0": " ",
         "yaxis": "y"
        },
        {
         "alignmentgroup": "True",
         "hovertemplate": "color=3.0<br>Actual=%{x}<br>Predicted=%{y}<extra></extra>",
         "legendgroup": "3.0",
         "marker": {
          "color": "#00cc96"
         },
         "name": "3.0",
         "notched": false,
         "offsetgroup": "3.0",
         "orientation": "v",
         "showlegend": true,
         "type": "box",
         "x": [
          3,
          3,
          3,
          3,
          3,
          3,
          3,
          3,
          3,
          3,
          3,
          3,
          3,
          3,
          3,
          3,
          3,
          3,
          3,
          3,
          3,
          3,
          3,
          3,
          3,
          3,
          3,
          3,
          3,
          3,
          3,
          3,
          3,
          3,
          3,
          3,
          3,
          3,
          3,
          3,
          3,
          3,
          3,
          3,
          3,
          3,
          3,
          3,
          3,
          3,
          3,
          3,
          3,
          3,
          3
         ],
         "x0": " ",
         "xaxis": "x",
         "y": [
          4.208774506928456,
          4.4241772134372495,
          4.340259485032015,
          3.145751262637076,
          3.9255798153603148,
          4.420811384546696,
          4.420811384546696,
          4.4241772134372495,
          4.4241772134372495,
          3.9898744402114805,
          4.463029631740239,
          4.420811384546696,
          4.398711748402168,
          4.247389302480596,
          2.903683849006757,
          4.148127494682682,
          4.489671257364036,
          4.211571213271291,
          3.878380603274368,
          3.9044736223859062,
          4.464491193068948,
          4.323533449449348,
          3.754189045089955,
          4.393184603352521,
          4.2706271428322715,
          3.398486928551625,
          4.642843934446438,
          4.4233307657898004,
          4.4863987821042715,
          4.360336651416234,
          4.4241772134372495,
          4.379223640518218,
          4.225198858608394,
          4.4241772134372495,
          4.390912719278357,
          4.247389302480596,
          4.472916497647989,
          3.851017611638952,
          4.33944075219148,
          3.855734338175166,
          4.4241772134372495,
          4.4241772134372495,
          4.551178607002915,
          4.4241772134372495,
          4.324312142264182,
          4.33670469462674,
          4.385088110856978,
          4.4241772134372495,
          4.472916497647989,
          4.5072517762882605,
          4.3607359734769195,
          4.4241772134372495,
          4.568736044953857,
          4.4241772134372495,
          4.4241772134372495
         ],
         "y0": " ",
         "yaxis": "y"
        },
        {
         "alignmentgroup": "True",
         "hovertemplate": "color=1.0<br>Actual=%{x}<br>Predicted=%{y}<extra></extra>",
         "legendgroup": "1.0",
         "marker": {
          "color": "#ab63fa"
         },
         "name": "1.0",
         "notched": false,
         "offsetgroup": "1.0",
         "orientation": "v",
         "showlegend": true,
         "type": "box",
         "x": [
          1,
          1,
          1,
          1,
          1,
          1,
          1,
          1,
          1,
          1,
          1,
          1
         ],
         "x0": " ",
         "xaxis": "x",
         "y": [
          4.2624799322905345,
          4.4241772134372495,
          4.568736044953857,
          4.318470800223632,
          4.414262528501373,
          4.3903833035763675,
          4.520564175782963,
          2.5829266785343123,
          4.520115709733935,
          4.4241772134372495,
          4.329051413448427,
          4.4241772134372495
         ],
         "y0": " ",
         "yaxis": "y"
        },
        {
         "alignmentgroup": "True",
         "hovertemplate": "color=2.0<br>Actual=%{x}<br>Predicted=%{y}<extra></extra>",
         "legendgroup": "2.0",
         "marker": {
          "color": "#FFA15A"
         },
         "name": "2.0",
         "notched": false,
         "offsetgroup": "2.0",
         "orientation": "v",
         "showlegend": true,
         "type": "box",
         "x": [
          2,
          2,
          2,
          2,
          2,
          2,
          2,
          2,
          2,
          2,
          2,
          2,
          2,
          2,
          2,
          2,
          2,
          2,
          2,
          2,
          2,
          2,
          2,
          2,
          2,
          2
         ],
         "x0": " ",
         "xaxis": "x",
         "y": [
          4.45184651202075,
          3.6667165262794463,
          4.276178240285377,
          4.221956513062714,
          4.2956771637451245,
          4.4241772134372495,
          4.4241772134372495,
          4.218590684172161,
          4.41543147107912,
          4.420811384546696,
          3.7980924933184466,
          4.370724722013681,
          3.4447672519568098,
          4.153687315349528,
          4.531827107661742,
          3.304203908621981,
          4.4241772134372495,
          4.327198319574737,
          4.346276358518659,
          3.9388720928405947,
          4.619899124530519,
          4.714771960260196,
          4.528329701437113,
          4.4241772134372495,
          3.6861276022423493,
          3.3020221095420186
         ],
         "y0": " ",
         "yaxis": "y"
        }
       ],
       "layout": {
        "boxmode": "group",
        "legend": {
         "title": {
          "text": "color"
         },
         "tracegroupgap": 0
        },
        "template": {
         "data": {
          "bar": [
           {
            "error_x": {
             "color": "#2a3f5f"
            },
            "error_y": {
             "color": "#2a3f5f"
            },
            "marker": {
             "line": {
              "color": "#E5ECF6",
              "width": 0.5
             },
             "pattern": {
              "fillmode": "overlay",
              "size": 10,
              "solidity": 0.2
             }
            },
            "type": "bar"
           }
          ],
          "barpolar": [
           {
            "marker": {
             "line": {
              "color": "#E5ECF6",
              "width": 0.5
             },
             "pattern": {
              "fillmode": "overlay",
              "size": 10,
              "solidity": 0.2
             }
            },
            "type": "barpolar"
           }
          ],
          "carpet": [
           {
            "aaxis": {
             "endlinecolor": "#2a3f5f",
             "gridcolor": "white",
             "linecolor": "white",
             "minorgridcolor": "white",
             "startlinecolor": "#2a3f5f"
            },
            "baxis": {
             "endlinecolor": "#2a3f5f",
             "gridcolor": "white",
             "linecolor": "white",
             "minorgridcolor": "white",
             "startlinecolor": "#2a3f5f"
            },
            "type": "carpet"
           }
          ],
          "choropleth": [
           {
            "colorbar": {
             "outlinewidth": 0,
             "ticks": ""
            },
            "type": "choropleth"
           }
          ],
          "contour": [
           {
            "colorbar": {
             "outlinewidth": 0,
             "ticks": ""
            },
            "colorscale": [
             [
              0,
              "#0d0887"
             ],
             [
              0.1111111111111111,
              "#46039f"
             ],
             [
              0.2222222222222222,
              "#7201a8"
             ],
             [
              0.3333333333333333,
              "#9c179e"
             ],
             [
              0.4444444444444444,
              "#bd3786"
             ],
             [
              0.5555555555555556,
              "#d8576b"
             ],
             [
              0.6666666666666666,
              "#ed7953"
             ],
             [
              0.7777777777777778,
              "#fb9f3a"
             ],
             [
              0.8888888888888888,
              "#fdca26"
             ],
             [
              1,
              "#f0f921"
             ]
            ],
            "type": "contour"
           }
          ],
          "contourcarpet": [
           {
            "colorbar": {
             "outlinewidth": 0,
             "ticks": ""
            },
            "type": "contourcarpet"
           }
          ],
          "heatmap": [
           {
            "colorbar": {
             "outlinewidth": 0,
             "ticks": ""
            },
            "colorscale": [
             [
              0,
              "#0d0887"
             ],
             [
              0.1111111111111111,
              "#46039f"
             ],
             [
              0.2222222222222222,
              "#7201a8"
             ],
             [
              0.3333333333333333,
              "#9c179e"
             ],
             [
              0.4444444444444444,
              "#bd3786"
             ],
             [
              0.5555555555555556,
              "#d8576b"
             ],
             [
              0.6666666666666666,
              "#ed7953"
             ],
             [
              0.7777777777777778,
              "#fb9f3a"
             ],
             [
              0.8888888888888888,
              "#fdca26"
             ],
             [
              1,
              "#f0f921"
             ]
            ],
            "type": "heatmap"
           }
          ],
          "heatmapgl": [
           {
            "colorbar": {
             "outlinewidth": 0,
             "ticks": ""
            },
            "colorscale": [
             [
              0,
              "#0d0887"
             ],
             [
              0.1111111111111111,
              "#46039f"
             ],
             [
              0.2222222222222222,
              "#7201a8"
             ],
             [
              0.3333333333333333,
              "#9c179e"
             ],
             [
              0.4444444444444444,
              "#bd3786"
             ],
             [
              0.5555555555555556,
              "#d8576b"
             ],
             [
              0.6666666666666666,
              "#ed7953"
             ],
             [
              0.7777777777777778,
              "#fb9f3a"
             ],
             [
              0.8888888888888888,
              "#fdca26"
             ],
             [
              1,
              "#f0f921"
             ]
            ],
            "type": "heatmapgl"
           }
          ],
          "histogram": [
           {
            "marker": {
             "pattern": {
              "fillmode": "overlay",
              "size": 10,
              "solidity": 0.2
             }
            },
            "type": "histogram"
           }
          ],
          "histogram2d": [
           {
            "colorbar": {
             "outlinewidth": 0,
             "ticks": ""
            },
            "colorscale": [
             [
              0,
              "#0d0887"
             ],
             [
              0.1111111111111111,
              "#46039f"
             ],
             [
              0.2222222222222222,
              "#7201a8"
             ],
             [
              0.3333333333333333,
              "#9c179e"
             ],
             [
              0.4444444444444444,
              "#bd3786"
             ],
             [
              0.5555555555555556,
              "#d8576b"
             ],
             [
              0.6666666666666666,
              "#ed7953"
             ],
             [
              0.7777777777777778,
              "#fb9f3a"
             ],
             [
              0.8888888888888888,
              "#fdca26"
             ],
             [
              1,
              "#f0f921"
             ]
            ],
            "type": "histogram2d"
           }
          ],
          "histogram2dcontour": [
           {
            "colorbar": {
             "outlinewidth": 0,
             "ticks": ""
            },
            "colorscale": [
             [
              0,
              "#0d0887"
             ],
             [
              0.1111111111111111,
              "#46039f"
             ],
             [
              0.2222222222222222,
              "#7201a8"
             ],
             [
              0.3333333333333333,
              "#9c179e"
             ],
             [
              0.4444444444444444,
              "#bd3786"
             ],
             [
              0.5555555555555556,
              "#d8576b"
             ],
             [
              0.6666666666666666,
              "#ed7953"
             ],
             [
              0.7777777777777778,
              "#fb9f3a"
             ],
             [
              0.8888888888888888,
              "#fdca26"
             ],
             [
              1,
              "#f0f921"
             ]
            ],
            "type": "histogram2dcontour"
           }
          ],
          "mesh3d": [
           {
            "colorbar": {
             "outlinewidth": 0,
             "ticks": ""
            },
            "type": "mesh3d"
           }
          ],
          "parcoords": [
           {
            "line": {
             "colorbar": {
              "outlinewidth": 0,
              "ticks": ""
             }
            },
            "type": "parcoords"
           }
          ],
          "pie": [
           {
            "automargin": true,
            "type": "pie"
           }
          ],
          "scatter": [
           {
            "marker": {
             "colorbar": {
              "outlinewidth": 0,
              "ticks": ""
             }
            },
            "type": "scatter"
           }
          ],
          "scatter3d": [
           {
            "line": {
             "colorbar": {
              "outlinewidth": 0,
              "ticks": ""
             }
            },
            "marker": {
             "colorbar": {
              "outlinewidth": 0,
              "ticks": ""
             }
            },
            "type": "scatter3d"
           }
          ],
          "scattercarpet": [
           {
            "marker": {
             "colorbar": {
              "outlinewidth": 0,
              "ticks": ""
             }
            },
            "type": "scattercarpet"
           }
          ],
          "scattergeo": [
           {
            "marker": {
             "colorbar": {
              "outlinewidth": 0,
              "ticks": ""
             }
            },
            "type": "scattergeo"
           }
          ],
          "scattergl": [
           {
            "marker": {
             "colorbar": {
              "outlinewidth": 0,
              "ticks": ""
             }
            },
            "type": "scattergl"
           }
          ],
          "scattermapbox": [
           {
            "marker": {
             "colorbar": {
              "outlinewidth": 0,
              "ticks": ""
             }
            },
            "type": "scattermapbox"
           }
          ],
          "scatterpolar": [
           {
            "marker": {
             "colorbar": {
              "outlinewidth": 0,
              "ticks": ""
             }
            },
            "type": "scatterpolar"
           }
          ],
          "scatterpolargl": [
           {
            "marker": {
             "colorbar": {
              "outlinewidth": 0,
              "ticks": ""
             }
            },
            "type": "scatterpolargl"
           }
          ],
          "scatterternary": [
           {
            "marker": {
             "colorbar": {
              "outlinewidth": 0,
              "ticks": ""
             }
            },
            "type": "scatterternary"
           }
          ],
          "surface": [
           {
            "colorbar": {
             "outlinewidth": 0,
             "ticks": ""
            },
            "colorscale": [
             [
              0,
              "#0d0887"
             ],
             [
              0.1111111111111111,
              "#46039f"
             ],
             [
              0.2222222222222222,
              "#7201a8"
             ],
             [
              0.3333333333333333,
              "#9c179e"
             ],
             [
              0.4444444444444444,
              "#bd3786"
             ],
             [
              0.5555555555555556,
              "#d8576b"
             ],
             [
              0.6666666666666666,
              "#ed7953"
             ],
             [
              0.7777777777777778,
              "#fb9f3a"
             ],
             [
              0.8888888888888888,
              "#fdca26"
             ],
             [
              1,
              "#f0f921"
             ]
            ],
            "type": "surface"
           }
          ],
          "table": [
           {
            "cells": {
             "fill": {
              "color": "#EBF0F8"
             },
             "line": {
              "color": "white"
             }
            },
            "header": {
             "fill": {
              "color": "#C8D4E3"
             },
             "line": {
              "color": "white"
             }
            },
            "type": "table"
           }
          ]
         },
         "layout": {
          "annotationdefaults": {
           "arrowcolor": "#2a3f5f",
           "arrowhead": 0,
           "arrowwidth": 1
          },
          "autotypenumbers": "strict",
          "coloraxis": {
           "colorbar": {
            "outlinewidth": 0,
            "ticks": ""
           }
          },
          "colorscale": {
           "diverging": [
            [
             0,
             "#8e0152"
            ],
            [
             0.1,
             "#c51b7d"
            ],
            [
             0.2,
             "#de77ae"
            ],
            [
             0.3,
             "#f1b6da"
            ],
            [
             0.4,
             "#fde0ef"
            ],
            [
             0.5,
             "#f7f7f7"
            ],
            [
             0.6,
             "#e6f5d0"
            ],
            [
             0.7,
             "#b8e186"
            ],
            [
             0.8,
             "#7fbc41"
            ],
            [
             0.9,
             "#4d9221"
            ],
            [
             1,
             "#276419"
            ]
           ],
           "sequential": [
            [
             0,
             "#0d0887"
            ],
            [
             0.1111111111111111,
             "#46039f"
            ],
            [
             0.2222222222222222,
             "#7201a8"
            ],
            [
             0.3333333333333333,
             "#9c179e"
            ],
            [
             0.4444444444444444,
             "#bd3786"
            ],
            [
             0.5555555555555556,
             "#d8576b"
            ],
            [
             0.6666666666666666,
             "#ed7953"
            ],
            [
             0.7777777777777778,
             "#fb9f3a"
            ],
            [
             0.8888888888888888,
             "#fdca26"
            ],
            [
             1,
             "#f0f921"
            ]
           ],
           "sequentialminus": [
            [
             0,
             "#0d0887"
            ],
            [
             0.1111111111111111,
             "#46039f"
            ],
            [
             0.2222222222222222,
             "#7201a8"
            ],
            [
             0.3333333333333333,
             "#9c179e"
            ],
            [
             0.4444444444444444,
             "#bd3786"
            ],
            [
             0.5555555555555556,
             "#d8576b"
            ],
            [
             0.6666666666666666,
             "#ed7953"
            ],
            [
             0.7777777777777778,
             "#fb9f3a"
            ],
            [
             0.8888888888888888,
             "#fdca26"
            ],
            [
             1,
             "#f0f921"
            ]
           ]
          },
          "colorway": [
           "#636efa",
           "#EF553B",
           "#00cc96",
           "#ab63fa",
           "#FFA15A",
           "#19d3f3",
           "#FF6692",
           "#B6E880",
           "#FF97FF",
           "#FECB52"
          ],
          "font": {
           "color": "#2a3f5f"
          },
          "geo": {
           "bgcolor": "white",
           "lakecolor": "white",
           "landcolor": "#E5ECF6",
           "showlakes": true,
           "showland": true,
           "subunitcolor": "white"
          },
          "hoverlabel": {
           "align": "left"
          },
          "hovermode": "closest",
          "mapbox": {
           "style": "light"
          },
          "paper_bgcolor": "white",
          "plot_bgcolor": "#E5ECF6",
          "polar": {
           "angularaxis": {
            "gridcolor": "white",
            "linecolor": "white",
            "ticks": ""
           },
           "bgcolor": "#E5ECF6",
           "radialaxis": {
            "gridcolor": "white",
            "linecolor": "white",
            "ticks": ""
           }
          },
          "scene": {
           "xaxis": {
            "backgroundcolor": "#E5ECF6",
            "gridcolor": "white",
            "gridwidth": 2,
            "linecolor": "white",
            "showbackground": true,
            "ticks": "",
            "zerolinecolor": "white"
           },
           "yaxis": {
            "backgroundcolor": "#E5ECF6",
            "gridcolor": "white",
            "gridwidth": 2,
            "linecolor": "white",
            "showbackground": true,
            "ticks": "",
            "zerolinecolor": "white"
           },
           "zaxis": {
            "backgroundcolor": "#E5ECF6",
            "gridcolor": "white",
            "gridwidth": 2,
            "linecolor": "white",
            "showbackground": true,
            "ticks": "",
            "zerolinecolor": "white"
           }
          },
          "shapedefaults": {
           "line": {
            "color": "#2a3f5f"
           }
          },
          "ternary": {
           "aaxis": {
            "gridcolor": "white",
            "linecolor": "white",
            "ticks": ""
           },
           "baxis": {
            "gridcolor": "white",
            "linecolor": "white",
            "ticks": ""
           },
           "bgcolor": "#E5ECF6",
           "caxis": {
            "gridcolor": "white",
            "linecolor": "white",
            "ticks": ""
           }
          },
          "title": {
           "x": 0.05
          },
          "xaxis": {
           "automargin": true,
           "gridcolor": "white",
           "linecolor": "white",
           "ticks": "",
           "title": {
            "standoff": 15
           },
           "zerolinecolor": "white",
           "zerolinewidth": 2
          },
          "yaxis": {
           "automargin": true,
           "gridcolor": "white",
           "linecolor": "white",
           "ticks": "",
           "title": {
            "standoff": 15
           },
           "zerolinecolor": "white",
           "zerolinewidth": 2
          }
         }
        },
        "title": {
         "text": "Actual vs Predicted / R² = 0.105 / MAE = 0.511"
        },
        "xaxis": {
         "anchor": "y",
         "domain": [
          0,
          1
         ],
         "title": {
          "text": "Actual"
         }
        },
        "yaxis": {
         "anchor": "x",
         "domain": [
          0,
          1
         ],
         "title": {
          "text": "Predicted"
         }
        }
       }
      }
     },
     "metadata": {},
     "output_type": "display_data"
    }
   ],
   "source": [
    "from sklearn.feature_extraction.text import CountVectorizer\n",
    "from nltk.corpus import stopwords\n",
    "\n",
    "\n",
    "nltk.download(\"stopwords\")\n",
    "\n",
    "\n",
    "vectorizer = CountVectorizer(\n",
    "    strip_accents=\"unicode\",\n",
    "    stop_words=stopwords.words(\"english\"),\n",
    "    ngram_range=(1, 3),\n",
    "    max_df=0.9,\n",
    "    min_df=2,\n",
    ")\n",
    "X_train_vec = vectorizer.fit_transform(X_train)\n",
    "X_test_vec = vectorizer.transform(X_test)\n",
    "\n",
    "\n",
    "from sklearn.preprocessing import StandardScaler\n",
    "\n",
    "\n",
    "scaler = StandardScaler().fit(X_train_vec.toarray())\n",
    "\n",
    "X_train_std = scaler.transform(X_train_vec.toarray())\n",
    "X_test_std = scaler.transform(X_test_vec.toarray())\n",
    "\n",
    "\n",
    "words_count = pd.Series(\n",
    "    X_train_vec.sum(axis=0).tolist()[0],\n",
    "    index=vectorizer.get_feature_names(),\n",
    ")\n",
    "\n",
    "top_20_count = words_count.sort_values(ascending=False).head(20)\n",
    "\n",
    "fig = px.bar(\n",
    "    top_20_count,\n",
    "    x=top_20_count.index,\n",
    "    y=top_20_count.values,\n",
    "    labels={\"x\": \"Word\", \"y\": \"Count\"},\n",
    "    title=\"Top 20 words in reviews\",\n",
    "    color=top_20_count.values,\n",
    ")\n",
    "fig.show()\n",
    "\n",
    "\n",
    "from sklearn.linear_model import ElasticNetCV\n",
    "\n",
    "\n",
    "reg = ElasticNetCV(random_state=42, n_jobs=-1).fit(X_train_std, y_train)\n",
    "coefs = pd.Series(reg.coef_, index=vectorizer.get_feature_names())\n",
    "\n",
    "top_20_coefs = coefs.nlargest(10).append(coefs.nsmallest(10)).sort_values()\n",
    "\n",
    "fig = px.bar(\n",
    "    top_20_coefs,\n",
    "    x=top_20_coefs.index,\n",
    "    y=top_20_coefs.values,\n",
    "    labels={\"x\": \"Word\", \"y\": \"Count\"},\n",
    "    title=\"Top 20 words in reviews\",\n",
    "    color=top_20_coefs.values,\n",
    ")\n",
    "fig.show()\n",
    "\n",
    "\n",
    "y_pred = reg.predict(X_test_std)\n",
    "\n",
    "\n",
    "from sklearn.metrics import median_absolute_error, r2_score\n",
    "\n",
    "\n",
    "fig = px.box(\n",
    "    x=y_test,\n",
    "    y=y_pred,\n",
    "    labels={\"x\": \"Actual\", \"y\": \"Predicted\"},\n",
    "    title=f\"Actual vs Predicted / R² = {round(r2_score(y_test, y_pred), 3)} / MAE = {round(median_absolute_error(y_test, y_pred), 3)}\",\n",
    "    color=y_test,\n",
    ")\n",
    "fig.show()\n"
   ]
  },
  {
   "cell_type": "code",
   "execution_count": 34,
   "metadata": {},
   "outputs": [
    {
     "name": "stderr",
     "output_type": "stream",
     "text": [
      "/home/clement/Workspace/oc_p6/env/lib/python3.9/site-packages/sklearn/feature_extraction/text.py:388: UserWarning:\n",
      "\n",
      "Your stop_words may be inconsistent with your preprocessing. Tokenizing the stop words generated tokens ['abov', 'ani', 'becaus', 'befor', 'doe', 'dure', 'ha', 'hi', 'onc', 'onli', 'ourselv', 'themselv', 'thi', 'veri', 'wa', 'whi', 'yourselv'] not in stop_words.\n",
      "\n"
     ]
    },
    {
     "data": {
      "application/vnd.plotly.v1+json": {
       "config": {
        "plotlyServerURL": "https://plot.ly"
       },
       "data": [
        {
         "alignmentgroup": "True",
         "hovertemplate": "index=%{x}<br>Count=%{y}<br>color=%{marker.color}<extra></extra>",
         "legendgroup": "",
         "marker": {
          "color": [
           535,
           463,
           339,
           314,
           292,
           252,
           242,
           240,
           199,
           160,
           158,
           151,
           140,
           135,
           134,
           133,
           130,
           127,
           124,
           122
          ],
          "coloraxis": "coloraxis",
          "pattern": {
           "shape": ""
          }
         },
         "name": "",
         "offsetgroup": "",
         "orientation": "v",
         "showlegend": false,
         "textposition": "auto",
         "type": "bar",
         "x": [
          "place",
          "food",
          "great",
          "good",
          "restaurant",
          "one",
          "best",
          "service",
          "came",
          "amazing",
          "delicious",
          "first",
          "like",
          "time",
          "got",
          "paris",
          "try",
          "really",
          "sushi",
          "dinner"
         ],
         "xaxis": "x",
         "y": [
          535,
          463,
          339,
          314,
          292,
          252,
          242,
          240,
          199,
          160,
          158,
          151,
          140,
          135,
          134,
          133,
          130,
          127,
          124,
          122
         ],
         "yaxis": "y"
        }
       ],
       "layout": {
        "barmode": "relative",
        "coloraxis": {
         "colorbar": {
          "title": {
           "text": "color"
          }
         },
         "colorscale": [
          [
           0,
           "#0d0887"
          ],
          [
           0.1111111111111111,
           "#46039f"
          ],
          [
           0.2222222222222222,
           "#7201a8"
          ],
          [
           0.3333333333333333,
           "#9c179e"
          ],
          [
           0.4444444444444444,
           "#bd3786"
          ],
          [
           0.5555555555555556,
           "#d8576b"
          ],
          [
           0.6666666666666666,
           "#ed7953"
          ],
          [
           0.7777777777777778,
           "#fb9f3a"
          ],
          [
           0.8888888888888888,
           "#fdca26"
          ],
          [
           1,
           "#f0f921"
          ]
         ]
        },
        "legend": {
         "tracegroupgap": 0
        },
        "template": {
         "data": {
          "bar": [
           {
            "error_x": {
             "color": "#2a3f5f"
            },
            "error_y": {
             "color": "#2a3f5f"
            },
            "marker": {
             "line": {
              "color": "#E5ECF6",
              "width": 0.5
             },
             "pattern": {
              "fillmode": "overlay",
              "size": 10,
              "solidity": 0.2
             }
            },
            "type": "bar"
           }
          ],
          "barpolar": [
           {
            "marker": {
             "line": {
              "color": "#E5ECF6",
              "width": 0.5
             },
             "pattern": {
              "fillmode": "overlay",
              "size": 10,
              "solidity": 0.2
             }
            },
            "type": "barpolar"
           }
          ],
          "carpet": [
           {
            "aaxis": {
             "endlinecolor": "#2a3f5f",
             "gridcolor": "white",
             "linecolor": "white",
             "minorgridcolor": "white",
             "startlinecolor": "#2a3f5f"
            },
            "baxis": {
             "endlinecolor": "#2a3f5f",
             "gridcolor": "white",
             "linecolor": "white",
             "minorgridcolor": "white",
             "startlinecolor": "#2a3f5f"
            },
            "type": "carpet"
           }
          ],
          "choropleth": [
           {
            "colorbar": {
             "outlinewidth": 0,
             "ticks": ""
            },
            "type": "choropleth"
           }
          ],
          "contour": [
           {
            "colorbar": {
             "outlinewidth": 0,
             "ticks": ""
            },
            "colorscale": [
             [
              0,
              "#0d0887"
             ],
             [
              0.1111111111111111,
              "#46039f"
             ],
             [
              0.2222222222222222,
              "#7201a8"
             ],
             [
              0.3333333333333333,
              "#9c179e"
             ],
             [
              0.4444444444444444,
              "#bd3786"
             ],
             [
              0.5555555555555556,
              "#d8576b"
             ],
             [
              0.6666666666666666,
              "#ed7953"
             ],
             [
              0.7777777777777778,
              "#fb9f3a"
             ],
             [
              0.8888888888888888,
              "#fdca26"
             ],
             [
              1,
              "#f0f921"
             ]
            ],
            "type": "contour"
           }
          ],
          "contourcarpet": [
           {
            "colorbar": {
             "outlinewidth": 0,
             "ticks": ""
            },
            "type": "contourcarpet"
           }
          ],
          "heatmap": [
           {
            "colorbar": {
             "outlinewidth": 0,
             "ticks": ""
            },
            "colorscale": [
             [
              0,
              "#0d0887"
             ],
             [
              0.1111111111111111,
              "#46039f"
             ],
             [
              0.2222222222222222,
              "#7201a8"
             ],
             [
              0.3333333333333333,
              "#9c179e"
             ],
             [
              0.4444444444444444,
              "#bd3786"
             ],
             [
              0.5555555555555556,
              "#d8576b"
             ],
             [
              0.6666666666666666,
              "#ed7953"
             ],
             [
              0.7777777777777778,
              "#fb9f3a"
             ],
             [
              0.8888888888888888,
              "#fdca26"
             ],
             [
              1,
              "#f0f921"
             ]
            ],
            "type": "heatmap"
           }
          ],
          "heatmapgl": [
           {
            "colorbar": {
             "outlinewidth": 0,
             "ticks": ""
            },
            "colorscale": [
             [
              0,
              "#0d0887"
             ],
             [
              0.1111111111111111,
              "#46039f"
             ],
             [
              0.2222222222222222,
              "#7201a8"
             ],
             [
              0.3333333333333333,
              "#9c179e"
             ],
             [
              0.4444444444444444,
              "#bd3786"
             ],
             [
              0.5555555555555556,
              "#d8576b"
             ],
             [
              0.6666666666666666,
              "#ed7953"
             ],
             [
              0.7777777777777778,
              "#fb9f3a"
             ],
             [
              0.8888888888888888,
              "#fdca26"
             ],
             [
              1,
              "#f0f921"
             ]
            ],
            "type": "heatmapgl"
           }
          ],
          "histogram": [
           {
            "marker": {
             "pattern": {
              "fillmode": "overlay",
              "size": 10,
              "solidity": 0.2
             }
            },
            "type": "histogram"
           }
          ],
          "histogram2d": [
           {
            "colorbar": {
             "outlinewidth": 0,
             "ticks": ""
            },
            "colorscale": [
             [
              0,
              "#0d0887"
             ],
             [
              0.1111111111111111,
              "#46039f"
             ],
             [
              0.2222222222222222,
              "#7201a8"
             ],
             [
              0.3333333333333333,
              "#9c179e"
             ],
             [
              0.4444444444444444,
              "#bd3786"
             ],
             [
              0.5555555555555556,
              "#d8576b"
             ],
             [
              0.6666666666666666,
              "#ed7953"
             ],
             [
              0.7777777777777778,
              "#fb9f3a"
             ],
             [
              0.8888888888888888,
              "#fdca26"
             ],
             [
              1,
              "#f0f921"
             ]
            ],
            "type": "histogram2d"
           }
          ],
          "histogram2dcontour": [
           {
            "colorbar": {
             "outlinewidth": 0,
             "ticks": ""
            },
            "colorscale": [
             [
              0,
              "#0d0887"
             ],
             [
              0.1111111111111111,
              "#46039f"
             ],
             [
              0.2222222222222222,
              "#7201a8"
             ],
             [
              0.3333333333333333,
              "#9c179e"
             ],
             [
              0.4444444444444444,
              "#bd3786"
             ],
             [
              0.5555555555555556,
              "#d8576b"
             ],
             [
              0.6666666666666666,
              "#ed7953"
             ],
             [
              0.7777777777777778,
              "#fb9f3a"
             ],
             [
              0.8888888888888888,
              "#fdca26"
             ],
             [
              1,
              "#f0f921"
             ]
            ],
            "type": "histogram2dcontour"
           }
          ],
          "mesh3d": [
           {
            "colorbar": {
             "outlinewidth": 0,
             "ticks": ""
            },
            "type": "mesh3d"
           }
          ],
          "parcoords": [
           {
            "line": {
             "colorbar": {
              "outlinewidth": 0,
              "ticks": ""
             }
            },
            "type": "parcoords"
           }
          ],
          "pie": [
           {
            "automargin": true,
            "type": "pie"
           }
          ],
          "scatter": [
           {
            "marker": {
             "colorbar": {
              "outlinewidth": 0,
              "ticks": ""
             }
            },
            "type": "scatter"
           }
          ],
          "scatter3d": [
           {
            "line": {
             "colorbar": {
              "outlinewidth": 0,
              "ticks": ""
             }
            },
            "marker": {
             "colorbar": {
              "outlinewidth": 0,
              "ticks": ""
             }
            },
            "type": "scatter3d"
           }
          ],
          "scattercarpet": [
           {
            "marker": {
             "colorbar": {
              "outlinewidth": 0,
              "ticks": ""
             }
            },
            "type": "scattercarpet"
           }
          ],
          "scattergeo": [
           {
            "marker": {
             "colorbar": {
              "outlinewidth": 0,
              "ticks": ""
             }
            },
            "type": "scattergeo"
           }
          ],
          "scattergl": [
           {
            "marker": {
             "colorbar": {
              "outlinewidth": 0,
              "ticks": ""
             }
            },
            "type": "scattergl"
           }
          ],
          "scattermapbox": [
           {
            "marker": {
             "colorbar": {
              "outlinewidth": 0,
              "ticks": ""
             }
            },
            "type": "scattermapbox"
           }
          ],
          "scatterpolar": [
           {
            "marker": {
             "colorbar": {
              "outlinewidth": 0,
              "ticks": ""
             }
            },
            "type": "scatterpolar"
           }
          ],
          "scatterpolargl": [
           {
            "marker": {
             "colorbar": {
              "outlinewidth": 0,
              "ticks": ""
             }
            },
            "type": "scatterpolargl"
           }
          ],
          "scatterternary": [
           {
            "marker": {
             "colorbar": {
              "outlinewidth": 0,
              "ticks": ""
             }
            },
            "type": "scatterternary"
           }
          ],
          "surface": [
           {
            "colorbar": {
             "outlinewidth": 0,
             "ticks": ""
            },
            "colorscale": [
             [
              0,
              "#0d0887"
             ],
             [
              0.1111111111111111,
              "#46039f"
             ],
             [
              0.2222222222222222,
              "#7201a8"
             ],
             [
              0.3333333333333333,
              "#9c179e"
             ],
             [
              0.4444444444444444,
              "#bd3786"
             ],
             [
              0.5555555555555556,
              "#d8576b"
             ],
             [
              0.6666666666666666,
              "#ed7953"
             ],
             [
              0.7777777777777778,
              "#fb9f3a"
             ],
             [
              0.8888888888888888,
              "#fdca26"
             ],
             [
              1,
              "#f0f921"
             ]
            ],
            "type": "surface"
           }
          ],
          "table": [
           {
            "cells": {
             "fill": {
              "color": "#EBF0F8"
             },
             "line": {
              "color": "white"
             }
            },
            "header": {
             "fill": {
              "color": "#C8D4E3"
             },
             "line": {
              "color": "white"
             }
            },
            "type": "table"
           }
          ]
         },
         "layout": {
          "annotationdefaults": {
           "arrowcolor": "#2a3f5f",
           "arrowhead": 0,
           "arrowwidth": 1
          },
          "autotypenumbers": "strict",
          "coloraxis": {
           "colorbar": {
            "outlinewidth": 0,
            "ticks": ""
           }
          },
          "colorscale": {
           "diverging": [
            [
             0,
             "#8e0152"
            ],
            [
             0.1,
             "#c51b7d"
            ],
            [
             0.2,
             "#de77ae"
            ],
            [
             0.3,
             "#f1b6da"
            ],
            [
             0.4,
             "#fde0ef"
            ],
            [
             0.5,
             "#f7f7f7"
            ],
            [
             0.6,
             "#e6f5d0"
            ],
            [
             0.7,
             "#b8e186"
            ],
            [
             0.8,
             "#7fbc41"
            ],
            [
             0.9,
             "#4d9221"
            ],
            [
             1,
             "#276419"
            ]
           ],
           "sequential": [
            [
             0,
             "#0d0887"
            ],
            [
             0.1111111111111111,
             "#46039f"
            ],
            [
             0.2222222222222222,
             "#7201a8"
            ],
            [
             0.3333333333333333,
             "#9c179e"
            ],
            [
             0.4444444444444444,
             "#bd3786"
            ],
            [
             0.5555555555555556,
             "#d8576b"
            ],
            [
             0.6666666666666666,
             "#ed7953"
            ],
            [
             0.7777777777777778,
             "#fb9f3a"
            ],
            [
             0.8888888888888888,
             "#fdca26"
            ],
            [
             1,
             "#f0f921"
            ]
           ],
           "sequentialminus": [
            [
             0,
             "#0d0887"
            ],
            [
             0.1111111111111111,
             "#46039f"
            ],
            [
             0.2222222222222222,
             "#7201a8"
            ],
            [
             0.3333333333333333,
             "#9c179e"
            ],
            [
             0.4444444444444444,
             "#bd3786"
            ],
            [
             0.5555555555555556,
             "#d8576b"
            ],
            [
             0.6666666666666666,
             "#ed7953"
            ],
            [
             0.7777777777777778,
             "#fb9f3a"
            ],
            [
             0.8888888888888888,
             "#fdca26"
            ],
            [
             1,
             "#f0f921"
            ]
           ]
          },
          "colorway": [
           "#636efa",
           "#EF553B",
           "#00cc96",
           "#ab63fa",
           "#FFA15A",
           "#19d3f3",
           "#FF6692",
           "#B6E880",
           "#FF97FF",
           "#FECB52"
          ],
          "font": {
           "color": "#2a3f5f"
          },
          "geo": {
           "bgcolor": "white",
           "lakecolor": "white",
           "landcolor": "#E5ECF6",
           "showlakes": true,
           "showland": true,
           "subunitcolor": "white"
          },
          "hoverlabel": {
           "align": "left"
          },
          "hovermode": "closest",
          "mapbox": {
           "style": "light"
          },
          "paper_bgcolor": "white",
          "plot_bgcolor": "#E5ECF6",
          "polar": {
           "angularaxis": {
            "gridcolor": "white",
            "linecolor": "white",
            "ticks": ""
           },
           "bgcolor": "#E5ECF6",
           "radialaxis": {
            "gridcolor": "white",
            "linecolor": "white",
            "ticks": ""
           }
          },
          "scene": {
           "xaxis": {
            "backgroundcolor": "#E5ECF6",
            "gridcolor": "white",
            "gridwidth": 2,
            "linecolor": "white",
            "showbackground": true,
            "ticks": "",
            "zerolinecolor": "white"
           },
           "yaxis": {
            "backgroundcolor": "#E5ECF6",
            "gridcolor": "white",
            "gridwidth": 2,
            "linecolor": "white",
            "showbackground": true,
            "ticks": "",
            "zerolinecolor": "white"
           },
           "zaxis": {
            "backgroundcolor": "#E5ECF6",
            "gridcolor": "white",
            "gridwidth": 2,
            "linecolor": "white",
            "showbackground": true,
            "ticks": "",
            "zerolinecolor": "white"
           }
          },
          "shapedefaults": {
           "line": {
            "color": "#2a3f5f"
           }
          },
          "ternary": {
           "aaxis": {
            "gridcolor": "white",
            "linecolor": "white",
            "ticks": ""
           },
           "baxis": {
            "gridcolor": "white",
            "linecolor": "white",
            "ticks": ""
           },
           "bgcolor": "#E5ECF6",
           "caxis": {
            "gridcolor": "white",
            "linecolor": "white",
            "ticks": ""
           }
          },
          "title": {
           "x": 0.05
          },
          "xaxis": {
           "automargin": true,
           "gridcolor": "white",
           "linecolor": "white",
           "ticks": "",
           "title": {
            "standoff": 15
           },
           "zerolinecolor": "white",
           "zerolinewidth": 2
          },
          "yaxis": {
           "automargin": true,
           "gridcolor": "white",
           "linecolor": "white",
           "ticks": "",
           "title": {
            "standoff": 15
           },
           "zerolinecolor": "white",
           "zerolinewidth": 2
          }
         }
        },
        "title": {
         "text": "Top 20 words in reviews"
        },
        "xaxis": {
         "anchor": "y",
         "domain": [
          0,
          1
         ],
         "title": {
          "text": "index"
         }
        },
        "yaxis": {
         "anchor": "x",
         "domain": [
          0,
          1
         ],
         "title": {
          "text": "Count"
         }
        }
       }
      }
     },
     "metadata": {},
     "output_type": "display_data"
    },
    {
     "data": {
      "application/vnd.plotly.v1+json": {
       "config": {
        "plotlyServerURL": "https://plot.ly"
       },
       "data": [
        {
         "alignmentgroup": "True",
         "hovertemplate": "index=%{x}<br>Count=%{y}<br>color=%{marker.color}<extra></extra>",
         "legendgroup": "",
         "marker": {
          "color": [
           -0.0830695626001259,
           -0.07422030207763826,
           -0.07384161785848713,
           -0.06752803369097095,
           -0.0665121994664164,
           -0.0576948467832517,
           -0.0525995145064244,
           -0.05183305763844658,
           -0.04651914584215076,
           -0.04411893961685624,
           0.014057383108266071,
           0.014079214442231333,
           0.01473770505520657,
           0.015052602728884822,
           0.02100951930855534,
           0.02410146396694616,
           0.024311367748075848,
           0.03767227573294668,
           0.048675621262108795,
           0.052213300273531764
          ],
          "coloraxis": "coloraxis",
          "pattern": {
           "shape": ""
          }
         },
         "name": "",
         "offsetgroup": "",
         "orientation": "v",
         "showlegend": false,
         "textposition": "auto",
         "type": "bar",
         "x": [
          "rude",
          "tasted like",
          "excited try",
          "okay",
          "worst",
          "terrible",
          "ok",
          "disappointing",
          "downhill",
          "mediocre",
          "disappoint",
          "excellent",
          "tokyo",
          "wow",
          "great",
          "delicious",
          "paris",
          "favorite",
          "best",
          "amazing"
         ],
         "xaxis": "x",
         "y": [
          -0.0830695626001259,
          -0.07422030207763826,
          -0.07384161785848713,
          -0.06752803369097095,
          -0.0665121994664164,
          -0.0576948467832517,
          -0.0525995145064244,
          -0.05183305763844658,
          -0.04651914584215076,
          -0.04411893961685624,
          0.014057383108266071,
          0.014079214442231333,
          0.01473770505520657,
          0.015052602728884822,
          0.02100951930855534,
          0.02410146396694616,
          0.024311367748075848,
          0.03767227573294668,
          0.048675621262108795,
          0.052213300273531764
         ],
         "yaxis": "y"
        }
       ],
       "layout": {
        "barmode": "relative",
        "coloraxis": {
         "colorbar": {
          "title": {
           "text": "color"
          }
         },
         "colorscale": [
          [
           0,
           "#0d0887"
          ],
          [
           0.1111111111111111,
           "#46039f"
          ],
          [
           0.2222222222222222,
           "#7201a8"
          ],
          [
           0.3333333333333333,
           "#9c179e"
          ],
          [
           0.4444444444444444,
           "#bd3786"
          ],
          [
           0.5555555555555556,
           "#d8576b"
          ],
          [
           0.6666666666666666,
           "#ed7953"
          ],
          [
           0.7777777777777778,
           "#fb9f3a"
          ],
          [
           0.8888888888888888,
           "#fdca26"
          ],
          [
           1,
           "#f0f921"
          ]
         ]
        },
        "legend": {
         "tracegroupgap": 0
        },
        "template": {
         "data": {
          "bar": [
           {
            "error_x": {
             "color": "#2a3f5f"
            },
            "error_y": {
             "color": "#2a3f5f"
            },
            "marker": {
             "line": {
              "color": "#E5ECF6",
              "width": 0.5
             },
             "pattern": {
              "fillmode": "overlay",
              "size": 10,
              "solidity": 0.2
             }
            },
            "type": "bar"
           }
          ],
          "barpolar": [
           {
            "marker": {
             "line": {
              "color": "#E5ECF6",
              "width": 0.5
             },
             "pattern": {
              "fillmode": "overlay",
              "size": 10,
              "solidity": 0.2
             }
            },
            "type": "barpolar"
           }
          ],
          "carpet": [
           {
            "aaxis": {
             "endlinecolor": "#2a3f5f",
             "gridcolor": "white",
             "linecolor": "white",
             "minorgridcolor": "white",
             "startlinecolor": "#2a3f5f"
            },
            "baxis": {
             "endlinecolor": "#2a3f5f",
             "gridcolor": "white",
             "linecolor": "white",
             "minorgridcolor": "white",
             "startlinecolor": "#2a3f5f"
            },
            "type": "carpet"
           }
          ],
          "choropleth": [
           {
            "colorbar": {
             "outlinewidth": 0,
             "ticks": ""
            },
            "type": "choropleth"
           }
          ],
          "contour": [
           {
            "colorbar": {
             "outlinewidth": 0,
             "ticks": ""
            },
            "colorscale": [
             [
              0,
              "#0d0887"
             ],
             [
              0.1111111111111111,
              "#46039f"
             ],
             [
              0.2222222222222222,
              "#7201a8"
             ],
             [
              0.3333333333333333,
              "#9c179e"
             ],
             [
              0.4444444444444444,
              "#bd3786"
             ],
             [
              0.5555555555555556,
              "#d8576b"
             ],
             [
              0.6666666666666666,
              "#ed7953"
             ],
             [
              0.7777777777777778,
              "#fb9f3a"
             ],
             [
              0.8888888888888888,
              "#fdca26"
             ],
             [
              1,
              "#f0f921"
             ]
            ],
            "type": "contour"
           }
          ],
          "contourcarpet": [
           {
            "colorbar": {
             "outlinewidth": 0,
             "ticks": ""
            },
            "type": "contourcarpet"
           }
          ],
          "heatmap": [
           {
            "colorbar": {
             "outlinewidth": 0,
             "ticks": ""
            },
            "colorscale": [
             [
              0,
              "#0d0887"
             ],
             [
              0.1111111111111111,
              "#46039f"
             ],
             [
              0.2222222222222222,
              "#7201a8"
             ],
             [
              0.3333333333333333,
              "#9c179e"
             ],
             [
              0.4444444444444444,
              "#bd3786"
             ],
             [
              0.5555555555555556,
              "#d8576b"
             ],
             [
              0.6666666666666666,
              "#ed7953"
             ],
             [
              0.7777777777777778,
              "#fb9f3a"
             ],
             [
              0.8888888888888888,
              "#fdca26"
             ],
             [
              1,
              "#f0f921"
             ]
            ],
            "type": "heatmap"
           }
          ],
          "heatmapgl": [
           {
            "colorbar": {
             "outlinewidth": 0,
             "ticks": ""
            },
            "colorscale": [
             [
              0,
              "#0d0887"
             ],
             [
              0.1111111111111111,
              "#46039f"
             ],
             [
              0.2222222222222222,
              "#7201a8"
             ],
             [
              0.3333333333333333,
              "#9c179e"
             ],
             [
              0.4444444444444444,
              "#bd3786"
             ],
             [
              0.5555555555555556,
              "#d8576b"
             ],
             [
              0.6666666666666666,
              "#ed7953"
             ],
             [
              0.7777777777777778,
              "#fb9f3a"
             ],
             [
              0.8888888888888888,
              "#fdca26"
             ],
             [
              1,
              "#f0f921"
             ]
            ],
            "type": "heatmapgl"
           }
          ],
          "histogram": [
           {
            "marker": {
             "pattern": {
              "fillmode": "overlay",
              "size": 10,
              "solidity": 0.2
             }
            },
            "type": "histogram"
           }
          ],
          "histogram2d": [
           {
            "colorbar": {
             "outlinewidth": 0,
             "ticks": ""
            },
            "colorscale": [
             [
              0,
              "#0d0887"
             ],
             [
              0.1111111111111111,
              "#46039f"
             ],
             [
              0.2222222222222222,
              "#7201a8"
             ],
             [
              0.3333333333333333,
              "#9c179e"
             ],
             [
              0.4444444444444444,
              "#bd3786"
             ],
             [
              0.5555555555555556,
              "#d8576b"
             ],
             [
              0.6666666666666666,
              "#ed7953"
             ],
             [
              0.7777777777777778,
              "#fb9f3a"
             ],
             [
              0.8888888888888888,
              "#fdca26"
             ],
             [
              1,
              "#f0f921"
             ]
            ],
            "type": "histogram2d"
           }
          ],
          "histogram2dcontour": [
           {
            "colorbar": {
             "outlinewidth": 0,
             "ticks": ""
            },
            "colorscale": [
             [
              0,
              "#0d0887"
             ],
             [
              0.1111111111111111,
              "#46039f"
             ],
             [
              0.2222222222222222,
              "#7201a8"
             ],
             [
              0.3333333333333333,
              "#9c179e"
             ],
             [
              0.4444444444444444,
              "#bd3786"
             ],
             [
              0.5555555555555556,
              "#d8576b"
             ],
             [
              0.6666666666666666,
              "#ed7953"
             ],
             [
              0.7777777777777778,
              "#fb9f3a"
             ],
             [
              0.8888888888888888,
              "#fdca26"
             ],
             [
              1,
              "#f0f921"
             ]
            ],
            "type": "histogram2dcontour"
           }
          ],
          "mesh3d": [
           {
            "colorbar": {
             "outlinewidth": 0,
             "ticks": ""
            },
            "type": "mesh3d"
           }
          ],
          "parcoords": [
           {
            "line": {
             "colorbar": {
              "outlinewidth": 0,
              "ticks": ""
             }
            },
            "type": "parcoords"
           }
          ],
          "pie": [
           {
            "automargin": true,
            "type": "pie"
           }
          ],
          "scatter": [
           {
            "marker": {
             "colorbar": {
              "outlinewidth": 0,
              "ticks": ""
             }
            },
            "type": "scatter"
           }
          ],
          "scatter3d": [
           {
            "line": {
             "colorbar": {
              "outlinewidth": 0,
              "ticks": ""
             }
            },
            "marker": {
             "colorbar": {
              "outlinewidth": 0,
              "ticks": ""
             }
            },
            "type": "scatter3d"
           }
          ],
          "scattercarpet": [
           {
            "marker": {
             "colorbar": {
              "outlinewidth": 0,
              "ticks": ""
             }
            },
            "type": "scattercarpet"
           }
          ],
          "scattergeo": [
           {
            "marker": {
             "colorbar": {
              "outlinewidth": 0,
              "ticks": ""
             }
            },
            "type": "scattergeo"
           }
          ],
          "scattergl": [
           {
            "marker": {
             "colorbar": {
              "outlinewidth": 0,
              "ticks": ""
             }
            },
            "type": "scattergl"
           }
          ],
          "scattermapbox": [
           {
            "marker": {
             "colorbar": {
              "outlinewidth": 0,
              "ticks": ""
             }
            },
            "type": "scattermapbox"
           }
          ],
          "scatterpolar": [
           {
            "marker": {
             "colorbar": {
              "outlinewidth": 0,
              "ticks": ""
             }
            },
            "type": "scatterpolar"
           }
          ],
          "scatterpolargl": [
           {
            "marker": {
             "colorbar": {
              "outlinewidth": 0,
              "ticks": ""
             }
            },
            "type": "scatterpolargl"
           }
          ],
          "scatterternary": [
           {
            "marker": {
             "colorbar": {
              "outlinewidth": 0,
              "ticks": ""
             }
            },
            "type": "scatterternary"
           }
          ],
          "surface": [
           {
            "colorbar": {
             "outlinewidth": 0,
             "ticks": ""
            },
            "colorscale": [
             [
              0,
              "#0d0887"
             ],
             [
              0.1111111111111111,
              "#46039f"
             ],
             [
              0.2222222222222222,
              "#7201a8"
             ],
             [
              0.3333333333333333,
              "#9c179e"
             ],
             [
              0.4444444444444444,
              "#bd3786"
             ],
             [
              0.5555555555555556,
              "#d8576b"
             ],
             [
              0.6666666666666666,
              "#ed7953"
             ],
             [
              0.7777777777777778,
              "#fb9f3a"
             ],
             [
              0.8888888888888888,
              "#fdca26"
             ],
             [
              1,
              "#f0f921"
             ]
            ],
            "type": "surface"
           }
          ],
          "table": [
           {
            "cells": {
             "fill": {
              "color": "#EBF0F8"
             },
             "line": {
              "color": "white"
             }
            },
            "header": {
             "fill": {
              "color": "#C8D4E3"
             },
             "line": {
              "color": "white"
             }
            },
            "type": "table"
           }
          ]
         },
         "layout": {
          "annotationdefaults": {
           "arrowcolor": "#2a3f5f",
           "arrowhead": 0,
           "arrowwidth": 1
          },
          "autotypenumbers": "strict",
          "coloraxis": {
           "colorbar": {
            "outlinewidth": 0,
            "ticks": ""
           }
          },
          "colorscale": {
           "diverging": [
            [
             0,
             "#8e0152"
            ],
            [
             0.1,
             "#c51b7d"
            ],
            [
             0.2,
             "#de77ae"
            ],
            [
             0.3,
             "#f1b6da"
            ],
            [
             0.4,
             "#fde0ef"
            ],
            [
             0.5,
             "#f7f7f7"
            ],
            [
             0.6,
             "#e6f5d0"
            ],
            [
             0.7,
             "#b8e186"
            ],
            [
             0.8,
             "#7fbc41"
            ],
            [
             0.9,
             "#4d9221"
            ],
            [
             1,
             "#276419"
            ]
           ],
           "sequential": [
            [
             0,
             "#0d0887"
            ],
            [
             0.1111111111111111,
             "#46039f"
            ],
            [
             0.2222222222222222,
             "#7201a8"
            ],
            [
             0.3333333333333333,
             "#9c179e"
            ],
            [
             0.4444444444444444,
             "#bd3786"
            ],
            [
             0.5555555555555556,
             "#d8576b"
            ],
            [
             0.6666666666666666,
             "#ed7953"
            ],
            [
             0.7777777777777778,
             "#fb9f3a"
            ],
            [
             0.8888888888888888,
             "#fdca26"
            ],
            [
             1,
             "#f0f921"
            ]
           ],
           "sequentialminus": [
            [
             0,
             "#0d0887"
            ],
            [
             0.1111111111111111,
             "#46039f"
            ],
            [
             0.2222222222222222,
             "#7201a8"
            ],
            [
             0.3333333333333333,
             "#9c179e"
            ],
            [
             0.4444444444444444,
             "#bd3786"
            ],
            [
             0.5555555555555556,
             "#d8576b"
            ],
            [
             0.6666666666666666,
             "#ed7953"
            ],
            [
             0.7777777777777778,
             "#fb9f3a"
            ],
            [
             0.8888888888888888,
             "#fdca26"
            ],
            [
             1,
             "#f0f921"
            ]
           ]
          },
          "colorway": [
           "#636efa",
           "#EF553B",
           "#00cc96",
           "#ab63fa",
           "#FFA15A",
           "#19d3f3",
           "#FF6692",
           "#B6E880",
           "#FF97FF",
           "#FECB52"
          ],
          "font": {
           "color": "#2a3f5f"
          },
          "geo": {
           "bgcolor": "white",
           "lakecolor": "white",
           "landcolor": "#E5ECF6",
           "showlakes": true,
           "showland": true,
           "subunitcolor": "white"
          },
          "hoverlabel": {
           "align": "left"
          },
          "hovermode": "closest",
          "mapbox": {
           "style": "light"
          },
          "paper_bgcolor": "white",
          "plot_bgcolor": "#E5ECF6",
          "polar": {
           "angularaxis": {
            "gridcolor": "white",
            "linecolor": "white",
            "ticks": ""
           },
           "bgcolor": "#E5ECF6",
           "radialaxis": {
            "gridcolor": "white",
            "linecolor": "white",
            "ticks": ""
           }
          },
          "scene": {
           "xaxis": {
            "backgroundcolor": "#E5ECF6",
            "gridcolor": "white",
            "gridwidth": 2,
            "linecolor": "white",
            "showbackground": true,
            "ticks": "",
            "zerolinecolor": "white"
           },
           "yaxis": {
            "backgroundcolor": "#E5ECF6",
            "gridcolor": "white",
            "gridwidth": 2,
            "linecolor": "white",
            "showbackground": true,
            "ticks": "",
            "zerolinecolor": "white"
           },
           "zaxis": {
            "backgroundcolor": "#E5ECF6",
            "gridcolor": "white",
            "gridwidth": 2,
            "linecolor": "white",
            "showbackground": true,
            "ticks": "",
            "zerolinecolor": "white"
           }
          },
          "shapedefaults": {
           "line": {
            "color": "#2a3f5f"
           }
          },
          "ternary": {
           "aaxis": {
            "gridcolor": "white",
            "linecolor": "white",
            "ticks": ""
           },
           "baxis": {
            "gridcolor": "white",
            "linecolor": "white",
            "ticks": ""
           },
           "bgcolor": "#E5ECF6",
           "caxis": {
            "gridcolor": "white",
            "linecolor": "white",
            "ticks": ""
           }
          },
          "title": {
           "x": 0.05
          },
          "xaxis": {
           "automargin": true,
           "gridcolor": "white",
           "linecolor": "white",
           "ticks": "",
           "title": {
            "standoff": 15
           },
           "zerolinecolor": "white",
           "zerolinewidth": 2
          },
          "yaxis": {
           "automargin": true,
           "gridcolor": "white",
           "linecolor": "white",
           "ticks": "",
           "title": {
            "standoff": 15
           },
           "zerolinecolor": "white",
           "zerolinewidth": 2
          }
         }
        },
        "title": {
         "text": "Top 20 words in reviews"
        },
        "xaxis": {
         "anchor": "y",
         "domain": [
          0,
          1
         ],
         "title": {
          "text": "index"
         }
        },
        "yaxis": {
         "anchor": "x",
         "domain": [
          0,
          1
         ],
         "title": {
          "text": "Count"
         }
        }
       }
      }
     },
     "metadata": {},
     "output_type": "display_data"
    },
    {
     "data": {
      "application/vnd.plotly.v1+json": {
       "config": {
        "plotlyServerURL": "https://plot.ly"
       },
       "data": [
        {
         "alignmentgroup": "True",
         "hovertemplate": "color=4.0<br>Actual=%{x}<br>Predicted=%{y}<extra></extra>",
         "legendgroup": "4.0",
         "marker": {
          "color": "#636efa"
         },
         "name": "4.0",
         "notched": false,
         "offsetgroup": "4.0",
         "orientation": "v",
         "showlegend": true,
         "type": "box",
         "x": [
          4,
          4,
          4,
          4,
          4,
          4,
          4,
          4,
          4,
          4,
          4,
          4,
          4,
          4,
          4,
          4,
          4,
          4,
          4,
          4,
          4,
          4,
          4,
          4,
          4,
          4,
          4,
          4,
          4,
          4,
          4,
          4,
          4,
          4,
          4,
          4,
          4,
          4,
          4,
          4,
          4,
          4,
          4,
          4,
          4,
          4,
          4,
          4,
          4,
          4,
          4,
          4,
          4,
          4,
          4,
          4,
          4,
          4,
          4,
          4,
          4,
          4,
          4,
          4,
          4,
          4,
          4,
          4,
          4,
          4,
          4,
          4,
          4,
          4,
          4,
          4,
          4,
          4,
          4,
          4,
          4,
          4,
          4,
          4,
          4,
          4,
          4,
          4,
          4,
          4,
          4,
          4,
          4,
          4,
          4,
          4,
          4,
          4,
          4,
          4,
          4,
          4,
          4,
          4,
          4,
          4,
          4,
          4,
          4,
          4,
          4,
          4,
          4,
          4,
          4,
          4,
          4,
          4,
          4,
          4,
          4,
          4,
          4,
          4,
          4,
          4,
          4,
          4,
          4,
          4,
          4,
          4,
          4,
          4,
          4,
          4,
          4,
          4,
          4,
          4,
          4,
          4,
          4,
          4,
          4,
          4,
          4,
          4,
          4,
          4,
          4,
          4,
          4,
          4,
          4,
          4,
          4,
          4,
          4,
          4,
          4,
          4,
          4,
          4,
          4,
          4,
          4,
          4,
          4,
          4,
          4,
          4,
          4,
          4,
          4,
          4,
          4,
          4,
          4,
          4,
          4,
          4,
          4,
          4,
          4,
          4,
          4,
          4,
          4
         ],
         "x0": " ",
         "xaxis": "x",
         "y": [
          4.583977691266453,
          4.423748488045351,
          4.310154363804328,
          4.468519049841442,
          4.320799537511523,
          4.498031987680686,
          4.423748488045351,
          4.380049100503524,
          4.226131016320056,
          4.370992393010465,
          4.446208640305099,
          4.464900160128762,
          4.423748488045351,
          4.393290087600902,
          4.686537207352029,
          4.423748488045351,
          4.632054151882496,
          4.519710838765905,
          4.423748488045351,
          4.521632740954363,
          4.31835617791934,
          4.411451080222982,
          4.452009054681665,
          4.393290087600902,
          4.423748488045351,
          4.451477622765747,
          4.420897271516796,
          4.409257355846532,
          3.799143094104253,
          4.423748488045351,
          4.345949300446364,
          4.517770412008347,
          4.339880609845596,
          4.472690614499856,
          4.423748488045351,
          4.4468804962167265,
          4.51685962223735,
          4.059540631139516,
          4.423748488045351,
          4.51457441161775,
          4.390062747202434,
          3.469548850136201,
          4.448723508720466,
          3.928054721008103,
          4.423748488045351,
          4.464900160128762,
          4.3065990587635214,
          4.424667833078705,
          4.423748488045351,
          4.512791745829174,
          4.442232214055409,
          3.3446115802306142,
          4.501632102111106,
          4.356054572644327,
          4.474753915280438,
          4.571724859362626,
          4.257042314216955,
          4.472690614499856,
          4.498031987680686,
          4.369379760534336,
          4.306570992872594,
          4.423748488045351,
          4.4698393979713025,
          4.317092239301884,
          4.423748488045351,
          4.345949300446364,
          4.567723650880314,
          4.472690614499856,
          3.8558011656184865,
          4.393290087600902,
          4.423748488045351,
          4.423748488045351,
          4.472690614499856,
          4.472690614499856,
          4.662550782935026,
          4.415426922445511,
          4.619434088275445,
          4.404996699098834,
          4.423748488045351,
          4.423748488045351,
          4.488528998872427,
          4.563529009843737,
          4.423748488045351,
          4.423748488045351,
          4.407656284419417,
          4.393290087600902,
          4.336700784928437,
          4.423748488045351,
          4.540939368987522,
          3.9458123104345324,
          4.472690614499856,
          4.345949300446364,
          4.078025833045491,
          4.423748488045351,
          4.570519734174081,
          4.284452119815965,
          4.423748488045351,
          4.423748488045351,
          4.423748488045351,
          4.393290087600902,
          4.370370470398059,
          4.190350925248391,
          4.393290087600902,
          4.56865296522041,
          4.423748488045351,
          3.930447377648038,
          4.423748488045351,
          4.423748488045351,
          4.422803356621945,
          4.423748488045351,
          4.458815582136369,
          4.489273982580817,
          4.545517058562583,
          4.423748488045351,
          4.393290087600902,
          4.51457441161775,
          4.128984194406686,
          4.288360657243304,
          4.423748488045351,
          4.7525912523338825,
          4.466988181442748,
          4.563516538072256,
          4.423748488045351,
          4.390062747202434,
          4.423748488045351,
          4.461550743707048,
          4.423748488045351,
          4.423748488045351,
          4.472690614499856,
          3.776004113137167,
          4.4445530958731165,
          4.4698393979713025,
          4.4875969873977315,
          4.619434088275445,
          4.423748488045351,
          4.215741245751232,
          4.4875969873977315,
          4.423748488045351,
          4.393290087600902,
          3.2356382971169273,
          4.013380698605872,
          2.8111169124991457,
          4.45486027121022,
          4.333704808136148,
          4.387211530673879,
          4.423748488045351,
          4.359604346757985,
          4.551866065413671,
          4.423748488045351,
          4.472690614499856,
          4.423748488045351,
          4.398536880326049,
          4.423748488045351,
          4.423748488045351,
          4.393290087600902,
          4.586631232260501,
          4.39073151491239,
          4.5974971583940984,
          4.423748488045351,
          4.480733182937166,
          4.423748488045351,
          4.41807106927481,
          4.472690614499856,
          4.519710838765905,
          4.29578709442667,
          4.423748488045351,
          4.472690614499856,
          4.423748488045351,
          4.472690614499856,
          4.269033009633032,
          4.386325032046989,
          4.762052256159681,
          4.350989875019513,
          4.420897271516796,
          4.423748488045351,
          4.495075895397902,
          4.390062747202434,
          4.423748488045351,
          3.8394874469383176,
          4.423748488045351,
          4.476212834377251,
          4.600979300158609,
          4.519710838765905,
          4.423748488045351,
          4.423748488045351,
          4.423748488045351,
          4.268236798842564,
          4.498031987680686,
          4.423748488045351
         ],
         "y0": " ",
         "yaxis": "y"
        },
        {
         "alignmentgroup": "True",
         "hovertemplate": "color=5.0<br>Actual=%{x}<br>Predicted=%{y}<extra></extra>",
         "legendgroup": "5.0",
         "marker": {
          "color": "#EF553B"
         },
         "name": "5.0",
         "notched": false,
         "offsetgroup": "5.0",
         "orientation": "v",
         "showlegend": true,
         "type": "box",
         "x": [
          5,
          5,
          5,
          5,
          5,
          5,
          5,
          5,
          5,
          5,
          5,
          5,
          5,
          5,
          5,
          5,
          5,
          5,
          5,
          5,
          5,
          5,
          5,
          5,
          5,
          5,
          5,
          5,
          5,
          5,
          5,
          5,
          5,
          5,
          5,
          5,
          5,
          5,
          5,
          5,
          5,
          5,
          5,
          5,
          5,
          5,
          5,
          5,
          5,
          5,
          5,
          5,
          5,
          5,
          5,
          5,
          5,
          5,
          5,
          5,
          5,
          5,
          5,
          5,
          5,
          5,
          5,
          5,
          5,
          5,
          5,
          5,
          5,
          5,
          5,
          5,
          5,
          5,
          5,
          5,
          5,
          5,
          5,
          5,
          5,
          5,
          5,
          5,
          5,
          5,
          5,
          5,
          5,
          5,
          5,
          5,
          5,
          5,
          5,
          5,
          5,
          5,
          5,
          5,
          5,
          5,
          5,
          5,
          5,
          5,
          5,
          5,
          5,
          5,
          5,
          5,
          5,
          5,
          5,
          5,
          5,
          5,
          5,
          5,
          5,
          5,
          5,
          5,
          5,
          5,
          5,
          5,
          5,
          5,
          5,
          5,
          5,
          5,
          5,
          5,
          5,
          5,
          5,
          5,
          5,
          5,
          5,
          5,
          5,
          5,
          5,
          5,
          5,
          5,
          5,
          5,
          5,
          5,
          5,
          5,
          5,
          5,
          5,
          5,
          5,
          5,
          5,
          5,
          5,
          5,
          5,
          5,
          5,
          5,
          5,
          5,
          5,
          5,
          5,
          5,
          5,
          5,
          5,
          5,
          5,
          5,
          5,
          5,
          5,
          5,
          5,
          5,
          5,
          5,
          5,
          5,
          5,
          5,
          5,
          5,
          5,
          5,
          5,
          5,
          5,
          5,
          5,
          5,
          5,
          5,
          5,
          5,
          5,
          5,
          5,
          5,
          5,
          5,
          5,
          5,
          5,
          5,
          5,
          5,
          5,
          5,
          5,
          5,
          5,
          5,
          5,
          5,
          5,
          5,
          5,
          5,
          5,
          5,
          5,
          5,
          5,
          5,
          5,
          5,
          5,
          5,
          5,
          5,
          5,
          5,
          5,
          5,
          5,
          5,
          5,
          5,
          5,
          5,
          5,
          5,
          5,
          5,
          5,
          5,
          5,
          5,
          5,
          5,
          5,
          5,
          5,
          5,
          5,
          5,
          5,
          5,
          5,
          5,
          5,
          5,
          5,
          5,
          5,
          5,
          5,
          5,
          5,
          5,
          5,
          5,
          5,
          5,
          5,
          5,
          5,
          5,
          5,
          5,
          5,
          5,
          5,
          5,
          5,
          5,
          5,
          5,
          5,
          5,
          5,
          5,
          5,
          5,
          5,
          5,
          5,
          5,
          5,
          5,
          5,
          5,
          5,
          5,
          5,
          5,
          5,
          5,
          5,
          5,
          5,
          5,
          5,
          5,
          5,
          5,
          5,
          5,
          5,
          5,
          5,
          5,
          5,
          5,
          5,
          5,
          5,
          5,
          5,
          5,
          5,
          5,
          5,
          5,
          5,
          5,
          5,
          5,
          5,
          5,
          5,
          5,
          5,
          5,
          5,
          5,
          5,
          5,
          5,
          5,
          5,
          5,
          5,
          5,
          5,
          5,
          5,
          5,
          5,
          5,
          5,
          5,
          5,
          5,
          5,
          5,
          5,
          5,
          5,
          5,
          5,
          5,
          5,
          5,
          5,
          5,
          5,
          5,
          5,
          5,
          5,
          5,
          5,
          5,
          5,
          5,
          5,
          5,
          5,
          5,
          5,
          5,
          5,
          5,
          5,
          5,
          5,
          5,
          5,
          5,
          5,
          5,
          5,
          5,
          5,
          5,
          5,
          5,
          5,
          5,
          5,
          5,
          5,
          5,
          5,
          5,
          5,
          5,
          5,
          5,
          5,
          5,
          5,
          5,
          5,
          5,
          5,
          5,
          5,
          5,
          5,
          5
         ],
         "x0": " ",
         "xaxis": "x",
         "y": [
          4.494499231046603,
          4.670741314894634,
          4.5377472520856665,
          4.540939368987522,
          4.519710838765905,
          4.423748488045351,
          4.423748488045351,
          4.423748488045351,
          4.620004918156088,
          4.423748488045351,
          4.045678838734165,
          4.423748488045351,
          4.59059093342816,
          4.489273982580817,
          2.670368747779231,
          4.529480784515625,
          4.228982232848611,
          4.705930968331659,
          4.423748488045351,
          4.6144360917109015,
          4.436197468907739,
          4.515597995806693,
          4.509563250659023,
          4.318117324269479,
          4.472690614499856,
          4.472690614499856,
          4.6144360917109015,
          4.472690614499856,
          4.393290087600902,
          4.420897271516796,
          4.423748488045351,
          4.472690614499856,
          4.423748488045351,
          4.388944502305099,
          4.498031987680686,
          4.423748488045351,
          4.423748488045351,
          4.763891252760208,
          4.609534694135,
          4.320799537511523,
          4.3667478442832905,
          4.519710838765905,
          4.423748488045351,
          4.619434088275445,
          4.914502978124725,
          4.467013195729316,
          4.393290087600902,
          4.423748488045351,
          4.446133768943397,
          4.423748488045351,
          4.546168621521466,
          4.710398442431456,
          4.619434088275445,
          4.720837341229534,
          4.489273982580817,
          4.660055160291457,
          4.4833767691030335,
          4.541166805323854,
          4.616948084225004,
          4.434441759684314,
          4.489252438321457,
          4.159460433754853,
          4.423748488045351,
          4.4833767691030335,
          4.472690614499856,
          4.423748488045351,
          4.42822125971553,
          4.423748488045351,
          4.746508222160868,
          4.443713081567488,
          4.423748488045351,
          4.606193101178066,
          4.446133768943397,
          4.4143724567407805,
          4.35388615177877,
          4.659031576102514,
          4.423748488045351,
          4.29211579841421,
          4.356054572644327,
          4.5585172873865485,
          4.521632740954363,
          4.5556133612762055,
          4.619434088275445,
          4.4228403072940035,
          4.221970923459671,
          4.619434088275445,
          4.423748488045351,
          4.423748488045351,
          4.472690614499856,
          4.562528233759575,
          4.423748488045351,
          4.446133768943397,
          4.642740306485673,
          4.42822125971553,
          4.423748488045351,
          4.369379760534336,
          4.493495222327622,
          4.28244069032384,
          4.531052901230245,
          4.18263649176783,
          4.420897271516796,
          4.540939368987522,
          4.393290087600902,
          4.3065990587635214,
          4.646817641379929,
          4.521632740954363,
          4.423748488045351,
          4.712662817014879,
          4.446133768943397,
          4.721898356902909,
          4.529143770845555,
          4.684064430327088,
          4.760130353971223,
          4.568205652530114,
          4.6007167141395575,
          4.489252438321457,
          4.588975687830996,
          4.19921808440961,
          4.525489446413772,
          4.5439363854923025,
          4.382911552080327,
          4.40581612741363,
          4.604500354495923,
          4.519710838765905,
          4.458815582136369,
          4.669029597450372,
          4.4445530958731165,
          4.628794938815125,
          4.619434088275445,
          4.423748488045351,
          4.56535443600156,
          4.523131777664537,
          4.393290087600902,
          4.356054572644327,
          4.4053845601217025,
          4.710398442431456,
          4.423748488045351,
          4.853559559465267,
          4.518836595508452,
          4.356054572644327,
          4.527475842649465,
          4.423748488045351,
          4.52175146726973,
          4.4468804962167265,
          4.421647305805731,
          4.558829621225544,
          4.306197842171316,
          4.520621628536901,
          4.498031987680686,
          4.423748488045351,
          4.467573587236238,
          3.7979544115761894,
          4.59737553314335,
          4.69371758791078,
          4.423748488045351,
          4.679940041987008,
          4.403729109197978,
          4.423748488045351,
          4.613756669504904,
          4.519710838765905,
          4.51457441161775,
          4.795585563791228,
          4.334845280619316,
          4.423748488045351,
          4.627833933587798,
          4.423748488045351,
          4.521632740954363,
          4.515597995806693,
          4.554136982623545,
          4.453561233841101,
          4.58901026035788,
          4.423748488045351,
          4.423748488045351,
          4.726003490834369,
          4.4604169214363365,
          4.9411220648734675,
          4.5005117371290915,
          4.424401870765771,
          4.5013334245203716,
          4.611584875182347,
          4.6584655701935604,
          4.51457441161775,
          4.4841160111733025,
          4.438654860943226,
          4.476212834377251,
          4.5041813769307995,
          4.426003210065739,
          4.6403786319256675,
          4.506671234821699,
          4.257776825750199,
          4.4228403072940035,
          4.519710838765905,
          4.423748488045351,
          4.519710838765905,
          4.670741314894634,
          4.717023806121008,
          4.754452935200683,
          4.414164109480932,
          4.567965462082724,
          4.5038023976647255,
          4.423748488045351,
          4.393290087600902,
          3.8759506419864085,
          4.5625032194730055,
          4.423748488045351,
          3.9393077680710262,
          4.45486027121022,
          4.423748488045351,
          4.529056515719745,
          4.696798566919059,
          4.406447519210709,
          4.423748488045351,
          4.377522735873777,
          4.568205652530114,
          4.59283308623583,
          4.772291098072563,
          4.423748488045351,
          4.472690614499856,
          4.610450902988457,
          4.3619512095949355,
          4.506469851668526,
          4.464900160128762,
          4.51457441161775,
          4.519710838765905,
          4.247182531178972,
          4.430709506586632,
          4.627833933587798,
          4.423748488045351,
          4.423748488045351,
          4.423748488045351,
          4.434441759684314,
          4.423748488045351,
          4.337029393317042,
          4.621025675945214,
          4.444742395452602,
          4.610536762338304,
          4.45486027121022,
          4.586285410830759,
          4.312263559603447,
          4.51992332233593,
          4.521632740954363,
          4.498031987680686,
          4.536839071334319,
          4.664168003250669,
          4.59737553314335,
          3.941633832107514,
          4.423748488045351,
          4.423748488045351,
          4.568205652530114,
          3.908655516261099,
          4.423748488045351,
          4.423748488045351,
          4.619434088275445,
          4.5910382461184565,
          4.472690614499856,
          3.861826426881205,
          4.7184774180042774,
          4.119610115023261,
          4.4031284121128165,
          4.440456350172856,
          4.51457441161775,
          4.568205652530114,
          4.322744955671325,
          4.420897271516796,
          4.506671234821699,
          4.763003090981572,
          4.356054572644327,
          4.570519734174081,
          4.446133768943397,
          4.5265391918376885,
          3.729075877378697,
          4.5974971583940984,
          4.51457441161775,
          4.657343473017738,
          4.354325441805419,
          4.583977691266453,
          4.505016949438055,
          4.568205652530114,
          4.440711103361494,
          4.436197468907739,
          4.568205652530114,
          4.498031987680686,
          4.710398442431456,
          4.51457441161775,
          4.498031987680686,
          4.8762437187438135,
          4.415675368498948,
          4.423748488045351,
          4.492292825047837,
          4.423748488045351,
          4.380049100503524,
          4.356054572644327,
          4.586689378540173,
          4.345949300446364,
          4.423748488045351,
          4.446133768943397,
          4.442551452700542,
          4.423748488045351,
          4.472690614499856,
          4.823519533817892,
          4.423748488045351,
          4.410507500947972,
          4.712265211385125,
          4.423748488045351,
          4.637845260728013,
          4.467573587236238,
          4.423748488045351,
          4.51457441161775,
          4.71618202384739,
          4.4228403072940035,
          4.51685962223735,
          4.2825160417930395,
          4.4698393979713025,
          4.423748488045351,
          4.501223034317872,
          4.627833933587798,
          4.306197842171316,
          4.423748488045351,
          4.420897271516796,
          4.498031987680686,
          4.320799537511523,
          4.423748488045351,
          4.438654860943226,
          4.710830841728487,
          4.355752938691162,
          4.519710838765905,
          4.378791564559883,
          4.423748488045351,
          4.525154960831757,
          4.5161885634674555,
          4.51457441161775,
          4.6111130338369515,
          4.423748488045351,
          4.51457441161775,
          4.4445530958731165,
          4.359604346757985,
          4.403729109197978,
          4.423748488045351,
          4.704582593077304,
          4.498031987680686,
          4.423748488045351,
          4.51457441161775,
          3.8735983156122797,
          4.51457441161775,
          4.523131777664537,
          4.3948914269008705,
          4.815119688505538,
          4.423748488045351,
          4.423748488045351,
          4.613790437062204,
          4.438654860943226,
          4.489252438321457,
          4.665524998201396,
          4.3065990587635214,
          4.5377472520856665,
          4.498031987680686,
          4.58901026035788,
          4.568205652530114,
          4.423748488045351,
          4.65947888879281,
          4.518781524425808,
          4.60540033519015,
          4.423748488045351,
          4.391543795377455,
          4.571724859362626,
          4.4457544339328035,
          4.4653398689406885,
          4.616583979257456,
          4.767052341717495,
          4.312008989058286,
          4.619434088275445,
          4.398961953951163,
          4.668376214729951,
          4.420897271516796,
          4.423748488045351,
          4.635299864828292,
          4.55918749455607,
          4.472690614499856,
          4.434978699970235,
          4.423748488045351,
          4.4618212897515015,
          4.520621628536901,
          4.5747636837203265,
          4.423748488045351,
          4.716455929879345,
          4.4445530958731165,
          4.585426107071956,
          4.390438871072348,
          4.379138870646022,
          4.446133768943397,
          4.627833933587798,
          4.423748488045351,
          4.446133768943397,
          4.595842873010454,
          4.423748488045351,
          4.572073904119042,
          4.396662360627373,
          4.423748488045351,
          4.472690614499856,
          4.4875969873977315,
          4.414094695428668,
          4.423748488045351,
          4.359604346757985,
          4.409043467812098,
          4.568205652530114,
          4.438654860943226,
          4.423748488045351,
          4.487406058448883,
          4.51457441161775,
          4.423748488045351,
          4.695381411303111,
          4.423748488045351,
          4.339883583014233,
          4.554394522483911,
          4.438654860943226,
          4.300285230967837,
          4.356054572644327,
          4.7079737025570205,
          4.51457441161775,
          4.472690614499856,
          4.423748488045351,
          4.572315487316021,
          4.328352176330459,
          4.423748488045351,
          4.10279399246777,
          4.024503073816459,
          4.443644915121769,
          4.654702532586329,
          4.5013334245203716,
          4.579706488924215,
          4.078025833045491,
          4.619434088275445,
          4.472690614499856,
          4.633731147065581,
          4.423748488045351,
          4.487285441026808,
          4.498031987680686,
          4.519710838765905,
          4.578422910970131,
          4.476212834377251,
          4.423748488045351,
          4.568205652530114,
          4.489273982580817,
          4.423748488045351,
          4.420897271516796,
          4.423748488045351,
          4.606193101178066,
          4.017352715709073,
          4.423748488045351,
          4.438654860943226
         ],
         "y0": " ",
         "yaxis": "y"
        },
        {
         "alignmentgroup": "True",
         "hovertemplate": "color=3.0<br>Actual=%{x}<br>Predicted=%{y}<extra></extra>",
         "legendgroup": "3.0",
         "marker": {
          "color": "#00cc96"
         },
         "name": "3.0",
         "notched": false,
         "offsetgroup": "3.0",
         "orientation": "v",
         "showlegend": true,
         "type": "box",
         "x": [
          3,
          3,
          3,
          3,
          3,
          3,
          3,
          3,
          3,
          3,
          3,
          3,
          3,
          3,
          3,
          3,
          3,
          3,
          3,
          3,
          3,
          3,
          3,
          3,
          3,
          3,
          3,
          3,
          3,
          3,
          3,
          3,
          3,
          3,
          3,
          3,
          3,
          3,
          3,
          3,
          3,
          3,
          3,
          3,
          3,
          3,
          3,
          3,
          3,
          3,
          3,
          3,
          3,
          3,
          3
         ],
         "x0": " ",
         "xaxis": "x",
         "y": [
          4.215741245751232,
          4.423748488045351,
          4.339880609845596,
          3.146544544148751,
          3.9246556645179087,
          4.420897271516796,
          4.420897271516796,
          4.423748488045351,
          4.423748488045351,
          3.9904655712485577,
          4.465256701996288,
          4.420897271516796,
          4.398961953951163,
          4.247182531178972,
          2.9039421054419945,
          4.149030215333502,
          4.489273982580817,
          4.211576981359708,
          3.878543621003207,
          3.9047432920729923,
          4.464346246837769,
          4.3224904529610795,
          3.761541192160435,
          4.393290087600902,
          4.270651730898702,
          3.4209508082214617,
          4.64248915216545,
          4.427316347631577,
          4.484538462406859,
          4.360315229392026,
          4.423748488045351,
          4.378791564559883,
          4.2325356594854355,
          4.423748488045351,
          4.3906447459634155,
          4.246274350427625,
          4.472690614499856,
          3.8515054106377034,
          4.339912069953611,
          3.8558011656184865,
          4.423748488045351,
          4.423748488045351,
          4.551002833057577,
          4.4228403072940035,
          4.300285230967837,
          4.336700784928437,
          4.383914056296332,
          4.423748488045351,
          4.472690614499856,
          4.506671234821699,
          4.360239877922827,
          4.423748488045351,
          4.568205652530114,
          4.423748488045351,
          4.423748488045351
         ],
         "y0": " ",
         "yaxis": "y"
        },
        {
         "alignmentgroup": "True",
         "hovertemplate": "color=1.0<br>Actual=%{x}<br>Predicted=%{y}<extra></extra>",
         "legendgroup": "1.0",
         "marker": {
          "color": "#ab63fa"
         },
         "name": "1.0",
         "notched": false,
         "offsetgroup": "1.0",
         "orientation": "v",
         "showlegend": true,
         "type": "box",
         "x": [
          1,
          1,
          1,
          1,
          1,
          1,
          1,
          1,
          1,
          1,
          1,
          1
         ],
         "x0": " ",
         "xaxis": "x",
         "y": [
          4.262968024140763,
          4.423748488045351,
          4.568205652530114,
          4.320799537511523,
          4.414094695428668,
          4.390062747202434,
          4.520280561135982,
          2.535219609358167,
          4.519710838765905,
          4.423748488045351,
          4.328740739052788,
          4.423748488045351
         ],
         "y0": " ",
         "yaxis": "y"
        },
        {
         "alignmentgroup": "True",
         "hovertemplate": "color=2.0<br>Actual=%{x}<br>Predicted=%{y}<extra></extra>",
         "legendgroup": "2.0",
         "marker": {
          "color": "#FFA15A"
         },
         "name": "2.0",
         "notched": false,
         "offsetgroup": "2.0",
         "orientation": "v",
         "showlegend": true,
         "type": "box",
         "x": [
          2,
          2,
          2,
          2,
          2,
          2,
          2,
          2,
          2,
          2,
          2,
          2,
          2,
          2,
          2,
          2,
          2,
          2,
          2,
          2,
          2,
          2,
          2,
          2,
          2,
          2
         ],
         "x0": " ",
         "xaxis": "x",
         "y": [
          4.452016923364882,
          3.674493489043522,
          4.276140658319074,
          4.228982232848611,
          4.29578709442667,
          4.423748488045351,
          4.423748488045351,
          4.226131016320056,
          4.415675368498948,
          4.420897271516796,
          3.798095932882397,
          4.369379760534336,
          3.4437203714276294,
          4.161288317447587,
          4.530883198236348,
          3.2997498962750953,
          4.423748488045351,
          4.32858060941927,
          4.345949300446364,
          3.9387604765039264,
          4.619434088275445,
          4.7138193813300875,
          4.527475842649465,
          4.423748488045351,
          3.6859825452394124,
          3.309449351528648
         ],
         "y0": " ",
         "yaxis": "y"
        }
       ],
       "layout": {
        "boxmode": "group",
        "legend": {
         "title": {
          "text": "color"
         },
         "tracegroupgap": 0
        },
        "template": {
         "data": {
          "bar": [
           {
            "error_x": {
             "color": "#2a3f5f"
            },
            "error_y": {
             "color": "#2a3f5f"
            },
            "marker": {
             "line": {
              "color": "#E5ECF6",
              "width": 0.5
             },
             "pattern": {
              "fillmode": "overlay",
              "size": 10,
              "solidity": 0.2
             }
            },
            "type": "bar"
           }
          ],
          "barpolar": [
           {
            "marker": {
             "line": {
              "color": "#E5ECF6",
              "width": 0.5
             },
             "pattern": {
              "fillmode": "overlay",
              "size": 10,
              "solidity": 0.2
             }
            },
            "type": "barpolar"
           }
          ],
          "carpet": [
           {
            "aaxis": {
             "endlinecolor": "#2a3f5f",
             "gridcolor": "white",
             "linecolor": "white",
             "minorgridcolor": "white",
             "startlinecolor": "#2a3f5f"
            },
            "baxis": {
             "endlinecolor": "#2a3f5f",
             "gridcolor": "white",
             "linecolor": "white",
             "minorgridcolor": "white",
             "startlinecolor": "#2a3f5f"
            },
            "type": "carpet"
           }
          ],
          "choropleth": [
           {
            "colorbar": {
             "outlinewidth": 0,
             "ticks": ""
            },
            "type": "choropleth"
           }
          ],
          "contour": [
           {
            "colorbar": {
             "outlinewidth": 0,
             "ticks": ""
            },
            "colorscale": [
             [
              0,
              "#0d0887"
             ],
             [
              0.1111111111111111,
              "#46039f"
             ],
             [
              0.2222222222222222,
              "#7201a8"
             ],
             [
              0.3333333333333333,
              "#9c179e"
             ],
             [
              0.4444444444444444,
              "#bd3786"
             ],
             [
              0.5555555555555556,
              "#d8576b"
             ],
             [
              0.6666666666666666,
              "#ed7953"
             ],
             [
              0.7777777777777778,
              "#fb9f3a"
             ],
             [
              0.8888888888888888,
              "#fdca26"
             ],
             [
              1,
              "#f0f921"
             ]
            ],
            "type": "contour"
           }
          ],
          "contourcarpet": [
           {
            "colorbar": {
             "outlinewidth": 0,
             "ticks": ""
            },
            "type": "contourcarpet"
           }
          ],
          "heatmap": [
           {
            "colorbar": {
             "outlinewidth": 0,
             "ticks": ""
            },
            "colorscale": [
             [
              0,
              "#0d0887"
             ],
             [
              0.1111111111111111,
              "#46039f"
             ],
             [
              0.2222222222222222,
              "#7201a8"
             ],
             [
              0.3333333333333333,
              "#9c179e"
             ],
             [
              0.4444444444444444,
              "#bd3786"
             ],
             [
              0.5555555555555556,
              "#d8576b"
             ],
             [
              0.6666666666666666,
              "#ed7953"
             ],
             [
              0.7777777777777778,
              "#fb9f3a"
             ],
             [
              0.8888888888888888,
              "#fdca26"
             ],
             [
              1,
              "#f0f921"
             ]
            ],
            "type": "heatmap"
           }
          ],
          "heatmapgl": [
           {
            "colorbar": {
             "outlinewidth": 0,
             "ticks": ""
            },
            "colorscale": [
             [
              0,
              "#0d0887"
             ],
             [
              0.1111111111111111,
              "#46039f"
             ],
             [
              0.2222222222222222,
              "#7201a8"
             ],
             [
              0.3333333333333333,
              "#9c179e"
             ],
             [
              0.4444444444444444,
              "#bd3786"
             ],
             [
              0.5555555555555556,
              "#d8576b"
             ],
             [
              0.6666666666666666,
              "#ed7953"
             ],
             [
              0.7777777777777778,
              "#fb9f3a"
             ],
             [
              0.8888888888888888,
              "#fdca26"
             ],
             [
              1,
              "#f0f921"
             ]
            ],
            "type": "heatmapgl"
           }
          ],
          "histogram": [
           {
            "marker": {
             "pattern": {
              "fillmode": "overlay",
              "size": 10,
              "solidity": 0.2
             }
            },
            "type": "histogram"
           }
          ],
          "histogram2d": [
           {
            "colorbar": {
             "outlinewidth": 0,
             "ticks": ""
            },
            "colorscale": [
             [
              0,
              "#0d0887"
             ],
             [
              0.1111111111111111,
              "#46039f"
             ],
             [
              0.2222222222222222,
              "#7201a8"
             ],
             [
              0.3333333333333333,
              "#9c179e"
             ],
             [
              0.4444444444444444,
              "#bd3786"
             ],
             [
              0.5555555555555556,
              "#d8576b"
             ],
             [
              0.6666666666666666,
              "#ed7953"
             ],
             [
              0.7777777777777778,
              "#fb9f3a"
             ],
             [
              0.8888888888888888,
              "#fdca26"
             ],
             [
              1,
              "#f0f921"
             ]
            ],
            "type": "histogram2d"
           }
          ],
          "histogram2dcontour": [
           {
            "colorbar": {
             "outlinewidth": 0,
             "ticks": ""
            },
            "colorscale": [
             [
              0,
              "#0d0887"
             ],
             [
              0.1111111111111111,
              "#46039f"
             ],
             [
              0.2222222222222222,
              "#7201a8"
             ],
             [
              0.3333333333333333,
              "#9c179e"
             ],
             [
              0.4444444444444444,
              "#bd3786"
             ],
             [
              0.5555555555555556,
              "#d8576b"
             ],
             [
              0.6666666666666666,
              "#ed7953"
             ],
             [
              0.7777777777777778,
              "#fb9f3a"
             ],
             [
              0.8888888888888888,
              "#fdca26"
             ],
             [
              1,
              "#f0f921"
             ]
            ],
            "type": "histogram2dcontour"
           }
          ],
          "mesh3d": [
           {
            "colorbar": {
             "outlinewidth": 0,
             "ticks": ""
            },
            "type": "mesh3d"
           }
          ],
          "parcoords": [
           {
            "line": {
             "colorbar": {
              "outlinewidth": 0,
              "ticks": ""
             }
            },
            "type": "parcoords"
           }
          ],
          "pie": [
           {
            "automargin": true,
            "type": "pie"
           }
          ],
          "scatter": [
           {
            "marker": {
             "colorbar": {
              "outlinewidth": 0,
              "ticks": ""
             }
            },
            "type": "scatter"
           }
          ],
          "scatter3d": [
           {
            "line": {
             "colorbar": {
              "outlinewidth": 0,
              "ticks": ""
             }
            },
            "marker": {
             "colorbar": {
              "outlinewidth": 0,
              "ticks": ""
             }
            },
            "type": "scatter3d"
           }
          ],
          "scattercarpet": [
           {
            "marker": {
             "colorbar": {
              "outlinewidth": 0,
              "ticks": ""
             }
            },
            "type": "scattercarpet"
           }
          ],
          "scattergeo": [
           {
            "marker": {
             "colorbar": {
              "outlinewidth": 0,
              "ticks": ""
             }
            },
            "type": "scattergeo"
           }
          ],
          "scattergl": [
           {
            "marker": {
             "colorbar": {
              "outlinewidth": 0,
              "ticks": ""
             }
            },
            "type": "scattergl"
           }
          ],
          "scattermapbox": [
           {
            "marker": {
             "colorbar": {
              "outlinewidth": 0,
              "ticks": ""
             }
            },
            "type": "scattermapbox"
           }
          ],
          "scatterpolar": [
           {
            "marker": {
             "colorbar": {
              "outlinewidth": 0,
              "ticks": ""
             }
            },
            "type": "scatterpolar"
           }
          ],
          "scatterpolargl": [
           {
            "marker": {
             "colorbar": {
              "outlinewidth": 0,
              "ticks": ""
             }
            },
            "type": "scatterpolargl"
           }
          ],
          "scatterternary": [
           {
            "marker": {
             "colorbar": {
              "outlinewidth": 0,
              "ticks": ""
             }
            },
            "type": "scatterternary"
           }
          ],
          "surface": [
           {
            "colorbar": {
             "outlinewidth": 0,
             "ticks": ""
            },
            "colorscale": [
             [
              0,
              "#0d0887"
             ],
             [
              0.1111111111111111,
              "#46039f"
             ],
             [
              0.2222222222222222,
              "#7201a8"
             ],
             [
              0.3333333333333333,
              "#9c179e"
             ],
             [
              0.4444444444444444,
              "#bd3786"
             ],
             [
              0.5555555555555556,
              "#d8576b"
             ],
             [
              0.6666666666666666,
              "#ed7953"
             ],
             [
              0.7777777777777778,
              "#fb9f3a"
             ],
             [
              0.8888888888888888,
              "#fdca26"
             ],
             [
              1,
              "#f0f921"
             ]
            ],
            "type": "surface"
           }
          ],
          "table": [
           {
            "cells": {
             "fill": {
              "color": "#EBF0F8"
             },
             "line": {
              "color": "white"
             }
            },
            "header": {
             "fill": {
              "color": "#C8D4E3"
             },
             "line": {
              "color": "white"
             }
            },
            "type": "table"
           }
          ]
         },
         "layout": {
          "annotationdefaults": {
           "arrowcolor": "#2a3f5f",
           "arrowhead": 0,
           "arrowwidth": 1
          },
          "autotypenumbers": "strict",
          "coloraxis": {
           "colorbar": {
            "outlinewidth": 0,
            "ticks": ""
           }
          },
          "colorscale": {
           "diverging": [
            [
             0,
             "#8e0152"
            ],
            [
             0.1,
             "#c51b7d"
            ],
            [
             0.2,
             "#de77ae"
            ],
            [
             0.3,
             "#f1b6da"
            ],
            [
             0.4,
             "#fde0ef"
            ],
            [
             0.5,
             "#f7f7f7"
            ],
            [
             0.6,
             "#e6f5d0"
            ],
            [
             0.7,
             "#b8e186"
            ],
            [
             0.8,
             "#7fbc41"
            ],
            [
             0.9,
             "#4d9221"
            ],
            [
             1,
             "#276419"
            ]
           ],
           "sequential": [
            [
             0,
             "#0d0887"
            ],
            [
             0.1111111111111111,
             "#46039f"
            ],
            [
             0.2222222222222222,
             "#7201a8"
            ],
            [
             0.3333333333333333,
             "#9c179e"
            ],
            [
             0.4444444444444444,
             "#bd3786"
            ],
            [
             0.5555555555555556,
             "#d8576b"
            ],
            [
             0.6666666666666666,
             "#ed7953"
            ],
            [
             0.7777777777777778,
             "#fb9f3a"
            ],
            [
             0.8888888888888888,
             "#fdca26"
            ],
            [
             1,
             "#f0f921"
            ]
           ],
           "sequentialminus": [
            [
             0,
             "#0d0887"
            ],
            [
             0.1111111111111111,
             "#46039f"
            ],
            [
             0.2222222222222222,
             "#7201a8"
            ],
            [
             0.3333333333333333,
             "#9c179e"
            ],
            [
             0.4444444444444444,
             "#bd3786"
            ],
            [
             0.5555555555555556,
             "#d8576b"
            ],
            [
             0.6666666666666666,
             "#ed7953"
            ],
            [
             0.7777777777777778,
             "#fb9f3a"
            ],
            [
             0.8888888888888888,
             "#fdca26"
            ],
            [
             1,
             "#f0f921"
            ]
           ]
          },
          "colorway": [
           "#636efa",
           "#EF553B",
           "#00cc96",
           "#ab63fa",
           "#FFA15A",
           "#19d3f3",
           "#FF6692",
           "#B6E880",
           "#FF97FF",
           "#FECB52"
          ],
          "font": {
           "color": "#2a3f5f"
          },
          "geo": {
           "bgcolor": "white",
           "lakecolor": "white",
           "landcolor": "#E5ECF6",
           "showlakes": true,
           "showland": true,
           "subunitcolor": "white"
          },
          "hoverlabel": {
           "align": "left"
          },
          "hovermode": "closest",
          "mapbox": {
           "style": "light"
          },
          "paper_bgcolor": "white",
          "plot_bgcolor": "#E5ECF6",
          "polar": {
           "angularaxis": {
            "gridcolor": "white",
            "linecolor": "white",
            "ticks": ""
           },
           "bgcolor": "#E5ECF6",
           "radialaxis": {
            "gridcolor": "white",
            "linecolor": "white",
            "ticks": ""
           }
          },
          "scene": {
           "xaxis": {
            "backgroundcolor": "#E5ECF6",
            "gridcolor": "white",
            "gridwidth": 2,
            "linecolor": "white",
            "showbackground": true,
            "ticks": "",
            "zerolinecolor": "white"
           },
           "yaxis": {
            "backgroundcolor": "#E5ECF6",
            "gridcolor": "white",
            "gridwidth": 2,
            "linecolor": "white",
            "showbackground": true,
            "ticks": "",
            "zerolinecolor": "white"
           },
           "zaxis": {
            "backgroundcolor": "#E5ECF6",
            "gridcolor": "white",
            "gridwidth": 2,
            "linecolor": "white",
            "showbackground": true,
            "ticks": "",
            "zerolinecolor": "white"
           }
          },
          "shapedefaults": {
           "line": {
            "color": "#2a3f5f"
           }
          },
          "ternary": {
           "aaxis": {
            "gridcolor": "white",
            "linecolor": "white",
            "ticks": ""
           },
           "baxis": {
            "gridcolor": "white",
            "linecolor": "white",
            "ticks": ""
           },
           "bgcolor": "#E5ECF6",
           "caxis": {
            "gridcolor": "white",
            "linecolor": "white",
            "ticks": ""
           }
          },
          "title": {
           "x": 0.05
          },
          "xaxis": {
           "automargin": true,
           "gridcolor": "white",
           "linecolor": "white",
           "ticks": "",
           "title": {
            "standoff": 15
           },
           "zerolinecolor": "white",
           "zerolinewidth": 2
          },
          "yaxis": {
           "automargin": true,
           "gridcolor": "white",
           "linecolor": "white",
           "ticks": "",
           "title": {
            "standoff": 15
           },
           "zerolinecolor": "white",
           "zerolinewidth": 2
          }
         }
        },
        "title": {
         "text": "Actual vs Predicted / R² = 0.104 / MAE = 0.512"
        },
        "xaxis": {
         "anchor": "y",
         "domain": [
          0,
          1
         ],
         "title": {
          "text": "Actual"
         }
        },
        "yaxis": {
         "anchor": "x",
         "domain": [
          0,
          1
         ],
         "title": {
          "text": "Predicted"
         }
        }
       }
      }
     },
     "metadata": {},
     "output_type": "display_data"
    }
   ],
   "source": [
    "from sklearn.feature_extraction.text import CountVectorizer\n",
    "from nltk.corpus import stopwords\n",
    "from nltk.stem import PorterStemmer\n",
    "import string\n",
    "\n",
    "vectorizer = CountVectorizer(\n",
    "    preprocessor=lambda x: PorterStemmer().stem(x)\n",
    "    if x not in string.punctuation\n",
    "    else None,\n",
    "    stop_words=stopwords.words(\"english\"),\n",
    "    ngram_range=(1, 3),\n",
    "    max_df=0.9,\n",
    "    min_df=2,\n",
    ")\n",
    "X_train_vec = vectorizer.fit_transform(X_train)\n",
    "X_test_vec = vectorizer.transform(X_test)\n",
    "\n",
    "\n",
    "from sklearn.preprocessing import StandardScaler\n",
    "\n",
    "\n",
    "scaler = StandardScaler().fit(X_train_vec.toarray())\n",
    "\n",
    "X_train_std = scaler.transform(X_train_vec.toarray())\n",
    "X_test_std = scaler.transform(X_test_vec.toarray())\n",
    "\n",
    "\n",
    "words_count = pd.Series(\n",
    "    X_train_vec.sum(axis=0).tolist()[0],\n",
    "    index=vectorizer.get_feature_names(),\n",
    ")\n",
    "\n",
    "top_20_count = words_count.sort_values(ascending=False).head(20)\n",
    "\n",
    "fig = px.bar(\n",
    "    top_20_count,\n",
    "    x=top_20_count.index,\n",
    "    y=top_20_count.values,\n",
    "    labels={\"x\": \"Word\", \"y\": \"Count\"},\n",
    "    title=\"Top 20 words in reviews\",\n",
    "    color=top_20_count.values,\n",
    ")\n",
    "fig.show()\n",
    "\n",
    "\n",
    "from sklearn.linear_model import ElasticNetCV\n",
    "\n",
    "\n",
    "reg = ElasticNetCV(random_state=42, n_jobs=-1).fit(X_train_std, y_train)\n",
    "coefs = pd.Series(reg.coef_, index=vectorizer.get_feature_names())\n",
    "\n",
    "top_20_coefs = coefs.nlargest(10).append(coefs.nsmallest(10)).sort_values()\n",
    "\n",
    "fig = px.bar(\n",
    "    top_20_coefs,\n",
    "    x=top_20_coefs.index,\n",
    "    y=top_20_coefs.values,\n",
    "    labels={\"x\": \"Word\", \"y\": \"Count\"},\n",
    "    title=\"Top 20 words in reviews\",\n",
    "    color=top_20_coefs.values,\n",
    ")\n",
    "fig.show()\n",
    "\n",
    "\n",
    "y_pred = reg.predict(X_test_std)\n",
    "\n",
    "\n",
    "from sklearn.metrics import median_absolute_error, r2_score\n",
    "\n",
    "\n",
    "fig = px.box(\n",
    "    x=y_test,\n",
    "    y=y_pred,\n",
    "    labels={\"x\": \"Actual\", \"y\": \"Predicted\"},\n",
    "    title=f\"Actual vs Predicted / R² = {round(r2_score(y_test, y_pred), 3)} / MAE = {round(median_absolute_error(y_test, y_pred), 3)}\",\n",
    "    color=y_test,\n",
    ")\n",
    "fig.show()\n"
   ]
  },
  {
   "cell_type": "code",
   "execution_count": 35,
   "metadata": {},
   "outputs": [
    {
     "name": "stderr",
     "output_type": "stream",
     "text": [
      "/home/clement/Workspace/oc_p6/env/lib/python3.9/site-packages/sklearn/feature_extraction/text.py:388: UserWarning:\n",
      "\n",
      "Your stop_words may be inconsistent with your preprocessing. Tokenizing the stop words generated tokens ['doe', 'ha', 'wa'] not in stop_words.\n",
      "\n"
     ]
    },
    {
     "data": {
      "application/vnd.plotly.v1+json": {
       "config": {
        "plotlyServerURL": "https://plot.ly"
       },
       "data": [
        {
         "alignmentgroup": "True",
         "hovertemplate": "index=%{x}<br>Count=%{y}<br>color=%{marker.color}<extra></extra>",
         "legendgroup": "",
         "marker": {
          "color": [
           536,
           463,
           339,
           314,
           292,
           252,
           242,
           241,
           199,
           160,
           159,
           151,
           140,
           135,
           134,
           133,
           130,
           127,
           124,
           122
          ],
          "coloraxis": "coloraxis",
          "pattern": {
           "shape": ""
          }
         },
         "name": "",
         "offsetgroup": "",
         "orientation": "v",
         "showlegend": false,
         "textposition": "auto",
         "type": "bar",
         "x": [
          "place",
          "food",
          "great",
          "good",
          "restaurant",
          "one",
          "best",
          "service",
          "came",
          "amazing",
          "delicious",
          "first",
          "like",
          "time",
          "got",
          "paris",
          "try",
          "really",
          "sushi",
          "dinner"
         ],
         "xaxis": "x",
         "y": [
          536,
          463,
          339,
          314,
          292,
          252,
          242,
          241,
          199,
          160,
          159,
          151,
          140,
          135,
          134,
          133,
          130,
          127,
          124,
          122
         ],
         "yaxis": "y"
        }
       ],
       "layout": {
        "barmode": "relative",
        "coloraxis": {
         "colorbar": {
          "title": {
           "text": "color"
          }
         },
         "colorscale": [
          [
           0,
           "#0d0887"
          ],
          [
           0.1111111111111111,
           "#46039f"
          ],
          [
           0.2222222222222222,
           "#7201a8"
          ],
          [
           0.3333333333333333,
           "#9c179e"
          ],
          [
           0.4444444444444444,
           "#bd3786"
          ],
          [
           0.5555555555555556,
           "#d8576b"
          ],
          [
           0.6666666666666666,
           "#ed7953"
          ],
          [
           0.7777777777777778,
           "#fb9f3a"
          ],
          [
           0.8888888888888888,
           "#fdca26"
          ],
          [
           1,
           "#f0f921"
          ]
         ]
        },
        "legend": {
         "tracegroupgap": 0
        },
        "template": {
         "data": {
          "bar": [
           {
            "error_x": {
             "color": "#2a3f5f"
            },
            "error_y": {
             "color": "#2a3f5f"
            },
            "marker": {
             "line": {
              "color": "#E5ECF6",
              "width": 0.5
             },
             "pattern": {
              "fillmode": "overlay",
              "size": 10,
              "solidity": 0.2
             }
            },
            "type": "bar"
           }
          ],
          "barpolar": [
           {
            "marker": {
             "line": {
              "color": "#E5ECF6",
              "width": 0.5
             },
             "pattern": {
              "fillmode": "overlay",
              "size": 10,
              "solidity": 0.2
             }
            },
            "type": "barpolar"
           }
          ],
          "carpet": [
           {
            "aaxis": {
             "endlinecolor": "#2a3f5f",
             "gridcolor": "white",
             "linecolor": "white",
             "minorgridcolor": "white",
             "startlinecolor": "#2a3f5f"
            },
            "baxis": {
             "endlinecolor": "#2a3f5f",
             "gridcolor": "white",
             "linecolor": "white",
             "minorgridcolor": "white",
             "startlinecolor": "#2a3f5f"
            },
            "type": "carpet"
           }
          ],
          "choropleth": [
           {
            "colorbar": {
             "outlinewidth": 0,
             "ticks": ""
            },
            "type": "choropleth"
           }
          ],
          "contour": [
           {
            "colorbar": {
             "outlinewidth": 0,
             "ticks": ""
            },
            "colorscale": [
             [
              0,
              "#0d0887"
             ],
             [
              0.1111111111111111,
              "#46039f"
             ],
             [
              0.2222222222222222,
              "#7201a8"
             ],
             [
              0.3333333333333333,
              "#9c179e"
             ],
             [
              0.4444444444444444,
              "#bd3786"
             ],
             [
              0.5555555555555556,
              "#d8576b"
             ],
             [
              0.6666666666666666,
              "#ed7953"
             ],
             [
              0.7777777777777778,
              "#fb9f3a"
             ],
             [
              0.8888888888888888,
              "#fdca26"
             ],
             [
              1,
              "#f0f921"
             ]
            ],
            "type": "contour"
           }
          ],
          "contourcarpet": [
           {
            "colorbar": {
             "outlinewidth": 0,
             "ticks": ""
            },
            "type": "contourcarpet"
           }
          ],
          "heatmap": [
           {
            "colorbar": {
             "outlinewidth": 0,
             "ticks": ""
            },
            "colorscale": [
             [
              0,
              "#0d0887"
             ],
             [
              0.1111111111111111,
              "#46039f"
             ],
             [
              0.2222222222222222,
              "#7201a8"
             ],
             [
              0.3333333333333333,
              "#9c179e"
             ],
             [
              0.4444444444444444,
              "#bd3786"
             ],
             [
              0.5555555555555556,
              "#d8576b"
             ],
             [
              0.6666666666666666,
              "#ed7953"
             ],
             [
              0.7777777777777778,
              "#fb9f3a"
             ],
             [
              0.8888888888888888,
              "#fdca26"
             ],
             [
              1,
              "#f0f921"
             ]
            ],
            "type": "heatmap"
           }
          ],
          "heatmapgl": [
           {
            "colorbar": {
             "outlinewidth": 0,
             "ticks": ""
            },
            "colorscale": [
             [
              0,
              "#0d0887"
             ],
             [
              0.1111111111111111,
              "#46039f"
             ],
             [
              0.2222222222222222,
              "#7201a8"
             ],
             [
              0.3333333333333333,
              "#9c179e"
             ],
             [
              0.4444444444444444,
              "#bd3786"
             ],
             [
              0.5555555555555556,
              "#d8576b"
             ],
             [
              0.6666666666666666,
              "#ed7953"
             ],
             [
              0.7777777777777778,
              "#fb9f3a"
             ],
             [
              0.8888888888888888,
              "#fdca26"
             ],
             [
              1,
              "#f0f921"
             ]
            ],
            "type": "heatmapgl"
           }
          ],
          "histogram": [
           {
            "marker": {
             "pattern": {
              "fillmode": "overlay",
              "size": 10,
              "solidity": 0.2
             }
            },
            "type": "histogram"
           }
          ],
          "histogram2d": [
           {
            "colorbar": {
             "outlinewidth": 0,
             "ticks": ""
            },
            "colorscale": [
             [
              0,
              "#0d0887"
             ],
             [
              0.1111111111111111,
              "#46039f"
             ],
             [
              0.2222222222222222,
              "#7201a8"
             ],
             [
              0.3333333333333333,
              "#9c179e"
             ],
             [
              0.4444444444444444,
              "#bd3786"
             ],
             [
              0.5555555555555556,
              "#d8576b"
             ],
             [
              0.6666666666666666,
              "#ed7953"
             ],
             [
              0.7777777777777778,
              "#fb9f3a"
             ],
             [
              0.8888888888888888,
              "#fdca26"
             ],
             [
              1,
              "#f0f921"
             ]
            ],
            "type": "histogram2d"
           }
          ],
          "histogram2dcontour": [
           {
            "colorbar": {
             "outlinewidth": 0,
             "ticks": ""
            },
            "colorscale": [
             [
              0,
              "#0d0887"
             ],
             [
              0.1111111111111111,
              "#46039f"
             ],
             [
              0.2222222222222222,
              "#7201a8"
             ],
             [
              0.3333333333333333,
              "#9c179e"
             ],
             [
              0.4444444444444444,
              "#bd3786"
             ],
             [
              0.5555555555555556,
              "#d8576b"
             ],
             [
              0.6666666666666666,
              "#ed7953"
             ],
             [
              0.7777777777777778,
              "#fb9f3a"
             ],
             [
              0.8888888888888888,
              "#fdca26"
             ],
             [
              1,
              "#f0f921"
             ]
            ],
            "type": "histogram2dcontour"
           }
          ],
          "mesh3d": [
           {
            "colorbar": {
             "outlinewidth": 0,
             "ticks": ""
            },
            "type": "mesh3d"
           }
          ],
          "parcoords": [
           {
            "line": {
             "colorbar": {
              "outlinewidth": 0,
              "ticks": ""
             }
            },
            "type": "parcoords"
           }
          ],
          "pie": [
           {
            "automargin": true,
            "type": "pie"
           }
          ],
          "scatter": [
           {
            "marker": {
             "colorbar": {
              "outlinewidth": 0,
              "ticks": ""
             }
            },
            "type": "scatter"
           }
          ],
          "scatter3d": [
           {
            "line": {
             "colorbar": {
              "outlinewidth": 0,
              "ticks": ""
             }
            },
            "marker": {
             "colorbar": {
              "outlinewidth": 0,
              "ticks": ""
             }
            },
            "type": "scatter3d"
           }
          ],
          "scattercarpet": [
           {
            "marker": {
             "colorbar": {
              "outlinewidth": 0,
              "ticks": ""
             }
            },
            "type": "scattercarpet"
           }
          ],
          "scattergeo": [
           {
            "marker": {
             "colorbar": {
              "outlinewidth": 0,
              "ticks": ""
             }
            },
            "type": "scattergeo"
           }
          ],
          "scattergl": [
           {
            "marker": {
             "colorbar": {
              "outlinewidth": 0,
              "ticks": ""
             }
            },
            "type": "scattergl"
           }
          ],
          "scattermapbox": [
           {
            "marker": {
             "colorbar": {
              "outlinewidth": 0,
              "ticks": ""
             }
            },
            "type": "scattermapbox"
           }
          ],
          "scatterpolar": [
           {
            "marker": {
             "colorbar": {
              "outlinewidth": 0,
              "ticks": ""
             }
            },
            "type": "scatterpolar"
           }
          ],
          "scatterpolargl": [
           {
            "marker": {
             "colorbar": {
              "outlinewidth": 0,
              "ticks": ""
             }
            },
            "type": "scatterpolargl"
           }
          ],
          "scatterternary": [
           {
            "marker": {
             "colorbar": {
              "outlinewidth": 0,
              "ticks": ""
             }
            },
            "type": "scatterternary"
           }
          ],
          "surface": [
           {
            "colorbar": {
             "outlinewidth": 0,
             "ticks": ""
            },
            "colorscale": [
             [
              0,
              "#0d0887"
             ],
             [
              0.1111111111111111,
              "#46039f"
             ],
             [
              0.2222222222222222,
              "#7201a8"
             ],
             [
              0.3333333333333333,
              "#9c179e"
             ],
             [
              0.4444444444444444,
              "#bd3786"
             ],
             [
              0.5555555555555556,
              "#d8576b"
             ],
             [
              0.6666666666666666,
              "#ed7953"
             ],
             [
              0.7777777777777778,
              "#fb9f3a"
             ],
             [
              0.8888888888888888,
              "#fdca26"
             ],
             [
              1,
              "#f0f921"
             ]
            ],
            "type": "surface"
           }
          ],
          "table": [
           {
            "cells": {
             "fill": {
              "color": "#EBF0F8"
             },
             "line": {
              "color": "white"
             }
            },
            "header": {
             "fill": {
              "color": "#C8D4E3"
             },
             "line": {
              "color": "white"
             }
            },
            "type": "table"
           }
          ]
         },
         "layout": {
          "annotationdefaults": {
           "arrowcolor": "#2a3f5f",
           "arrowhead": 0,
           "arrowwidth": 1
          },
          "autotypenumbers": "strict",
          "coloraxis": {
           "colorbar": {
            "outlinewidth": 0,
            "ticks": ""
           }
          },
          "colorscale": {
           "diverging": [
            [
             0,
             "#8e0152"
            ],
            [
             0.1,
             "#c51b7d"
            ],
            [
             0.2,
             "#de77ae"
            ],
            [
             0.3,
             "#f1b6da"
            ],
            [
             0.4,
             "#fde0ef"
            ],
            [
             0.5,
             "#f7f7f7"
            ],
            [
             0.6,
             "#e6f5d0"
            ],
            [
             0.7,
             "#b8e186"
            ],
            [
             0.8,
             "#7fbc41"
            ],
            [
             0.9,
             "#4d9221"
            ],
            [
             1,
             "#276419"
            ]
           ],
           "sequential": [
            [
             0,
             "#0d0887"
            ],
            [
             0.1111111111111111,
             "#46039f"
            ],
            [
             0.2222222222222222,
             "#7201a8"
            ],
            [
             0.3333333333333333,
             "#9c179e"
            ],
            [
             0.4444444444444444,
             "#bd3786"
            ],
            [
             0.5555555555555556,
             "#d8576b"
            ],
            [
             0.6666666666666666,
             "#ed7953"
            ],
            [
             0.7777777777777778,
             "#fb9f3a"
            ],
            [
             0.8888888888888888,
             "#fdca26"
            ],
            [
             1,
             "#f0f921"
            ]
           ],
           "sequentialminus": [
            [
             0,
             "#0d0887"
            ],
            [
             0.1111111111111111,
             "#46039f"
            ],
            [
             0.2222222222222222,
             "#7201a8"
            ],
            [
             0.3333333333333333,
             "#9c179e"
            ],
            [
             0.4444444444444444,
             "#bd3786"
            ],
            [
             0.5555555555555556,
             "#d8576b"
            ],
            [
             0.6666666666666666,
             "#ed7953"
            ],
            [
             0.7777777777777778,
             "#fb9f3a"
            ],
            [
             0.8888888888888888,
             "#fdca26"
            ],
            [
             1,
             "#f0f921"
            ]
           ]
          },
          "colorway": [
           "#636efa",
           "#EF553B",
           "#00cc96",
           "#ab63fa",
           "#FFA15A",
           "#19d3f3",
           "#FF6692",
           "#B6E880",
           "#FF97FF",
           "#FECB52"
          ],
          "font": {
           "color": "#2a3f5f"
          },
          "geo": {
           "bgcolor": "white",
           "lakecolor": "white",
           "landcolor": "#E5ECF6",
           "showlakes": true,
           "showland": true,
           "subunitcolor": "white"
          },
          "hoverlabel": {
           "align": "left"
          },
          "hovermode": "closest",
          "mapbox": {
           "style": "light"
          },
          "paper_bgcolor": "white",
          "plot_bgcolor": "#E5ECF6",
          "polar": {
           "angularaxis": {
            "gridcolor": "white",
            "linecolor": "white",
            "ticks": ""
           },
           "bgcolor": "#E5ECF6",
           "radialaxis": {
            "gridcolor": "white",
            "linecolor": "white",
            "ticks": ""
           }
          },
          "scene": {
           "xaxis": {
            "backgroundcolor": "#E5ECF6",
            "gridcolor": "white",
            "gridwidth": 2,
            "linecolor": "white",
            "showbackground": true,
            "ticks": "",
            "zerolinecolor": "white"
           },
           "yaxis": {
            "backgroundcolor": "#E5ECF6",
            "gridcolor": "white",
            "gridwidth": 2,
            "linecolor": "white",
            "showbackground": true,
            "ticks": "",
            "zerolinecolor": "white"
           },
           "zaxis": {
            "backgroundcolor": "#E5ECF6",
            "gridcolor": "white",
            "gridwidth": 2,
            "linecolor": "white",
            "showbackground": true,
            "ticks": "",
            "zerolinecolor": "white"
           }
          },
          "shapedefaults": {
           "line": {
            "color": "#2a3f5f"
           }
          },
          "ternary": {
           "aaxis": {
            "gridcolor": "white",
            "linecolor": "white",
            "ticks": ""
           },
           "baxis": {
            "gridcolor": "white",
            "linecolor": "white",
            "ticks": ""
           },
           "bgcolor": "#E5ECF6",
           "caxis": {
            "gridcolor": "white",
            "linecolor": "white",
            "ticks": ""
           }
          },
          "title": {
           "x": 0.05
          },
          "xaxis": {
           "automargin": true,
           "gridcolor": "white",
           "linecolor": "white",
           "ticks": "",
           "title": {
            "standoff": 15
           },
           "zerolinecolor": "white",
           "zerolinewidth": 2
          },
          "yaxis": {
           "automargin": true,
           "gridcolor": "white",
           "linecolor": "white",
           "ticks": "",
           "title": {
            "standoff": 15
           },
           "zerolinecolor": "white",
           "zerolinewidth": 2
          }
         }
        },
        "title": {
         "text": "Top 20 words in reviews"
        },
        "xaxis": {
         "anchor": "y",
         "domain": [
          0,
          1
         ],
         "title": {
          "text": "index"
         }
        },
        "yaxis": {
         "anchor": "x",
         "domain": [
          0,
          1
         ],
         "title": {
          "text": "Count"
         }
        }
       }
      }
     },
     "metadata": {},
     "output_type": "display_data"
    },
    {
     "data": {
      "application/vnd.plotly.v1+json": {
       "config": {
        "plotlyServerURL": "https://plot.ly"
       },
       "data": [
        {
         "alignmentgroup": "True",
         "hovertemplate": "index=%{x}<br>Count=%{y}<br>color=%{marker.color}<extra></extra>",
         "legendgroup": "",
         "marker": {
          "color": [
           -0.08103221838913838,
           -0.07416777263983057,
           -0.07387996563518871,
           -0.0675500007345475,
           -0.06655161016264036,
           -0.05768079947771343,
           -0.052626383442983496,
           -0.05186202168683443,
           -0.046522765102244096,
           -0.04413031167399513,
           0.014025824700031645,
           0.014082567227681541,
           0.014717503798829292,
           0.01506834044712901,
           0.021039210591070837,
           0.023364694286074277,
           0.02429605954385231,
           0.03769968265578078,
           0.048624186190049226,
           0.05219466355028189
          ],
          "coloraxis": "coloraxis",
          "pattern": {
           "shape": ""
          }
         },
         "name": "",
         "offsetgroup": "",
         "orientation": "v",
         "showlegend": false,
         "textposition": "auto",
         "type": "bar",
         "x": [
          "rude",
          "tasted like",
          "excited try",
          "okay",
          "worst",
          "terrible",
          "ok",
          "disappointing",
          "downhill",
          "mediocre",
          "disappoint",
          "excellent",
          "tokyo",
          "wow",
          "great",
          "delicious",
          "paris",
          "favorite",
          "best",
          "amazing"
         ],
         "xaxis": "x",
         "y": [
          -0.08103221838913838,
          -0.07416777263983057,
          -0.07387996563518871,
          -0.0675500007345475,
          -0.06655161016264036,
          -0.05768079947771343,
          -0.052626383442983496,
          -0.05186202168683443,
          -0.046522765102244096,
          -0.04413031167399513,
          0.014025824700031645,
          0.014082567227681541,
          0.014717503798829292,
          0.01506834044712901,
          0.021039210591070837,
          0.023364694286074277,
          0.02429605954385231,
          0.03769968265578078,
          0.048624186190049226,
          0.05219466355028189
         ],
         "yaxis": "y"
        }
       ],
       "layout": {
        "barmode": "relative",
        "coloraxis": {
         "colorbar": {
          "title": {
           "text": "color"
          }
         },
         "colorscale": [
          [
           0,
           "#0d0887"
          ],
          [
           0.1111111111111111,
           "#46039f"
          ],
          [
           0.2222222222222222,
           "#7201a8"
          ],
          [
           0.3333333333333333,
           "#9c179e"
          ],
          [
           0.4444444444444444,
           "#bd3786"
          ],
          [
           0.5555555555555556,
           "#d8576b"
          ],
          [
           0.6666666666666666,
           "#ed7953"
          ],
          [
           0.7777777777777778,
           "#fb9f3a"
          ],
          [
           0.8888888888888888,
           "#fdca26"
          ],
          [
           1,
           "#f0f921"
          ]
         ]
        },
        "legend": {
         "tracegroupgap": 0
        },
        "template": {
         "data": {
          "bar": [
           {
            "error_x": {
             "color": "#2a3f5f"
            },
            "error_y": {
             "color": "#2a3f5f"
            },
            "marker": {
             "line": {
              "color": "#E5ECF6",
              "width": 0.5
             },
             "pattern": {
              "fillmode": "overlay",
              "size": 10,
              "solidity": 0.2
             }
            },
            "type": "bar"
           }
          ],
          "barpolar": [
           {
            "marker": {
             "line": {
              "color": "#E5ECF6",
              "width": 0.5
             },
             "pattern": {
              "fillmode": "overlay",
              "size": 10,
              "solidity": 0.2
             }
            },
            "type": "barpolar"
           }
          ],
          "carpet": [
           {
            "aaxis": {
             "endlinecolor": "#2a3f5f",
             "gridcolor": "white",
             "linecolor": "white",
             "minorgridcolor": "white",
             "startlinecolor": "#2a3f5f"
            },
            "baxis": {
             "endlinecolor": "#2a3f5f",
             "gridcolor": "white",
             "linecolor": "white",
             "minorgridcolor": "white",
             "startlinecolor": "#2a3f5f"
            },
            "type": "carpet"
           }
          ],
          "choropleth": [
           {
            "colorbar": {
             "outlinewidth": 0,
             "ticks": ""
            },
            "type": "choropleth"
           }
          ],
          "contour": [
           {
            "colorbar": {
             "outlinewidth": 0,
             "ticks": ""
            },
            "colorscale": [
             [
              0,
              "#0d0887"
             ],
             [
              0.1111111111111111,
              "#46039f"
             ],
             [
              0.2222222222222222,
              "#7201a8"
             ],
             [
              0.3333333333333333,
              "#9c179e"
             ],
             [
              0.4444444444444444,
              "#bd3786"
             ],
             [
              0.5555555555555556,
              "#d8576b"
             ],
             [
              0.6666666666666666,
              "#ed7953"
             ],
             [
              0.7777777777777778,
              "#fb9f3a"
             ],
             [
              0.8888888888888888,
              "#fdca26"
             ],
             [
              1,
              "#f0f921"
             ]
            ],
            "type": "contour"
           }
          ],
          "contourcarpet": [
           {
            "colorbar": {
             "outlinewidth": 0,
             "ticks": ""
            },
            "type": "contourcarpet"
           }
          ],
          "heatmap": [
           {
            "colorbar": {
             "outlinewidth": 0,
             "ticks": ""
            },
            "colorscale": [
             [
              0,
              "#0d0887"
             ],
             [
              0.1111111111111111,
              "#46039f"
             ],
             [
              0.2222222222222222,
              "#7201a8"
             ],
             [
              0.3333333333333333,
              "#9c179e"
             ],
             [
              0.4444444444444444,
              "#bd3786"
             ],
             [
              0.5555555555555556,
              "#d8576b"
             ],
             [
              0.6666666666666666,
              "#ed7953"
             ],
             [
              0.7777777777777778,
              "#fb9f3a"
             ],
             [
              0.8888888888888888,
              "#fdca26"
             ],
             [
              1,
              "#f0f921"
             ]
            ],
            "type": "heatmap"
           }
          ],
          "heatmapgl": [
           {
            "colorbar": {
             "outlinewidth": 0,
             "ticks": ""
            },
            "colorscale": [
             [
              0,
              "#0d0887"
             ],
             [
              0.1111111111111111,
              "#46039f"
             ],
             [
              0.2222222222222222,
              "#7201a8"
             ],
             [
              0.3333333333333333,
              "#9c179e"
             ],
             [
              0.4444444444444444,
              "#bd3786"
             ],
             [
              0.5555555555555556,
              "#d8576b"
             ],
             [
              0.6666666666666666,
              "#ed7953"
             ],
             [
              0.7777777777777778,
              "#fb9f3a"
             ],
             [
              0.8888888888888888,
              "#fdca26"
             ],
             [
              1,
              "#f0f921"
             ]
            ],
            "type": "heatmapgl"
           }
          ],
          "histogram": [
           {
            "marker": {
             "pattern": {
              "fillmode": "overlay",
              "size": 10,
              "solidity": 0.2
             }
            },
            "type": "histogram"
           }
          ],
          "histogram2d": [
           {
            "colorbar": {
             "outlinewidth": 0,
             "ticks": ""
            },
            "colorscale": [
             [
              0,
              "#0d0887"
             ],
             [
              0.1111111111111111,
              "#46039f"
             ],
             [
              0.2222222222222222,
              "#7201a8"
             ],
             [
              0.3333333333333333,
              "#9c179e"
             ],
             [
              0.4444444444444444,
              "#bd3786"
             ],
             [
              0.5555555555555556,
              "#d8576b"
             ],
             [
              0.6666666666666666,
              "#ed7953"
             ],
             [
              0.7777777777777778,
              "#fb9f3a"
             ],
             [
              0.8888888888888888,
              "#fdca26"
             ],
             [
              1,
              "#f0f921"
             ]
            ],
            "type": "histogram2d"
           }
          ],
          "histogram2dcontour": [
           {
            "colorbar": {
             "outlinewidth": 0,
             "ticks": ""
            },
            "colorscale": [
             [
              0,
              "#0d0887"
             ],
             [
              0.1111111111111111,
              "#46039f"
             ],
             [
              0.2222222222222222,
              "#7201a8"
             ],
             [
              0.3333333333333333,
              "#9c179e"
             ],
             [
              0.4444444444444444,
              "#bd3786"
             ],
             [
              0.5555555555555556,
              "#d8576b"
             ],
             [
              0.6666666666666666,
              "#ed7953"
             ],
             [
              0.7777777777777778,
              "#fb9f3a"
             ],
             [
              0.8888888888888888,
              "#fdca26"
             ],
             [
              1,
              "#f0f921"
             ]
            ],
            "type": "histogram2dcontour"
           }
          ],
          "mesh3d": [
           {
            "colorbar": {
             "outlinewidth": 0,
             "ticks": ""
            },
            "type": "mesh3d"
           }
          ],
          "parcoords": [
           {
            "line": {
             "colorbar": {
              "outlinewidth": 0,
              "ticks": ""
             }
            },
            "type": "parcoords"
           }
          ],
          "pie": [
           {
            "automargin": true,
            "type": "pie"
           }
          ],
          "scatter": [
           {
            "marker": {
             "colorbar": {
              "outlinewidth": 0,
              "ticks": ""
             }
            },
            "type": "scatter"
           }
          ],
          "scatter3d": [
           {
            "line": {
             "colorbar": {
              "outlinewidth": 0,
              "ticks": ""
             }
            },
            "marker": {
             "colorbar": {
              "outlinewidth": 0,
              "ticks": ""
             }
            },
            "type": "scatter3d"
           }
          ],
          "scattercarpet": [
           {
            "marker": {
             "colorbar": {
              "outlinewidth": 0,
              "ticks": ""
             }
            },
            "type": "scattercarpet"
           }
          ],
          "scattergeo": [
           {
            "marker": {
             "colorbar": {
              "outlinewidth": 0,
              "ticks": ""
             }
            },
            "type": "scattergeo"
           }
          ],
          "scattergl": [
           {
            "marker": {
             "colorbar": {
              "outlinewidth": 0,
              "ticks": ""
             }
            },
            "type": "scattergl"
           }
          ],
          "scattermapbox": [
           {
            "marker": {
             "colorbar": {
              "outlinewidth": 0,
              "ticks": ""
             }
            },
            "type": "scattermapbox"
           }
          ],
          "scatterpolar": [
           {
            "marker": {
             "colorbar": {
              "outlinewidth": 0,
              "ticks": ""
             }
            },
            "type": "scatterpolar"
           }
          ],
          "scatterpolargl": [
           {
            "marker": {
             "colorbar": {
              "outlinewidth": 0,
              "ticks": ""
             }
            },
            "type": "scatterpolargl"
           }
          ],
          "scatterternary": [
           {
            "marker": {
             "colorbar": {
              "outlinewidth": 0,
              "ticks": ""
             }
            },
            "type": "scatterternary"
           }
          ],
          "surface": [
           {
            "colorbar": {
             "outlinewidth": 0,
             "ticks": ""
            },
            "colorscale": [
             [
              0,
              "#0d0887"
             ],
             [
              0.1111111111111111,
              "#46039f"
             ],
             [
              0.2222222222222222,
              "#7201a8"
             ],
             [
              0.3333333333333333,
              "#9c179e"
             ],
             [
              0.4444444444444444,
              "#bd3786"
             ],
             [
              0.5555555555555556,
              "#d8576b"
             ],
             [
              0.6666666666666666,
              "#ed7953"
             ],
             [
              0.7777777777777778,
              "#fb9f3a"
             ],
             [
              0.8888888888888888,
              "#fdca26"
             ],
             [
              1,
              "#f0f921"
             ]
            ],
            "type": "surface"
           }
          ],
          "table": [
           {
            "cells": {
             "fill": {
              "color": "#EBF0F8"
             },
             "line": {
              "color": "white"
             }
            },
            "header": {
             "fill": {
              "color": "#C8D4E3"
             },
             "line": {
              "color": "white"
             }
            },
            "type": "table"
           }
          ]
         },
         "layout": {
          "annotationdefaults": {
           "arrowcolor": "#2a3f5f",
           "arrowhead": 0,
           "arrowwidth": 1
          },
          "autotypenumbers": "strict",
          "coloraxis": {
           "colorbar": {
            "outlinewidth": 0,
            "ticks": ""
           }
          },
          "colorscale": {
           "diverging": [
            [
             0,
             "#8e0152"
            ],
            [
             0.1,
             "#c51b7d"
            ],
            [
             0.2,
             "#de77ae"
            ],
            [
             0.3,
             "#f1b6da"
            ],
            [
             0.4,
             "#fde0ef"
            ],
            [
             0.5,
             "#f7f7f7"
            ],
            [
             0.6,
             "#e6f5d0"
            ],
            [
             0.7,
             "#b8e186"
            ],
            [
             0.8,
             "#7fbc41"
            ],
            [
             0.9,
             "#4d9221"
            ],
            [
             1,
             "#276419"
            ]
           ],
           "sequential": [
            [
             0,
             "#0d0887"
            ],
            [
             0.1111111111111111,
             "#46039f"
            ],
            [
             0.2222222222222222,
             "#7201a8"
            ],
            [
             0.3333333333333333,
             "#9c179e"
            ],
            [
             0.4444444444444444,
             "#bd3786"
            ],
            [
             0.5555555555555556,
             "#d8576b"
            ],
            [
             0.6666666666666666,
             "#ed7953"
            ],
            [
             0.7777777777777778,
             "#fb9f3a"
            ],
            [
             0.8888888888888888,
             "#fdca26"
            ],
            [
             1,
             "#f0f921"
            ]
           ],
           "sequentialminus": [
            [
             0,
             "#0d0887"
            ],
            [
             0.1111111111111111,
             "#46039f"
            ],
            [
             0.2222222222222222,
             "#7201a8"
            ],
            [
             0.3333333333333333,
             "#9c179e"
            ],
            [
             0.4444444444444444,
             "#bd3786"
            ],
            [
             0.5555555555555556,
             "#d8576b"
            ],
            [
             0.6666666666666666,
             "#ed7953"
            ],
            [
             0.7777777777777778,
             "#fb9f3a"
            ],
            [
             0.8888888888888888,
             "#fdca26"
            ],
            [
             1,
             "#f0f921"
            ]
           ]
          },
          "colorway": [
           "#636efa",
           "#EF553B",
           "#00cc96",
           "#ab63fa",
           "#FFA15A",
           "#19d3f3",
           "#FF6692",
           "#B6E880",
           "#FF97FF",
           "#FECB52"
          ],
          "font": {
           "color": "#2a3f5f"
          },
          "geo": {
           "bgcolor": "white",
           "lakecolor": "white",
           "landcolor": "#E5ECF6",
           "showlakes": true,
           "showland": true,
           "subunitcolor": "white"
          },
          "hoverlabel": {
           "align": "left"
          },
          "hovermode": "closest",
          "mapbox": {
           "style": "light"
          },
          "paper_bgcolor": "white",
          "plot_bgcolor": "#E5ECF6",
          "polar": {
           "angularaxis": {
            "gridcolor": "white",
            "linecolor": "white",
            "ticks": ""
           },
           "bgcolor": "#E5ECF6",
           "radialaxis": {
            "gridcolor": "white",
            "linecolor": "white",
            "ticks": ""
           }
          },
          "scene": {
           "xaxis": {
            "backgroundcolor": "#E5ECF6",
            "gridcolor": "white",
            "gridwidth": 2,
            "linecolor": "white",
            "showbackground": true,
            "ticks": "",
            "zerolinecolor": "white"
           },
           "yaxis": {
            "backgroundcolor": "#E5ECF6",
            "gridcolor": "white",
            "gridwidth": 2,
            "linecolor": "white",
            "showbackground": true,
            "ticks": "",
            "zerolinecolor": "white"
           },
           "zaxis": {
            "backgroundcolor": "#E5ECF6",
            "gridcolor": "white",
            "gridwidth": 2,
            "linecolor": "white",
            "showbackground": true,
            "ticks": "",
            "zerolinecolor": "white"
           }
          },
          "shapedefaults": {
           "line": {
            "color": "#2a3f5f"
           }
          },
          "ternary": {
           "aaxis": {
            "gridcolor": "white",
            "linecolor": "white",
            "ticks": ""
           },
           "baxis": {
            "gridcolor": "white",
            "linecolor": "white",
            "ticks": ""
           },
           "bgcolor": "#E5ECF6",
           "caxis": {
            "gridcolor": "white",
            "linecolor": "white",
            "ticks": ""
           }
          },
          "title": {
           "x": 0.05
          },
          "xaxis": {
           "automargin": true,
           "gridcolor": "white",
           "linecolor": "white",
           "ticks": "",
           "title": {
            "standoff": 15
           },
           "zerolinecolor": "white",
           "zerolinewidth": 2
          },
          "yaxis": {
           "automargin": true,
           "gridcolor": "white",
           "linecolor": "white",
           "ticks": "",
           "title": {
            "standoff": 15
           },
           "zerolinecolor": "white",
           "zerolinewidth": 2
          }
         }
        },
        "title": {
         "text": "Top 20 words in reviews"
        },
        "xaxis": {
         "anchor": "y",
         "domain": [
          0,
          1
         ],
         "title": {
          "text": "index"
         }
        },
        "yaxis": {
         "anchor": "x",
         "domain": [
          0,
          1
         ],
         "title": {
          "text": "Count"
         }
        }
       }
      }
     },
     "metadata": {},
     "output_type": "display_data"
    },
    {
     "data": {
      "application/vnd.plotly.v1+json": {
       "config": {
        "plotlyServerURL": "https://plot.ly"
       },
       "data": [
        {
         "alignmentgroup": "True",
         "hovertemplate": "color=4.0<br>Actual=%{x}<br>Predicted=%{y}<extra></extra>",
         "legendgroup": "4.0",
         "marker": {
          "color": "#636efa"
         },
         "name": "4.0",
         "notched": false,
         "offsetgroup": "4.0",
         "orientation": "v",
         "showlegend": true,
         "type": "box",
         "x": [
          4,
          4,
          4,
          4,
          4,
          4,
          4,
          4,
          4,
          4,
          4,
          4,
          4,
          4,
          4,
          4,
          4,
          4,
          4,
          4,
          4,
          4,
          4,
          4,
          4,
          4,
          4,
          4,
          4,
          4,
          4,
          4,
          4,
          4,
          4,
          4,
          4,
          4,
          4,
          4,
          4,
          4,
          4,
          4,
          4,
          4,
          4,
          4,
          4,
          4,
          4,
          4,
          4,
          4,
          4,
          4,
          4,
          4,
          4,
          4,
          4,
          4,
          4,
          4,
          4,
          4,
          4,
          4,
          4,
          4,
          4,
          4,
          4,
          4,
          4,
          4,
          4,
          4,
          4,
          4,
          4,
          4,
          4,
          4,
          4,
          4,
          4,
          4,
          4,
          4,
          4,
          4,
          4,
          4,
          4,
          4,
          4,
          4,
          4,
          4,
          4,
          4,
          4,
          4,
          4,
          4,
          4,
          4,
          4,
          4,
          4,
          4,
          4,
          4,
          4,
          4,
          4,
          4,
          4,
          4,
          4,
          4,
          4,
          4,
          4,
          4,
          4,
          4,
          4,
          4,
          4,
          4,
          4,
          4,
          4,
          4,
          4,
          4,
          4,
          4,
          4,
          4,
          4,
          4,
          4,
          4,
          4,
          4,
          4,
          4,
          4,
          4,
          4,
          4,
          4,
          4,
          4,
          4,
          4,
          4,
          4,
          4,
          4,
          4,
          4,
          4,
          4,
          4,
          4,
          4,
          4,
          4,
          4,
          4,
          4,
          4,
          4,
          4,
          4,
          4,
          4,
          4,
          4,
          4,
          4,
          4,
          4,
          4,
          4
         ],
         "x0": " ",
         "xaxis": "x",
         "y": [
          4.584432781969323,
          4.424141094544857,
          4.307343720405056,
          4.468578064737201,
          4.321127298747289,
          4.4983227723554835,
          4.424141094544857,
          4.380336426880722,
          4.225719984939664,
          4.371165659353744,
          4.446612338561549,
          4.465074132503976,
          4.424141094544857,
          4.393606451339781,
          4.68670533272174,
          4.424141094544857,
          4.632391133457023,
          4.520043020394304,
          4.424141094544857,
          4.5221636804144785,
          4.319091539016363,
          4.411543643274983,
          4.451657119500359,
          4.393606451339781,
          4.424141094544857,
          4.451388137809913,
          4.420577389862855,
          4.409489447943042,
          3.7991378373357367,
          4.424141094544857,
          4.346206026649874,
          4.5176328018619625,
          4.34008592971624,
          4.473152387479668,
          4.424141094544857,
          4.443513156229742,
          4.516479315712303,
          4.0603241506820655,
          4.424141094544857,
          4.511947913555303,
          4.390285141341194,
          3.4689626693143945,
          4.448521538427219,
          3.927582629408986,
          4.424141094544857,
          4.465074132503976,
          4.306826891126792,
          4.4248994429285355,
          4.424141094544857,
          4.512729029701149,
          4.4426177442745916,
          3.3440041062546904,
          4.501551517842481,
          4.355706337219297,
          4.4751881960881645,
          4.571785263296468,
          4.257123593617545,
          4.473152387479668,
          4.4983227723554835,
          4.369598704072236,
          4.305987581829163,
          4.424141094544857,
          4.469588682797666,
          4.317282251689703,
          4.424141094544857,
          4.346206026649874,
          4.567611268667288,
          4.473152387479668,
          3.8559036526992414,
          4.393606451339781,
          4.424141094544857,
          4.424141094544857,
          4.473152387479668,
          4.473152387479668,
          4.659592082306914,
          4.414302091812302,
          4.619756847851726,
          4.404717630154107,
          4.424141094544857,
          4.424141094544857,
          4.488865382133116,
          4.563926922617834,
          4.424141094544857,
          4.424141094544857,
          4.4073073654037955,
          4.393606451339781,
          4.337238193343533,
          4.424141094544857,
          4.541053188429354,
          3.946080562113241,
          4.473152387479668,
          4.346206026649874,
          4.078670000892021,
          4.424141094544857,
          4.57102910927339,
          4.285681933450081,
          4.424141094544857,
          4.424141094544857,
          4.424141094544857,
          4.393606451339781,
          4.3703532228665,
          4.1903358908599095,
          4.393606451339781,
          4.569054313329115,
          4.424141094544857,
          3.929937822838738,
          4.424141094544857,
          4.424141094544857,
          4.423028423487709,
          4.424141094544857,
          4.459005039393106,
          4.489539682598182,
          4.545846775955846,
          4.424141094544857,
          4.393606451339781,
          4.511947913555303,
          4.129117280827609,
          4.287271579893736,
          4.424141094544857,
          4.75263560555658,
          4.466024978115664,
          4.560959206490113,
          4.424141094544857,
          4.390285141341194,
          4.424141094544857,
          4.461951399906005,
          4.424141094544857,
          4.424141094544857,
          4.473152387479668,
          3.775690840672236,
          4.444928949522878,
          4.469588682797666,
          4.488086615501921,
          4.619756847851726,
          4.424141094544857,
          4.216013665162606,
          4.488086615501921,
          4.424141094544857,
          4.393606451339781,
          3.236158834305633,
          4.013103551778748,
          2.8119307567092986,
          4.45522082418236,
          4.33430748961995,
          4.386721436659193,
          4.424141094544857,
          4.359750498136118,
          4.549100626673728,
          4.424141094544857,
          4.473152387479668,
          4.424141094544857,
          4.399286766847474,
          4.424141094544857,
          4.424141094544857,
          4.393606451339781,
          4.586719491318722,
          4.391537782324886,
          4.594890407326771,
          4.424141094544857,
          4.480604923745976,
          4.424141094544857,
          4.419721909965105,
          4.473152387479668,
          4.520043020394304,
          4.296127492579999,
          4.424141094544857,
          4.473152387479668,
          4.424141094544857,
          4.473152387479668,
          4.269042408962103,
          4.386525886800614,
          4.762370124219029,
          4.350715127291351,
          4.420577389862855,
          4.424141094544857,
          4.49537087257584,
          4.390285141341194,
          4.424141094544857,
          3.839633082797805,
          4.424141094544857,
          4.476548945111249,
          4.601208680771965,
          4.520043020394304,
          4.424141094544857,
          4.424141094544857,
          4.424141094544857,
          4.260814542564623,
          4.4983227723554835,
          4.424141094544857
         ],
         "y0": " ",
         "yaxis": "y"
        },
        {
         "alignmentgroup": "True",
         "hovertemplate": "color=5.0<br>Actual=%{x}<br>Predicted=%{y}<extra></extra>",
         "legendgroup": "5.0",
         "marker": {
          "color": "#EF553B"
         },
         "name": "5.0",
         "notched": false,
         "offsetgroup": "5.0",
         "orientation": "v",
         "showlegend": true,
         "type": "box",
         "x": [
          5,
          5,
          5,
          5,
          5,
          5,
          5,
          5,
          5,
          5,
          5,
          5,
          5,
          5,
          5,
          5,
          5,
          5,
          5,
          5,
          5,
          5,
          5,
          5,
          5,
          5,
          5,
          5,
          5,
          5,
          5,
          5,
          5,
          5,
          5,
          5,
          5,
          5,
          5,
          5,
          5,
          5,
          5,
          5,
          5,
          5,
          5,
          5,
          5,
          5,
          5,
          5,
          5,
          5,
          5,
          5,
          5,
          5,
          5,
          5,
          5,
          5,
          5,
          5,
          5,
          5,
          5,
          5,
          5,
          5,
          5,
          5,
          5,
          5,
          5,
          5,
          5,
          5,
          5,
          5,
          5,
          5,
          5,
          5,
          5,
          5,
          5,
          5,
          5,
          5,
          5,
          5,
          5,
          5,
          5,
          5,
          5,
          5,
          5,
          5,
          5,
          5,
          5,
          5,
          5,
          5,
          5,
          5,
          5,
          5,
          5,
          5,
          5,
          5,
          5,
          5,
          5,
          5,
          5,
          5,
          5,
          5,
          5,
          5,
          5,
          5,
          5,
          5,
          5,
          5,
          5,
          5,
          5,
          5,
          5,
          5,
          5,
          5,
          5,
          5,
          5,
          5,
          5,
          5,
          5,
          5,
          5,
          5,
          5,
          5,
          5,
          5,
          5,
          5,
          5,
          5,
          5,
          5,
          5,
          5,
          5,
          5,
          5,
          5,
          5,
          5,
          5,
          5,
          5,
          5,
          5,
          5,
          5,
          5,
          5,
          5,
          5,
          5,
          5,
          5,
          5,
          5,
          5,
          5,
          5,
          5,
          5,
          5,
          5,
          5,
          5,
          5,
          5,
          5,
          5,
          5,
          5,
          5,
          5,
          5,
          5,
          5,
          5,
          5,
          5,
          5,
          5,
          5,
          5,
          5,
          5,
          5,
          5,
          5,
          5,
          5,
          5,
          5,
          5,
          5,
          5,
          5,
          5,
          5,
          5,
          5,
          5,
          5,
          5,
          5,
          5,
          5,
          5,
          5,
          5,
          5,
          5,
          5,
          5,
          5,
          5,
          5,
          5,
          5,
          5,
          5,
          5,
          5,
          5,
          5,
          5,
          5,
          5,
          5,
          5,
          5,
          5,
          5,
          5,
          5,
          5,
          5,
          5,
          5,
          5,
          5,
          5,
          5,
          5,
          5,
          5,
          5,
          5,
          5,
          5,
          5,
          5,
          5,
          5,
          5,
          5,
          5,
          5,
          5,
          5,
          5,
          5,
          5,
          5,
          5,
          5,
          5,
          5,
          5,
          5,
          5,
          5,
          5,
          5,
          5,
          5,
          5,
          5,
          5,
          5,
          5,
          5,
          5,
          5,
          5,
          5,
          5,
          5,
          5,
          5,
          5,
          5,
          5,
          5,
          5,
          5,
          5,
          5,
          5,
          5,
          5,
          5,
          5,
          5,
          5,
          5,
          5,
          5,
          5,
          5,
          5,
          5,
          5,
          5,
          5,
          5,
          5,
          5,
          5,
          5,
          5,
          5,
          5,
          5,
          5,
          5,
          5,
          5,
          5,
          5,
          5,
          5,
          5,
          5,
          5,
          5,
          5,
          5,
          5,
          5,
          5,
          5,
          5,
          5,
          5,
          5,
          5,
          5,
          5,
          5,
          5,
          5,
          5,
          5,
          5,
          5,
          5,
          5,
          5,
          5,
          5,
          5,
          5,
          5,
          5,
          5,
          5,
          5,
          5,
          5,
          5,
          5,
          5,
          5,
          5,
          5,
          5,
          5,
          5,
          5,
          5,
          5,
          5,
          5,
          5,
          5,
          5,
          5,
          5,
          5,
          5,
          5,
          5,
          5,
          5,
          5,
          5,
          5,
          5,
          5,
          5,
          5,
          5,
          5,
          5,
          5,
          5,
          5,
          5,
          5,
          5,
          5,
          5,
          5,
          5,
          5,
          5,
          5,
          5,
          5,
          5,
          5,
          5,
          5,
          5
         ],
         "x0": " ",
         "xaxis": "x",
         "y": [
          4.495188692696922,
          4.670799763909624,
          4.537910969294883,
          4.541053188429354,
          4.520043020394304,
          4.424141094544857,
          4.424141094544857,
          4.424141094544857,
          4.6206837028587815,
          4.424141094544857,
          4.0457469175359035,
          4.424141094544857,
          4.5906640975961315,
          4.489539682598182,
          2.7193797243471627,
          4.5268821415775555,
          4.229283689621665,
          4.706375439120362,
          4.424141094544857,
          4.614967425174399,
          4.436336867413651,
          4.515882803553538,
          4.509601926692596,
          4.317942843916955,
          4.473152387479668,
          4.473152387479668,
          4.614967425174399,
          4.473152387479668,
          4.393606451339781,
          4.420577389862855,
          4.424141094544857,
          4.473152387479668,
          4.424141094544857,
          4.388822304164868,
          4.4983227723554835,
          4.424141094544857,
          4.424141094544857,
          4.764061365806829,
          4.606973164149871,
          4.321127298747289,
          4.366104731973341,
          4.520043020394304,
          4.424141094544857,
          4.619756847851726,
          4.914859797473414,
          4.468733202899917,
          4.393606451339781,
          4.424141094544857,
          4.44635957964103,
          4.424141094544857,
          4.546239792881638,
          4.710869351023847,
          4.619756847851726,
          4.721309667142615,
          4.489539682598182,
          4.66018732150864,
          4.483764829880652,
          4.54081846082865,
          4.616548567208414,
          4.434539489298901,
          4.489508377189228,
          4.159845236610721,
          4.424141094544857,
          4.483764829880652,
          4.473152387479668,
          4.424141094544857,
          4.420689027395742,
          4.424141094544857,
          4.746738503338678,
          4.4436618549353595,
          4.424141094544857,
          4.606486823392667,
          4.44635957964103,
          4.415521252128731,
          4.352670167947061,
          4.656252431510405,
          4.424141094544857,
          4.2921209150802095,
          4.355706337219297,
          4.558687561441575,
          4.5221636804144785,
          4.556094881251136,
          4.619756847851726,
          4.424141094544857,
          4.222378936672401,
          4.619756847851726,
          4.424141094544857,
          4.424141094544857,
          4.473152387479668,
          4.564026427920208,
          4.424141094544857,
          4.44635957964103,
          4.643003575858008,
          4.420689027395742,
          4.424141094544857,
          4.369598704072236,
          4.493940242457689,
          4.282828616382897,
          4.531537236291549,
          4.18320106424907,
          4.420577389862855,
          4.541053188429354,
          4.393606451339781,
          4.306826891126792,
          4.646555221080199,
          4.5221636804144785,
          4.424141094544857,
          4.712750130455062,
          4.44635957964103,
          4.722602683489309,
          4.529402501992987,
          4.685135393327428,
          4.760249464198854,
          4.568445612499959,
          4.59816508541106,
          4.489508377189228,
          4.589222204646651,
          4.199471798426399,
          4.525323485630462,
          4.544416145837696,
          4.382770382409771,
          4.405791122353349,
          4.604960310110047,
          4.520043020394304,
          4.459005039393106,
          4.669313227218965,
          4.444928949522878,
          4.628694965626445,
          4.619756847851726,
          4.424141094544857,
          4.564881907817957,
          4.523628290859674,
          4.393606451339781,
          4.355706337219297,
          4.405453212360612,
          4.710869351023847,
          4.424141094544857,
          4.853539526168517,
          4.519110627333505,
          4.355706337219297,
          4.527871443294346,
          4.424141094544857,
          4.522154479170688,
          4.443513156229742,
          4.42093676722885,
          4.559825770083834,
          4.306652215858307,
          4.521196506543964,
          4.4983227723554835,
          4.424141094544857,
          4.467788129150407,
          3.797753573792146,
          4.597534704630679,
          4.693938525662354,
          4.424141094544857,
          4.680334707818771,
          4.404031450673305,
          4.424141094544857,
          4.615337663271975,
          4.520043020394304,
          4.511947913555303,
          4.79569262422653,
          4.3362557445323135,
          4.424141094544857,
          4.628069347835754,
          4.424141094544857,
          4.5221636804144785,
          4.515882803553538,
          4.550666352520677,
          4.4540095505893635,
          4.58923346747798,
          4.424141094544857,
          4.424141094544857,
          4.728129943400811,
          4.460615907638011,
          4.941128952033938,
          4.500010855174399,
          4.424686180977284,
          4.498677889096243,
          4.611403720492397,
          4.657220128985403,
          4.511947913555303,
          4.4814132703502265,
          4.43907532256711,
          4.476548945111249,
          4.504552684858673,
          4.426297049222189,
          4.640735207306532,
          4.507083588316325,
          4.254950814962332,
          4.424141094544857,
          4.520043020394304,
          4.424141094544857,
          4.520043020394304,
          4.670799763909624,
          4.717185253668634,
          4.755830279619103,
          4.414267607526868,
          4.568221558614467,
          4.504232117117171,
          4.424141094544857,
          4.393606451339781,
          3.87724216287042,
          4.561318203135956,
          4.424141094544857,
          3.938592926611824,
          4.45522082418236,
          4.424141094544857,
          4.529302073412498,
          4.697297164985119,
          4.407037341256366,
          4.424141094544857,
          4.3776714624008015,
          4.568445612499959,
          4.591980256101648,
          4.772373865790857,
          4.424141094544857,
          4.473152387479668,
          4.610746485367604,
          4.362060336706409,
          4.506772995935245,
          4.465074132503976,
          4.511947913555303,
          4.520043020394304,
          4.247233264369783,
          4.428314988072415,
          4.628069347835754,
          4.424141094544857,
          4.424141094544857,
          4.424141094544857,
          4.434539489298901,
          4.424141094544857,
          4.336522225034239,
          4.620714345659466,
          4.444620965298619,
          4.60784983940475,
          4.45522082418236,
          4.586472415300178,
          4.312350073446212,
          4.52024098294477,
          4.5221636804144785,
          4.4983227723554835,
          4.537910969294883,
          4.664347538349407,
          4.597534704630679,
          3.9416052010613183,
          4.424141094544857,
          4.424141094544857,
          4.568445612499959,
          3.9092406227592837,
          4.424141094544857,
          4.424141094544857,
          4.619756847851726,
          4.591272798425288,
          4.473152387479668,
          3.8613797949538435,
          4.7190174130239395,
          4.1197435712619805,
          4.401952698233709,
          4.441940395061278,
          4.511947913555303,
          4.568445612499959,
          4.321607989332219,
          4.420577389862855,
          4.507083588316325,
          4.763330780795653,
          4.355706337219297,
          4.57102910927339,
          4.44635957964103,
          4.526359538244818,
          3.729386444279783,
          4.594890407326771,
          4.511947913555303,
          4.657697841248269,
          4.356253102602647,
          4.584432781969323,
          4.505306754922517,
          4.568445612499959,
          4.441950799723301,
          4.436336867413651,
          4.568445612499959,
          4.4983227723554835,
          4.710869351023847,
          4.511947913555303,
          4.4983227723554835,
          4.87340419919438,
          4.415824936435953,
          4.424141094544857,
          4.489218011977798,
          4.424141094544857,
          4.380336426880722,
          4.355706337219297,
          4.586922262229694,
          4.346206026649874,
          4.424141094544857,
          4.44635957964103,
          4.442324928487931,
          4.424141094544857,
          4.473152387479668,
          4.823685101142624,
          4.424141094544857,
          4.410871070085797,
          4.712844146968121,
          4.424141094544857,
          4.6374482174833185,
          4.467788129150407,
          4.424141094544857,
          4.511947913555303,
          4.716089781251571,
          4.424141094544857,
          4.516479315712303,
          4.2825430871132495,
          4.469588682797666,
          4.424141094544857,
          4.500192437247199,
          4.628069347835754,
          4.306652215858307,
          4.424141094544857,
          4.420577389862855,
          4.4983227723554835,
          4.321127298747289,
          4.424141094544857,
          4.43907532256711,
          4.708490521869227,
          4.35586829264039,
          4.520043020394304,
          4.379286270238717,
          4.424141094544857,
          4.52556023804606,
          4.516101294228315,
          4.511947913555303,
          4.611176028573829,
          4.424141094544857,
          4.511947913555303,
          4.444928949522878,
          4.359750498136118,
          4.404031450673305,
          4.424141094544857,
          4.703144482282421,
          4.4983227723554835,
          4.424141094544857,
          4.511947913555303,
          3.873479075765907,
          4.511947913555303,
          4.523628290859674,
          4.3952173195846855,
          4.815372601158597,
          4.424141094544857,
          4.424141094544857,
          4.614301238013829,
          4.43907532256711,
          4.489508377189228,
          4.665204436104536,
          4.306826891126792,
          4.537910969294883,
          4.4983227723554835,
          4.58923346747798,
          4.568445612499959,
          4.424141094544857,
          4.656861132339561,
          4.518599975732477,
          4.599754732565748,
          4.424141094544857,
          4.3918815836225695,
          4.571785263296468,
          4.446014301906173,
          4.46446891361344,
          4.617098432393412,
          4.7672166155701605,
          4.31220759425537,
          4.619756847851726,
          4.398436753293167,
          4.668768140786538,
          4.420577389862855,
          4.424141094544857,
          4.635146432591212,
          4.559770978748302,
          4.473152387479668,
          4.432089918539468,
          4.424141094544857,
          4.45939471770992,
          4.521196506543964,
          4.575105902835349,
          4.424141094544857,
          4.716428489241541,
          4.444928949522878,
          4.5859633372956425,
          4.3900427466577785,
          4.378616986407529,
          4.44635957964103,
          4.628069347835754,
          4.424141094544857,
          4.44635957964103,
          4.593113573932963,
          4.614967425174399,
          4.572639583794485,
          4.3970959754171615,
          4.424141094544857,
          4.473152387479668,
          4.488086615501921,
          4.414394306317802,
          4.424141094544857,
          4.359750498136118,
          4.409112432351935,
          4.568445612499959,
          4.43907532256711,
          4.424141094544857,
          4.487791970767883,
          4.511947913555303,
          4.424141094544857,
          4.692912993196393,
          4.424141094544857,
          4.34050816906197,
          4.554684045450702,
          4.43907532256711,
          4.300316447343517,
          4.355706337219297,
          4.705263724445216,
          4.511947913555303,
          4.473152387479668,
          4.424141094544857,
          4.572504450166111,
          4.328838668280774,
          4.424141094544857,
          4.102562322064009,
          4.023125685860386,
          4.444928949522878,
          4.655064203768594,
          4.498677889096243,
          4.5794718074765335,
          4.078670000892021,
          4.619756847851726,
          4.473152387479668,
          4.633844200553284,
          4.424141094544857,
          4.487292617600149,
          4.4983227723554835,
          4.520043020394304,
          4.575893434512366,
          4.476548945111249,
          4.424141094544857,
          4.568445612499959,
          4.489539682598182,
          4.424141094544857,
          4.420577389862855,
          4.424141094544857,
          4.606486823392667,
          4.017474284941018,
          4.424141094544857,
          4.43907532256711
         ],
         "y0": " ",
         "yaxis": "y"
        },
        {
         "alignmentgroup": "True",
         "hovertemplate": "color=3.0<br>Actual=%{x}<br>Predicted=%{y}<extra></extra>",
         "legendgroup": "3.0",
         "marker": {
          "color": "#00cc96"
         },
         "name": "3.0",
         "notched": false,
         "offsetgroup": "3.0",
         "orientation": "v",
         "showlegend": true,
         "type": "box",
         "x": [
          3,
          3,
          3,
          3,
          3,
          3,
          3,
          3,
          3,
          3,
          3,
          3,
          3,
          3,
          3,
          3,
          3,
          3,
          3,
          3,
          3,
          3,
          3,
          3,
          3,
          3,
          3,
          3,
          3,
          3,
          3,
          3,
          3,
          3,
          3,
          3,
          3,
          3,
          3,
          3,
          3,
          3,
          3,
          3,
          3,
          3,
          3,
          3,
          3,
          3,
          3,
          3,
          3,
          3,
          3
         ],
         "x0": " ",
         "xaxis": "x",
         "y": [
          4.216013665162606,
          4.424141094544857,
          4.34008592971624,
          3.146526362833102,
          3.9255744063902607,
          4.420577389862855,
          4.420577389862855,
          4.424141094544857,
          4.424141094544857,
          3.9904108374932346,
          4.465431816702392,
          4.420577389862855,
          4.398436753293167,
          4.247233264369783,
          2.9037744943246677,
          4.148263863839148,
          4.489539682598182,
          4.211556785502283,
          3.8786837734756237,
          3.9049149456340526,
          4.464466819151821,
          4.321951801724697,
          3.7617183809181487,
          4.393606451339781,
          4.270564354418363,
          3.421014864006577,
          4.642627290310586,
          4.423882160280592,
          4.4846297139620415,
          4.360478155008232,
          4.424141094544857,
          4.379286270238717,
          4.225073274088872,
          4.424141094544857,
          4.390842796263494,
          4.247233264369783,
          4.473152387479668,
          3.851600397951101,
          4.339818579661424,
          3.8559036526992414,
          4.424141094544857,
          4.424141094544857,
          4.5513044856377745,
          4.424141094544857,
          4.300316447343517,
          4.337238193343533,
          4.384986608923655,
          4.424141094544857,
          4.473152387479668,
          4.507083588316325,
          4.360763684277879,
          4.424141094544857,
          4.568445612499959,
          4.424141094544857,
          4.424141094544857
         ],
         "y0": " ",
         "yaxis": "y"
        },
        {
         "alignmentgroup": "True",
         "hovertemplate": "color=1.0<br>Actual=%{x}<br>Predicted=%{y}<extra></extra>",
         "legendgroup": "1.0",
         "marker": {
          "color": "#ab63fa"
         },
         "name": "1.0",
         "notched": false,
         "offsetgroup": "1.0",
         "orientation": "v",
         "showlegend": true,
         "type": "box",
         "x": [
          1,
          1,
          1,
          1,
          1,
          1,
          1,
          1,
          1,
          1,
          1,
          1
         ],
         "x0": " ",
         "xaxis": "x",
         "y": [
          4.263260153181893,
          4.424141094544857,
          4.568445612499959,
          4.321127298747289,
          4.414394306317802,
          4.390285141341194,
          4.520064586177672,
          2.5833877063760884,
          4.520043020394304,
          4.424141094544857,
          4.328884942142578,
          4.424141094544857
         ],
         "y0": " ",
         "yaxis": "y"
        },
        {
         "alignmentgroup": "True",
         "hovertemplate": "color=2.0<br>Actual=%{x}<br>Predicted=%{y}<extra></extra>",
         "legendgroup": "2.0",
         "marker": {
          "color": "#FFA15A"
         },
         "name": "2.0",
         "notched": false,
         "offsetgroup": "2.0",
         "orientation": "v",
         "showlegend": true,
         "type": "box",
         "x": [
          2,
          2,
          2,
          2,
          2,
          2,
          2,
          2,
          2,
          2,
          2,
          2,
          2,
          2,
          2,
          2,
          2,
          2,
          2,
          2,
          2,
          2,
          2,
          2,
          2,
          2
         ],
         "x0": " ",
         "xaxis": "x",
         "y": [
          4.451608263068744,
          3.6748154797168255,
          4.276292247921716,
          4.229283689621665,
          4.296127492579999,
          4.424141094544857,
          4.424141094544857,
          4.225719984939664,
          4.415824936435953,
          4.420577389862855,
          3.7980798763275603,
          4.369598704072236,
          3.4437007178560903,
          4.160848932296105,
          4.5311153925542245,
          3.3005589404780955,
          4.424141094544857,
          4.328660169465991,
          4.346206026649874,
          3.938988682884235,
          4.619756847851726,
          4.7144546214892165,
          4.527871443294346,
          4.424141094544857,
          3.685815166638375,
          3.309236978014966
         ],
         "y0": " ",
         "yaxis": "y"
        }
       ],
       "layout": {
        "boxmode": "group",
        "legend": {
         "title": {
          "text": "color"
         },
         "tracegroupgap": 0
        },
        "template": {
         "data": {
          "bar": [
           {
            "error_x": {
             "color": "#2a3f5f"
            },
            "error_y": {
             "color": "#2a3f5f"
            },
            "marker": {
             "line": {
              "color": "#E5ECF6",
              "width": 0.5
             },
             "pattern": {
              "fillmode": "overlay",
              "size": 10,
              "solidity": 0.2
             }
            },
            "type": "bar"
           }
          ],
          "barpolar": [
           {
            "marker": {
             "line": {
              "color": "#E5ECF6",
              "width": 0.5
             },
             "pattern": {
              "fillmode": "overlay",
              "size": 10,
              "solidity": 0.2
             }
            },
            "type": "barpolar"
           }
          ],
          "carpet": [
           {
            "aaxis": {
             "endlinecolor": "#2a3f5f",
             "gridcolor": "white",
             "linecolor": "white",
             "minorgridcolor": "white",
             "startlinecolor": "#2a3f5f"
            },
            "baxis": {
             "endlinecolor": "#2a3f5f",
             "gridcolor": "white",
             "linecolor": "white",
             "minorgridcolor": "white",
             "startlinecolor": "#2a3f5f"
            },
            "type": "carpet"
           }
          ],
          "choropleth": [
           {
            "colorbar": {
             "outlinewidth": 0,
             "ticks": ""
            },
            "type": "choropleth"
           }
          ],
          "contour": [
           {
            "colorbar": {
             "outlinewidth": 0,
             "ticks": ""
            },
            "colorscale": [
             [
              0,
              "#0d0887"
             ],
             [
              0.1111111111111111,
              "#46039f"
             ],
             [
              0.2222222222222222,
              "#7201a8"
             ],
             [
              0.3333333333333333,
              "#9c179e"
             ],
             [
              0.4444444444444444,
              "#bd3786"
             ],
             [
              0.5555555555555556,
              "#d8576b"
             ],
             [
              0.6666666666666666,
              "#ed7953"
             ],
             [
              0.7777777777777778,
              "#fb9f3a"
             ],
             [
              0.8888888888888888,
              "#fdca26"
             ],
             [
              1,
              "#f0f921"
             ]
            ],
            "type": "contour"
           }
          ],
          "contourcarpet": [
           {
            "colorbar": {
             "outlinewidth": 0,
             "ticks": ""
            },
            "type": "contourcarpet"
           }
          ],
          "heatmap": [
           {
            "colorbar": {
             "outlinewidth": 0,
             "ticks": ""
            },
            "colorscale": [
             [
              0,
              "#0d0887"
             ],
             [
              0.1111111111111111,
              "#46039f"
             ],
             [
              0.2222222222222222,
              "#7201a8"
             ],
             [
              0.3333333333333333,
              "#9c179e"
             ],
             [
              0.4444444444444444,
              "#bd3786"
             ],
             [
              0.5555555555555556,
              "#d8576b"
             ],
             [
              0.6666666666666666,
              "#ed7953"
             ],
             [
              0.7777777777777778,
              "#fb9f3a"
             ],
             [
              0.8888888888888888,
              "#fdca26"
             ],
             [
              1,
              "#f0f921"
             ]
            ],
            "type": "heatmap"
           }
          ],
          "heatmapgl": [
           {
            "colorbar": {
             "outlinewidth": 0,
             "ticks": ""
            },
            "colorscale": [
             [
              0,
              "#0d0887"
             ],
             [
              0.1111111111111111,
              "#46039f"
             ],
             [
              0.2222222222222222,
              "#7201a8"
             ],
             [
              0.3333333333333333,
              "#9c179e"
             ],
             [
              0.4444444444444444,
              "#bd3786"
             ],
             [
              0.5555555555555556,
              "#d8576b"
             ],
             [
              0.6666666666666666,
              "#ed7953"
             ],
             [
              0.7777777777777778,
              "#fb9f3a"
             ],
             [
              0.8888888888888888,
              "#fdca26"
             ],
             [
              1,
              "#f0f921"
             ]
            ],
            "type": "heatmapgl"
           }
          ],
          "histogram": [
           {
            "marker": {
             "pattern": {
              "fillmode": "overlay",
              "size": 10,
              "solidity": 0.2
             }
            },
            "type": "histogram"
           }
          ],
          "histogram2d": [
           {
            "colorbar": {
             "outlinewidth": 0,
             "ticks": ""
            },
            "colorscale": [
             [
              0,
              "#0d0887"
             ],
             [
              0.1111111111111111,
              "#46039f"
             ],
             [
              0.2222222222222222,
              "#7201a8"
             ],
             [
              0.3333333333333333,
              "#9c179e"
             ],
             [
              0.4444444444444444,
              "#bd3786"
             ],
             [
              0.5555555555555556,
              "#d8576b"
             ],
             [
              0.6666666666666666,
              "#ed7953"
             ],
             [
              0.7777777777777778,
              "#fb9f3a"
             ],
             [
              0.8888888888888888,
              "#fdca26"
             ],
             [
              1,
              "#f0f921"
             ]
            ],
            "type": "histogram2d"
           }
          ],
          "histogram2dcontour": [
           {
            "colorbar": {
             "outlinewidth": 0,
             "ticks": ""
            },
            "colorscale": [
             [
              0,
              "#0d0887"
             ],
             [
              0.1111111111111111,
              "#46039f"
             ],
             [
              0.2222222222222222,
              "#7201a8"
             ],
             [
              0.3333333333333333,
              "#9c179e"
             ],
             [
              0.4444444444444444,
              "#bd3786"
             ],
             [
              0.5555555555555556,
              "#d8576b"
             ],
             [
              0.6666666666666666,
              "#ed7953"
             ],
             [
              0.7777777777777778,
              "#fb9f3a"
             ],
             [
              0.8888888888888888,
              "#fdca26"
             ],
             [
              1,
              "#f0f921"
             ]
            ],
            "type": "histogram2dcontour"
           }
          ],
          "mesh3d": [
           {
            "colorbar": {
             "outlinewidth": 0,
             "ticks": ""
            },
            "type": "mesh3d"
           }
          ],
          "parcoords": [
           {
            "line": {
             "colorbar": {
              "outlinewidth": 0,
              "ticks": ""
             }
            },
            "type": "parcoords"
           }
          ],
          "pie": [
           {
            "automargin": true,
            "type": "pie"
           }
          ],
          "scatter": [
           {
            "marker": {
             "colorbar": {
              "outlinewidth": 0,
              "ticks": ""
             }
            },
            "type": "scatter"
           }
          ],
          "scatter3d": [
           {
            "line": {
             "colorbar": {
              "outlinewidth": 0,
              "ticks": ""
             }
            },
            "marker": {
             "colorbar": {
              "outlinewidth": 0,
              "ticks": ""
             }
            },
            "type": "scatter3d"
           }
          ],
          "scattercarpet": [
           {
            "marker": {
             "colorbar": {
              "outlinewidth": 0,
              "ticks": ""
             }
            },
            "type": "scattercarpet"
           }
          ],
          "scattergeo": [
           {
            "marker": {
             "colorbar": {
              "outlinewidth": 0,
              "ticks": ""
             }
            },
            "type": "scattergeo"
           }
          ],
          "scattergl": [
           {
            "marker": {
             "colorbar": {
              "outlinewidth": 0,
              "ticks": ""
             }
            },
            "type": "scattergl"
           }
          ],
          "scattermapbox": [
           {
            "marker": {
             "colorbar": {
              "outlinewidth": 0,
              "ticks": ""
             }
            },
            "type": "scattermapbox"
           }
          ],
          "scatterpolar": [
           {
            "marker": {
             "colorbar": {
              "outlinewidth": 0,
              "ticks": ""
             }
            },
            "type": "scatterpolar"
           }
          ],
          "scatterpolargl": [
           {
            "marker": {
             "colorbar": {
              "outlinewidth": 0,
              "ticks": ""
             }
            },
            "type": "scatterpolargl"
           }
          ],
          "scatterternary": [
           {
            "marker": {
             "colorbar": {
              "outlinewidth": 0,
              "ticks": ""
             }
            },
            "type": "scatterternary"
           }
          ],
          "surface": [
           {
            "colorbar": {
             "outlinewidth": 0,
             "ticks": ""
            },
            "colorscale": [
             [
              0,
              "#0d0887"
             ],
             [
              0.1111111111111111,
              "#46039f"
             ],
             [
              0.2222222222222222,
              "#7201a8"
             ],
             [
              0.3333333333333333,
              "#9c179e"
             ],
             [
              0.4444444444444444,
              "#bd3786"
             ],
             [
              0.5555555555555556,
              "#d8576b"
             ],
             [
              0.6666666666666666,
              "#ed7953"
             ],
             [
              0.7777777777777778,
              "#fb9f3a"
             ],
             [
              0.8888888888888888,
              "#fdca26"
             ],
             [
              1,
              "#f0f921"
             ]
            ],
            "type": "surface"
           }
          ],
          "table": [
           {
            "cells": {
             "fill": {
              "color": "#EBF0F8"
             },
             "line": {
              "color": "white"
             }
            },
            "header": {
             "fill": {
              "color": "#C8D4E3"
             },
             "line": {
              "color": "white"
             }
            },
            "type": "table"
           }
          ]
         },
         "layout": {
          "annotationdefaults": {
           "arrowcolor": "#2a3f5f",
           "arrowhead": 0,
           "arrowwidth": 1
          },
          "autotypenumbers": "strict",
          "coloraxis": {
           "colorbar": {
            "outlinewidth": 0,
            "ticks": ""
           }
          },
          "colorscale": {
           "diverging": [
            [
             0,
             "#8e0152"
            ],
            [
             0.1,
             "#c51b7d"
            ],
            [
             0.2,
             "#de77ae"
            ],
            [
             0.3,
             "#f1b6da"
            ],
            [
             0.4,
             "#fde0ef"
            ],
            [
             0.5,
             "#f7f7f7"
            ],
            [
             0.6,
             "#e6f5d0"
            ],
            [
             0.7,
             "#b8e186"
            ],
            [
             0.8,
             "#7fbc41"
            ],
            [
             0.9,
             "#4d9221"
            ],
            [
             1,
             "#276419"
            ]
           ],
           "sequential": [
            [
             0,
             "#0d0887"
            ],
            [
             0.1111111111111111,
             "#46039f"
            ],
            [
             0.2222222222222222,
             "#7201a8"
            ],
            [
             0.3333333333333333,
             "#9c179e"
            ],
            [
             0.4444444444444444,
             "#bd3786"
            ],
            [
             0.5555555555555556,
             "#d8576b"
            ],
            [
             0.6666666666666666,
             "#ed7953"
            ],
            [
             0.7777777777777778,
             "#fb9f3a"
            ],
            [
             0.8888888888888888,
             "#fdca26"
            ],
            [
             1,
             "#f0f921"
            ]
           ],
           "sequentialminus": [
            [
             0,
             "#0d0887"
            ],
            [
             0.1111111111111111,
             "#46039f"
            ],
            [
             0.2222222222222222,
             "#7201a8"
            ],
            [
             0.3333333333333333,
             "#9c179e"
            ],
            [
             0.4444444444444444,
             "#bd3786"
            ],
            [
             0.5555555555555556,
             "#d8576b"
            ],
            [
             0.6666666666666666,
             "#ed7953"
            ],
            [
             0.7777777777777778,
             "#fb9f3a"
            ],
            [
             0.8888888888888888,
             "#fdca26"
            ],
            [
             1,
             "#f0f921"
            ]
           ]
          },
          "colorway": [
           "#636efa",
           "#EF553B",
           "#00cc96",
           "#ab63fa",
           "#FFA15A",
           "#19d3f3",
           "#FF6692",
           "#B6E880",
           "#FF97FF",
           "#FECB52"
          ],
          "font": {
           "color": "#2a3f5f"
          },
          "geo": {
           "bgcolor": "white",
           "lakecolor": "white",
           "landcolor": "#E5ECF6",
           "showlakes": true,
           "showland": true,
           "subunitcolor": "white"
          },
          "hoverlabel": {
           "align": "left"
          },
          "hovermode": "closest",
          "mapbox": {
           "style": "light"
          },
          "paper_bgcolor": "white",
          "plot_bgcolor": "#E5ECF6",
          "polar": {
           "angularaxis": {
            "gridcolor": "white",
            "linecolor": "white",
            "ticks": ""
           },
           "bgcolor": "#E5ECF6",
           "radialaxis": {
            "gridcolor": "white",
            "linecolor": "white",
            "ticks": ""
           }
          },
          "scene": {
           "xaxis": {
            "backgroundcolor": "#E5ECF6",
            "gridcolor": "white",
            "gridwidth": 2,
            "linecolor": "white",
            "showbackground": true,
            "ticks": "",
            "zerolinecolor": "white"
           },
           "yaxis": {
            "backgroundcolor": "#E5ECF6",
            "gridcolor": "white",
            "gridwidth": 2,
            "linecolor": "white",
            "showbackground": true,
            "ticks": "",
            "zerolinecolor": "white"
           },
           "zaxis": {
            "backgroundcolor": "#E5ECF6",
            "gridcolor": "white",
            "gridwidth": 2,
            "linecolor": "white",
            "showbackground": true,
            "ticks": "",
            "zerolinecolor": "white"
           }
          },
          "shapedefaults": {
           "line": {
            "color": "#2a3f5f"
           }
          },
          "ternary": {
           "aaxis": {
            "gridcolor": "white",
            "linecolor": "white",
            "ticks": ""
           },
           "baxis": {
            "gridcolor": "white",
            "linecolor": "white",
            "ticks": ""
           },
           "bgcolor": "#E5ECF6",
           "caxis": {
            "gridcolor": "white",
            "linecolor": "white",
            "ticks": ""
           }
          },
          "title": {
           "x": 0.05
          },
          "xaxis": {
           "automargin": true,
           "gridcolor": "white",
           "linecolor": "white",
           "ticks": "",
           "title": {
            "standoff": 15
           },
           "zerolinecolor": "white",
           "zerolinewidth": 2
          },
          "yaxis": {
           "automargin": true,
           "gridcolor": "white",
           "linecolor": "white",
           "ticks": "",
           "title": {
            "standoff": 15
           },
           "zerolinecolor": "white",
           "zerolinewidth": 2
          }
         }
        },
        "title": {
         "text": "Actual vs Predicted / R² = 0.104 / MAE = 0.511"
        },
        "xaxis": {
         "anchor": "y",
         "domain": [
          0,
          1
         ],
         "title": {
          "text": "Actual"
         }
        },
        "yaxis": {
         "anchor": "x",
         "domain": [
          0,
          1
         ],
         "title": {
          "text": "Predicted"
         }
        }
       }
      }
     },
     "metadata": {},
     "output_type": "display_data"
    }
   ],
   "source": [
    "from sklearn.feature_extraction.text import CountVectorizer\n",
    "from nltk.corpus import stopwords\n",
    "from nltk.stem import WordNetLemmatizer\n",
    "import string\n",
    "\n",
    "\n",
    "vectorizer = CountVectorizer(\n",
    "    preprocessor=lambda x: WordNetLemmatizer().lemmatize(x.lower())\n",
    "    if x not in string.punctuation\n",
    "    else None,\n",
    "    stop_words=stopwords.words(\"english\"),\n",
    "    ngram_range=(1, 3),\n",
    "    max_df=0.9,\n",
    "    min_df=2,\n",
    ")\n",
    "X_train_vec = vectorizer.fit_transform(X_train)\n",
    "X_test_vec = vectorizer.transform(X_test)\n",
    "\n",
    "\n",
    "from sklearn.preprocessing import StandardScaler\n",
    "\n",
    "\n",
    "scaler = StandardScaler().fit(X_train_vec.toarray())\n",
    "\n",
    "X_train_std = scaler.transform(X_train_vec.toarray())\n",
    "X_test_std = scaler.transform(X_test_vec.toarray())\n",
    "\n",
    "\n",
    "words_count = pd.Series(\n",
    "    X_train_vec.sum(axis=0).tolist()[0],\n",
    "    index=vectorizer.get_feature_names(),\n",
    ")\n",
    "\n",
    "top_20_count = words_count.sort_values(ascending=False).head(20)\n",
    "\n",
    "fig = px.bar(\n",
    "    top_20_count,\n",
    "    x=top_20_count.index,\n",
    "    y=top_20_count.values,\n",
    "    labels={\"x\": \"Word\", \"y\": \"Count\"},\n",
    "    title=\"Top 20 words in reviews\",\n",
    "    color=top_20_count.values,\n",
    ")\n",
    "fig.show()\n",
    "\n",
    "\n",
    "from sklearn.linear_model import ElasticNetCV\n",
    "\n",
    "\n",
    "reg = ElasticNetCV(random_state=42, n_jobs=-1).fit(X_train_std, y_train)\n",
    "coefs = pd.Series(reg.coef_, index=vectorizer.get_feature_names())\n",
    "\n",
    "top_20_coefs = coefs.nlargest(10).append(coefs.nsmallest(10)).sort_values()\n",
    "\n",
    "fig = px.bar(\n",
    "    top_20_coefs,\n",
    "    x=top_20_coefs.index,\n",
    "    y=top_20_coefs.values,\n",
    "    labels={\"x\": \"Word\", \"y\": \"Count\"},\n",
    "    title=\"Top 20 words in reviews\",\n",
    "    color=top_20_coefs.values,\n",
    ")\n",
    "fig.show()\n",
    "\n",
    "\n",
    "y_pred = reg.predict(X_test_std)\n",
    "\n",
    "\n",
    "from sklearn.metrics import median_absolute_error, r2_score\n",
    "\n",
    "\n",
    "fig = px.box(\n",
    "    x=y_test,\n",
    "    y=y_pred,\n",
    "    labels={\"x\": \"Actual\", \"y\": \"Predicted\"},\n",
    "    title=f\"Actual vs Predicted / R² = {round(r2_score(y_test, y_pred), 3)} / MAE = {round(median_absolute_error(y_test, y_pred), 3)}\",\n",
    "    color=y_test,\n",
    ")\n",
    "fig.show()\n"
   ]
  },
  {
   "cell_type": "code",
   "execution_count": 36,
   "metadata": {},
   "outputs": [
    {
     "name": "stderr",
     "output_type": "stream",
     "text": [
      "/home/clement/Workspace/oc_p6/env/lib/python3.9/site-packages/sklearn/feature_extraction/text.py:388: UserWarning:\n",
      "\n",
      "Your stop_words may be inconsistent with your preprocessing. Tokenizing the stop words generated tokens ['could', 'far', 'might', 'must', 'need', 'shall', 'win', 'would'] not in stop_words.\n",
      "\n"
     ]
    },
    {
     "data": {
      "application/vnd.plotly.v1+json": {
       "config": {
        "plotlyServerURL": "https://plot.ly"
       },
       "data": [
        {
         "alignmentgroup": "True",
         "hovertemplate": "index=%{x}<br>Count=%{y}<br>color=%{marker.color}<extra></extra>",
         "legendgroup": "",
         "marker": {
          "color": [
           598,
           550,
           463,
           349,
           340,
           313,
           272,
           260,
           256,
           242,
           206,
           188,
           166,
           160,
           159,
           152,
           151,
           151,
           150,
           145
          ],
          "coloraxis": "coloraxis",
          "pattern": {
           "shape": ""
          }
         },
         "name": "",
         "offsetgroup": "",
         "orientation": "v",
         "showlegend": false,
         "textposition": "auto",
         "type": "bar",
         "x": [
          "place",
          "good",
          "food",
          "restaurant",
          "great",
          "come",
          "get",
          "go",
          "one",
          "service",
          "try",
          "time",
          "order",
          "amazing",
          "delicious",
          "love",
          "make",
          "first",
          "like",
          "find"
         ],
         "xaxis": "x",
         "y": [
          598,
          550,
          463,
          349,
          340,
          313,
          272,
          260,
          256,
          242,
          206,
          188,
          166,
          160,
          159,
          152,
          151,
          151,
          150,
          145
         ],
         "yaxis": "y"
        }
       ],
       "layout": {
        "barmode": "relative",
        "coloraxis": {
         "colorbar": {
          "title": {
           "text": "color"
          }
         },
         "colorscale": [
          [
           0,
           "#0d0887"
          ],
          [
           0.1111111111111111,
           "#46039f"
          ],
          [
           0.2222222222222222,
           "#7201a8"
          ],
          [
           0.3333333333333333,
           "#9c179e"
          ],
          [
           0.4444444444444444,
           "#bd3786"
          ],
          [
           0.5555555555555556,
           "#d8576b"
          ],
          [
           0.6666666666666666,
           "#ed7953"
          ],
          [
           0.7777777777777778,
           "#fb9f3a"
          ],
          [
           0.8888888888888888,
           "#fdca26"
          ],
          [
           1,
           "#f0f921"
          ]
         ]
        },
        "legend": {
         "tracegroupgap": 0
        },
        "template": {
         "data": {
          "bar": [
           {
            "error_x": {
             "color": "#2a3f5f"
            },
            "error_y": {
             "color": "#2a3f5f"
            },
            "marker": {
             "line": {
              "color": "#E5ECF6",
              "width": 0.5
             },
             "pattern": {
              "fillmode": "overlay",
              "size": 10,
              "solidity": 0.2
             }
            },
            "type": "bar"
           }
          ],
          "barpolar": [
           {
            "marker": {
             "line": {
              "color": "#E5ECF6",
              "width": 0.5
             },
             "pattern": {
              "fillmode": "overlay",
              "size": 10,
              "solidity": 0.2
             }
            },
            "type": "barpolar"
           }
          ],
          "carpet": [
           {
            "aaxis": {
             "endlinecolor": "#2a3f5f",
             "gridcolor": "white",
             "linecolor": "white",
             "minorgridcolor": "white",
             "startlinecolor": "#2a3f5f"
            },
            "baxis": {
             "endlinecolor": "#2a3f5f",
             "gridcolor": "white",
             "linecolor": "white",
             "minorgridcolor": "white",
             "startlinecolor": "#2a3f5f"
            },
            "type": "carpet"
           }
          ],
          "choropleth": [
           {
            "colorbar": {
             "outlinewidth": 0,
             "ticks": ""
            },
            "type": "choropleth"
           }
          ],
          "contour": [
           {
            "colorbar": {
             "outlinewidth": 0,
             "ticks": ""
            },
            "colorscale": [
             [
              0,
              "#0d0887"
             ],
             [
              0.1111111111111111,
              "#46039f"
             ],
             [
              0.2222222222222222,
              "#7201a8"
             ],
             [
              0.3333333333333333,
              "#9c179e"
             ],
             [
              0.4444444444444444,
              "#bd3786"
             ],
             [
              0.5555555555555556,
              "#d8576b"
             ],
             [
              0.6666666666666666,
              "#ed7953"
             ],
             [
              0.7777777777777778,
              "#fb9f3a"
             ],
             [
              0.8888888888888888,
              "#fdca26"
             ],
             [
              1,
              "#f0f921"
             ]
            ],
            "type": "contour"
           }
          ],
          "contourcarpet": [
           {
            "colorbar": {
             "outlinewidth": 0,
             "ticks": ""
            },
            "type": "contourcarpet"
           }
          ],
          "heatmap": [
           {
            "colorbar": {
             "outlinewidth": 0,
             "ticks": ""
            },
            "colorscale": [
             [
              0,
              "#0d0887"
             ],
             [
              0.1111111111111111,
              "#46039f"
             ],
             [
              0.2222222222222222,
              "#7201a8"
             ],
             [
              0.3333333333333333,
              "#9c179e"
             ],
             [
              0.4444444444444444,
              "#bd3786"
             ],
             [
              0.5555555555555556,
              "#d8576b"
             ],
             [
              0.6666666666666666,
              "#ed7953"
             ],
             [
              0.7777777777777778,
              "#fb9f3a"
             ],
             [
              0.8888888888888888,
              "#fdca26"
             ],
             [
              1,
              "#f0f921"
             ]
            ],
            "type": "heatmap"
           }
          ],
          "heatmapgl": [
           {
            "colorbar": {
             "outlinewidth": 0,
             "ticks": ""
            },
            "colorscale": [
             [
              0,
              "#0d0887"
             ],
             [
              0.1111111111111111,
              "#46039f"
             ],
             [
              0.2222222222222222,
              "#7201a8"
             ],
             [
              0.3333333333333333,
              "#9c179e"
             ],
             [
              0.4444444444444444,
              "#bd3786"
             ],
             [
              0.5555555555555556,
              "#d8576b"
             ],
             [
              0.6666666666666666,
              "#ed7953"
             ],
             [
              0.7777777777777778,
              "#fb9f3a"
             ],
             [
              0.8888888888888888,
              "#fdca26"
             ],
             [
              1,
              "#f0f921"
             ]
            ],
            "type": "heatmapgl"
           }
          ],
          "histogram": [
           {
            "marker": {
             "pattern": {
              "fillmode": "overlay",
              "size": 10,
              "solidity": 0.2
             }
            },
            "type": "histogram"
           }
          ],
          "histogram2d": [
           {
            "colorbar": {
             "outlinewidth": 0,
             "ticks": ""
            },
            "colorscale": [
             [
              0,
              "#0d0887"
             ],
             [
              0.1111111111111111,
              "#46039f"
             ],
             [
              0.2222222222222222,
              "#7201a8"
             ],
             [
              0.3333333333333333,
              "#9c179e"
             ],
             [
              0.4444444444444444,
              "#bd3786"
             ],
             [
              0.5555555555555556,
              "#d8576b"
             ],
             [
              0.6666666666666666,
              "#ed7953"
             ],
             [
              0.7777777777777778,
              "#fb9f3a"
             ],
             [
              0.8888888888888888,
              "#fdca26"
             ],
             [
              1,
              "#f0f921"
             ]
            ],
            "type": "histogram2d"
           }
          ],
          "histogram2dcontour": [
           {
            "colorbar": {
             "outlinewidth": 0,
             "ticks": ""
            },
            "colorscale": [
             [
              0,
              "#0d0887"
             ],
             [
              0.1111111111111111,
              "#46039f"
             ],
             [
              0.2222222222222222,
              "#7201a8"
             ],
             [
              0.3333333333333333,
              "#9c179e"
             ],
             [
              0.4444444444444444,
              "#bd3786"
             ],
             [
              0.5555555555555556,
              "#d8576b"
             ],
             [
              0.6666666666666666,
              "#ed7953"
             ],
             [
              0.7777777777777778,
              "#fb9f3a"
             ],
             [
              0.8888888888888888,
              "#fdca26"
             ],
             [
              1,
              "#f0f921"
             ]
            ],
            "type": "histogram2dcontour"
           }
          ],
          "mesh3d": [
           {
            "colorbar": {
             "outlinewidth": 0,
             "ticks": ""
            },
            "type": "mesh3d"
           }
          ],
          "parcoords": [
           {
            "line": {
             "colorbar": {
              "outlinewidth": 0,
              "ticks": ""
             }
            },
            "type": "parcoords"
           }
          ],
          "pie": [
           {
            "automargin": true,
            "type": "pie"
           }
          ],
          "scatter": [
           {
            "marker": {
             "colorbar": {
              "outlinewidth": 0,
              "ticks": ""
             }
            },
            "type": "scatter"
           }
          ],
          "scatter3d": [
           {
            "line": {
             "colorbar": {
              "outlinewidth": 0,
              "ticks": ""
             }
            },
            "marker": {
             "colorbar": {
              "outlinewidth": 0,
              "ticks": ""
             }
            },
            "type": "scatter3d"
           }
          ],
          "scattercarpet": [
           {
            "marker": {
             "colorbar": {
              "outlinewidth": 0,
              "ticks": ""
             }
            },
            "type": "scattercarpet"
           }
          ],
          "scattergeo": [
           {
            "marker": {
             "colorbar": {
              "outlinewidth": 0,
              "ticks": ""
             }
            },
            "type": "scattergeo"
           }
          ],
          "scattergl": [
           {
            "marker": {
             "colorbar": {
              "outlinewidth": 0,
              "ticks": ""
             }
            },
            "type": "scattergl"
           }
          ],
          "scattermapbox": [
           {
            "marker": {
             "colorbar": {
              "outlinewidth": 0,
              "ticks": ""
             }
            },
            "type": "scattermapbox"
           }
          ],
          "scatterpolar": [
           {
            "marker": {
             "colorbar": {
              "outlinewidth": 0,
              "ticks": ""
             }
            },
            "type": "scatterpolar"
           }
          ],
          "scatterpolargl": [
           {
            "marker": {
             "colorbar": {
              "outlinewidth": 0,
              "ticks": ""
             }
            },
            "type": "scatterpolargl"
           }
          ],
          "scatterternary": [
           {
            "marker": {
             "colorbar": {
              "outlinewidth": 0,
              "ticks": ""
             }
            },
            "type": "scatterternary"
           }
          ],
          "surface": [
           {
            "colorbar": {
             "outlinewidth": 0,
             "ticks": ""
            },
            "colorscale": [
             [
              0,
              "#0d0887"
             ],
             [
              0.1111111111111111,
              "#46039f"
             ],
             [
              0.2222222222222222,
              "#7201a8"
             ],
             [
              0.3333333333333333,
              "#9c179e"
             ],
             [
              0.4444444444444444,
              "#bd3786"
             ],
             [
              0.5555555555555556,
              "#d8576b"
             ],
             [
              0.6666666666666666,
              "#ed7953"
             ],
             [
              0.7777777777777778,
              "#fb9f3a"
             ],
             [
              0.8888888888888888,
              "#fdca26"
             ],
             [
              1,
              "#f0f921"
             ]
            ],
            "type": "surface"
           }
          ],
          "table": [
           {
            "cells": {
             "fill": {
              "color": "#EBF0F8"
             },
             "line": {
              "color": "white"
             }
            },
            "header": {
             "fill": {
              "color": "#C8D4E3"
             },
             "line": {
              "color": "white"
             }
            },
            "type": "table"
           }
          ]
         },
         "layout": {
          "annotationdefaults": {
           "arrowcolor": "#2a3f5f",
           "arrowhead": 0,
           "arrowwidth": 1
          },
          "autotypenumbers": "strict",
          "coloraxis": {
           "colorbar": {
            "outlinewidth": 0,
            "ticks": ""
           }
          },
          "colorscale": {
           "diverging": [
            [
             0,
             "#8e0152"
            ],
            [
             0.1,
             "#c51b7d"
            ],
            [
             0.2,
             "#de77ae"
            ],
            [
             0.3,
             "#f1b6da"
            ],
            [
             0.4,
             "#fde0ef"
            ],
            [
             0.5,
             "#f7f7f7"
            ],
            [
             0.6,
             "#e6f5d0"
            ],
            [
             0.7,
             "#b8e186"
            ],
            [
             0.8,
             "#7fbc41"
            ],
            [
             0.9,
             "#4d9221"
            ],
            [
             1,
             "#276419"
            ]
           ],
           "sequential": [
            [
             0,
             "#0d0887"
            ],
            [
             0.1111111111111111,
             "#46039f"
            ],
            [
             0.2222222222222222,
             "#7201a8"
            ],
            [
             0.3333333333333333,
             "#9c179e"
            ],
            [
             0.4444444444444444,
             "#bd3786"
            ],
            [
             0.5555555555555556,
             "#d8576b"
            ],
            [
             0.6666666666666666,
             "#ed7953"
            ],
            [
             0.7777777777777778,
             "#fb9f3a"
            ],
            [
             0.8888888888888888,
             "#fdca26"
            ],
            [
             1,
             "#f0f921"
            ]
           ],
           "sequentialminus": [
            [
             0,
             "#0d0887"
            ],
            [
             0.1111111111111111,
             "#46039f"
            ],
            [
             0.2222222222222222,
             "#7201a8"
            ],
            [
             0.3333333333333333,
             "#9c179e"
            ],
            [
             0.4444444444444444,
             "#bd3786"
            ],
            [
             0.5555555555555556,
             "#d8576b"
            ],
            [
             0.6666666666666666,
             "#ed7953"
            ],
            [
             0.7777777777777778,
             "#fb9f3a"
            ],
            [
             0.8888888888888888,
             "#fdca26"
            ],
            [
             1,
             "#f0f921"
            ]
           ]
          },
          "colorway": [
           "#636efa",
           "#EF553B",
           "#00cc96",
           "#ab63fa",
           "#FFA15A",
           "#19d3f3",
           "#FF6692",
           "#B6E880",
           "#FF97FF",
           "#FECB52"
          ],
          "font": {
           "color": "#2a3f5f"
          },
          "geo": {
           "bgcolor": "white",
           "lakecolor": "white",
           "landcolor": "#E5ECF6",
           "showlakes": true,
           "showland": true,
           "subunitcolor": "white"
          },
          "hoverlabel": {
           "align": "left"
          },
          "hovermode": "closest",
          "mapbox": {
           "style": "light"
          },
          "paper_bgcolor": "white",
          "plot_bgcolor": "#E5ECF6",
          "polar": {
           "angularaxis": {
            "gridcolor": "white",
            "linecolor": "white",
            "ticks": ""
           },
           "bgcolor": "#E5ECF6",
           "radialaxis": {
            "gridcolor": "white",
            "linecolor": "white",
            "ticks": ""
           }
          },
          "scene": {
           "xaxis": {
            "backgroundcolor": "#E5ECF6",
            "gridcolor": "white",
            "gridwidth": 2,
            "linecolor": "white",
            "showbackground": true,
            "ticks": "",
            "zerolinecolor": "white"
           },
           "yaxis": {
            "backgroundcolor": "#E5ECF6",
            "gridcolor": "white",
            "gridwidth": 2,
            "linecolor": "white",
            "showbackground": true,
            "ticks": "",
            "zerolinecolor": "white"
           },
           "zaxis": {
            "backgroundcolor": "#E5ECF6",
            "gridcolor": "white",
            "gridwidth": 2,
            "linecolor": "white",
            "showbackground": true,
            "ticks": "",
            "zerolinecolor": "white"
           }
          },
          "shapedefaults": {
           "line": {
            "color": "#2a3f5f"
           }
          },
          "ternary": {
           "aaxis": {
            "gridcolor": "white",
            "linecolor": "white",
            "ticks": ""
           },
           "baxis": {
            "gridcolor": "white",
            "linecolor": "white",
            "ticks": ""
           },
           "bgcolor": "#E5ECF6",
           "caxis": {
            "gridcolor": "white",
            "linecolor": "white",
            "ticks": ""
           }
          },
          "title": {
           "x": 0.05
          },
          "xaxis": {
           "automargin": true,
           "gridcolor": "white",
           "linecolor": "white",
           "ticks": "",
           "title": {
            "standoff": 15
           },
           "zerolinecolor": "white",
           "zerolinewidth": 2
          },
          "yaxis": {
           "automargin": true,
           "gridcolor": "white",
           "linecolor": "white",
           "ticks": "",
           "title": {
            "standoff": 15
           },
           "zerolinecolor": "white",
           "zerolinewidth": 2
          }
         }
        },
        "title": {
         "text": "Top 20 words in reviews"
        },
        "xaxis": {
         "anchor": "y",
         "domain": [
          0,
          1
         ],
         "title": {
          "text": "index"
         }
        },
        "yaxis": {
         "anchor": "x",
         "domain": [
          0,
          1
         ],
         "title": {
          "text": "Count"
         }
        }
       }
      }
     },
     "metadata": {},
     "output_type": "display_data"
    },
    {
     "data": {
      "application/vnd.plotly.v1+json": {
       "config": {
        "plotlyServerURL": "https://plot.ly"
       },
       "data": [
        {
         "alignmentgroup": "True",
         "hovertemplate": "index=%{x}<br>Count=%{y}<br>color=%{marker.color}<extra></extra>",
         "legendgroup": "",
         "marker": {
          "color": [
           -0.07077913946809045,
           -0.07069874690546034,
           -0.06903468327121823,
           -0.06372920466320885,
           -0.061306468006670056,
           -0.05926788984984734,
           -0.05445243566342374,
           -0.047440180521429544,
           -0.0474262798882609,
           -0.047287616657154474,
           0.012889289052691065,
           0.014840064517480451,
           0.01564294813139329,
           0.015714658349492015,
           0.017139619965089534,
           0.02449150905227925,
           0.024789132532545704,
           0.026608444960749728,
           0.041040104251077555,
           0.05750864557465358
          ],
          "coloraxis": "coloraxis",
          "pattern": {
           "shape": ""
          }
         },
         "name": "",
         "offsetgroup": "",
         "orientation": "v",
         "showlegend": false,
         "textposition": "auto",
         "type": "bar",
         "x": [
          "excited try",
          "rude",
          "okay",
          "ok",
          "disappointing",
          "bad",
          "watch people",
          "downhill",
          "terrible",
          "mediocre",
          "incredible",
          "excellent",
          "wow",
          "tokyo",
          "great",
          "delicious",
          "paris",
          "ever",
          "favorite",
          "amazing"
         ],
         "xaxis": "x",
         "y": [
          -0.07077913946809045,
          -0.07069874690546034,
          -0.06903468327121823,
          -0.06372920466320885,
          -0.061306468006670056,
          -0.05926788984984734,
          -0.05445243566342374,
          -0.047440180521429544,
          -0.0474262798882609,
          -0.047287616657154474,
          0.012889289052691065,
          0.014840064517480451,
          0.01564294813139329,
          0.015714658349492015,
          0.017139619965089534,
          0.02449150905227925,
          0.024789132532545704,
          0.026608444960749728,
          0.041040104251077555,
          0.05750864557465358
         ],
         "yaxis": "y"
        }
       ],
       "layout": {
        "barmode": "relative",
        "coloraxis": {
         "colorbar": {
          "title": {
           "text": "color"
          }
         },
         "colorscale": [
          [
           0,
           "#0d0887"
          ],
          [
           0.1111111111111111,
           "#46039f"
          ],
          [
           0.2222222222222222,
           "#7201a8"
          ],
          [
           0.3333333333333333,
           "#9c179e"
          ],
          [
           0.4444444444444444,
           "#bd3786"
          ],
          [
           0.5555555555555556,
           "#d8576b"
          ],
          [
           0.6666666666666666,
           "#ed7953"
          ],
          [
           0.7777777777777778,
           "#fb9f3a"
          ],
          [
           0.8888888888888888,
           "#fdca26"
          ],
          [
           1,
           "#f0f921"
          ]
         ]
        },
        "legend": {
         "tracegroupgap": 0
        },
        "template": {
         "data": {
          "bar": [
           {
            "error_x": {
             "color": "#2a3f5f"
            },
            "error_y": {
             "color": "#2a3f5f"
            },
            "marker": {
             "line": {
              "color": "#E5ECF6",
              "width": 0.5
             },
             "pattern": {
              "fillmode": "overlay",
              "size": 10,
              "solidity": 0.2
             }
            },
            "type": "bar"
           }
          ],
          "barpolar": [
           {
            "marker": {
             "line": {
              "color": "#E5ECF6",
              "width": 0.5
             },
             "pattern": {
              "fillmode": "overlay",
              "size": 10,
              "solidity": 0.2
             }
            },
            "type": "barpolar"
           }
          ],
          "carpet": [
           {
            "aaxis": {
             "endlinecolor": "#2a3f5f",
             "gridcolor": "white",
             "linecolor": "white",
             "minorgridcolor": "white",
             "startlinecolor": "#2a3f5f"
            },
            "baxis": {
             "endlinecolor": "#2a3f5f",
             "gridcolor": "white",
             "linecolor": "white",
             "minorgridcolor": "white",
             "startlinecolor": "#2a3f5f"
            },
            "type": "carpet"
           }
          ],
          "choropleth": [
           {
            "colorbar": {
             "outlinewidth": 0,
             "ticks": ""
            },
            "type": "choropleth"
           }
          ],
          "contour": [
           {
            "colorbar": {
             "outlinewidth": 0,
             "ticks": ""
            },
            "colorscale": [
             [
              0,
              "#0d0887"
             ],
             [
              0.1111111111111111,
              "#46039f"
             ],
             [
              0.2222222222222222,
              "#7201a8"
             ],
             [
              0.3333333333333333,
              "#9c179e"
             ],
             [
              0.4444444444444444,
              "#bd3786"
             ],
             [
              0.5555555555555556,
              "#d8576b"
             ],
             [
              0.6666666666666666,
              "#ed7953"
             ],
             [
              0.7777777777777778,
              "#fb9f3a"
             ],
             [
              0.8888888888888888,
              "#fdca26"
             ],
             [
              1,
              "#f0f921"
             ]
            ],
            "type": "contour"
           }
          ],
          "contourcarpet": [
           {
            "colorbar": {
             "outlinewidth": 0,
             "ticks": ""
            },
            "type": "contourcarpet"
           }
          ],
          "heatmap": [
           {
            "colorbar": {
             "outlinewidth": 0,
             "ticks": ""
            },
            "colorscale": [
             [
              0,
              "#0d0887"
             ],
             [
              0.1111111111111111,
              "#46039f"
             ],
             [
              0.2222222222222222,
              "#7201a8"
             ],
             [
              0.3333333333333333,
              "#9c179e"
             ],
             [
              0.4444444444444444,
              "#bd3786"
             ],
             [
              0.5555555555555556,
              "#d8576b"
             ],
             [
              0.6666666666666666,
              "#ed7953"
             ],
             [
              0.7777777777777778,
              "#fb9f3a"
             ],
             [
              0.8888888888888888,
              "#fdca26"
             ],
             [
              1,
              "#f0f921"
             ]
            ],
            "type": "heatmap"
           }
          ],
          "heatmapgl": [
           {
            "colorbar": {
             "outlinewidth": 0,
             "ticks": ""
            },
            "colorscale": [
             [
              0,
              "#0d0887"
             ],
             [
              0.1111111111111111,
              "#46039f"
             ],
             [
              0.2222222222222222,
              "#7201a8"
             ],
             [
              0.3333333333333333,
              "#9c179e"
             ],
             [
              0.4444444444444444,
              "#bd3786"
             ],
             [
              0.5555555555555556,
              "#d8576b"
             ],
             [
              0.6666666666666666,
              "#ed7953"
             ],
             [
              0.7777777777777778,
              "#fb9f3a"
             ],
             [
              0.8888888888888888,
              "#fdca26"
             ],
             [
              1,
              "#f0f921"
             ]
            ],
            "type": "heatmapgl"
           }
          ],
          "histogram": [
           {
            "marker": {
             "pattern": {
              "fillmode": "overlay",
              "size": 10,
              "solidity": 0.2
             }
            },
            "type": "histogram"
           }
          ],
          "histogram2d": [
           {
            "colorbar": {
             "outlinewidth": 0,
             "ticks": ""
            },
            "colorscale": [
             [
              0,
              "#0d0887"
             ],
             [
              0.1111111111111111,
              "#46039f"
             ],
             [
              0.2222222222222222,
              "#7201a8"
             ],
             [
              0.3333333333333333,
              "#9c179e"
             ],
             [
              0.4444444444444444,
              "#bd3786"
             ],
             [
              0.5555555555555556,
              "#d8576b"
             ],
             [
              0.6666666666666666,
              "#ed7953"
             ],
             [
              0.7777777777777778,
              "#fb9f3a"
             ],
             [
              0.8888888888888888,
              "#fdca26"
             ],
             [
              1,
              "#f0f921"
             ]
            ],
            "type": "histogram2d"
           }
          ],
          "histogram2dcontour": [
           {
            "colorbar": {
             "outlinewidth": 0,
             "ticks": ""
            },
            "colorscale": [
             [
              0,
              "#0d0887"
             ],
             [
              0.1111111111111111,
              "#46039f"
             ],
             [
              0.2222222222222222,
              "#7201a8"
             ],
             [
              0.3333333333333333,
              "#9c179e"
             ],
             [
              0.4444444444444444,
              "#bd3786"
             ],
             [
              0.5555555555555556,
              "#d8576b"
             ],
             [
              0.6666666666666666,
              "#ed7953"
             ],
             [
              0.7777777777777778,
              "#fb9f3a"
             ],
             [
              0.8888888888888888,
              "#fdca26"
             ],
             [
              1,
              "#f0f921"
             ]
            ],
            "type": "histogram2dcontour"
           }
          ],
          "mesh3d": [
           {
            "colorbar": {
             "outlinewidth": 0,
             "ticks": ""
            },
            "type": "mesh3d"
           }
          ],
          "parcoords": [
           {
            "line": {
             "colorbar": {
              "outlinewidth": 0,
              "ticks": ""
             }
            },
            "type": "parcoords"
           }
          ],
          "pie": [
           {
            "automargin": true,
            "type": "pie"
           }
          ],
          "scatter": [
           {
            "marker": {
             "colorbar": {
              "outlinewidth": 0,
              "ticks": ""
             }
            },
            "type": "scatter"
           }
          ],
          "scatter3d": [
           {
            "line": {
             "colorbar": {
              "outlinewidth": 0,
              "ticks": ""
             }
            },
            "marker": {
             "colorbar": {
              "outlinewidth": 0,
              "ticks": ""
             }
            },
            "type": "scatter3d"
           }
          ],
          "scattercarpet": [
           {
            "marker": {
             "colorbar": {
              "outlinewidth": 0,
              "ticks": ""
             }
            },
            "type": "scattercarpet"
           }
          ],
          "scattergeo": [
           {
            "marker": {
             "colorbar": {
              "outlinewidth": 0,
              "ticks": ""
             }
            },
            "type": "scattergeo"
           }
          ],
          "scattergl": [
           {
            "marker": {
             "colorbar": {
              "outlinewidth": 0,
              "ticks": ""
             }
            },
            "type": "scattergl"
           }
          ],
          "scattermapbox": [
           {
            "marker": {
             "colorbar": {
              "outlinewidth": 0,
              "ticks": ""
             }
            },
            "type": "scattermapbox"
           }
          ],
          "scatterpolar": [
           {
            "marker": {
             "colorbar": {
              "outlinewidth": 0,
              "ticks": ""
             }
            },
            "type": "scatterpolar"
           }
          ],
          "scatterpolargl": [
           {
            "marker": {
             "colorbar": {
              "outlinewidth": 0,
              "ticks": ""
             }
            },
            "type": "scatterpolargl"
           }
          ],
          "scatterternary": [
           {
            "marker": {
             "colorbar": {
              "outlinewidth": 0,
              "ticks": ""
             }
            },
            "type": "scatterternary"
           }
          ],
          "surface": [
           {
            "colorbar": {
             "outlinewidth": 0,
             "ticks": ""
            },
            "colorscale": [
             [
              0,
              "#0d0887"
             ],
             [
              0.1111111111111111,
              "#46039f"
             ],
             [
              0.2222222222222222,
              "#7201a8"
             ],
             [
              0.3333333333333333,
              "#9c179e"
             ],
             [
              0.4444444444444444,
              "#bd3786"
             ],
             [
              0.5555555555555556,
              "#d8576b"
             ],
             [
              0.6666666666666666,
              "#ed7953"
             ],
             [
              0.7777777777777778,
              "#fb9f3a"
             ],
             [
              0.8888888888888888,
              "#fdca26"
             ],
             [
              1,
              "#f0f921"
             ]
            ],
            "type": "surface"
           }
          ],
          "table": [
           {
            "cells": {
             "fill": {
              "color": "#EBF0F8"
             },
             "line": {
              "color": "white"
             }
            },
            "header": {
             "fill": {
              "color": "#C8D4E3"
             },
             "line": {
              "color": "white"
             }
            },
            "type": "table"
           }
          ]
         },
         "layout": {
          "annotationdefaults": {
           "arrowcolor": "#2a3f5f",
           "arrowhead": 0,
           "arrowwidth": 1
          },
          "autotypenumbers": "strict",
          "coloraxis": {
           "colorbar": {
            "outlinewidth": 0,
            "ticks": ""
           }
          },
          "colorscale": {
           "diverging": [
            [
             0,
             "#8e0152"
            ],
            [
             0.1,
             "#c51b7d"
            ],
            [
             0.2,
             "#de77ae"
            ],
            [
             0.3,
             "#f1b6da"
            ],
            [
             0.4,
             "#fde0ef"
            ],
            [
             0.5,
             "#f7f7f7"
            ],
            [
             0.6,
             "#e6f5d0"
            ],
            [
             0.7,
             "#b8e186"
            ],
            [
             0.8,
             "#7fbc41"
            ],
            [
             0.9,
             "#4d9221"
            ],
            [
             1,
             "#276419"
            ]
           ],
           "sequential": [
            [
             0,
             "#0d0887"
            ],
            [
             0.1111111111111111,
             "#46039f"
            ],
            [
             0.2222222222222222,
             "#7201a8"
            ],
            [
             0.3333333333333333,
             "#9c179e"
            ],
            [
             0.4444444444444444,
             "#bd3786"
            ],
            [
             0.5555555555555556,
             "#d8576b"
            ],
            [
             0.6666666666666666,
             "#ed7953"
            ],
            [
             0.7777777777777778,
             "#fb9f3a"
            ],
            [
             0.8888888888888888,
             "#fdca26"
            ],
            [
             1,
             "#f0f921"
            ]
           ],
           "sequentialminus": [
            [
             0,
             "#0d0887"
            ],
            [
             0.1111111111111111,
             "#46039f"
            ],
            [
             0.2222222222222222,
             "#7201a8"
            ],
            [
             0.3333333333333333,
             "#9c179e"
            ],
            [
             0.4444444444444444,
             "#bd3786"
            ],
            [
             0.5555555555555556,
             "#d8576b"
            ],
            [
             0.6666666666666666,
             "#ed7953"
            ],
            [
             0.7777777777777778,
             "#fb9f3a"
            ],
            [
             0.8888888888888888,
             "#fdca26"
            ],
            [
             1,
             "#f0f921"
            ]
           ]
          },
          "colorway": [
           "#636efa",
           "#EF553B",
           "#00cc96",
           "#ab63fa",
           "#FFA15A",
           "#19d3f3",
           "#FF6692",
           "#B6E880",
           "#FF97FF",
           "#FECB52"
          ],
          "font": {
           "color": "#2a3f5f"
          },
          "geo": {
           "bgcolor": "white",
           "lakecolor": "white",
           "landcolor": "#E5ECF6",
           "showlakes": true,
           "showland": true,
           "subunitcolor": "white"
          },
          "hoverlabel": {
           "align": "left"
          },
          "hovermode": "closest",
          "mapbox": {
           "style": "light"
          },
          "paper_bgcolor": "white",
          "plot_bgcolor": "#E5ECF6",
          "polar": {
           "angularaxis": {
            "gridcolor": "white",
            "linecolor": "white",
            "ticks": ""
           },
           "bgcolor": "#E5ECF6",
           "radialaxis": {
            "gridcolor": "white",
            "linecolor": "white",
            "ticks": ""
           }
          },
          "scene": {
           "xaxis": {
            "backgroundcolor": "#E5ECF6",
            "gridcolor": "white",
            "gridwidth": 2,
            "linecolor": "white",
            "showbackground": true,
            "ticks": "",
            "zerolinecolor": "white"
           },
           "yaxis": {
            "backgroundcolor": "#E5ECF6",
            "gridcolor": "white",
            "gridwidth": 2,
            "linecolor": "white",
            "showbackground": true,
            "ticks": "",
            "zerolinecolor": "white"
           },
           "zaxis": {
            "backgroundcolor": "#E5ECF6",
            "gridcolor": "white",
            "gridwidth": 2,
            "linecolor": "white",
            "showbackground": true,
            "ticks": "",
            "zerolinecolor": "white"
           }
          },
          "shapedefaults": {
           "line": {
            "color": "#2a3f5f"
           }
          },
          "ternary": {
           "aaxis": {
            "gridcolor": "white",
            "linecolor": "white",
            "ticks": ""
           },
           "baxis": {
            "gridcolor": "white",
            "linecolor": "white",
            "ticks": ""
           },
           "bgcolor": "#E5ECF6",
           "caxis": {
            "gridcolor": "white",
            "linecolor": "white",
            "ticks": ""
           }
          },
          "title": {
           "x": 0.05
          },
          "xaxis": {
           "automargin": true,
           "gridcolor": "white",
           "linecolor": "white",
           "ticks": "",
           "title": {
            "standoff": 15
           },
           "zerolinecolor": "white",
           "zerolinewidth": 2
          },
          "yaxis": {
           "automargin": true,
           "gridcolor": "white",
           "linecolor": "white",
           "ticks": "",
           "title": {
            "standoff": 15
           },
           "zerolinecolor": "white",
           "zerolinewidth": 2
          }
         }
        },
        "title": {
         "text": "Top 20 words in reviews"
        },
        "xaxis": {
         "anchor": "y",
         "domain": [
          0,
          1
         ],
         "title": {
          "text": "index"
         }
        },
        "yaxis": {
         "anchor": "x",
         "domain": [
          0,
          1
         ],
         "title": {
          "text": "Count"
         }
        }
       }
      }
     },
     "metadata": {},
     "output_type": "display_data"
    },
    {
     "data": {
      "application/vnd.plotly.v1+json": {
       "config": {
        "plotlyServerURL": "https://plot.ly"
       },
       "data": [
        {
         "alignmentgroup": "True",
         "hovertemplate": "color=4.0<br>Actual=%{x}<br>Predicted=%{y}<extra></extra>",
         "legendgroup": "4.0",
         "marker": {
          "color": "#636efa"
         },
         "name": "4.0",
         "notched": false,
         "offsetgroup": "4.0",
         "orientation": "v",
         "showlegend": true,
         "type": "box",
         "x": [
          4,
          4,
          4,
          4,
          4,
          4,
          4,
          4,
          4,
          4,
          4,
          4,
          4,
          4,
          4,
          4,
          4,
          4,
          4,
          4,
          4,
          4,
          4,
          4,
          4,
          4,
          4,
          4,
          4,
          4,
          4,
          4,
          4,
          4,
          4,
          4,
          4,
          4,
          4,
          4,
          4,
          4,
          4,
          4,
          4,
          4,
          4,
          4,
          4,
          4,
          4,
          4,
          4,
          4,
          4,
          4,
          4,
          4,
          4,
          4,
          4,
          4,
          4,
          4,
          4,
          4,
          4,
          4,
          4,
          4,
          4,
          4,
          4,
          4,
          4,
          4,
          4,
          4,
          4,
          4,
          4,
          4,
          4,
          4,
          4,
          4,
          4,
          4,
          4,
          4,
          4,
          4,
          4,
          4,
          4,
          4,
          4,
          4,
          4,
          4,
          4,
          4,
          4,
          4,
          4,
          4,
          4,
          4,
          4,
          4,
          4,
          4,
          4,
          4,
          4,
          4,
          4,
          4,
          4,
          4,
          4,
          4,
          4,
          4,
          4,
          4,
          4,
          4,
          4,
          4,
          4,
          4,
          4,
          4,
          4,
          4,
          4,
          4,
          4,
          4,
          4,
          4,
          4,
          4,
          4,
          4,
          4,
          4,
          4,
          4,
          4,
          4,
          4,
          4,
          4,
          4,
          4,
          4,
          4,
          4,
          4,
          4,
          4,
          4,
          4,
          4,
          4,
          4,
          4,
          4,
          4,
          4,
          4,
          4,
          4,
          4,
          4,
          4,
          4,
          4,
          4,
          4,
          4,
          4,
          4,
          4,
          4,
          4,
          4
         ],
         "x0": " ",
         "xaxis": "x",
         "y": [
          4.67443712725079,
          4.444009025781412,
          4.056972254071619,
          4.458063670813962,
          4.391286287178952,
          4.523105167082244,
          4.444009025781412,
          4.418169976621038,
          3.9407739211344333,
          3.8807737509397473,
          4.433308278722597,
          4.4771090293401254,
          4.488851863472576,
          4.443466888632801,
          4.699433658283527,
          4.444009025781412,
          4.563783991976289,
          4.541857219877144,
          4.451141760579917,
          4.537121253614828,
          4.341478353422483,
          4.443466888632801,
          4.415886553256152,
          4.443466888632801,
          4.444009025781412,
          4.362412830092644,
          4.436032363189067,
          4.415755768475025,
          3.124289487719408,
          4.444009025781412,
          4.3797032646811065,
          4.557528196169595,
          4.427731439949584,
          4.491034837544629,
          4.444009025781412,
          4.502578641666927,
          4.541013292083305,
          4.0406175228058245,
          4.444009025781412,
          4.489213047207769,
          4.344964831189012,
          3.7555799563862378,
          4.487723494346327,
          3.9060402560357548,
          4.457758473072296,
          4.4771090293401254,
          4.444009025781412,
          4.160148696134134,
          4.488851863472576,
          4.393863321995887,
          4.483359965597513,
          4.102272769514179,
          4.598526981846221,
          4.410537141944506,
          4.063681895460633,
          4.391286287178952,
          4.444009025781412,
          4.509336097258919,
          4.54908129874365,
          4.444009025781412,
          4.419212640208628,
          4.469443020294207,
          4.483058174952284,
          4.355290580545515,
          4.444009025781412,
          4.3797032646811065,
          4.555711594083204,
          4.431179364143664,
          3.659783557849333,
          4.443466888632801,
          4.444009025781412,
          4.444009025781412,
          4.491034837544629,
          4.431179364143664,
          4.536050525503834,
          4.429212627160144,
          4.659540581318815,
          4.423141474819553,
          4.469443020294207,
          4.444009025781412,
          4.464663542217759,
          4.557975207023171,
          4.444009025781412,
          4.444009025781412,
          4.4250009207743135,
          4.443466888632801,
          4.1043053257529625,
          4.488851863472576,
          4.582166464998538,
          2.1212858068356875,
          4.483902102746124,
          4.3994650171723,
          3.5659221639433483,
          4.444009025781412,
          4.583737578710592,
          3.9277593016892625,
          4.495984598271081,
          4.074242248299947,
          4.444009025781412,
          4.547551959046409,
          4.444009025781412,
          4.251091742480497,
          4.443466888632801,
          4.587748880178772,
          4.421694709943377,
          4.426688125913193,
          4.444009025781412,
          4.397687569791472,
          4.547702116205291,
          4.444009025781412,
          4.392035897530461,
          4.4997105160615645,
          4.50159459522585,
          4.444009025781412,
          4.443466888632801,
          4.436050778919845,
          4.610531121100548,
          4.377065258107599,
          4.444009025781412,
          4.734123676327424,
          4.467948777561435,
          4.575943602468546,
          3.9557625551944526,
          4.423121564304268,
          4.444009025781412,
          4.528744940437288,
          4.444009025781412,
          4.443466888632801,
          4.4405799384246425,
          3.5980403641876872,
          4.467864068350946,
          4.475925440153779,
          4.50346636656469,
          4.659540581318815,
          4.444009025781412,
          3.9163209369165095,
          4.496333631766185,
          4.427731439949584,
          4.442924751484191,
          3.455985659178256,
          4.391286287178952,
          3.9790192312127477,
          4.085994883911313,
          4.344009279197423,
          4.4151449017119235,
          4.444009025781412,
          4.397145432642862,
          4.55550937704017,
          4.471600569282414,
          4.497228176650116,
          4.444009025781412,
          4.416086428515335,
          4.444009025781412,
          4.01581738146944,
          4.443466888632801,
          4.456440554801473,
          4.169800980540558,
          4.630587207246745,
          4.444009025781412,
          4.40627559268385,
          4.444009025781412,
          4.458274495378422,
          4.483902102746124,
          4.541857219877144,
          4.448977331252542,
          4.444009025781412,
          4.483902102746124,
          4.444009025781412,
          4.483902102746124,
          4.115005160265206,
          4.439855042660599,
          4.06110758811914,
          4.43760055727147,
          4.436032363189067,
          4.2516371551082734,
          4.5230475391098,
          4.397687569791472,
          4.451141760579917,
          3.6754293341471507,
          4.444009025781412,
          4.545136305174218,
          4.621863924087623,
          4.541857219877144,
          4.444009025781412,
          4.368776008680266,
          4.444009025781412,
          4.248305145540887,
          4.523647304230855,
          4.444009025781412
         ],
         "y0": " ",
         "yaxis": "y"
        },
        {
         "alignmentgroup": "True",
         "hovertemplate": "color=5.0<br>Actual=%{x}<br>Predicted=%{y}<extra></extra>",
         "legendgroup": "5.0",
         "marker": {
          "color": "#EF553B"
         },
         "name": "5.0",
         "notched": false,
         "offsetgroup": "5.0",
         "orientation": "v",
         "showlegend": true,
         "type": "box",
         "x": [
          5,
          5,
          5,
          5,
          5,
          5,
          5,
          5,
          5,
          5,
          5,
          5,
          5,
          5,
          5,
          5,
          5,
          5,
          5,
          5,
          5,
          5,
          5,
          5,
          5,
          5,
          5,
          5,
          5,
          5,
          5,
          5,
          5,
          5,
          5,
          5,
          5,
          5,
          5,
          5,
          5,
          5,
          5,
          5,
          5,
          5,
          5,
          5,
          5,
          5,
          5,
          5,
          5,
          5,
          5,
          5,
          5,
          5,
          5,
          5,
          5,
          5,
          5,
          5,
          5,
          5,
          5,
          5,
          5,
          5,
          5,
          5,
          5,
          5,
          5,
          5,
          5,
          5,
          5,
          5,
          5,
          5,
          5,
          5,
          5,
          5,
          5,
          5,
          5,
          5,
          5,
          5,
          5,
          5,
          5,
          5,
          5,
          5,
          5,
          5,
          5,
          5,
          5,
          5,
          5,
          5,
          5,
          5,
          5,
          5,
          5,
          5,
          5,
          5,
          5,
          5,
          5,
          5,
          5,
          5,
          5,
          5,
          5,
          5,
          5,
          5,
          5,
          5,
          5,
          5,
          5,
          5,
          5,
          5,
          5,
          5,
          5,
          5,
          5,
          5,
          5,
          5,
          5,
          5,
          5,
          5,
          5,
          5,
          5,
          5,
          5,
          5,
          5,
          5,
          5,
          5,
          5,
          5,
          5,
          5,
          5,
          5,
          5,
          5,
          5,
          5,
          5,
          5,
          5,
          5,
          5,
          5,
          5,
          5,
          5,
          5,
          5,
          5,
          5,
          5,
          5,
          5,
          5,
          5,
          5,
          5,
          5,
          5,
          5,
          5,
          5,
          5,
          5,
          5,
          5,
          5,
          5,
          5,
          5,
          5,
          5,
          5,
          5,
          5,
          5,
          5,
          5,
          5,
          5,
          5,
          5,
          5,
          5,
          5,
          5,
          5,
          5,
          5,
          5,
          5,
          5,
          5,
          5,
          5,
          5,
          5,
          5,
          5,
          5,
          5,
          5,
          5,
          5,
          5,
          5,
          5,
          5,
          5,
          5,
          5,
          5,
          5,
          5,
          5,
          5,
          5,
          5,
          5,
          5,
          5,
          5,
          5,
          5,
          5,
          5,
          5,
          5,
          5,
          5,
          5,
          5,
          5,
          5,
          5,
          5,
          5,
          5,
          5,
          5,
          5,
          5,
          5,
          5,
          5,
          5,
          5,
          5,
          5,
          5,
          5,
          5,
          5,
          5,
          5,
          5,
          5,
          5,
          5,
          5,
          5,
          5,
          5,
          5,
          5,
          5,
          5,
          5,
          5,
          5,
          5,
          5,
          5,
          5,
          5,
          5,
          5,
          5,
          5,
          5,
          5,
          5,
          5,
          5,
          5,
          5,
          5,
          5,
          5,
          5,
          5,
          5,
          5,
          5,
          5,
          5,
          5,
          5,
          5,
          5,
          5,
          5,
          5,
          5,
          5,
          5,
          5,
          5,
          5,
          5,
          5,
          5,
          5,
          5,
          5,
          5,
          5,
          5,
          5,
          5,
          5,
          5,
          5,
          5,
          5,
          5,
          5,
          5,
          5,
          5,
          5,
          5,
          5,
          5,
          5,
          5,
          5,
          5,
          5,
          5,
          5,
          5,
          5,
          5,
          5,
          5,
          5,
          5,
          5,
          5,
          5,
          5,
          5,
          5,
          5,
          5,
          5,
          5,
          5,
          5,
          5,
          5,
          5,
          5,
          5,
          5,
          5,
          5,
          5,
          5,
          5,
          5,
          5,
          5,
          5,
          5,
          5,
          5,
          5,
          5,
          5,
          5,
          5,
          5,
          5,
          5,
          5,
          5,
          5,
          5,
          5,
          5,
          5,
          5,
          5,
          5,
          5,
          5,
          5,
          5,
          5,
          5,
          5,
          5,
          5,
          5,
          5,
          5,
          5,
          5,
          5,
          5,
          5,
          5,
          5,
          5,
          5,
          5,
          5,
          5,
          5
         ],
         "x0": " ",
         "xaxis": "x",
         "y": [
          4.5139346226110675,
          4.626351100606185,
          4.450599623431306,
          4.575973125893051,
          4.541857219877144,
          4.444009025781412,
          4.451141760579917,
          4.469443020294207,
          4.668785844292562,
          4.444009025781412,
          4.532972752430307,
          4.451141760579917,
          4.51848670850779,
          4.532556002975035,
          3.0015052473437445,
          4.495759315921434,
          3.9416178489282725,
          4.756492916933917,
          4.4573350996854035,
          4.6490031327379935,
          4.488659975496493,
          4.529095189609816,
          4.579238037199958,
          4.162436365895761,
          4.344252970675446,
          4.437580646756185,
          4.649545269886604,
          4.528744940437288,
          4.34501213585571,
          4.436032363189067,
          4.444009025781412,
          4.483902102746124,
          4.444009025781412,
          4.363507480528373,
          4.523105167082244,
          4.447008317449869,
          4.451141760579917,
          4.66667331611732,
          4.608833940191103,
          4.215099535752231,
          4.222132158165793,
          4.541857219877144,
          4.451141760579917,
          4.711626723639594,
          4.995273362811929,
          3.923366317058695,
          4.443466888632801,
          4.443493003475286,
          4.451036348297687,
          4.476127139628813,
          4.533705412920271,
          4.750392755650795,
          4.66667331611732,
          4.768924445953978,
          4.492577781263059,
          4.596545549819919,
          4.574025278943989,
          4.476524383644827,
          4.486010234000539,
          4.4765668921915145,
          4.541315082728533,
          4.389774781200753,
          4.444009025781412,
          4.574025278943989,
          4.44471338155469,
          4.444009025781412,
          4.32823884175354,
          4.451141760579917,
          4.773714140986997,
          4.574957223435858,
          4.469443020294207,
          4.634243669307051,
          4.451036348297687,
          4.0685401200719005,
          4.425634013589247,
          4.4906886306326435,
          4.4772436438648375,
          4.451141760579917,
          4.417669876743011,
          4.658456307021594,
          4.523795179710836,
          4.571306049690531,
          4.659540581318815,
          4.4725742776407476,
          4.416086428515335,
          4.559540834734826,
          4.443466888632801,
          4.444009025781412,
          4.437580646756185,
          4.451141760579917,
          4.444009025781412,
          4.451036348297687,
          4.604183721240151,
          4.428238588337528,
          4.444009025781412,
          4.444009025781412,
          4.533191139828454,
          4.292873399902899,
          4.604298157011983,
          4.148326274001326,
          4.443165097987572,
          4.6136832287857095,
          4.443466888632801,
          4.344009279197423,
          4.5377004465421935,
          4.523795179710836,
          4.458274495378422,
          4.531918194694012,
          4.451036348297687,
          4.75385198237328,
          4.536973378134847,
          4.633162622656782,
          4.710155065851438,
          4.451141760579917,
          4.628300068619703,
          4.540772945579923,
          4.658998444170204,
          4.1933794450628605,
          4.470963469975261,
          4.615987891572733,
          4.386992293541176,
          4.442530407482637,
          4.631248448690285,
          4.56729121438994,
          4.492035644114449,
          4.712217595038909,
          3.9075803054371177,
          4.441996909546594,
          4.659540581318815,
          4.444009025781412,
          4.516808797303162,
          4.447290264728046,
          4.443466888632801,
          4.410537141944506,
          4.525037496896705,
          4.7575254904493,
          4.469629128977144,
          4.784799260444628,
          4.522205434788626,
          4.410537141944506,
          4.5624007500938575,
          4.444009025781412,
          4.368950652852402,
          3.868855249301758,
          4.374487668487454,
          4.088998928774397,
          4.397687569791472,
          4.388498075082154,
          4.523647304230855,
          4.444009025781412,
          4.523105167082244,
          4.010085777624346,
          4.606049871106679,
          4.7646128542810535,
          4.442976981169161,
          4.760177400737718,
          4.104587140224846,
          4.447008317449869,
          4.66667331611732,
          4.488245304791217,
          4.536050525503834,
          4.44567869573884,
          4.4195963416458195,
          4.391286287178952,
          4.594484087646485,
          4.444009025781412,
          4.523795179710836,
          4.4763724510073555,
          4.557805282532741,
          4.494306078334329,
          4.477996094817909,
          4.391286287178952,
          4.488851863472576,
          4.6591753642104985,
          4.56511743274257,
          4.837395479625027,
          4.480986793823067,
          4.456792962536793,
          4.51075361349207,
          4.64156860729426,
          4.540169364289465,
          4.549919738493142,
          4.535508388355223,
          4.456440554801473,
          4.556304830090004,
          4.597880321513522,
          4.432922415549811,
          4.733240067059242,
          4.538545707524324,
          4.166775129174634,
          4.444009025781412,
          4.56729121438994,
          4.469443020294207,
          4.525579634045316,
          4.610073514774357,
          4.673227821211998,
          4.653970883569887,
          4.514502453197532,
          4.436032363189067,
          4.497228176650116,
          4.444009025781412,
          4.446466180301259,
          3.7236100179389973,
          4.448514509299219,
          4.442219565127128,
          4.173558995818764,
          4.4573350996854035,
          4.444009025781412,
          4.5384402952420935,
          4.730209275292101,
          4.214374901277148,
          4.469443020294207,
          4.474757251712801,
          4.451141760579917,
          4.647989800422065,
          4.595423483339504,
          4.444009025781412,
          4.509336097258919,
          4.730042384634876,
          4.424386290737665,
          4.561403145556544,
          4.4771090293401254,
          4.546182551970797,
          4.541857219877144,
          4.099813480672629,
          4.536050525503834,
          4.57936855308821,
          4.447008317449869,
          4.443493003475286,
          4.469443020294207,
          4.4765668921915145,
          4.444009025781412,
          4.419754777357239,
          4.6987109561675995,
          4.426729076444325,
          4.8976038752999145,
          4.485866038879424,
          4.5897569646053595,
          4.3333818086911675,
          4.536447259011951,
          4.523795179710836,
          4.523647304230855,
          4.460731649898269,
          4.593832792366813,
          4.580615876593884,
          3.9467635160577674,
          4.444009025781412,
          4.469443020294207,
          4.451141760579917,
          3.957397234583485,
          4.451141760579917,
          4.427731439949584,
          4.686192729126798,
          4.6784632947404585,
          4.365177100979246,
          4.044086050424363,
          4.74841919093839,
          4.056414193251911,
          4.406117196033735,
          4.454035639966145,
          4.543183260302339,
          4.451141760579917,
          4.409151077002055,
          4.336032616605078,
          4.531412972725818,
          4.834255821298287,
          4.410537141944506,
          4.58673687037905,
          4.451036348297687,
          4.658180631218849,
          3.710315819131438,
          4.62345447244824,
          4.561484520016629,
          4.72317164293155,
          4.159668954073594,
          4.652002424406452,
          4.516882995193385,
          4.514458677659974,
          4.43203818767364,
          4.488659975496493,
          4.476575755092712,
          4.54908129874365,
          4.747393463982337,
          4.561484520016629,
          4.53078003902936,
          4.908355031669884,
          4.450494211149077,
          4.443466888632801,
          4.501004194791448,
          4.444009025781412,
          4.418169976621038,
          4.410537141944506,
          4.5676788304653835,
          4.3797032646811065,
          4.4724423119626655,
          4.451036348297687,
          4.5074894775596075,
          4.469443020294207,
          4.483902102746124,
          4.857007194691496,
          4.444009025781412,
          4.418712113769648,
          4.749380745851072,
          4.4573350996854035,
          4.350747601490034,
          4.523105167082244,
          4.476575755092712,
          4.536050525503834,
          4.451141760579917,
          4.444009025781412,
          4.533338420136189,
          4.324883004314,
          4.483058174952284,
          4.444009025781412,
          4.425761380297049,
          4.581158013742494,
          4.404820304589978,
          4.447008317449869,
          4.409693214150666,
          4.523647304230855,
          4.3385635485764915,
          4.444009025781412,
          4.456440554801473,
          4.760827344014984,
          4.322445549402379,
          4.586700057568308,
          4.368259986374141,
          4.451141760579917,
          4.57076391254192,
          4.459166797190434,
          4.543183260302339,
          4.4436121088411475,
          4.451141760579917,
          4.536050525503834,
          4.467864068350946,
          4.397145432642862,
          4.463778460102529,
          4.502177937376567,
          4.751582081041237,
          4.533779330697818,
          4.444009025781412,
          4.536050525503834,
          3.776519216878098,
          4.543183260302339,
          4.400968808738107,
          4.4195963416458195,
          4.822349398253758,
          4.444009025781412,
          4.444009025781412,
          4.673866190778116,
          4.410119098811534,
          4.541315082728533,
          4.6985897304896875,
          4.444009025781412,
          4.450599623431306,
          4.523647304230855,
          4.535314428561049,
          4.46127378704688,
          4.4573350996854035,
          4.879328040669471,
          4.5158185171184915,
          4.6352247600247605,
          4.444009025781412,
          4.484737613898213,
          4.444009025781412,
          4.575171536119761,
          4.532831604146744,
          4.688787047370467,
          4.831680442919097,
          4.451141760579917,
          4.659540581318815,
          4.462862963606701,
          4.744276495974691,
          4.436032363189067,
          4.444009025781412,
          4.567936561311268,
          4.580854438361226,
          4.049702589348642,
          4.342955744895935,
          4.397687569791472,
          4.523037450369424,
          4.572637593560445,
          4.580631114727632,
          4.469443020294207,
          4.7553075605685216,
          4.467864068350946,
          4.596169107730653,
          4.442106938532836,
          4.442622960838961,
          4.434758762465859,
          4.54196929255106,
          4.444009025781412,
          4.476470342810483,
          4.608924494915807,
          4.6566780046851095,
          4.4743708331954535,
          4.356805170572494,
          4.444009025781412,
          4.462781455684939,
          4.509659705670177,
          4.367322184618347,
          4.444009025781412,
          4.247055982661023,
          4.488309726323965,
          4.451141760579917,
          4.463573289599978,
          4.488851863472576,
          4.656041964346406,
          4.543183260302339,
          4.444009025781412,
          4.7032406263776645,
          4.391286287178952,
          4.444009025781412,
          4.645014909816293,
          4.5012833924926365,
          4.464439179336983,
          4.423863215848497,
          4.583076337267051,
          4.489729069513895,
          4.483902102746124,
          4.451141760579917,
          4.648128420371462,
          4.270763624358554,
          4.488851863472576,
          3.938230088682352,
          4.28330089360909,
          4.415141329748486,
          4.548094096195019,
          4.564057909108037,
          4.519950338576493,
          3.9271256000558488,
          4.613219125328876,
          4.483359965597513,
          4.4997105160615645,
          4.444009025781412,
          4.5095703463691965,
          4.53078003902936,
          4.541857219877144,
          4.588375131488607,
          4.530870835577208,
          4.443466888632801,
          4.434864174748089,
          4.492577781263059,
          4.444009025781412,
          4.436032363189067,
          4.444009025781412,
          4.6270923751999185,
          4.034008475417865,
          4.444009025781412,
          4.456440554801473
         ],
         "y0": " ",
         "yaxis": "y"
        },
        {
         "alignmentgroup": "True",
         "hovertemplate": "color=3.0<br>Actual=%{x}<br>Predicted=%{y}<extra></extra>",
         "legendgroup": "3.0",
         "marker": {
          "color": "#00cc96"
         },
         "name": "3.0",
         "notched": false,
         "offsetgroup": "3.0",
         "orientation": "v",
         "showlegend": true,
         "type": "box",
         "x": [
          3,
          3,
          3,
          3,
          3,
          3,
          3,
          3,
          3,
          3,
          3,
          3,
          3,
          3,
          3,
          3,
          3,
          3,
          3,
          3,
          3,
          3,
          3,
          3,
          3,
          3,
          3,
          3,
          3,
          3,
          3,
          3,
          3,
          3,
          3,
          3,
          3,
          3,
          3,
          3,
          3,
          3,
          3,
          3,
          3,
          3,
          3,
          3,
          3,
          3,
          3,
          3,
          3,
          3,
          3
         ],
         "x0": " ",
         "xaxis": "x",
         "y": [
          3.9234536717150146,
          4.444009025781412,
          4.327731693365595,
          3.3065735104558747,
          4.541857219877144,
          4.468599092500368,
          4.456491171891564,
          4.391286287178952,
          4.444009025781412,
          4.10797051479817,
          4.398419021977457,
          4.436032363189067,
          4.462862963606701,
          4.444009025781412,
          3.4518676296529796,
          4.116732737635289,
          4.4997105160615645,
          4.444009025781412,
          4.483902102746124,
          3.795781090822291,
          4.52216868593208,
          4.321579929432746,
          3.691989858393394,
          4.443466888632801,
          4.450007609118328,
          2.7416286252069932,
          4.482799280845112,
          4.559556317925569,
          4.541857219877144,
          4.375862691510313,
          4.444009025781412,
          4.368776008680266,
          4.21983976759863,
          4.351142013995928,
          4.413310674469589,
          4.152536219275089,
          4.483902102746124,
          3.866448969716272,
          4.443466888632801,
          3.7558880138575788,
          4.444009025781412,
          3.867691597529976,
          4.528676197013045,
          4.404820304589978,
          4.4195963416458195,
          4.096114582486158,
          4.0674558457746794,
          4.444009025781412,
          4.483902102746124,
          4.531412972725818,
          4.357179161003204,
          4.444009025781412,
          4.495984598271081,
          4.444009025781412,
          4.444009025781412
         ],
         "y0": " ",
         "yaxis": "y"
        },
        {
         "alignmentgroup": "True",
         "hovertemplate": "color=1.0<br>Actual=%{x}<br>Predicted=%{y}<extra></extra>",
         "legendgroup": "1.0",
         "marker": {
          "color": "#ab63fa"
         },
         "name": "1.0",
         "notched": false,
         "offsetgroup": "1.0",
         "orientation": "v",
         "showlegend": true,
         "type": "box",
         "x": [
          1,
          1,
          1,
          1,
          1,
          1,
          1,
          1,
          1,
          1,
          1,
          1
         ],
         "x0": " ",
         "xaxis": "x",
         "y": [
          4.284680569661861,
          4.451141760579917,
          4.451141760579917,
          4.3385635485764915,
          4.4145991925998755,
          4.40068686145993,
          4.5393133487196895,
          2.8554809340835874,
          4.56729121438994,
          4.444009025781412,
          4.427731439949584,
          4.494877014807003
         ],
         "y0": " ",
         "yaxis": "y"
        },
        {
         "alignmentgroup": "True",
         "hovertemplate": "color=2.0<br>Actual=%{x}<br>Predicted=%{y}<extra></extra>",
         "legendgroup": "2.0",
         "marker": {
          "color": "#FFA15A"
         },
         "name": "2.0",
         "notched": false,
         "offsetgroup": "2.0",
         "orientation": "v",
         "showlegend": true,
         "type": "box",
         "x": [
          2,
          2,
          2,
          2,
          2,
          2,
          2,
          2,
          2,
          2,
          2,
          2,
          2,
          2,
          2,
          2,
          2,
          2,
          2,
          2,
          2,
          2,
          2,
          2,
          2,
          2
         ],
         "x0": " ",
         "xaxis": "x",
         "y": [
          4.507843198891627,
          3.373644922211391,
          4.532610426866518,
          3.7915283989464337,
          4.384912839067182,
          4.444009025781412,
          4.443466888632801,
          3.8942445216374595,
          4.49533704884024,
          4.436032363189067,
          3.8507135210330543,
          4.444009025781412,
          3.4518676296529796,
          3.908145965091366,
          4.540287866402128,
          3.545910672277083,
          4.391286287178952,
          4.434864174748089,
          4.3797032646811065,
          4.153748020055808,
          4.559540834734826,
          4.71983087333128,
          4.555268015295352,
          4.444009025781412,
          3.556612545837137,
          2.8540240287267573
         ],
         "y0": " ",
         "yaxis": "y"
        }
       ],
       "layout": {
        "boxmode": "group",
        "legend": {
         "title": {
          "text": "color"
         },
         "tracegroupgap": 0
        },
        "template": {
         "data": {
          "bar": [
           {
            "error_x": {
             "color": "#2a3f5f"
            },
            "error_y": {
             "color": "#2a3f5f"
            },
            "marker": {
             "line": {
              "color": "#E5ECF6",
              "width": 0.5
             },
             "pattern": {
              "fillmode": "overlay",
              "size": 10,
              "solidity": 0.2
             }
            },
            "type": "bar"
           }
          ],
          "barpolar": [
           {
            "marker": {
             "line": {
              "color": "#E5ECF6",
              "width": 0.5
             },
             "pattern": {
              "fillmode": "overlay",
              "size": 10,
              "solidity": 0.2
             }
            },
            "type": "barpolar"
           }
          ],
          "carpet": [
           {
            "aaxis": {
             "endlinecolor": "#2a3f5f",
             "gridcolor": "white",
             "linecolor": "white",
             "minorgridcolor": "white",
             "startlinecolor": "#2a3f5f"
            },
            "baxis": {
             "endlinecolor": "#2a3f5f",
             "gridcolor": "white",
             "linecolor": "white",
             "minorgridcolor": "white",
             "startlinecolor": "#2a3f5f"
            },
            "type": "carpet"
           }
          ],
          "choropleth": [
           {
            "colorbar": {
             "outlinewidth": 0,
             "ticks": ""
            },
            "type": "choropleth"
           }
          ],
          "contour": [
           {
            "colorbar": {
             "outlinewidth": 0,
             "ticks": ""
            },
            "colorscale": [
             [
              0,
              "#0d0887"
             ],
             [
              0.1111111111111111,
              "#46039f"
             ],
             [
              0.2222222222222222,
              "#7201a8"
             ],
             [
              0.3333333333333333,
              "#9c179e"
             ],
             [
              0.4444444444444444,
              "#bd3786"
             ],
             [
              0.5555555555555556,
              "#d8576b"
             ],
             [
              0.6666666666666666,
              "#ed7953"
             ],
             [
              0.7777777777777778,
              "#fb9f3a"
             ],
             [
              0.8888888888888888,
              "#fdca26"
             ],
             [
              1,
              "#f0f921"
             ]
            ],
            "type": "contour"
           }
          ],
          "contourcarpet": [
           {
            "colorbar": {
             "outlinewidth": 0,
             "ticks": ""
            },
            "type": "contourcarpet"
           }
          ],
          "heatmap": [
           {
            "colorbar": {
             "outlinewidth": 0,
             "ticks": ""
            },
            "colorscale": [
             [
              0,
              "#0d0887"
             ],
             [
              0.1111111111111111,
              "#46039f"
             ],
             [
              0.2222222222222222,
              "#7201a8"
             ],
             [
              0.3333333333333333,
              "#9c179e"
             ],
             [
              0.4444444444444444,
              "#bd3786"
             ],
             [
              0.5555555555555556,
              "#d8576b"
             ],
             [
              0.6666666666666666,
              "#ed7953"
             ],
             [
              0.7777777777777778,
              "#fb9f3a"
             ],
             [
              0.8888888888888888,
              "#fdca26"
             ],
             [
              1,
              "#f0f921"
             ]
            ],
            "type": "heatmap"
           }
          ],
          "heatmapgl": [
           {
            "colorbar": {
             "outlinewidth": 0,
             "ticks": ""
            },
            "colorscale": [
             [
              0,
              "#0d0887"
             ],
             [
              0.1111111111111111,
              "#46039f"
             ],
             [
              0.2222222222222222,
              "#7201a8"
             ],
             [
              0.3333333333333333,
              "#9c179e"
             ],
             [
              0.4444444444444444,
              "#bd3786"
             ],
             [
              0.5555555555555556,
              "#d8576b"
             ],
             [
              0.6666666666666666,
              "#ed7953"
             ],
             [
              0.7777777777777778,
              "#fb9f3a"
             ],
             [
              0.8888888888888888,
              "#fdca26"
             ],
             [
              1,
              "#f0f921"
             ]
            ],
            "type": "heatmapgl"
           }
          ],
          "histogram": [
           {
            "marker": {
             "pattern": {
              "fillmode": "overlay",
              "size": 10,
              "solidity": 0.2
             }
            },
            "type": "histogram"
           }
          ],
          "histogram2d": [
           {
            "colorbar": {
             "outlinewidth": 0,
             "ticks": ""
            },
            "colorscale": [
             [
              0,
              "#0d0887"
             ],
             [
              0.1111111111111111,
              "#46039f"
             ],
             [
              0.2222222222222222,
              "#7201a8"
             ],
             [
              0.3333333333333333,
              "#9c179e"
             ],
             [
              0.4444444444444444,
              "#bd3786"
             ],
             [
              0.5555555555555556,
              "#d8576b"
             ],
             [
              0.6666666666666666,
              "#ed7953"
             ],
             [
              0.7777777777777778,
              "#fb9f3a"
             ],
             [
              0.8888888888888888,
              "#fdca26"
             ],
             [
              1,
              "#f0f921"
             ]
            ],
            "type": "histogram2d"
           }
          ],
          "histogram2dcontour": [
           {
            "colorbar": {
             "outlinewidth": 0,
             "ticks": ""
            },
            "colorscale": [
             [
              0,
              "#0d0887"
             ],
             [
              0.1111111111111111,
              "#46039f"
             ],
             [
              0.2222222222222222,
              "#7201a8"
             ],
             [
              0.3333333333333333,
              "#9c179e"
             ],
             [
              0.4444444444444444,
              "#bd3786"
             ],
             [
              0.5555555555555556,
              "#d8576b"
             ],
             [
              0.6666666666666666,
              "#ed7953"
             ],
             [
              0.7777777777777778,
              "#fb9f3a"
             ],
             [
              0.8888888888888888,
              "#fdca26"
             ],
             [
              1,
              "#f0f921"
             ]
            ],
            "type": "histogram2dcontour"
           }
          ],
          "mesh3d": [
           {
            "colorbar": {
             "outlinewidth": 0,
             "ticks": ""
            },
            "type": "mesh3d"
           }
          ],
          "parcoords": [
           {
            "line": {
             "colorbar": {
              "outlinewidth": 0,
              "ticks": ""
             }
            },
            "type": "parcoords"
           }
          ],
          "pie": [
           {
            "automargin": true,
            "type": "pie"
           }
          ],
          "scatter": [
           {
            "marker": {
             "colorbar": {
              "outlinewidth": 0,
              "ticks": ""
             }
            },
            "type": "scatter"
           }
          ],
          "scatter3d": [
           {
            "line": {
             "colorbar": {
              "outlinewidth": 0,
              "ticks": ""
             }
            },
            "marker": {
             "colorbar": {
              "outlinewidth": 0,
              "ticks": ""
             }
            },
            "type": "scatter3d"
           }
          ],
          "scattercarpet": [
           {
            "marker": {
             "colorbar": {
              "outlinewidth": 0,
              "ticks": ""
             }
            },
            "type": "scattercarpet"
           }
          ],
          "scattergeo": [
           {
            "marker": {
             "colorbar": {
              "outlinewidth": 0,
              "ticks": ""
             }
            },
            "type": "scattergeo"
           }
          ],
          "scattergl": [
           {
            "marker": {
             "colorbar": {
              "outlinewidth": 0,
              "ticks": ""
             }
            },
            "type": "scattergl"
           }
          ],
          "scattermapbox": [
           {
            "marker": {
             "colorbar": {
              "outlinewidth": 0,
              "ticks": ""
             }
            },
            "type": "scattermapbox"
           }
          ],
          "scatterpolar": [
           {
            "marker": {
             "colorbar": {
              "outlinewidth": 0,
              "ticks": ""
             }
            },
            "type": "scatterpolar"
           }
          ],
          "scatterpolargl": [
           {
            "marker": {
             "colorbar": {
              "outlinewidth": 0,
              "ticks": ""
             }
            },
            "type": "scatterpolargl"
           }
          ],
          "scatterternary": [
           {
            "marker": {
             "colorbar": {
              "outlinewidth": 0,
              "ticks": ""
             }
            },
            "type": "scatterternary"
           }
          ],
          "surface": [
           {
            "colorbar": {
             "outlinewidth": 0,
             "ticks": ""
            },
            "colorscale": [
             [
              0,
              "#0d0887"
             ],
             [
              0.1111111111111111,
              "#46039f"
             ],
             [
              0.2222222222222222,
              "#7201a8"
             ],
             [
              0.3333333333333333,
              "#9c179e"
             ],
             [
              0.4444444444444444,
              "#bd3786"
             ],
             [
              0.5555555555555556,
              "#d8576b"
             ],
             [
              0.6666666666666666,
              "#ed7953"
             ],
             [
              0.7777777777777778,
              "#fb9f3a"
             ],
             [
              0.8888888888888888,
              "#fdca26"
             ],
             [
              1,
              "#f0f921"
             ]
            ],
            "type": "surface"
           }
          ],
          "table": [
           {
            "cells": {
             "fill": {
              "color": "#EBF0F8"
             },
             "line": {
              "color": "white"
             }
            },
            "header": {
             "fill": {
              "color": "#C8D4E3"
             },
             "line": {
              "color": "white"
             }
            },
            "type": "table"
           }
          ]
         },
         "layout": {
          "annotationdefaults": {
           "arrowcolor": "#2a3f5f",
           "arrowhead": 0,
           "arrowwidth": 1
          },
          "autotypenumbers": "strict",
          "coloraxis": {
           "colorbar": {
            "outlinewidth": 0,
            "ticks": ""
           }
          },
          "colorscale": {
           "diverging": [
            [
             0,
             "#8e0152"
            ],
            [
             0.1,
             "#c51b7d"
            ],
            [
             0.2,
             "#de77ae"
            ],
            [
             0.3,
             "#f1b6da"
            ],
            [
             0.4,
             "#fde0ef"
            ],
            [
             0.5,
             "#f7f7f7"
            ],
            [
             0.6,
             "#e6f5d0"
            ],
            [
             0.7,
             "#b8e186"
            ],
            [
             0.8,
             "#7fbc41"
            ],
            [
             0.9,
             "#4d9221"
            ],
            [
             1,
             "#276419"
            ]
           ],
           "sequential": [
            [
             0,
             "#0d0887"
            ],
            [
             0.1111111111111111,
             "#46039f"
            ],
            [
             0.2222222222222222,
             "#7201a8"
            ],
            [
             0.3333333333333333,
             "#9c179e"
            ],
            [
             0.4444444444444444,
             "#bd3786"
            ],
            [
             0.5555555555555556,
             "#d8576b"
            ],
            [
             0.6666666666666666,
             "#ed7953"
            ],
            [
             0.7777777777777778,
             "#fb9f3a"
            ],
            [
             0.8888888888888888,
             "#fdca26"
            ],
            [
             1,
             "#f0f921"
            ]
           ],
           "sequentialminus": [
            [
             0,
             "#0d0887"
            ],
            [
             0.1111111111111111,
             "#46039f"
            ],
            [
             0.2222222222222222,
             "#7201a8"
            ],
            [
             0.3333333333333333,
             "#9c179e"
            ],
            [
             0.4444444444444444,
             "#bd3786"
            ],
            [
             0.5555555555555556,
             "#d8576b"
            ],
            [
             0.6666666666666666,
             "#ed7953"
            ],
            [
             0.7777777777777778,
             "#fb9f3a"
            ],
            [
             0.8888888888888888,
             "#fdca26"
            ],
            [
             1,
             "#f0f921"
            ]
           ]
          },
          "colorway": [
           "#636efa",
           "#EF553B",
           "#00cc96",
           "#ab63fa",
           "#FFA15A",
           "#19d3f3",
           "#FF6692",
           "#B6E880",
           "#FF97FF",
           "#FECB52"
          ],
          "font": {
           "color": "#2a3f5f"
          },
          "geo": {
           "bgcolor": "white",
           "lakecolor": "white",
           "landcolor": "#E5ECF6",
           "showlakes": true,
           "showland": true,
           "subunitcolor": "white"
          },
          "hoverlabel": {
           "align": "left"
          },
          "hovermode": "closest",
          "mapbox": {
           "style": "light"
          },
          "paper_bgcolor": "white",
          "plot_bgcolor": "#E5ECF6",
          "polar": {
           "angularaxis": {
            "gridcolor": "white",
            "linecolor": "white",
            "ticks": ""
           },
           "bgcolor": "#E5ECF6",
           "radialaxis": {
            "gridcolor": "white",
            "linecolor": "white",
            "ticks": ""
           }
          },
          "scene": {
           "xaxis": {
            "backgroundcolor": "#E5ECF6",
            "gridcolor": "white",
            "gridwidth": 2,
            "linecolor": "white",
            "showbackground": true,
            "ticks": "",
            "zerolinecolor": "white"
           },
           "yaxis": {
            "backgroundcolor": "#E5ECF6",
            "gridcolor": "white",
            "gridwidth": 2,
            "linecolor": "white",
            "showbackground": true,
            "ticks": "",
            "zerolinecolor": "white"
           },
           "zaxis": {
            "backgroundcolor": "#E5ECF6",
            "gridcolor": "white",
            "gridwidth": 2,
            "linecolor": "white",
            "showbackground": true,
            "ticks": "",
            "zerolinecolor": "white"
           }
          },
          "shapedefaults": {
           "line": {
            "color": "#2a3f5f"
           }
          },
          "ternary": {
           "aaxis": {
            "gridcolor": "white",
            "linecolor": "white",
            "ticks": ""
           },
           "baxis": {
            "gridcolor": "white",
            "linecolor": "white",
            "ticks": ""
           },
           "bgcolor": "#E5ECF6",
           "caxis": {
            "gridcolor": "white",
            "linecolor": "white",
            "ticks": ""
           }
          },
          "title": {
           "x": 0.05
          },
          "xaxis": {
           "automargin": true,
           "gridcolor": "white",
           "linecolor": "white",
           "ticks": "",
           "title": {
            "standoff": 15
           },
           "zerolinecolor": "white",
           "zerolinewidth": 2
          },
          "yaxis": {
           "automargin": true,
           "gridcolor": "white",
           "linecolor": "white",
           "ticks": "",
           "title": {
            "standoff": 15
           },
           "zerolinecolor": "white",
           "zerolinewidth": 2
          }
         }
        },
        "title": {
         "text": "Actual vs Predicted / R² = 0.094 / MAE = 0.516"
        },
        "xaxis": {
         "anchor": "y",
         "domain": [
          0,
          1
         ],
         "title": {
          "text": "Actual"
         }
        },
        "yaxis": {
         "anchor": "x",
         "domain": [
          0,
          1
         ],
         "title": {
          "text": "Predicted"
         }
        }
       }
      }
     },
     "metadata": {},
     "output_type": "display_data"
    }
   ],
   "source": [
    "from sklearn.feature_extraction.text import CountVectorizer\n",
    "from nltk.corpus import stopwords\n",
    "from nltk.stem import PorterStemmer, WordNetLemmatizer\n",
    "import string\n",
    "import spacy\n",
    "\n",
    "\n",
    "nlp = spacy.load(\"en_core_web_sm\")\n",
    "\n",
    "\n",
    "vectorizer = CountVectorizer(\n",
    "    preprocessor=lambda x: \" \".join(\n",
    "        [\n",
    "            token.lemma_\n",
    "            for token in nlp(x.lower())\n",
    "            if x not in string.punctuation \n",
    "        ]\n",
    "    ),\n",
    "    stop_words=stopwords.words(\"english\"),\n",
    "    ngram_range=(1, 3),\n",
    "    max_df=0.9,\n",
    "    min_df=2,\n",
    ")\n",
    "X_train_vec = vectorizer.fit_transform(X_train)\n",
    "X_test_vec = vectorizer.transform(X_test)\n",
    "\n",
    "\n",
    "from sklearn.preprocessing import StandardScaler\n",
    "\n",
    "\n",
    "scaler = StandardScaler().fit(X_train_vec.toarray())\n",
    "\n",
    "X_train_std = scaler.transform(X_train_vec.toarray())\n",
    "X_test_std = scaler.transform(X_test_vec.toarray())\n",
    "\n",
    "\n",
    "words_count = pd.Series(\n",
    "    X_train_vec.sum(axis=0).tolist()[0],\n",
    "    index=vectorizer.get_feature_names(),\n",
    ")\n",
    "\n",
    "top_20_count = words_count.sort_values(ascending=False).head(20)\n",
    "\n",
    "fig = px.bar(\n",
    "    top_20_count,\n",
    "    x=top_20_count.index,\n",
    "    y=top_20_count.values,\n",
    "    labels={\"x\": \"Word\", \"y\": \"Count\"},\n",
    "    title=\"Top 20 words in reviews\",\n",
    "    color=top_20_count.values,\n",
    ")\n",
    "fig.show()\n",
    "\n",
    "\n",
    "from sklearn.linear_model import ElasticNetCV\n",
    "\n",
    "\n",
    "reg = ElasticNetCV(random_state=42, n_jobs=-1).fit(X_train_std, y_train)\n",
    "coefs = pd.Series(reg.coef_, index=vectorizer.get_feature_names())\n",
    "\n",
    "top_20_coefs = coefs.nlargest(10).append(coefs.nsmallest(10)).sort_values()\n",
    "\n",
    "fig = px.bar(\n",
    "    top_20_coefs,\n",
    "    x=top_20_coefs.index,\n",
    "    y=top_20_coefs.values,\n",
    "    labels={\"x\": \"Word\", \"y\": \"Count\"},\n",
    "    title=\"Top 20 words in reviews\",\n",
    "    color=top_20_coefs.values,\n",
    ")\n",
    "fig.show()\n",
    "\n",
    "\n",
    "y_pred = reg.predict(X_test_std)\n",
    "\n",
    "\n",
    "from sklearn.metrics import median_absolute_error, r2_score\n",
    "\n",
    "\n",
    "fig = px.box(\n",
    "    x=y_test,\n",
    "    y=y_pred,\n",
    "    labels={\"x\": \"Actual\", \"y\": \"Predicted\"},\n",
    "    title=f\"Actual vs Predicted / R² = {round(r2_score(y_test, y_pred), 3)} / MAE = {round(median_absolute_error(y_test, y_pred), 3)}\",\n",
    "    color=y_test,\n",
    ")\n",
    "fig.show()\n"
   ]
  },
  {
   "cell_type": "markdown",
   "metadata": {},
   "source": [
    "### Ultimate \n"
   ]
  },
  {
   "cell_type": "code",
   "execution_count": null,
   "metadata": {},
   "outputs": [],
   "source": [
    "from sklearn.feature_extraction.text import CountVectorizer\n",
    "import spacy\n",
    "from spacy.lang.en.stop_words import STOP_WORDS\n",
    "\n",
    "\n",
    "nltk.download(\"stopwords\")\n",
    "nlp = spacy.load(\"en\")\n",
    "\n",
    "stopwords = list(STOP_WORDS)\n",
    "\n",
    "\n",
    "\n",
    "count_vectorizer = CountVectorizer(\n",
    "    strip_accents=\"unicode\",\n",
    "    lowercase=True,\n",
    "    preprocessor=,\n",
    "    tokenizer=,\n",
    "    stop_words=,\n",
    "    ngram_range=(1, 3),\n",
    ")\n",
    "X_count = count_vectorizer.fit_transform(corpus)\n",
    "\n",
    "words_count = pd.Series(\n",
    "    X_count.sum(axis=0).tolist()[0],\n",
    "    index=count_vectorizer.get_feature_names(),\n",
    ")\n",
    "\n",
    "top_20_count = words_count.sort_values(ascending=False).head(20)\n",
    "\n",
    "fig = px.bar(\n",
    "    top_20_count,\n",
    "    x=top_20_count.index,\n",
    "    y=top_20_count.values,\n",
    "    labels={\"x\": \"Word\", \"y\": \"Count\"},\n",
    "    title=\"Top 20 words in reviews\",\n",
    "    color=top_20_count.values,\n",
    ")\n",
    "fig.show()\n",
    "\n",
    "\n",
    "from sklearn.linear_model import LinearRegression\n",
    "\n",
    "\n",
    "reg = LinearRegression().fit(X_count, y)\n",
    "coefs = pd.Series(reg.coef_, index=count_vectorizer.get_feature_names())\n",
    "\n",
    "top_20_coefs = coefs.nlargest(10).append(coefs.nsmallest(10)).sort_values()\n",
    "\n",
    "fig = px.bar(\n",
    "    top_20_coefs,\n",
    "    x=top_20_coefs.index,\n",
    "    y=top_20_coefs.values,\n",
    "    labels={\"x\": \"Word\", \"y\": \"Count\"},\n",
    "    title=\"Top 20 words in reviews\",\n",
    "    color=top_20_coefs.values,\n",
    ")\n",
    "fig.show()\n"
   ]
  }
 ],
 "metadata": {
  "interpreter": {
   "hash": "d52f4b81845109e6247863a95529093aa8c69a7aaa12f4306b437504e0244674"
  },
  "kernelspec": {
   "display_name": "Python 3.9.7 64-bit ('env': venv)",
   "name": "python3"
  },
  "language_info": {
   "codemirror_mode": {
    "name": "ipython",
    "version": 3
   },
   "file_extension": ".py",
   "mimetype": "text/x-python",
   "name": "python",
   "nbconvert_exporter": "python",
   "pygments_lexer": "ipython3",
   "version": "3.9.7"
  },
  "orig_nbformat": 4
 },
 "nbformat": 4,
 "nbformat_minor": 2
}
